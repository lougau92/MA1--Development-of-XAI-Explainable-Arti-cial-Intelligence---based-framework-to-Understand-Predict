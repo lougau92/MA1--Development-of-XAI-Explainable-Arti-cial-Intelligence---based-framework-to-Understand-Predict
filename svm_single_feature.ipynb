{
 "cells": [
  {
   "cell_type": "code",
   "execution_count": 1,
   "metadata": {},
   "outputs": [
    {
     "name": "stderr",
     "output_type": "stream",
     "text": [
      "C:\\Users\\PedroAntonio\\Anaconda3\\envs\\proj\\lib\\site-packages\\IPython\\core\\interactiveshell.py:3444: DtypeWarning: Columns (9) have mixed types.Specify dtype option on import or set low_memory=False.\n",
      "  exec(code_obj, self.user_global_ns, self.user_ns)\n"
     ]
    }
   ],
   "source": [
    "import pandas as pd\n",
    "\n",
    "from preprocess import clean_dataframe,get_train_test_val,bin_age\n",
    "# https://scikit-learn.org/stable/modules/svm.html\n",
    "from sklearn import svm\n",
    "from sklearn.model_selection import train_test_split\n",
    "from sklearn.metrics import ConfusionMatrixDisplay\n",
    "from sklearn.metrics import precision_recall_fscore_support\n",
    "\n",
    "raw_data = pd.read_csv('Murder_Data.zip', index_col=0, compression='zip')\n",
    "cleaned_data = clean_dataframe(raw_data)\n",
    "#get a stratisfied subset to test the algorithms on\n",
    "#train,test = split_stratify(...)\n",
    "#cleaned_data, _ = split_stratify(cleaned_data,['OffSex', 'OffRace', 'OffEthnic'],0.20,0.01)\n",
    "#cleaned_data.shape"
   ]
  },
  {
   "cell_type": "code",
   "execution_count": 2,
   "metadata": {
    "pycharm": {
     "name": "#%%\n"
    }
   },
   "outputs": [],
   "source": [
    "cleaned_data[\"OffAge\"] = bin_age(cleaned_data, \"OffAge\")\n",
    "cleaned_data['VicAge'].replace(to_replace='Unknown', value = 999, inplace = True)\n",
    "cleaned_data.drop(['State','County', 'Area',\"FileMonth\",\"FileDay\",\"FileYear\",\"Agency\",\"Agentype\",\"Source\",\"Solved\",\"Year\",\"Month\",\"ActionType\"],inplace=True,axis=1)\n",
    "cleaned_data_dummies = pd.get_dummies(cleaned_data,columns=['VicSex', 'VicRace', 'VicEthnic', 'Weapon', 'Subcircum', 'Circumstance', 'Homicide'])\n",
    "\n",
    "cleaned_data,trainingset,testset,valset = get_train_test_val(cleaned_data_dummies,['OffAge', 'OffSex', 'OffRace', 'OffEthnic'])\n",
    "\n",
    "\n",
    "#input_features = ['County', 'State', 'Area', 'VicAge', 'VicSex', 'VicRace', 'VicEthnic', 'VicCount', 'Weapon', 'Subcircum', 'Circumstance', 'Homicide']\n",
    "output_features = ['OffAge', 'OffSex', 'OffRace', 'OffEthnic', 'OffCount','Relationship']\n",
    "\n",
    "#X = cleaned_data[input_features]\n",
    "#Y = cleaned_data[output_features]\n",
    "\n",
    "#X['VicAge'].replace(to_replace='Unknown', value = -1, inplace = True)\n",
    "#Y['OffAge'].replace(to_replace='Unknown', value = -1, inplace = True)\n",
    "\n",
    "x_test,y_test = testset.drop(output_features,axis=1,inplace=False),testset[output_features]\n",
    "x_val,y_val = valset.drop(output_features,axis=1,inplace=False),valset[output_features]\n",
    "x_train,y_train = trainingset.drop(output_features,axis=1,inplace=False),trainingset[output_features]\n",
    "\n",
    "#X = pd.get_dummies(X,columns=['County', 'State', 'Area', 'VicSex', 'VicRace', 'VicEthnic', 'Weapon', 'Subcircum', 'Circumstance', 'Homicide'])\n",
    "\n",
    "#x_train, x_rest, y_train, y_rest = train_test_split(X, Y, test_size=0.20, random_state=20)\n",
    "#x_val, x_test, y_val, y_test = train_test_split(x_rest, y_rest, test_size=0.50, random_state=20)\n",
    "\n",
    "#y_val_age = pd.get_dummies(val_y['OffAge'],columns=['OffAge'])\n",
    "#val_y.insert(18,\"OffRace_Native Hawaiian or Pacific Islander\",0)\n",
    "#val_y.insert(28,\"OffCount_6\",0)\n",
    "#y_test_age = pd.get_dummies(test_y['OffAge'],columns=['OffAge'])\n",
    "#test_y.insert(18,\"OffRace_Native Hawaiian or Pacific Islander\",0)\n",
    "#y_train_age = pd.get_dummies(training_y['OffAge'],columns=['OffAge'])\n",
    "\n",
    "#y_val_sex = pd.get_dummies(val_y['OffSex'],columns=['OffSex'])\n",
    "#y_test_sex = pd.get_dummies(test_y['OffSex'],columns=['OffSex'])\n",
    "#y_train_sex = pd.get_dummies(training_y['OffSex'],columns=['OffSex'])\n",
    "\n",
    "#y_val_race = pd.get_dummies(val_y['OffRace'],columns=['OffRace'])\n",
    "#y_val_race.insert(3,\"Native Hawaiian or Pacific Islander\",0)\n",
    "#y_test_race = pd.get_dummies(test_y['OffRace'],columns=['OffRace'])\n",
    "#y_test_race.insert(3,\"Native Hawaiian or Pacific Islander\",0)\n",
    "#y_train_race = pd.get_dummies(training_y['OffRace'],columns=['OffRace'])\n",
    "\n",
    "#y_val_ethnic = pd.get_dummies(val_y['OffEthnic'],columns=['OffEthnic'])\n",
    "#y_test_y_ethnic = pd.get_dummies(test_y['OffEthnic'],columns=['OffEthnic'])\n",
    "#y_train_ethnic = pd.get_dummies(training_y['OffEthnic'],columns=['OffEthnic'])\n",
    "\n",
    "#y_val_count = pd.get_dummies(val_y['OffCount'],columns=['OffCount'])\n",
    "#y_val_count.insert(6,'6',0)\n",
    "#val_y_count.insert(7,\"7\",0)\n",
    "#val_y_count.insert(11,11,0)\n",
    "#y_test_count = pd.get_dummies(test_y['OffCount'],columns=['OffCount'])\n",
    "#test_y_count.insert(11,11,0)\n",
    "#y_train_count = pd.get_dummies(training_y['OffCount'],columns=['OffCount'])\n",
    "\n",
    "\n",
    "#y_val_relation = pd.get_dummies(val_y['Relationship'],columns=['Relationship'])\n",
    "#y_test_relation = pd.get_dummies(test_y['Relationship'],columns=['Relationship'])\n",
    "#y_train_relation = pd.get_dummies(training_y['Relationship'],columns=['Relationship'])\n",
    "\n",
    "#print(y_train_age.head())\n",
    "#print(y_train_sex.head())\n",
    "#print(y_train_race.head())\n",
    "#print(y_train_ethnic.head())\n",
    "#print(y_train_count.head())\n",
    "#print(y_train_relation.head())"
   ]
  },
  {
   "cell_type": "code",
   "execution_count": 3,
   "metadata": {
    "pycharm": {
     "name": "#%%\n"
    }
   },
   "outputs": [
    {
     "name": "stdout",
     "output_type": "stream",
     "text": [
      "0.8871733237417646\n"
     ]
    },
    {
     "data": {
      "image/png": "[encoded data removed]",
      "text/plain": [
       "<Figure size 432x288 with 1 Axes>"
      ]
     },
     "metadata": {
      "needs_background": "light"
     },
     "output_type": "display_data"
    }
   ],
   "source": [
    "df=cleaned_data.groupby([\"OffSex\"]).size()\n",
    "ax = df.plot(kind='bar')\n",
    "ax.bar_label(ax.containers[0])\n",
    "print(len(cleaned_data[cleaned_data[\"OffSex\"]==\"Male\"])/len(cleaned_data))"
   ]
  },
  {
   "cell_type": "code",
   "execution_count": 4,
   "metadata": {
    "pycharm": {
     "name": "#%%\n"
    }
   },
   "outputs": [
    {
     "name": "stdout",
     "output_type": "stream",
     "text": [
      "no weighted penalty for the classes\n",
      "done fitting\n",
      "              precision    recall  f1-score   support\n",
      "\n",
      "      Female       0.47      0.01      0.01      3191\n",
      "        Male       0.89      1.00      0.94     25242\n",
      "\n",
      "    accuracy                           0.89     28433\n",
      "   macro avg       0.68      0.50      0.48     28433\n",
      "weighted avg       0.84      0.89      0.84     28433\n",
      "\n",
      "0.03928296342590244\n"
     ]
    }
   ],
   "source": [
    "#clf = svm.LinearSVC(class_weight={'Female':10, 'Male': 1},dual=False)\n",
    "from sklearn.metrics import classification_report\n",
    "from sklearn.metrics import matthews_corrcoef\n",
    "print(\"no weighted penalty for the classes\")\n",
    "clf = svm.LinearSVC(dual=False)\n",
    "clf.fit(x_train, y_train[\"OffSex\"])\n",
    "print(\"done fitting\")\n",
    "\n",
    "y_true = y_test[\"OffSex\"].tolist()\n",
    "y_pred = clf.predict(x_test)\n",
    "\n",
    "print(classification_report(y_true, y_pred, target_names=list(y_train[\"OffSex\"].unique())))\n",
    "print(matthews_corrcoef(y_true, y_pred))\n",
    "\n",
    "#print(clf.score(x_test,y_test[\"OffSex\"]))\n",
    "#print(\"Accuracy on female class: \"+str(clf.score(x_test[y_test[\"OffSex\"]==\"Female\"],y_test[\"OffSex\"][y_test[\"OffSex\"]==\"Female\"])))\n",
    "#print(\"Accuracy on male class: \"+str(clf.score(x_test[y_test[\"OffSex\"]==\"Male\"],y_test[\"OffSex\"][y_test[\"OffSex\"]==\"Male\"])))\n",
    "#ConfusionMatrixDisplay.from_estimator(clf, x_test, y_test[\"OffSex\"],normalize='true',cmap=\"seismic\")\n",
    "#print(precision_recall_fscore_support(y_test[\"OffSex\"],clf.predict(x_test)))"
   ]
  },
  {
   "cell_type": "code",
   "execution_count": null,
   "metadata": {
    "pycharm": {
     "name": "#%%\n"
    }
   },
   "outputs": [],
   "source": [
    "import random\n",
    "#TODO:  -Maybe adding k-point crossover would improve the search?\n",
    "#        as it would look at different parts of the search space, especially for higher number oof classes i think\n",
    "#       -get rid of hardcoded values(n_new for example)\n",
    "#       -Maybe do tests with gridsearch?\n",
    "#       -Maybe random search is better/faster (test 50 random weights for example)\n",
    "#       -improve the evaluation func? (70,70 vs 50,100)\n",
    "#        could try out min (1-acc1/acc2) to force acc1 and acc2 to be as similar as possible to each other\n",
    "#        maybe combine with the current acc1*acc2 to both maximise them and make them similar.\n",
    "#        still unsure how this new proposed eval func would work for multiclass (would need to know the proportions between all classes and not just 2)\n",
    "#       -keep track of all searched (w1,w2,fitness) and see if these can be plotted to check the shape of the\n",
    "#        search space\n",
    "#       -possibly interesting/related papers:\n",
    "#        http://www.ijfcc.org/vol8/541-CE026.pdf\n",
    "#        https://www.jncet.org/Manuscripts/Volume-9/Issue-11/Vol-9-issue-11-M-02.pdf\n",
    "def genetic_weight_search(n_pop,n_iter,tree,classes,x_train,y_train,x_val,y_val):\n",
    "    pop = init_population(n_pop,classes)\n",
    "    for i in range(n_iter):\n",
    "        fitness = eval_pop(pop,tree,x_train,y_train,x_val,y_val)\n",
    "        sorted_pop = sorted(zip(fitness,pop), key = lambda l: l[0],reverse=True)\n",
    "        print(f\"best weights in generation {i}: {sorted_pop[0]}\")\n",
    "        parents = select_parents(sorted_pop)\n",
    "        #no crossover\n",
    "        children = generate_new_pop(parents,n_new=10)\n",
    "        pop = parents+children+init_population(5,classes)\n",
    "    print(\"best found:\"+str(pop[0]))\n",
    "    return pop[0]\n",
    "\n",
    "\n",
    "def init_population(n_pop,classes):\n",
    "    pop = []\n",
    "    for i in range(n_pop):\n",
    "        individual = {}\n",
    "        for cls in classes:\n",
    "            individual[cls]=random.uniform(1,10)\n",
    "        pop.append(individual)\n",
    "    return pop\n",
    "\n",
    "def eval_pop(pop,tree,x_train,y_train,x_val,y_val):\n",
    "    fitness = []\n",
    "    for individual in pop:\n",
    "        clf = tree(class_weight=individual,dual=False)\n",
    "        clf.fit(x_train, y_train)\n",
    "        mean = 0\n",
    "        multi = 1\n",
    "        for cls in individual.keys():\n",
    "            #it's possible some class is nit inside the val set with the current split\n",
    "            try:\n",
    "                score=clf.score(x_val[y_val==cls],y_val[y_val==cls])\n",
    "                mean+=score\n",
    "                multi*=score\n",
    "            except:\n",
    "                pass\n",
    "        #todo: the current fitness value should be retought, for exaple: should 0.7/0.7 be considerd better as 0.5/1.0 or not?\n",
    "        fitness.append(multi)\n",
    "    return fitness\n",
    "\n",
    "def select_parents(sorted_pop):\n",
    "    res = [[ i for i, j in sorted_pop ],[ j for i, j in sorted_pop ]]\n",
    "    pop = res[1]\n",
    "    #return best 5 and 5 random as parents of the population\n",
    "    parents = pop[:5]\n",
    "    parents += random.sample(pop[5:], 5)\n",
    "    return parents\n",
    "\n",
    "def generate_new_pop(parents,n_new):\n",
    "    new_pop = []\n",
    "    for i in range(n_new):\n",
    "        parent = random.sample(parents,1)[0]\n",
    "        parent = parent.copy()\n",
    "        child = {}\n",
    "        for cls in parent.keys():\n",
    "            child[cls]=parent[cls]+random.uniform(-0.4,0.4)\n",
    "        new_pop.append(child)\n",
    "    return new_pop"
   ]
  },
  {
   "cell_type": "code",
   "execution_count": null,
   "metadata": {},
   "outputs": [],
   "source": [
    "from sklearn.utils.class_weight import compute_class_weight\n",
    "import numpy as np\n",
    "gender_weights = compute_class_weight(class_weight='balanced',classes=np.unique(cleaned_data['OffSex'].values),y=cleaned_data['OffSex'])\n",
    "\n",
    "age_weights = compute_class_weight(class_weight='balanced',classes=np.unique(cleaned_data['OffAge'].values),y=cleaned_data['OffAge'])\n",
    "\n",
    "race_weights = compute_class_weight(class_weight='balanced',classes=np.unique(cleaned_data['OffRace'].values),y=cleaned_data['OffRace'])\n",
    "\n",
    "relation_weights = compute_class_weight(class_weight='balanced',classes=np.unique(cleaned_data['Relationship'].values),y=cleaned_data['Relationship'])\n",
    "\n",
    "ethnicity_weights = compute_class_weight(class_weight='balanced',classes=np.unique(cleaned_data['OffEthnic'].values),y=cleaned_data['OffEthnic'])\n",
    "\n",
    "count_weights = compute_class_weight(class_weight='balanced',classes=np.unique(cleaned_data['OffCount'].values),y=cleaned_data['OffCount'])\n",
    "print(gender_weights)\n",
    "print(age_weights)\n",
    "print(race_weights)\n",
    "print(relation_weights)\n",
    "print(ethnicity_weights)\n",
    "print(count_weights)"
   ]
  },
  {
   "cell_type": "code",
   "execution_count": 5,
   "metadata": {
    "pycharm": {
     "name": "#%%\n"
    }
   },
   "outputs": [
    {
     "name": "stdout",
     "output_type": "stream",
     "text": [
      "done fitting\n",
      "              precision    recall  f1-score   support\n",
      "\n",
      "      Female       0.19      0.70      0.30      3191\n",
      "        Male       0.94      0.62      0.75     25242\n",
      "\n",
      "    accuracy                           0.63     28433\n",
      "   macro avg       0.56      0.66      0.52     28433\n",
      "weighted avg       0.86      0.63      0.70     28433\n",
      "\n",
      "0.20236577310302206\n"
     ]
    }
   ],
   "source": [
    "#clf = svm.LinearSVC(class_weight={'Female':10, 'Male': 1},dual=False)\n",
    "#best_found_weights = genetic_weight_search(30,20,svm.LinearSVC,list(cleaned_data['OffSex'].unique()),x_train,y_train[\"OffSex\"],x_val,y_val[\"OffSex\"])\n",
    "#clf = svm.LinearSVC(class_weight=best_found_weights,dual=False)\n",
    "clf = svm.LinearSVC(class_weight='balanced',dual=False)\n",
    "clf.fit(x_train, y_train[\"OffSex\"])\n",
    "print(\"done fitting\")\n",
    "\n",
    "y_true = y_test[\"OffSex\"].tolist()\n",
    "y_pred = clf.predict(x_test)\n",
    "\n",
    "print(classification_report(y_true, y_pred, target_names=list(y_train[\"OffSex\"].unique())))\n",
    "print(matthews_corrcoef(y_true, y_pred))\n",
    "\n",
    "#print(clf.score(x_test,y_test[\"OffSex\"]))\n",
    "#print(\"Accuracy on female class: \"+str(clf.score(x_test[y_test[\"OffSex\"]==\"Female\"],y_test[\"OffSex\"][y_test[\"OffSex\"]==\"Female\"])))\n",
    "#print(\"Accuracy on male class: \"+str(clf.score(x_test[y_test[\"OffSex\"]==\"Male\"],y_test[\"OffSex\"][y_test[\"OffSex\"]==\"Male\"])))\n",
    "#ConfusionMatrixDisplay.from_estimator(clf, x_test, y_test[\"OffSex\"],normalize='true',cmap=\"seismic\")\n",
    "#print(precision_recall_fscore_support(y_test[\"OffSex\"],clf.predict(x_test)))"
   ]
  },
  {
   "cell_type": "code",
   "execution_count": 6,
   "metadata": {
    "pycharm": {
     "name": "#%%\n"
    }
   },
   "outputs": [
    {
     "data": {
      "text/plain": [
       "[Text(0, 0, '963'),\n",
       " Text(0, 0, '1398'),\n",
       " Text(0, 0, '55662'),\n",
       " Text(0, 0, '13'),\n",
       " Text(0, 0, '55953')]"
      ]
     },
     "execution_count": 6,
     "metadata": {},
     "output_type": "execute_result"
    },
    {
     "data": {
      "image/png": "[encoded data removed]",
      "text/plain": [
       "<Figure size 432x288 with 1 Axes>"
      ]
     },
     "metadata": {
      "needs_background": "light"
     },
     "output_type": "display_data"
    }
   ],
   "source": [
    "df=cleaned_data.groupby([\"OffRace\"]).size()\n",
    "ax = df.plot(kind='bar')\n",
    "ax.bar_label(ax.containers[0])\n",
    "#print(len(y_test[(y_test[\"OffRace\"]==\"Black\") | (y_test[\"OffRace\"]==\"White\") ])/len(y_test))"
   ]
  },
  {
   "cell_type": "code",
   "execution_count": 7,
   "metadata": {
    "pycharm": {
     "name": "#%%\n"
    }
   },
   "outputs": [
    {
     "name": "stdout",
     "output_type": "stream",
     "text": [
      "no weighted penalty for the classes\n",
      "done fitting\n",
      "                                     precision    recall  f1-score   support\n",
      "\n",
      "                              Black       0.66      0.66      0.66       229\n",
      "                              White       0.63      0.65      0.64       341\n",
      "  American Indian or Alaskan Native       0.92      0.84      0.88     13899\n",
      "                              Asian       0.00      0.00      0.00         0\n",
      "Native Hawaiian or Pacific Islander       0.84      0.92      0.88     13965\n",
      "\n",
      "                           accuracy                           0.87     28434\n",
      "                          macro avg       0.61      0.61      0.61     28434\n",
      "                       weighted avg       0.88      0.87      0.87     28434\n",
      "\n",
      "0.761712661409411\n"
     ]
    }
   ],
   "source": [
    "import numpy as np\n",
    "clf = svm.LinearSVC(dual=False)\n",
    "clf.fit(x_train, y_train[\"OffRace\"])\n",
    "print(\"no weighted penalty for the classes\")\n",
    "print(\"done fitting\")\n",
    "\n",
    "\n",
    "y_true = y_test[\"OffRace\"].tolist()\n",
    "y_pred = clf.predict(x_test)\n",
    "\n",
    "y_true = np.append(y_true,[\"White\"])\n",
    "y_pred = np.append(y_pred,[\"Native Hawaiian or Pacific Islander\"])\n",
    "\n",
    "print(classification_report(y_true, y_pred, target_names=list(y_train[\"OffRace\"].unique()),zero_division=0))\n",
    "print(matthews_corrcoef(y_true, y_pred))\n",
    "\n",
    "#print(clf.score(x_test,y_test[\"OffRace\"]))\n",
    "#ConfusionMatrixDisplay.from_estimator(clf, x_test, y_test[\"OffRace\"],normalize='true',cmap=\"seismic\")\n",
    "#print(precision_recall_fscore_support(y_test[\"OffRace\"],clf.predict(x_test)))"
   ]
  },
  {
   "cell_type": "code",
   "execution_count": null,
   "metadata": {
    "pycharm": {
     "name": "#%%\n"
    }
   },
   "outputs": [],
   "source": [
    "#best_found_weights = genetic_weight_search(30,20,svm.LinearSVC,list(cleaned_data['OffRace'].unique()),x_train,y_train[\"OffRace\"],x_val,y_val[\"OffRace\"])"
   ]
  },
  {
   "cell_type": "code",
   "execution_count": 8,
   "metadata": {
    "pycharm": {
     "name": "#%%\n"
    }
   },
   "outputs": [
    {
     "name": "stdout",
     "output_type": "stream",
     "text": [
      "done fitting\n",
      "                                     precision    recall  f1-score   support\n",
      "\n",
      "                              Black       0.65      0.66      0.65       229\n",
      "                              White       0.54      0.64      0.58       341\n",
      "  American Indian or Alaskan Native       0.92      0.83      0.87     13899\n",
      "                              Asian       0.00      0.00      0.00         0\n",
      "Native Hawaiian or Pacific Islander       0.84      0.92      0.88     13965\n",
      "\n",
      "                           accuracy                           0.87     28434\n",
      "                          macro avg       0.59      0.61      0.60     28434\n",
      "                       weighted avg       0.88      0.87      0.87     28434\n",
      "\n",
      "0.7512598395882455\n"
     ]
    }
   ],
   "source": [
    "#clf = svm.LinearSVC(class_weight=best_found_weights,dual=False)\n",
    "clf = svm.LinearSVC(class_weight='balanced',dual=False)\n",
    "clf.fit(x_train, y_train[\"OffRace\"])\n",
    "print(\"done fitting\")\n",
    "\n",
    "y_true = y_test[\"OffRace\"].tolist()\n",
    "y_pred = clf.predict(x_test)\n",
    "\n",
    "y_true = np.append(y_true,[\"White\"])\n",
    "y_pred = np.append(y_pred,[\"Native Hawaiian or Pacific Islander\"])\n",
    "\n",
    "print(classification_report(y_true, y_pred, target_names=list(y_train[\"OffRace\"].unique()),zero_division=0))\n",
    "print(matthews_corrcoef(y_true, y_pred))\n",
    "\n",
    "#print(clf.score(x_test,y_test[\"OffRace\"]))\n",
    "#ConfusionMatrixDisplay.from_estimator(clf, x_test, y_test[\"OffRace\"],normalize='true',cmap=\"seismic\")\n",
    "#print(precision_recall_fscore_support(y_test[\"OffRace\"],clf.predict(x_test),zero_division=0))"
   ]
  },
  {
   "cell_type": "code",
   "execution_count": 9,
   "metadata": {},
   "outputs": [
    {
     "name": "stdout",
     "output_type": "stream",
     "text": [
      "done fitting\n"
     ]
    },
    {
     "name": "stderr",
     "output_type": "stream",
     "text": [
      "C:\\Users\\PedroAntonio\\Anaconda3\\envs\\proj\\lib\\site-packages\\sklearn\\metrics\\_classification.py:1308: UndefinedMetricWarning: Precision and F-score are ill-defined and being set to 0.0 in labels with no predicted samples. Use `zero_division` parameter to control this behavior.\n",
      "  _warn_prf(average, modifier, msg_start, len(result))\n"
     ]
    },
    {
     "name": "stdout",
     "output_type": "stream",
     "text": [
      "              precision    recall  f1-score   support\n",
      "\n",
      "        0-11       0.00      0.00      0.00        47\n",
      "       12-14       0.33      0.07      0.11       252\n",
      "       15-17       0.50      0.01      0.02      1761\n",
      "       18-21       0.23      0.61      0.33      4887\n",
      "       22-24       0.00      0.00      0.00      3336\n",
      "       25-29       0.19      0.37      0.25      4688\n",
      "       30-34       0.22      0.05      0.08      3539\n",
      "       35-39       0.00      0.00      0.00      2609\n",
      "       40-49       0.18      0.30      0.23      3253\n",
      "       50-64       0.13      0.00      0.01      2025\n",
      "         65+       0.00      0.00      0.00       647\n",
      "     Unknown       0.21      0.02      0.04      1389\n",
      "\n",
      "    accuracy                           0.21     28433\n",
      "   macro avg       0.17      0.12      0.09     28433\n",
      "weighted avg       0.17      0.21      0.14     28433\n",
      "\n",
      "0.0692318528548091\n"
     ]
    },
    {
     "name": "stderr",
     "output_type": "stream",
     "text": [
      "C:\\Users\\PedroAntonio\\Anaconda3\\envs\\proj\\lib\\site-packages\\sklearn\\metrics\\_classification.py:1308: UndefinedMetricWarning: Precision and F-score are ill-defined and being set to 0.0 in labels with no predicted samples. Use `zero_division` parameter to control this behavior.\n",
      "  _warn_prf(average, modifier, msg_start, len(result))\n",
      "C:\\Users\\PedroAntonio\\Anaconda3\\envs\\proj\\lib\\site-packages\\sklearn\\metrics\\_classification.py:1308: UndefinedMetricWarning: Precision and F-score are ill-defined and being set to 0.0 in labels with no predicted samples. Use `zero_division` parameter to control this behavior.\n",
      "  _warn_prf(average, modifier, msg_start, len(result))\n"
     ]
    }
   ],
   "source": [
    "clf = svm.LinearSVC(dual=False)\n",
    "clf.fit(x_train, y_train[\"OffAge\"])\n",
    "print(\"done fitting\")\n",
    "#print(clf.score(x_test,y_test[\"OffAge\"]))\n",
    "#ConfusionMatrixDisplay.from_estimator(clf, x_test, y_test[\"OffAge\"],normalize='true',cmap=\"seismic\")\n",
    "#print(precision_recall_fscore_support(y_test[\"OffAge\"],clf.predict(x_test)))\n",
    "\n",
    "y_true = y_test[\"OffAge\"].tolist()\n",
    "y_pred = clf.predict(x_test)\n",
    "\n",
    "print(classification_report(y_true, y_pred, target_names=list(y_train[\"OffAge\"].unique())))\n",
    "print(matthews_corrcoef(y_true, y_pred))"
   ]
  },
  {
   "cell_type": "code",
   "execution_count": 10,
   "metadata": {},
   "outputs": [
    {
     "name": "stdout",
     "output_type": "stream",
     "text": [
      "done fitting\n",
      "              precision    recall  f1-score   support\n",
      "\n",
      "        0-11       0.01      0.53      0.02        47\n",
      "       12-14       0.03      0.12      0.05       252\n",
      "       15-17       0.25      0.10      0.14      1761\n",
      "       18-21       0.28      0.22      0.25      4887\n",
      "       22-24       0.16      0.02      0.04      3336\n",
      "       25-29       0.20      0.13      0.16      4688\n",
      "       30-34       0.21      0.06      0.09      3539\n",
      "       35-39       0.15      0.03      0.05      2609\n",
      "       40-49       0.16      0.11      0.13      3253\n",
      "       50-64       0.10      0.14      0.12      2025\n",
      "         65+       0.07      0.57      0.12       647\n",
      "     Unknown       0.12      0.45      0.18      1389\n",
      "\n",
      "    accuracy                           0.14     28433\n",
      "   macro avg       0.15      0.21      0.11     28433\n",
      "weighted avg       0.19      0.14      0.13     28433\n",
      "\n",
      "0.06594884977865352\n"
     ]
    }
   ],
   "source": [
    "clf = svm.LinearSVC(class_weight='balanced',dual=False)\n",
    "clf.fit(x_train, y_train[\"OffAge\"])\n",
    "print(\"done fitting\")\n",
    "\n",
    "y_true = y_test[\"OffAge\"].tolist()\n",
    "y_pred = clf.predict(x_test)\n",
    "\n",
    "print(classification_report(y_true, y_pred, target_names=list(y_train[\"OffAge\"].unique())))\n",
    "print(matthews_corrcoef(y_true, y_pred))\n",
    "\n",
    "#print(clf.score(x_test,y_test[\"OffAge\"]))\n",
    "#ConfusionMatrixDisplay.from_estimator(clf, x_test, y_test[\"OffAge\"],normalize='true',cmap=\"seismic\")\n",
    "#print(precision_recall_fscore_support(y_test[\"OffAge\"],clf.predict(x_test)))"
   ]
  },
  {
   "cell_type": "code",
   "execution_count": 12,
   "metadata": {},
   "outputs": [
    {
     "name": "stdout",
     "output_type": "stream",
     "text": [
      "done fitting\n",
      "                        precision    recall  f1-score   support\n",
      "\n",
      "Not of Hispanic origin       0.77      0.77      0.77      2724\n",
      "               Unknown       0.89      0.93      0.91      8804\n",
      "       Hispanic origin       0.99      0.97      0.98     16905\n",
      "\n",
      "              accuracy                           0.94     28433\n",
      "             macro avg       0.88      0.89      0.89     28433\n",
      "          weighted avg       0.94      0.94      0.94     28433\n",
      "\n",
      "0.888856434290139\n"
     ]
    }
   ],
   "source": [
    "clf = svm.LinearSVC(dual=False)\n",
    "clf.fit(x_train, y_train['OffEthnic'])\n",
    "print(\"done fitting\")\n",
    "\n",
    "y_true = y_test[\"OffEthnic\"].tolist()\n",
    "y_pred = clf.predict(x_test)\n",
    "\n",
    "print(classification_report(y_true, y_pred, target_names=list(y_train[\"OffEthnic\"].unique())))\n",
    "print(matthews_corrcoef(y_true, y_pred))\n",
    "\n",
    "#print(clf.score(x_test,y_test['OffEthnic']))\n",
    "#ConfusionMatrixDisplay.from_estimator(clf, x_test, y_test['OffEthnic'],normalize='true',cmap=\"seismic\")\n",
    "#print(precision_recall_fscore_support(y_test['OffEthnic'],clf.predict(x_test)))"
   ]
  },
  {
   "cell_type": "code",
   "execution_count": 13,
   "metadata": {},
   "outputs": [
    {
     "name": "stdout",
     "output_type": "stream",
     "text": [
      "done fitting\n",
      "                        precision    recall  f1-score   support\n",
      "\n",
      "Not of Hispanic origin       0.77      0.77      0.77      2724\n",
      "               Unknown       0.89      0.93      0.91      8804\n",
      "       Hispanic origin       0.99      0.97      0.98     16905\n",
      "\n",
      "              accuracy                           0.94     28433\n",
      "             macro avg       0.88      0.89      0.89     28433\n",
      "          weighted avg       0.94      0.94      0.94     28433\n",
      "\n",
      "0.8887928069734785\n"
     ]
    }
   ],
   "source": [
    "clf = svm.LinearSVC(class_weight='balanced',dual=False)\n",
    "clf.fit(x_train, y_train['OffEthnic'])\n",
    "print(\"done fitting\")\n",
    "\n",
    "y_true = y_test[\"OffEthnic\"].tolist()\n",
    "y_pred = clf.predict(x_test)\n",
    "\n",
    "print(classification_report(y_true, y_pred, target_names=list(y_train[\"OffEthnic\"].unique())))\n",
    "print(matthews_corrcoef(y_true, y_pred))\n",
    "\n",
    "#print(clf.score(x_test,y_test['OffEthnic']))\n",
    "#ConfusionMatrixDisplay.from_estimator(clf, x_test, y_test['OffEthnic'],normalize='true',cmap=\"seismic\")\n",
    "#print(precision_recall_fscore_support(y_test['OffEthnic'],clf.predict(x_test)))"
   ]
  },
  {
   "cell_type": "code",
   "execution_count": 15,
   "metadata": {},
   "outputs": [
    {
     "name": "stdout",
     "output_type": "stream",
     "text": [
      "done fitting\n",
      "              precision    recall  f1-score   support\n",
      "\n",
      "           0       0.84      1.00      0.91     23786\n",
      "           1       0.00      0.00      0.00      3114\n",
      "           2       1.00      0.01      0.01       949\n",
      "           4       0.00      0.00      0.00       413\n",
      "           3       0.00      0.00      0.00        95\n",
      "           6       0.00      0.00      0.00        46\n",
      "           5       0.00      0.00      0.00        16\n",
      "           9       0.00      0.00      0.00         4\n",
      "           8       0.00      0.00      0.00         3\n",
      "           7       0.00      0.00      0.00         5\n",
      "          10       0.00      0.00      0.00         2\n",
      "\n",
      "    accuracy                           0.84     28433\n",
      "   macro avg       0.17      0.09      0.08     28433\n",
      "weighted avg       0.73      0.84      0.76     28433\n",
      "\n",
      "0.034587951402986074\n"
     ]
    },
    {
     "name": "stderr",
     "output_type": "stream",
     "text": [
      "C:\\Users\\PedroAntonio\\Anaconda3\\envs\\proj\\lib\\site-packages\\sklearn\\metrics\\_classification.py:1308: UndefinedMetricWarning: Precision and F-score are ill-defined and being set to 0.0 in labels with no predicted samples. Use `zero_division` parameter to control this behavior.\n",
      "  _warn_prf(average, modifier, msg_start, len(result))\n",
      "C:\\Users\\PedroAntonio\\Anaconda3\\envs\\proj\\lib\\site-packages\\sklearn\\metrics\\_classification.py:1308: UndefinedMetricWarning: Precision and F-score are ill-defined and being set to 0.0 in labels with no predicted samples. Use `zero_division` parameter to control this behavior.\n",
      "  _warn_prf(average, modifier, msg_start, len(result))\n",
      "C:\\Users\\PedroAntonio\\Anaconda3\\envs\\proj\\lib\\site-packages\\sklearn\\metrics\\_classification.py:1308: UndefinedMetricWarning: Precision and F-score are ill-defined and being set to 0.0 in labels with no predicted samples. Use `zero_division` parameter to control this behavior.\n",
      "  _warn_prf(average, modifier, msg_start, len(result))\n"
     ]
    }
   ],
   "source": [
    "clf = svm.LinearSVC(dual=False)\n",
    "clf.fit(x_train, y_train['OffCount'])\n",
    "print(\"done fitting\")\n",
    "\n",
    "y_true = y_test[\"OffCount\"].tolist()\n",
    "y_pred = clf.predict(x_test)\n",
    "\n",
    "print(classification_report(y_true, y_pred, target_names=[str(s) for s in y_train[\"OffCount\"].unique()]))\n",
    "print(matthews_corrcoef(y_true, y_pred))\n",
    "\n",
    "#print(clf.score(x_test,y_test['OffCount']))\n",
    "#ConfusionMatrixDisplay.from_estimator(clf, x_test, y_test['OffCount'],normalize='true',cmap=\"seismic\")\n",
    "#print(precision_recall_fscore_support(y_test['OffCount'],clf.predict(x_test)))"
   ]
  },
  {
   "cell_type": "code",
   "execution_count": 16,
   "metadata": {},
   "outputs": [
    {
     "name": "stdout",
     "output_type": "stream",
     "text": [
      "done fitting\n",
      "              precision    recall  f1-score   support\n",
      "\n",
      "           0       0.88      0.84      0.86     23786\n",
      "           1       0.28      0.06      0.10      3114\n",
      "           2       0.12      0.02      0.04       949\n",
      "           4       0.05      0.02      0.03       413\n",
      "           3       0.01      0.01      0.01        95\n",
      "           6       0.01      0.07      0.01        46\n",
      "           5       0.00      0.06      0.00        16\n",
      "           9       0.00      0.25      0.00         4\n",
      "           8       0.00      0.33      0.00         3\n",
      "           7       0.00      0.40      0.01         5\n",
      "          10       0.00      0.00      0.00         2\n",
      "\n",
      "    accuracy                           0.71     28433\n",
      "   macro avg       0.12      0.19      0.10     28433\n",
      "weighted avg       0.77      0.71      0.74     28433\n",
      "\n",
      "0.13472596010383822\n"
     ]
    }
   ],
   "source": [
    "clf = svm.LinearSVC(class_weight='balanced',dual=False)\n",
    "clf.fit(x_train, y_train['OffCount'])\n",
    "print(\"done fitting\")\n",
    "\n",
    "y_true = y_test[\"OffCount\"].tolist()\n",
    "y_pred = clf.predict(x_test)\n",
    "\n",
    "print(classification_report(y_true, y_pred, target_names=[str(s) for s in y_train[\"OffCount\"].unique()]))\n",
    "print(matthews_corrcoef(y_true, y_pred))\n",
    "\n",
    "#print(clf.score(x_test,y_test['OffCount']))\n",
    "#ConfusionMatrixDisplay.from_estimator(clf, x_test, y_test['OffCount'],normalize='true',cmap=\"seismic\")\n",
    "#print(precision_recall_fscore_support(y_test['OffCount'],clf.predict(x_test)))"
   ]
  },
  {
   "cell_type": "code",
   "execution_count": 17,
   "metadata": {},
   "outputs": [
    {
     "name": "stdout",
     "output_type": "stream",
     "text": [
      "done fitting\n"
     ]
    },
    {
     "name": "stderr",
     "output_type": "stream",
     "text": [
      "C:\\Users\\PedroAntonio\\Anaconda3\\envs\\proj\\lib\\site-packages\\sklearn\\metrics\\_classification.py:1308: UndefinedMetricWarning: Precision and F-score are ill-defined and being set to 0.0 in labels with no predicted samples. Use `zero_division` parameter to control this behavior.\n",
      "  _warn_prf(average, modifier, msg_start, len(result))\n",
      "C:\\Users\\PedroAntonio\\Anaconda3\\envs\\proj\\lib\\site-packages\\sklearn\\metrics\\_classification.py:1308: UndefinedMetricWarning: Precision and F-score are ill-defined and being set to 0.0 in labels with no predicted samples. Use `zero_division` parameter to control this behavior.\n",
      "  _warn_prf(average, modifier, msg_start, len(result))\n",
      "C:\\Users\\PedroAntonio\\Anaconda3\\envs\\proj\\lib\\site-packages\\sklearn\\metrics\\_classification.py:1308: UndefinedMetricWarning: Precision and F-score are ill-defined and being set to 0.0 in labels with no predicted samples. Use `zero_division` parameter to control this behavior.\n",
      "  _warn_prf(average, modifier, msg_start, len(result))\n"
     ]
    },
    {
     "name": "stdout",
     "output_type": "stream",
     "text": [
      "                         precision    recall  f1-score   support\n",
      "\n",
      "Other - known to victim       0.38      0.67      0.49      7628\n",
      "               Stranger       0.00      0.00      0.00       497\n",
      "           Other family       0.00      0.00      0.00       343\n",
      "           Acquaintance       0.00      0.00      0.00       141\n",
      "               Neighbor       0.00      0.00      0.00       142\n",
      "                Brother       0.35      0.53      0.42       491\n",
      "               Daughter       0.00      0.00      0.00        22\n",
      "                 Father       0.00      0.00      0.00        28\n",
      "             Girlfriend       0.00      0.00      0.00        45\n",
      "                 Sister       0.00      0.00      0.00       113\n",
      "                Unknown       0.00      0.00      0.00       301\n",
      "                 Friend       0.32      0.06      0.11      1378\n",
      "                 Mother       0.28      0.13      0.18      1004\n",
      "             Stepfather       0.00      0.00      0.00        76\n",
      "              Boyfriend       0.00      0.00      0.00       596\n",
      "                    Son       0.00      0.00      0.00       257\n",
      "                Stepson       0.00      0.00      0.00       299\n",
      "                Husband       0.00      0.00      0.00       402\n",
      "     Common-law husband       0.46      0.18      0.26      1713\n",
      "                 In-law       0.00      0.00      0.00       619\n",
      "Homosexual relationship       0.00      0.00      0.00        97\n",
      "               Employer       0.46      0.11      0.18       612\n",
      "        Common-law wife       0.00      0.00      0.00        43\n",
      "             Stepmother       0.00      0.00      0.00        93\n",
      "               Employee       0.00      0.00      0.00        14\n",
      "                   Wife       0.00      0.00      0.00        71\n",
      "           Stepdaughter       0.54      0.41      0.47      5362\n",
      "             Ex-husband       0.40      0.50      0.44      4541\n",
      "                Ex-wife       0.33      0.67      0.45      1505\n",
      "\n",
      "               accuracy                           0.40     28433\n",
      "              macro avg       0.12      0.11      0.10     28433\n",
      "           weighted avg       0.36      0.40      0.35     28433\n",
      "\n",
      "0.2700375095062044\n"
     ]
    }
   ],
   "source": [
    "clf = svm.LinearSVC(dual=False)\n",
    "clf.fit(x_train, y_train['Relationship'])\n",
    "print(\"done fitting\")\n",
    "\n",
    "y_true = y_test[\"Relationship\"].tolist()\n",
    "y_pred = clf.predict(x_test)\n",
    "\n",
    "print(classification_report(y_true, y_pred, target_names=list(y_train[\"Relationship\"].unique())))\n",
    "print(matthews_corrcoef(y_true, y_pred))\n",
    "\n",
    "#print(clf.score(x_test,y_test['Relationship']))\n",
    "#ConfusionMatrixDisplay.from_estimator(clf, x_test, y_test['Relationship'],normalize='true',cmap=\"seismic\")\n",
    "#print(precision_recall_fscore_support(y_test['Relationship'],clf.predict(x_test)))"
   ]
  },
  {
   "cell_type": "code",
   "execution_count": 18,
   "metadata": {},
   "outputs": [
    {
     "name": "stdout",
     "output_type": "stream",
     "text": [
      "done fitting\n",
      "                         precision    recall  f1-score   support\n",
      "\n",
      "Other - known to victim       0.46      0.10      0.17      7628\n",
      "               Stranger       0.08      0.10      0.09       497\n",
      "           Other family       0.11      0.04      0.06       343\n",
      "           Acquaintance       0.02      0.62      0.05       141\n",
      "               Neighbor       0.05      0.31      0.09       142\n",
      "                Brother       0.22      0.67      0.34       491\n",
      "               Daughter       0.00      0.14      0.01        22\n",
      "                 Father       0.00      0.07      0.01        28\n",
      "             Girlfriend       0.01      0.47      0.02        45\n",
      "                 Sister       0.00      0.00      0.00       113\n",
      "                Unknown       0.07      0.07      0.07       301\n",
      "                 Friend       0.29      0.05      0.09      1378\n",
      "                 Mother       0.25      0.21      0.23      1004\n",
      "             Stepfather       0.03      0.20      0.05        76\n",
      "              Boyfriend       0.03      0.00      0.00       596\n",
      "                    Son       0.02      0.04      0.03       257\n",
      "                Stepson       0.10      0.18      0.13       299\n",
      "                Husband       0.09      0.02      0.03       402\n",
      "     Common-law husband       0.45      0.18      0.26      1713\n",
      "                 In-law       0.00      0.00      0.00       619\n",
      "Homosexual relationship       0.03      0.06      0.04        97\n",
      "               Employer       0.16      0.59      0.25       612\n",
      "        Common-law wife       0.00      0.02      0.01        43\n",
      "             Stepmother       0.00      0.00      0.00        93\n",
      "               Employee       0.00      0.07      0.00        14\n",
      "                   Wife       0.00      0.03      0.01        71\n",
      "           Stepdaughter       0.61      0.34      0.43      5362\n",
      "             Ex-husband       0.49      0.40      0.44      4541\n",
      "                Ex-wife       0.40      0.45      0.43      1505\n",
      "\n",
      "               accuracy                           0.24     28433\n",
      "              macro avg       0.14      0.19      0.11     28433\n",
      "           weighted avg       0.40      0.24      0.26     28433\n",
      "\n",
      "0.1892935050885902\n"
     ]
    }
   ],
   "source": [
    "clf = svm.LinearSVC(class_weight='balanced',dual=False)\n",
    "clf.fit(x_train, y_train['Relationship'])\n",
    "print(\"done fitting\")\n",
    "\n",
    "y_true = y_test[\"Relationship\"].tolist()\n",
    "y_pred = clf.predict(x_test)\n",
    "\n",
    "print(classification_report(y_true, y_pred, target_names=list(y_train[\"Relationship\"].unique())))\n",
    "print(matthews_corrcoef(y_true, y_pred))\n",
    "\n",
    "#print(clf.score(x_test,y_test['Relationship']))\n",
    "#ConfusionMatrixDisplay.from_estimator(clf, x_test, y_test['Relationship'],normalize='true',cmap=\"seismic\")\n",
    "#print(precision_recall_fscore_support(y_test['Relationship'],clf.predict(x_test)))"
   ]
  },
  {
   "cell_type": "code",
   "execution_count": null,
   "metadata": {},
   "outputs": [],
   "source": []
  }
 ],
 "metadata": {
  "kernelspec": {
   "display_name": "Python 3 (ipykernel)",
   "language": "python",
   "name": "python3"
  },
  "language_info": {
   "codemirror_mode": {
    "name": "ipython",
    "version": 3
   },
   "file_extension": ".py",
   "mimetype": "text/x-python",
   "name": "python",
   "nbconvert_exporter": "python",
   "pygments_lexer": "ipython3",
   "version": "3.7.11"
  }
 },
 "nbformat": 4,
 "nbformat_minor": 1
}
