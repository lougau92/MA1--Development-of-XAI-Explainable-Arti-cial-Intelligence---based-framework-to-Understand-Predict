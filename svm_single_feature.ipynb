{
 "cells": [
  {
   "cell_type": "code",
   "execution_count": 108,
   "metadata": {
    "collapsed": true
   },
   "outputs": [
    {
     "name": "stderr",
     "output_type": "stream",
     "text": [
      "C:\\Users\\PedroAntonio\\Anaconda3\\envs\\ACML\\lib\\site-packages\\IPython\\core\\interactiveshell.py:3444: DtypeWarning: Columns (9) have mixed types.Specify dtype option on import or set low_memory=False.\n",
      "  exec(code_obj, self.user_global_ns, self.user_ns)\n"
     ]
    }
   ],
   "source": [
    "import pandas as pd\n",
    "\n",
    "from preprocess import clean_dataframe\n",
    "# https://scikit-learn.org/stable/modules/svm.html\n",
    "from sklearn import svm\n",
    "from sklearn.model_selection import train_test_split\n",
    "\n",
    "raw_data = pd.read_csv('Murder_Data.zip', index_col=0, compression='zip')\n",
    "cleaned_data = clean_dataframe(raw_data).sample(n=24000)"
   ]
  },
  {
   "cell_type": "code",
   "execution_count": 111,
   "outputs": [
    {
     "name": "stderr",
     "output_type": "stream",
     "text": [
      "C:\\Users\\PedroAntonio\\Anaconda3\\envs\\ACML\\lib\\site-packages\\pandas\\core\\generic.py:6619: SettingWithCopyWarning: \n",
      "A value is trying to be set on a copy of a slice from a DataFrame\n",
      "\n",
      "See the caveats in the documentation: https://pandas.pydata.org/pandas-docs/stable/user_guide/indexing.html#returning-a-view-versus-a-copy\n",
      "  return self._update_inplace(result)\n"
     ]
    }
   ],
   "source": [
    "input_features = ['County', 'State', 'Area', 'VicAge', 'VicSex', 'VicRace', 'VicEthnic', 'VicCount', 'Weapon', 'Subcircum', 'Circumstance', 'Homicide']\n",
    "output_features = ['OffAge', 'OffSex', 'OffRace', 'OffEthnic', 'OffCount']\n",
    "\n",
    "X = cleaned_data[input_features]\n",
    "Y = cleaned_data[output_features]\n",
    "\n",
    "X['VicAge'].replace(to_replace='Unknown', value = -1, inplace = True)\n",
    "Y['OffAge'].replace(to_replace='Unknown', value = -1, inplace = True)\n",
    "\n",
    "X = pd.get_dummies(X,columns=['County', 'State', 'Area', 'VicSex', 'VicRace', 'VicEthnic', 'Weapon', 'Subcircum', 'Circumstance', 'Homicide'])\n",
    "\n",
    "x_train, x_rest, y_train, y_rest = train_test_split(X, Y, test_size=0.20, random_state=20)\n",
    "x_val, x_test, y_val, y_test = train_test_split(x_rest, y_rest, test_size=0.50, random_state=20)"
   ],
   "metadata": {
    "collapsed": false,
    "pycharm": {
     "name": "#%%\n"
    }
   }
  },
  {
   "cell_type": "code",
   "execution_count": 110,
   "outputs": [
    {
     "name": "stdout",
     "output_type": "stream",
     "text": [
      "0.8929166666666667\n"
     ]
    },
    {
     "data": {
      "text/plain": "<Figure size 432x288 with 1 Axes>",
      "image/png": "[encoded data removed]"
     },
     "metadata": {
      "needs_background": "light"
     },
     "output_type": "display_data"
    }
   ],
   "source": [
    "df=y_test.groupby([\"OffSex\"]).size()\n",
    "df.plot(kind='bar')\n",
    "print(len(y_test[y_test[\"OffSex\"]==\"Male\"])/len(y_test))"
   ],
   "metadata": {
    "collapsed": false,
    "pycharm": {
     "name": "#%%\n"
    }
   }
  },
  {
   "cell_type": "code",
   "execution_count": 116,
   "outputs": [
    {
     "name": "stdout",
     "output_type": "stream",
     "text": [
      "(0.339226877473096, {'Female': 9.294282111030185, 'Male': 1.5456883242957935})\n",
      "(0.3708825063826026, {'Female': 7.181097700703155, 'Male': 0.9749388426951575})\n",
      "(0.37787087124041746, {'Female': 9.661998199293985, 'Male': 1.3604423112761048})\n",
      "(0.38585410748424065, {'Female': 6.787544734660167, 'Male': 0.8207259655928882})\n",
      "(0.38585410748424065, {'Female': 6.787544734660167, 'Male': 0.8207259655928882})\n",
      "(0.3883187540189164, {'Female': 6.629614814983112, 'Male': 0.8087574177639191})\n",
      "(0.3883187540189164, {'Female': 6.629614814983112, 'Male': 0.8087574177639191})\n",
      "(0.3883187540189164, {'Female': 6.629614814983112, 'Male': 0.8087574177639191})\n",
      "(0.3883187540189164, {'Female': 6.629614814983112, 'Male': 0.8087574177639191})\n",
      "(0.3883187540189164, {'Female': 6.629614814983112, 'Male': 0.8087574177639191})\n",
      "(0.3883187540189164, {'Female': 6.629614814983112, 'Male': 0.8087574177639191})\n",
      "(0.3883187540189164, {'Female': 6.629614814983112, 'Male': 0.8087574177639191})\n",
      "(0.3883187540189164, {'Female': 6.629614814983112, 'Male': 0.8087574177639191})\n",
      "(0.3883187540189164, {'Female': 6.629614814983112, 'Male': 0.8087574177639191})\n",
      "(0.3883187540189164, {'Female': 6.629614814983112, 'Male': 0.8087574177639191})\n",
      "(0.3883187540189164, {'Female': 6.629614814983112, 'Male': 0.8087574177639191})\n",
      "(0.3883187540189164, {'Female': 6.629614814983112, 'Male': 0.8087574177639191})\n",
      "(0.3883187540189164, {'Female': 6.629614814983112, 'Male': 0.8087574177639191})\n",
      "(0.3883187540189164, {'Female': 6.629614814983112, 'Male': 0.8087574177639191})\n",
      "(0.3883187540189164, {'Female': 6.629614814983112, 'Male': 0.8087574177639191})\n",
      "(0.3883187540189164, {'Female': 6.629614814983112, 'Male': 0.8087574177639191})\n",
      "(0.3883187540189164, {'Female': 6.629614814983112, 'Male': 0.8087574177639191})\n",
      "(0.3883187540189164, {'Female': 6.629614814983112, 'Male': 0.8087574177639191})\n",
      "(0.3883187540189164, {'Female': 6.629614814983112, 'Male': 0.8087574177639191})\n",
      "(0.3883187540189164, {'Female': 6.629614814983112, 'Male': 0.8087574177639191})\n",
      "(0.3883187540189164, {'Female': 6.629614814983112, 'Male': 0.8087574177639191})\n",
      "(0.3883187540189164, {'Female': 6.629614814983112, 'Male': 0.8087574177639191})\n",
      "(0.3883187540189164, {'Female': 6.629614814983112, 'Male': 0.8087574177639191})\n",
      "(0.3883187540189164, {'Female': 6.629614814983112, 'Male': 0.8087574177639191})\n",
      "(0.3885926036338804, {'Female': 6.355340874228927, 'Male': 0.7755279480318942})\n",
      "best found:{'Female': 6.355340874228927, 'Male': 0.7755279480318942}\n"
     ]
    }
   ],
   "source": [
    "import random\n",
    "def genetic_weight_search(n_pop,n_iter,tree,classes,x_train,y_train,x_val,y_val):\n",
    "    pop = init_population(n_pop,classes)\n",
    "    for i in range(n_iter):\n",
    "        fitness = eval_pop(pop,tree,x_train,y_train,x_val,y_val)\n",
    "        sorted_pop = sorted(zip(fitness,pop), key = lambda l: l[0],reverse=True)\n",
    "        print(sorted_pop[0])\n",
    "        parents = select_parents(sorted_pop)\n",
    "        #no crossover\n",
    "        children = generate_new_pop(parents,n_new=10)\n",
    "        pop = parents+children+init_population(5,classes)\n",
    "    print(\"best found:\"+str(pop[0]))\n",
    "    return pop[0]\n",
    "\n",
    "\n",
    "def init_population(n_pop,classes):\n",
    "    pop = []\n",
    "    for i in range(n_pop):\n",
    "        individual = {}\n",
    "        for cls in classes:\n",
    "            individual[cls]=random.uniform(1,10)\n",
    "        pop.append(individual)\n",
    "    return pop\n",
    "\n",
    "def eval_pop(pop,tree,x_train,y_train,x_val,y_val):\n",
    "    fitness = []\n",
    "    for individual in pop:\n",
    "        clf = tree(class_weight=individual,dual=False)\n",
    "        clf.fit(x_train, y_train)\n",
    "        mean = 0\n",
    "        multi = 1\n",
    "        for cls in individual.keys():\n",
    "            score=clf.score(x_val[y_val==cls],y_val[y_val==cls])\n",
    "            mean+=score\n",
    "            multi*=score\n",
    "        #todo: the current fitness value should be retought, for exaple: should 0.7/0.7 be considerd better as 0.5/1.0 or not?\n",
    "        fitness.append(multi)\n",
    "    return fitness\n",
    "\n",
    "def select_parents(sorted_pop):\n",
    "    res = [[ i for i, j in sorted_pop ],[ j for i, j in sorted_pop ]]\n",
    "    pop = res[1]\n",
    "    #return best 5 and 5 random as parents of the population\n",
    "    parents = pop[:5]\n",
    "    parents += random.sample(pop[5:], 5)\n",
    "    return parents\n",
    "\n",
    "def generate_new_pop(parents,n_new):\n",
    "    new_pop = []\n",
    "    for i in range(n_new):\n",
    "        parent = random.sample(parents,1)[0]\n",
    "        parent = parent.copy()\n",
    "        child = {}\n",
    "        for cls in parent.keys():\n",
    "            child[cls]=parent[cls]+random.uniform(-0.4,0.4)\n",
    "        new_pop.append(child)\n",
    "    return new_pop\n",
    "\n",
    "best_found_weights = genetic_weight_search(30,30,svm.LinearSVC,[\"Female\",\"Male\"],x_train,y_train[\"OffSex\"],x_val,y_val[\"OffSex\"])"
   ],
   "metadata": {
    "collapsed": false,
    "pycharm": {
     "name": "#%%\n"
    }
   }
  },
  {
   "cell_type": "code",
   "execution_count": 136,
   "outputs": [
    {
     "name": "stdout",
     "output_type": "stream",
     "text": [
      "done fitting\n",
      "Accuracy on female class: 0.4980544747081712\n",
      "Accuracy on male class: 0.6756882874475035\n"
     ]
    },
    {
     "data": {
      "text/plain": "<sklearn.metrics._plot.confusion_matrix.ConfusionMatrixDisplay at 0x2a196080eb0>"
     },
     "execution_count": 136,
     "metadata": {},
     "output_type": "execute_result"
    },
    {
     "data": {
      "text/plain": "<Figure size 432x288 with 2 Axes>",
      "image/png": "[encoded data removed]"
     },
     "metadata": {
      "needs_background": "light"
     },
     "output_type": "display_data"
    }
   ],
   "source": [
    "from sklearn.metrics import ConfusionMatrixDisplay\n",
    "#clf = svm.LinearSVC(class_weight={'Female':10, 'Male': 1},dual=False)\n",
    "clf = svm.LinearSVC(class_weight=best_found_weights,dual=False)\n",
    "clf.fit(x_train, y_train[\"OffSex\"])\n",
    "print(\"done fitting\")\n",
    "print(\"Accuracy on female class: \"+str(clf.score(x_test[y_test[\"OffSex\"]==\"Female\"],y_test[\"OffSex\"][y_test[\"OffSex\"]==\"Female\"])))\n",
    "print(\"Accuracy on male class: \"+str(clf.score(x_test[y_test[\"OffSex\"]==\"Male\"],y_test[\"OffSex\"][y_test[\"OffSex\"]==\"Male\"])))\n",
    "ConfusionMatrixDisplay.from_estimator(clf, x_test, y_test[\"OffSex\"],normalize='true',cmap=\"seismic\")\n"
   ],
   "metadata": {
    "collapsed": false,
    "pycharm": {
     "name": "#%%\n"
    }
   }
  },
  {
   "cell_type": "code",
   "execution_count": 134,
   "outputs": [
    {
     "name": "stderr",
     "output_type": "stream",
     "text": [
      "C:\\Users\\PedroAntonio\\Anaconda3\\envs\\ACML\\lib\\site-packages\\sklearn\\svm\\_base.py:1206: ConvergenceWarning: Liblinear failed to converge, increase the number of iterations.\n",
      "  warnings.warn(\n"
     ]
    },
    {
     "name": "stdout",
     "output_type": "stream",
     "text": [
      "done fitting\n"
     ]
    },
    {
     "data": {
      "text/plain": "<sklearn.metrics._plot.confusion_matrix.ConfusionMatrixDisplay at 0x2a18d2fb3a0>"
     },
     "execution_count": 134,
     "metadata": {},
     "output_type": "execute_result"
    },
    {
     "data": {
      "text/plain": "<Figure size 432x288 with 2 Axes>",
      "image/png": "[encoded data removed]"
     },
     "metadata": {
      "needs_background": "light"
     },
     "output_type": "display_data"
    }
   ],
   "source": [
    "clf = svm.LinearSVC()\n",
    "clf.fit(x_train, y_train[\"OffRace\"])\n",
    "print(\"done fitting\")\n",
    "clf.score(x_test,y_test[\"OffRace\"])\n",
    "ConfusionMatrixDisplay.from_estimator(clf, x_test, y_test[\"OffRace\"],normalize='true',cmap=\"seismic\")"
   ],
   "metadata": {
    "collapsed": false,
    "pycharm": {
     "name": "#%%\n"
    }
   }
  },
  {
   "cell_type": "code",
   "execution_count": 49,
   "outputs": [
    {
     "name": "stdout",
     "output_type": "stream",
     "text": [
      "0.9785\n"
     ]
    },
    {
     "data": {
      "text/plain": "<Figure size 432x288 with 1 Axes>",
      "image/png": "[encoded data removed]"
     },
     "metadata": {
      "needs_background": "light"
     },
     "output_type": "display_data"
    }
   ],
   "source": [
    "df=y_test.groupby([\"OffRace\"]).size()\n",
    "df.plot(kind='bar')\n",
    "print(len(y_test[(y_test[\"OffRace\"]==\"Black\") | (y_test[\"OffRace\"]==\"White\") ])/len(y_test))"
   ],
   "metadata": {
    "collapsed": false,
    "pycharm": {
     "name": "#%%\n"
    }
   }
  }
 ],
 "metadata": {
  "kernelspec": {
   "display_name": "Python 3",
   "language": "python",
   "name": "python3"
  },
  "language_info": {
   "codemirror_mode": {
    "name": "ipython",
    "version": 2
   },
   "file_extension": ".py",
   "mimetype": "text/x-python",
   "name": "python",
   "nbconvert_exporter": "python",
   "pygments_lexer": "ipython2",
   "version": "2.7.6"
  }
 },
 "nbformat": 4,
 "nbformat_minor": 0
}