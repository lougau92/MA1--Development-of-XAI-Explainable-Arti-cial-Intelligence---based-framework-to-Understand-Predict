{
 "cells": [
  {
   "cell_type": "code",
   "execution_count": 23,
   "metadata": {},
   "outputs": [],
   "source": [
    "import numpy as np\n",
    "import matplotlib.pyplot as plt\n",
    "import pandas as pd\n",
    "import warnings\n",
    "from sklearn.model_selection import train_test_split\n",
    "from sklearn.tree import DecisionTreeRegressor\n",
    "from sklearn import tree\n",
    "from preprocess import *\n",
    "from scipy.cluster.hierarchy import linkage as link\n",
    "from scipy.cluster.hierarchy import dendrogram as dendo\n",
    "from sklearn.cluster import KMeans as kmeans\n",
    "from sklearn.metrics.cluster import contingency_matrix as ct\n"
   ]
  },
  {
   "cell_type": "code",
   "execution_count": 4,
   "metadata": {},
   "outputs": [
    {
     "name": "stderr",
     "output_type": "stream",
     "text": [
      "C:\\Users\\louis\\anaconda3\\lib\\site-packages\\IPython\\core\\interactiveshell.py:3071: DtypeWarning: Columns (9) have mixed types.Specify dtype option on import or set low_memory=False.\n",
      "  has_raised = await self.run_ast_nodes(code_ast.body, cell_name,\n"
     ]
    }
   ],
   "source": [
    "df = pd.read_csv(\"Murder_Data/SHR76_20.csv\")\n",
    "\n",
    "# Feature Cleaning\n",
    "df.insert(1, 'County', df['CNTYFIPS'].map(lambda x : str(x).split(',')[0]), True)\n",
    "df.drop(\"CNTYFIPS\",axis = 1, inplace= True) # redundant, onlyy keeping the county part\n",
    "df.drop(\"StateName\",axis = 1, inplace= True)  # redundant, contains state\n",
    "df.drop(\"Ori\",axis = 1, inplace= True)  # redundant, contains state + county + agentcy nb\n",
    "df.insert(3, 'Area',df['MSA'].map(lambda x :  str(x).split(',')[0] ) ,True)\n",
    "df.drop('MSA',axis = 1,inplace=True) # rendundant only the state, keeping the metropolitant statistical area\n",
    "\n",
    "df.drop(\"FileDate\",axis = 1,inplace = True)\n",
    "\n",
    "df.drop(\"Incident\",axis = 1,inplace = True) # incient number of the month, for a specific county useless for our application\n",
    "\n",
    "df.drop(\"Situation\",axis = 1,inplace = True) # redundant, info already contained in OffCount and VicCount\n",
    "\n",
    "df.drop(\"Source\",axis = 1,inplace = True)\n",
    "df.drop(\"ID\",axis = 1,inplace = True)\n",
    "\n",
    "# Values cleaning\n",
    "df['OffAge'].replace(999, np.NaN, inplace=True) # replacing 999 ages with Nan\n",
    "df = df[df[\"Agentype\"]!='4'] # removing 4 4s typo?"
   ]
  },
  {
   "cell_type": "code",
   "execution_count": 5,
   "metadata": {},
   "outputs": [
    {
     "name": "stdout",
     "output_type": "stream",
     "text": [
      "827215\n",
      "27453\n",
      "12786\n"
     ]
    }
   ],
   "source": [
    "df_sub = df\n",
    "\n",
    "print(len(df_sub))\n",
    "df_sub_full = df_sub.dropna()\n",
    "print(len(df_sub_full))\n",
    "\n",
    "for col in df_sub.columns:\n",
    "    try:\n",
    "        df_sub_full = df_sub_full[df_sub_full[col].str.contains(\"nknown|undetermined|not specified\",regex = True)==False]\n",
    "    except:\n",
    "            a=0\n",
    "print(len(df_sub_full))"
   ]
  },
  {
   "cell_type": "code",
   "execution_count": 6,
   "metadata": {},
   "outputs": [],
   "source": [
    "df_numeric = df_sub_full.copy(deep=True)\n",
    "\n",
    "for col in df_sub_full.columns:\n",
    "  # if(col in ['File Month','File Year','File Day']):\n",
    "  #   df_numeric[col] = pd.to_numeric(df[col])\n",
    "  #   print(col)\n",
    "  if df[col].dtype == 'object':\n",
    "    labels = df_numeric[col].unique().tolist()\n",
    "    mapping = dict( zip(labels,range(len(labels))) )\n",
    "    df_numeric.replace({col: mapping},inplace=True)"
   ]
  },
  {
   "cell_type": "code",
   "execution_count": 20,
   "metadata": {},
   "outputs": [],
   "source": [
    "methods = [\"single\",\"average\",\"complete\"]\n",
    "\n",
    "def exp_2(m):\n",
    "    clusters = link(df_numeric, method = m,metric = 'jaccard')\n",
    "    dendo(clusters, p=3,truncate_mode='level', count_sort=True,get_leaves =True,  leaf_rotation = -80)  "
   ]
  },
  {
   "cell_type": "code",
   "execution_count": 21,
   "metadata": {},
   "outputs": [
    {
     "data": {
      "image/png": "[encoded data removed]",
      "text/plain": [
       "<Figure size 1008x252 with 3 Axes>"
      ]
     },
     "metadata": {
      "needs_background": "light"
     },
     "output_type": "display_data"
    }
   ],
   "source": [
    "fig = plt.figure(figsize=(14, 3.5))\n",
    "\n",
    "for i in range(len(methods)):\n",
    "    ax = fig.add_subplot(1, 3, i+1)\n",
    "    exp_2(methods[i])\n",
    "    plt.title(\"Method = \"+methods[i])"
   ]
  },
  {
   "cell_type": "code",
   "execution_count": 30,
   "metadata": {},
   "outputs": [
    {
     "ename": "TypeError",
     "evalue": "__init__() got an unexpected keyword argument 'metric'",
     "output_type": "error",
     "traceback": [
      "\u001b[1;31m---------------------------------------------------------------------------\u001b[0m",
      "\u001b[1;31mTypeError\u001b[0m                                 Traceback (most recent call last)",
      "\u001b[1;32m<ipython-input-30-ddf071f9f2d2>\u001b[0m in \u001b[0;36m<module>\u001b[1;34m\u001b[0m\n\u001b[0;32m      3\u001b[0m \u001b[1;32mfor\u001b[0m \u001b[0mi\u001b[0m \u001b[1;32min\u001b[0m \u001b[0mrange\u001b[0m\u001b[1;33m(\u001b[0m\u001b[1;36m1\u001b[0m\u001b[1;33m,\u001b[0m\u001b[1;36m11\u001b[0m\u001b[1;33m)\u001b[0m\u001b[1;33m:\u001b[0m\u001b[1;33m\u001b[0m\u001b[1;33m\u001b[0m\u001b[0m\n\u001b[0;32m      4\u001b[0m \u001b[1;33m\u001b[0m\u001b[0m\n\u001b[1;32m----> 5\u001b[1;33m     \u001b[0mmodel\u001b[0m \u001b[1;33m=\u001b[0m \u001b[0mkmeans\u001b[0m\u001b[1;33m(\u001b[0m\u001b[0mn_clusters\u001b[0m \u001b[1;33m=\u001b[0m \u001b[0mi\u001b[0m\u001b[1;33m,\u001b[0m\u001b[0mrandom_state\u001b[0m\u001b[1;33m=\u001b[0m \u001b[1;36m4\u001b[0m\u001b[1;33m,\u001b[0m\u001b[0mmetric\u001b[0m \u001b[1;33m=\u001b[0m \u001b[1;34m\"jaccard\"\u001b[0m\u001b[1;33m)\u001b[0m\u001b[1;33m.\u001b[0m\u001b[0mfit\u001b[0m\u001b[1;33m(\u001b[0m\u001b[0mdf_numeric\u001b[0m\u001b[1;33m)\u001b[0m\u001b[1;33m\u001b[0m\u001b[1;33m\u001b[0m\u001b[0m\n\u001b[0m\u001b[0;32m      6\u001b[0m     \u001b[0mclusters\u001b[0m \u001b[1;33m=\u001b[0m \u001b[0mmodel\u001b[0m\u001b[1;33m.\u001b[0m\u001b[0mlabels_\u001b[0m\u001b[1;33m\u001b[0m\u001b[1;33m\u001b[0m\u001b[0m\n\u001b[0;32m      7\u001b[0m     \u001b[0msses\u001b[0m\u001b[1;33m.\u001b[0m\u001b[0mappend\u001b[0m\u001b[1;33m(\u001b[0m\u001b[0mmodel\u001b[0m\u001b[1;33m.\u001b[0m\u001b[0minertia_\u001b[0m\u001b[1;33m)\u001b[0m\u001b[1;33m\u001b[0m\u001b[1;33m\u001b[0m\u001b[0m\n",
      "\u001b[1;32m~\\anaconda3\\lib\\site-packages\\sklearn\\utils\\validation.py\u001b[0m in \u001b[0;36minner_f\u001b[1;34m(*args, **kwargs)\u001b[0m\n\u001b[0;32m     71\u001b[0m                           FutureWarning)\n\u001b[0;32m     72\u001b[0m         \u001b[0mkwargs\u001b[0m\u001b[1;33m.\u001b[0m\u001b[0mupdate\u001b[0m\u001b[1;33m(\u001b[0m\u001b[1;33m{\u001b[0m\u001b[0mk\u001b[0m\u001b[1;33m:\u001b[0m \u001b[0marg\u001b[0m \u001b[1;32mfor\u001b[0m \u001b[0mk\u001b[0m\u001b[1;33m,\u001b[0m \u001b[0marg\u001b[0m \u001b[1;32min\u001b[0m \u001b[0mzip\u001b[0m\u001b[1;33m(\u001b[0m\u001b[0msig\u001b[0m\u001b[1;33m.\u001b[0m\u001b[0mparameters\u001b[0m\u001b[1;33m,\u001b[0m \u001b[0margs\u001b[0m\u001b[1;33m)\u001b[0m\u001b[1;33m}\u001b[0m\u001b[1;33m)\u001b[0m\u001b[1;33m\u001b[0m\u001b[1;33m\u001b[0m\u001b[0m\n\u001b[1;32m---> 73\u001b[1;33m         \u001b[1;32mreturn\u001b[0m \u001b[0mf\u001b[0m\u001b[1;33m(\u001b[0m\u001b[1;33m**\u001b[0m\u001b[0mkwargs\u001b[0m\u001b[1;33m)\u001b[0m\u001b[1;33m\u001b[0m\u001b[1;33m\u001b[0m\u001b[0m\n\u001b[0m\u001b[0;32m     74\u001b[0m     \u001b[1;32mreturn\u001b[0m \u001b[0minner_f\u001b[0m\u001b[1;33m\u001b[0m\u001b[1;33m\u001b[0m\u001b[0m\n\u001b[0;32m     75\u001b[0m \u001b[1;33m\u001b[0m\u001b[0m\n",
      "\u001b[1;31mTypeError\u001b[0m: __init__() got an unexpected keyword argument 'metric'"
     ]
    }
   ],
   "source": [
    "sses = []\n",
    "\n",
    "for i in range(1,11):\n",
    "    \n",
    "    model = kmeans(n_clusters = i,random_state= 4,metric = \"jaccard\").fit(df_numeric)\n",
    "    clusters = model.labels_\n",
    "    sses.append(model.inertia_)\n",
    "    \n",
    "plt.figure(figsize=(3,3))\n",
    "plt.plot(range(1,11),sses)\n",
    "plt.title(\"SEE increase of K\")\n"
   ]
  },
  {
   "cell_type": "code",
   "execution_count": 29,
   "metadata": {},
   "outputs": [
    {
     "name": "stdout",
     "output_type": "stream",
     "text": [
      "[[8.07058344e+01 4.53666884e+00 3.73057366e+01 2.23524446e+02\n",
      "  8.40123859e-01 5.69206141e-19 2.00066900e+03 5.57724902e+00\n",
      "  4.25358540e-01 0.00000000e+00 3.64977184e+01 2.99869622e-02\n",
      "  3.87711864e-01 3.48109518e-01 3.49535528e+01 5.58996089e-02\n",
      "  2.36962190e-01 2.38754889e-01 7.29465450e-01 1.41427640e+00\n",
      "  5.92405476e-01 1.40140156e+00 3.03129074e-02 2.40384615e-01]\n",
      " [5.18879279e+02 4.01783784e+01 2.34173488e+02 1.34857503e+03\n",
      "  9.01930502e-01 1.02999206e-18 2.00144402e+03 5.48030888e+00\n",
      "  2.65637066e-01 0.00000000e+00 3.87680824e+01 2.54826255e-02\n",
      "  4.81853282e-01 2.12355212e-01 3.52792793e+01 7.18146718e-02\n",
      "  3.35392535e-01 1.60360360e-01 8.03346203e-01 1.13822394e+00\n",
      "  4.53281853e-01 1.13256113e+00 4.76190476e-02 1.76061776e-01]\n",
      " [2.71626040e+02 2.15124774e+01 1.40919711e+02 7.76481736e+02\n",
      "  1.24122966e+00 3.61663653e-04 1.99983363e+03 5.64665461e+00\n",
      "  2.24593128e-01 0.00000000e+00 3.54665461e+01 3.07414105e-02\n",
      "  6.09764919e-01 9.51175407e-02 3.50538879e+01 9.22242315e-02\n",
      "  3.96021700e-01 8.06509946e-02 9.42133816e-01 1.68643761e+00\n",
      "  4.59674503e-01 1.36347197e+00 3.32730561e-02 1.71790235e-01]]\n"
     ]
    }
   ],
   "source": [
    "model = kmeans(n_clusters = 3,random_state= 4).fit(df_numeric)\n",
    "print(model.cluster_centers_)\n"
   ]
  }
 ],
 "metadata": {
  "interpreter": {
   "hash": "bbab33599ff53eccf076482199fb7c145a454f24f783524f25cba32cca5bd7a9"
  },
  "kernelspec": {
   "display_name": "Python 3.8.3 64-bit ('base': conda)",
   "language": "python",
   "name": "python3"
  },
  "language_info": {
   "codemirror_mode": {
    "name": "ipython",
    "version": 3
   },
   "file_extension": ".py",
   "mimetype": "text/x-python",
   "name": "python",
   "nbconvert_exporter": "python",
   "pygments_lexer": "ipython3",
   "version": "3.8.3"
  },
  "orig_nbformat": 4
 },
 "nbformat": 4,
 "nbformat_minor": 2
}
