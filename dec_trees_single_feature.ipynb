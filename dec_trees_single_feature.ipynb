{
 "cells": [
  {
   "cell_type": "code",
   "execution_count": 1,
   "metadata": {},
   "outputs": [],
   "source": [
    "from sklearn.model_selection import cross_val_score, cross_val_predict \n",
    "from sklearn.metrics import confusion_matrix\n",
    "from sklearn.preprocessing import OrdinalEncoder\n",
    "from sklearn.tree import DecisionTreeClassifier\n",
    "import pandas as pd\n",
    "import numpy as np\n",
    "import itertools\n",
    "from preprocess import clean_dataframe"
   ]
  },
  {
   "cell_type": "code",
   "execution_count": 22,
   "metadata": {},
   "outputs": [
    {
     "name": "stderr",
     "output_type": "stream",
     "text": [
      "/Users/thomas/opt/anaconda3/lib/python3.8/site-packages/IPython/core/interactiveshell.py:3165: DtypeWarning: Columns (9) have mixed types.Specify dtype option on import or set low_memory=False.\n",
      "  has_raised = await self.run_ast_nodes(code_ast.body, cell_name,\n"
     ]
    }
   ],
   "source": [
    "raw_data = pd.read_csv('Murder_Data.zip', index_col=0, compression='zip')\n",
    "cleaned_data = clean_dataframe(raw_data)"
   ]
  },
  {
   "cell_type": "code",
   "execution_count": 65,
   "metadata": {},
   "outputs": [],
   "source": [
    "input_features = ['County', 'State', 'Area', 'VicAge', 'VicSex', 'VicRace', 'VicEthnic', 'VicCount', 'Weapon', 'Subcircum', 'Agency', 'Agentype', 'Circumstance', 'Homicide']\n",
    "output_features = ['OffAge', 'OffSex', 'OffRace', 'OffEthnic', 'OffCount']\n",
    "\n",
    "def tree_analysis(X: pd.core.frame.DataFrame, y: pd.core.frame.DataFrame, n_crossval: int = 10, criterion: str = 'entropy', scoring = 'balanced_accuracy'):\n",
    "    assert criterion in ['entropy', 'gini'], 'invalid choice of criterion. Needs to be entropy or gini.'\n",
    "    classifier = DecisionTreeClassifier(criterion = criterion)\n",
    "    y_pred = cross_val_predict(classifier, X = X, y = y, cv = n_crossval)\n",
    "    cross_val_scores = cross_val_score(classifier, X = X, y = y, cv = n_crossval, scoring = scoring)\n",
    "    #conf_matrix = confusion_matrix(y, y_pred)\n",
    "    return(np.mean(cross_val_scores), np.std(cross_val_scores))#, conf_matrix)"
   ]
  },
  {
   "cell_type": "code",
   "execution_count": 61,
   "metadata": {},
   "outputs": [
    {
     "name": "stderr",
     "output_type": "stream",
     "text": [
      "/Users/thomas/opt/anaconda3/lib/python3.8/site-packages/pandas/core/series.py:4509: SettingWithCopyWarning: \n",
      "A value is trying to be set on a copy of a slice from a DataFrame\n",
      "\n",
      "See the caveats in the documentation: https://pandas.pydata.org/pandas-docs/stable/user_guide/indexing.html#returning-a-view-versus-a-copy\n",
      "  return super().replace(\n"
     ]
    }
   ],
   "source": [
    "X = cleaned_data[input_features]\n",
    "y = cleaned_data[output_features]\n",
    "y['OffAge'].replace(to_replace='Unknown', value = 999, inplace = True)\n",
    "non_numerics = X[['County', 'State', 'Area', 'VicSex', 'VicRace', 'VicEthnic', 'Weapon', 'Subcircum', 'Agency', 'Agentype', 'Circumstance', 'Homicide']]"
   ]
  },
  {
   "cell_type": "code",
   "execution_count": 62,
   "metadata": {},
   "outputs": [],
   "source": [
    "non_numerics = pd.DataFrame(OrdinalEncoder().fit_transform(non_numerics), columns = ['County', 'State', 'Area', 'VicSex', 'VicRace', 'VicEthnic', 'Weapon', 'Subcircum', 'Agency', 'Agentype', 'Circumstance', 'Homicide'])\n",
    "non_numerics = non_numerics.reset_index()\n",
    "numerics = X[['VicAge', 'VicCount']]\n",
    "numerics = numerics.reset_index()\n",
    "X_ordinal = pd.concat([numerics, non_numerics], axis=1)"
   ]
  },
  {
   "cell_type": "code",
   "execution_count": 63,
   "metadata": {},
   "outputs": [],
   "source": [
    "X_ordinal.drop('ID', axis=1, inplace=True)\n",
    "X_ordinal['VicAge'].replace(to_replace='Unknown', value = 999, inplace = True)"
   ]
  },
  {
   "cell_type": "code",
   "execution_count": 73,
   "metadata": {},
   "outputs": [
    {
     "name": "stdout",
     "output_type": "stream",
     "text": [
      "Predicting OffAge: mean accuracy 0.022677 with standard deviation 0.002267\n",
      "Predicting OffSex: mean accuracy 0.530475 with standard deviation 0.025911\n",
      "Predicting OffRace: mean accuracy 0.183859 with standard deviation 0.085081\n",
      "Predicting OffEthnic: mean accuracy 0.240171 with standard deviation 0.121707\n"
     ]
    },
    {
     "name": "stderr",
     "output_type": "stream",
     "text": [
      "/Users/thomas/opt/anaconda3/lib/python3.8/site-packages/sklearn/model_selection/_split.py:666: UserWarning: The least populated class in y has only 1 members, which is less than n_splits=5.\n",
      "  warnings.warn((\"The least populated class in y has only %d\"\n",
      "/Users/thomas/opt/anaconda3/lib/python3.8/site-packages/sklearn/model_selection/_split.py:666: UserWarning: The least populated class in y has only 1 members, which is less than n_splits=5.\n",
      "  warnings.warn((\"The least populated class in y has only %d\"\n",
      "/Users/thomas/opt/anaconda3/lib/python3.8/site-packages/sklearn/metrics/_classification.py:1850: UserWarning: y_pred contains classes not in y_true\n",
      "  warnings.warn('y_pred contains classes not in y_true')\n",
      "/Users/thomas/opt/anaconda3/lib/python3.8/site-packages/sklearn/metrics/_classification.py:1850: UserWarning: y_pred contains classes not in y_true\n",
      "  warnings.warn('y_pred contains classes not in y_true')\n",
      "/Users/thomas/opt/anaconda3/lib/python3.8/site-packages/sklearn/metrics/_classification.py:1850: UserWarning: y_pred contains classes not in y_true\n",
      "  warnings.warn('y_pred contains classes not in y_true')\n"
     ]
    },
    {
     "name": "stdout",
     "output_type": "stream",
     "text": [
      "Predicting OffCount: mean accuracy 0.086959 with standard deviation 0.018451\n"
     ]
    }
   ],
   "source": [
    "for target in output_features:\n",
    "    mean, std = tree_analysis(X = X_ordinal, y = y[target], n_crossval=5, scoring='balanced_accuracy')\n",
    "    print(f'Predicting {target}: mean accuracy {mean:.6f} with standard deviation {std:.6f}')"
   ]
  },
  {
   "cell_type": "code",
   "execution_count": null,
   "metadata": {},
   "outputs": [],
   "source": [
    "# trying if training with dummies is feasible\n",
    "X = pd.get_dummies(X, columns=['County', 'State', 'Area', 'VicSex', 'VicRace', 'VicEthnic', 'VicCount', 'Weapon', 'Subcircum', 'Agency', 'Agentype', 'Circumstance', 'Homicide'])\n",
    "mean, std, conf_matrix = tree_analysis(X = X, y = y)\n",
    "# result: training this one decision tree takes 12 hours with dummy variables"
   ]
  }
 ],
 "metadata": {
  "interpreter": {
   "hash": "d06a35f6432bcea124c520d36814be75a6dd5ed4335e0c829924d510b7f0b7dd"
  },
  "kernelspec": {
   "display_name": "Python 3.8.8 64-bit ('base': conda)",
   "language": "python",
   "name": "python3"
  },
  "language_info": {
   "codemirror_mode": {
    "name": "ipython",
    "version": 3
   },
   "file_extension": ".py",
   "mimetype": "text/x-python",
   "name": "python",
   "nbconvert_exporter": "python",
   "pygments_lexer": "ipython3",
   "version": "3.8.8"
  },
  "orig_nbformat": 4
 },
 "nbformat": 4,
 "nbformat_minor": 2
}
