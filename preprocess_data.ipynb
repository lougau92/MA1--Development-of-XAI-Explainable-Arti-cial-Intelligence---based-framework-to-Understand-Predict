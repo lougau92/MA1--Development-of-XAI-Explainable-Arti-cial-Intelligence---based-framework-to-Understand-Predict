{
 "cells": [
  {
   "cell_type": "code",
   "execution_count": 154,
   "id": "vocational-cornell",
   "metadata": {},
   "outputs": [],
   "source": [
    "import numpy as np\n",
    "import pandas as pd"
   ]
  },
  {
   "cell_type": "code",
   "execution_count": 172,
   "id": "egyptian-advocacy",
   "metadata": {},
   "outputs": [
    {
     "name": "stderr",
     "output_type": "stream",
     "text": [
      "/usr/local/lib/python3.8/dist-packages/IPython/core/interactiveshell.py:3146: DtypeWarning: Columns (9) have mixed types.Specify dtype option on import or set low_memory=False.\n",
      "  has_raised = await self.run_ast_nodes(code_ast.body, cell_name,\n"
     ]
    }
   ],
   "source": [
    "# Read data from CSV file.\n",
    "df = pd.read_csv(\"SHR76_20.csv\")\n",
    "df.info()"
   ]
  },
  {
   "cell_type": "markdown",
   "id": "detected-nitrogen",
   "metadata": {},
   "source": [
    "## Cleaning Data"
   ]
  },
  {
   "cell_type": "code",
   "execution_count": 200,
   "id": "hundred-football",
   "metadata": {},
   "outputs": [],
   "source": [
    "# Split the dataframe into a solved and unsolved dataset\n",
    "def split_solved(df):\n",
    "    grouped = df.groupby(df.Solved)\n",
    "    return grouped.get_group(\"Yes\"), grouped.get_group(\"No\")\n",
    "\n",
    "# Fill in missing data (NaN) with Unknown value\n",
    "def fill_unknown(df):\n",
    "    return df.fillna(\"Unknown\")\n",
    "\n",
    "# Remove column(s)\n",
    "def remove_col(df, cols):\n",
    "    return df.drop(cols, axis=1)\n",
    "\n",
    "# Delete rows with specific column value\n",
    "def delete_val(df, cols, values):\n",
    "    for i in range(len(cols)):\n",
    "        df = df.drop(df[df[cols[i]] == values[i]].index)\n",
    "    return df\n",
    "\n",
    "# Everything that is unknown/undetermined/not specified/not reported/not determined, change to Unknown\n",
    "def clean_unk(df):\n",
    "    df.loc[df['OffAge'] == 999, 'OffAge'] = 'Unknown'\n",
    "    df.loc[df['VicAge'] == 999, 'VicAge'] = 'Unknown'\n",
    "    for col in df.columns:\n",
    "        try:\n",
    "            df.loc[df[col].str.contains(\"unknown|undetermined|not specified|not reported|not determined\", regex = True), col] = 'Unknown'\n",
    "        except:\n",
    "            continue\n",
    "    return df\n",
    "\n",
    "# Delete Agency Type which is equal to 4 (unclear)\n",
    "def del_agentype(df, col):\n",
    "    return df.drop(df[df[col] == '4'].index)\n",
    "\n",
    "# Split the FileDate column into three columns (TO BE FINISHED)\n",
    "def split_col(df):\n",
    "#     df[['FileMonth', 'FileDay', 'FileYear']] = df['AB'].str.split(' ', 1, expand=True)\n",
    "#     df['FileDate'] = df['FileDate'].astype(int)\n",
    "#     df['FileDate'] = df['FileDate'].astype(str)\n",
    "    df.insert(1, 'File Year', df['FileDate' != 'Unknown'].map(lambda x : x[len(x)-2:len(x)]), True)\n",
    "    df.insert(1, 'File Day', df['FileDate'].map(lambda x : x[len(x)-4:len(x)-2]), True)\n",
    "    df.insert(1, 'File Month', df['FileDate'].map(lambda x : x[0:len(x)-4]), True)\n",
    "    df.loc[nan_indexes,\"File Year\"] = np.NaN\n",
    "    df.loc[nan_indexes,\"File Day\"] = np.NaN\n",
    "    df.loc[nan_indexes,\"File Month\"] = np.NaN"
   ]
  },
  {
   "cell_type": "code",
   "execution_count": 197,
   "id": "worth-pressing",
   "metadata": {},
   "outputs": [],
   "source": [
    "solved, unsolved = split_solved(df)\n",
    "data = fill_unknown(solved)\n",
    "data = remove_col(df, ['StateName', 'Situation', 'Incident'])\n",
    "data = delete_val(df, ['OffSex', 'OffRace', 'VicSex', 'VicRace'], ['Unknown', 'Unknown', 'Unknown', 'Unknown'])\n",
    "data = clean_unk(data)\n",
    "data = del_agentype(df, 'Agentype')\n",
    "# data = split_col()"
   ]
  }
 ],
 "metadata": {
  "kernelspec": {
   "display_name": "Python 3",
   "language": "python",
   "name": "python3"
  },
  "language_info": {
   "codemirror_mode": {
    "name": "ipython",
    "version": 3
   },
   "file_extension": ".py",
   "mimetype": "text/x-python",
   "name": "python",
   "nbconvert_exporter": "python",
   "pygments_lexer": "ipython3",
   "version": "3.8.10"
  }
 },
 "nbformat": 4,
 "nbformat_minor": 5
}
