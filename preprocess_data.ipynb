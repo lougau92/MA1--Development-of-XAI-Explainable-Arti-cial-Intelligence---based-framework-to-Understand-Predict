{
 "cells": [
  {
   "cell_type": "code",
   "execution_count": 2,
   "id": "vocational-cornell",
   "metadata": {},
   "outputs": [],
   "source": [
    "import numpy as np\n",
    "import pandas as pd\n",
    "import itertools\n",
    "from zipfile import ZipFile\n",
    "from sklearn.model_selection import train_test_split"
   ]
  },
  {
   "cell_type": "code",
   "execution_count": 9,
   "id": "egyptian-advocacy",
   "metadata": {},
   "outputs": [
    {
     "name": "stderr",
     "output_type": "stream",
     "text": [
      "/usr/local/lib/python3.8/dist-packages/IPython/core/interactiveshell.py:3146: DtypeWarning: Columns (9) have mixed types.Specify dtype option on import or set low_memory=False.\n",
      "  has_raised = await self.run_ast_nodes(code_ast.body, cell_name,\n"
     ]
    },
    {
     "name": "stdout",
     "output_type": "stream",
     "text": [
      "<class 'pandas.core.frame.DataFrame'>\n",
      "RangeIndex: 827219 entries, 0 to 827218\n",
      "Data columns (total 31 columns):\n",
      " #   Column        Non-Null Count   Dtype  \n",
      "---  ------        --------------   -----  \n",
      " 0   ID            827219 non-null  object \n",
      " 1   CNTYFIPS      827219 non-null  object \n",
      " 2   Ori           827219 non-null  object \n",
      " 3   State         827219 non-null  object \n",
      " 4   Agency        827219 non-null  object \n",
      " 5   Agentype      827219 non-null  object \n",
      " 6   Source        827219 non-null  object \n",
      " 7   Solved        827219 non-null  object \n",
      " 8   Year          827219 non-null  int64  \n",
      " 9   StateName     22468 non-null   object \n",
      " 10  Month         827219 non-null  object \n",
      " 11  Incident      827219 non-null  int64  \n",
      " 12  ActionType    827219 non-null  object \n",
      " 13  Homicide      827219 non-null  object \n",
      " 14  Situation     827219 non-null  object \n",
      " 15  VicAge        827219 non-null  int64  \n",
      " 16  VicSex        827219 non-null  object \n",
      " 17  VicRace       827219 non-null  object \n",
      " 18  VicEthnic     827219 non-null  object \n",
      " 19  OffAge        827219 non-null  int64  \n",
      " 20  OffSex        827219 non-null  object \n",
      " 21  OffRace       827219 non-null  object \n",
      " 22  OffEthnic     827219 non-null  object \n",
      " 23  Weapon        827219 non-null  object \n",
      " 24  Relationship  827219 non-null  object \n",
      " 25  Circumstance  827219 non-null  object \n",
      " 26  Subcircum     32451 non-null   object \n",
      " 27  VicCount      827219 non-null  int64  \n",
      " 28  OffCount      827219 non-null  int64  \n",
      " 29  FileDate      824709 non-null  float64\n",
      " 30  MSA           827219 non-null  object \n",
      "dtypes: float64(1), int64(6), object(24)\n",
      "memory usage: 195.6+ MB\n"
     ]
    }
   ],
   "source": [
    "# Read data from CSV file.\n",
    "with ZipFile('Murder_Data.zip', 'r') as zipObj:\n",
    "   # Extract all the contents of zip file in current directory\n",
    "   zipObj.extractall()\n",
    "\n",
    "df = pd.read_csv(\"SHR76_20.csv\")\n",
    "df.info()"
   ]
  },
  {
   "cell_type": "markdown",
   "id": "detected-nitrogen",
   "metadata": {},
   "source": [
    "## Cleaning Data"
   ]
  },
  {
   "cell_type": "code",
   "execution_count": 71,
   "id": "hundred-football",
   "metadata": {},
   "outputs": [],
   "source": [
    "def clean_dataframe(df):\n",
    "    original_data = df.copy(deep=True)\n",
    "    solved, unsolved = split_solved(original_data)\n",
    "    data = remove_col(solved, ['Situation', 'Incident', 'Ori', 'StateName'])\n",
    "    data = split_filedate(data)\n",
    "    data = split_county_area(data)\n",
    "    data = fill_unknown(data)\n",
    "    data = delete_val(data, ['OffSex', 'OffRace', 'VicSex', 'VicRace'], ['Unknown', 'Unknown', 'Unknown', 'Unknown'])\n",
    "    data = clean_unk(data)\n",
    "    data = del_agentype(data, 'Agentype')\n",
    "    return data\n",
    "\n",
    "# Split the dataframe into a solved and unsolved dataset\n",
    "def split_solved(df):\n",
    "    grouped = df.groupby(df.Solved)\n",
    "    return grouped.get_group(\"Yes\"), grouped.get_group(\"No\")\n",
    "\n",
    "# Fill in missing data (NaN) with Unknown value\n",
    "def fill_unknown(df):\n",
    "    return df.fillna(\"Unknown\")\n",
    "\n",
    "# Remove column(s)\n",
    "def remove_col(df, cols):\n",
    "    df = df.drop(cols, axis=1)\n",
    "    return df\n",
    "\n",
    "# Delete rows with specific column value\n",
    "def delete_val(df, cols, values):\n",
    "    for i in range(len(cols)):\n",
    "        df = df.drop(df[df[cols[i]] == values[i]].index)\n",
    "    return df\n",
    "\n",
    "# Everything that is unknown/undetermined/not specified/not reported/not determined, change to Unknown\n",
    "def clean_unk(df):\n",
    "    df.loc[df['OffAge'] == 999, 'OffAge'] = 'Unknown'\n",
    "    df.loc[df['VicAge'] == 999, 'VicAge'] = 'Unknown'\n",
    "    for col in df.columns:\n",
    "        try:\n",
    "            df.loc[df[col].str.contains(\"unknown|undetermined|not specified|not reported|not determined|na|Not enough information to determine|^$\", regex = True), col] = 'Unknown'\n",
    "        except:\n",
    "            continue\n",
    "    return df\n",
    "\n",
    "# Delete Agency Type which is equal to 4 (unclear)\n",
    "def del_agentype(df, col):\n",
    "    return df.drop(df[df[col] == '4'].index)\n",
    "\n",
    "# Split the FileDate column into three columns\n",
    "def split_filedate(df):\n",
    "    df['FileDate'] = df['FileDate'].astype(str)\n",
    "    df.insert(0, 'FileYear', df['FileDate'].map(lambda x : x[len(x)-4:len(x)-2]), True)\n",
    "    df.insert(0, 'FileDay', df['FileDate'].map(lambda x : x[len(x)-6:len(x)-4]), True)\n",
    "    df.insert(0, 'FileMonth', df['FileDate'].map(lambda x : x[0:len(x)-6]), True)\n",
    "    df['FileYear'] = df['FileYear'].astype(str)\n",
    "    df['FileMonth'] = df['FileMonth'].astype(str)\n",
    "    df['FileDay'] = df['FileDay'].astype(str)\n",
    "    df = df.drop(['FileDate'], axis=1)\n",
    "    return df\n",
    "\n",
    "# Split CNTYFIPS and MSA columns into County and Area\n",
    "def split_county_area(df):\n",
    "    df.insert(0, 'County', df['CNTYFIPS'].map(lambda x : str(x).split(',')[0]), True)\n",
    "    df.insert(0, 'Area',df['MSA'].map(lambda x :  str(x).split(',')[0] ) ,True)\n",
    "    df = df.drop(['CNTYFIPS'], axis=1)\n",
    "    df = df.drop(['MSA'], axis=1)\n",
    "    return df\n",
    "\n",
    "# Split dataframe into small train and test set, stratified on cols\n",
    "def split_stratify(df, cols, train_frac, test_frac):\n",
    "    # Get unique combinations of columns\n",
    "    unique_vals = [np.unique(df[[col]].values) for col in cols]\n",
    "    combinations = list(itertools.product(*unique_vals))\n",
    "    \n",
    "    # Create df for each combination and sample non-random from df\n",
    "    train, test = [], []\n",
    "    for combi in combinations:\n",
    "        binned_df = df.loc[(df[cols[0]] == combi[0]) & (df[cols[1]] == combi[1]) & (df[cols[2]] == combi[2]) & (df[cols[3]] == combi[3])]\n",
    "        train.append(binned_df.sample(frac=train_frac, replace=True, random_state=1))\n",
    "        test.append(binned_df.sample(frac=test_frac, replace=True, random_state=1))\n",
    "        \n",
    "    # Return training df and test df\n",
    "    return pd.concat(train, ignore_index=True), pd.concat(test, ignore_index=True)      "
   ]
  },
  {
   "cell_type": "code",
   "execution_count": 72,
   "id": "legendary-raise",
   "metadata": {},
   "outputs": [],
   "source": [
    "cleaned = clean_dataframe(df)"
   ]
  },
  {
   "cell_type": "code",
   "execution_count": null,
   "id": "proper-question",
   "metadata": {},
   "outputs": [],
   "source": []
  }
 ],
 "metadata": {
  "kernelspec": {
   "display_name": "Python 3",
   "language": "python",
   "name": "python3"
  },
  "language_info": {
   "codemirror_mode": {
    "name": "ipython",
    "version": 3
   },
   "file_extension": ".py",
   "mimetype": "text/x-python",
   "name": "python",
   "nbconvert_exporter": "python",
   "pygments_lexer": "ipython3",
   "version": "3.8.10"
  }
 },
 "nbformat": 4,
 "nbformat_minor": 5
}
