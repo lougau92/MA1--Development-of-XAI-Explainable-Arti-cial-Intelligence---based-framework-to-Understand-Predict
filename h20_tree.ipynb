{
 "cells": [
  {
   "cell_type": "code",
   "execution_count": 1,
   "metadata": {},
   "outputs": [],
   "source": [
    "import h2o\n",
    "from h2o.estimators.gbm import H2OGradientBoostingEstimator\n",
    "from h2o.grid.grid_search import H2OGridSearch\n",
    "from typing import List\n",
    "import pandas as pd"
   ]
  },
  {
   "cell_type": "code",
   "execution_count": 2,
   "metadata": {},
   "outputs": [
    {
     "name": "stdout",
     "output_type": "stream",
     "text": [
      "Checking whether there is an H2O instance running at http://localhost:54321 . connected.\n"
     ]
    },
    {
     "data": {
      "text/html": [
       "<div style=\"overflow:auto\"><table style=\"width:50%\"><tr><td>H2O_cluster_uptime:</td>\n",
       "<td>3 hours 32 mins</td></tr>\n",
       "<tr><td>H2O_cluster_timezone:</td>\n",
       "<td>Europe/Berlin</td></tr>\n",
       "<tr><td>H2O_data_parsing_timezone:</td>\n",
       "<td>UTC</td></tr>\n",
       "<tr><td>H2O_cluster_version:</td>\n",
       "<td>3.36.0.1</td></tr>\n",
       "<tr><td>H2O_cluster_version_age:</td>\n",
       "<td>21 days, 3 hours and 48 minutes </td></tr>\n",
       "<tr><td>H2O_cluster_name:</td>\n",
       "<td>H2O_from_python_thomas_d49f2k</td></tr>\n",
       "<tr><td>H2O_cluster_total_nodes:</td>\n",
       "<td>1</td></tr>\n",
       "<tr><td>H2O_cluster_free_memory:</td>\n",
       "<td>1.599 Gb</td></tr>\n",
       "<tr><td>H2O_cluster_total_cores:</td>\n",
       "<td>4</td></tr>\n",
       "<tr><td>H2O_cluster_allowed_cores:</td>\n",
       "<td>4</td></tr>\n",
       "<tr><td>H2O_cluster_status:</td>\n",
       "<td>locked, healthy</td></tr>\n",
       "<tr><td>H2O_connection_url:</td>\n",
       "<td>http://localhost:54321</td></tr>\n",
       "<tr><td>H2O_connection_proxy:</td>\n",
       "<td>{\"http\": null, \"https\": null}</td></tr>\n",
       "<tr><td>H2O_internal_security:</td>\n",
       "<td>False</td></tr>\n",
       "<tr><td>H2O_API_Extensions:</td>\n",
       "<td>Amazon S3, XGBoost, Algos, Infogram, AutoML, Core V3, TargetEncoder, Core V4</td></tr>\n",
       "<tr><td>Python_version:</td>\n",
       "<td>3.8.8 final</td></tr></table></div>"
      ],
      "text/plain": [
       "--------------------------  ----------------------------------------------------------------------------\n",
       "H2O_cluster_uptime:         3 hours 32 mins\n",
       "H2O_cluster_timezone:       Europe/Berlin\n",
       "H2O_data_parsing_timezone:  UTC\n",
       "H2O_cluster_version:        3.36.0.1\n",
       "H2O_cluster_version_age:    21 days, 3 hours and 48 minutes\n",
       "H2O_cluster_name:           H2O_from_python_thomas_d49f2k\n",
       "H2O_cluster_total_nodes:    1\n",
       "H2O_cluster_free_memory:    1.599 Gb\n",
       "H2O_cluster_total_cores:    4\n",
       "H2O_cluster_allowed_cores:  4\n",
       "H2O_cluster_status:         locked, healthy\n",
       "H2O_connection_url:         http://localhost:54321\n",
       "H2O_connection_proxy:       {\"http\": null, \"https\": null}\n",
       "H2O_internal_security:      False\n",
       "H2O_API_Extensions:         Amazon S3, XGBoost, Algos, Infogram, AutoML, Core V3, TargetEncoder, Core V4\n",
       "Python_version:             3.8.8 final\n",
       "--------------------------  ----------------------------------------------------------------------------"
      ]
     },
     "metadata": {},
     "output_type": "display_data"
    }
   ],
   "source": [
    "h2o.init()"
   ]
  },
  {
   "cell_type": "code",
   "execution_count": 7,
   "metadata": {},
   "outputs": [
    {
     "data": {
      "text/html": [
       "<div>\n",
       "<style scoped>\n",
       "    .dataframe tbody tr th:only-of-type {\n",
       "        vertical-align: middle;\n",
       "    }\n",
       "\n",
       "    .dataframe tbody tr th {\n",
       "        vertical-align: top;\n",
       "    }\n",
       "\n",
       "    .dataframe thead th {\n",
       "        text-align: right;\n",
       "    }\n",
       "</style>\n",
       "<table border=\"1\" class=\"dataframe\">\n",
       "  <thead>\n",
       "    <tr style=\"text-align: right;\">\n",
       "      <th></th>\n",
       "      <th>key</th>\n",
       "    </tr>\n",
       "  </thead>\n",
       "  <tbody>\n",
       "    <tr>\n",
       "      <th>0</th>\n",
       "      <td>Key_Frame__test_subset.hex</td>\n",
       "    </tr>\n",
       "    <tr>\n",
       "      <th>1</th>\n",
       "      <td>Key_Frame__train_subset.hex</td>\n",
       "    </tr>\n",
       "    <tr>\n",
       "      <th>2</th>\n",
       "      <td>Key_Frame__validation_subset.hex</td>\n",
       "    </tr>\n",
       "    <tr>\n",
       "      <th>3</th>\n",
       "      <td>combined-prediction-363710cd-66d8-4128-b194-b3...</td>\n",
       "    </tr>\n",
       "    <tr>\n",
       "      <th>4</th>\n",
       "      <td>gbm-02bf2457-a731-415f-b898-49aaf7700c3e</td>\n",
       "    </tr>\n",
       "    <tr>\n",
       "      <th>5</th>\n",
       "      <td>modelmetrics_gbm-02bf2457-a731-415f-b898-49aaf...</td>\n",
       "    </tr>\n",
       "    <tr>\n",
       "      <th>6</th>\n",
       "      <td>modelmetrics_gbm-02bf2457-a731-415f-b898-49aaf...</td>\n",
       "    </tr>\n",
       "    <tr>\n",
       "      <th>7</th>\n",
       "      <td>modelmetrics_gbm-02bf2457-a731-415f-b898-49aaf...</td>\n",
       "    </tr>\n",
       "    <tr>\n",
       "      <th>8</th>\n",
       "      <td>prediction-363710cd-66d8-4128-b194-b30484bf588c</td>\n",
       "    </tr>\n",
       "  </tbody>\n",
       "</table>\n",
       "</div>"
      ],
      "text/plain": [
       "                                                 key\n",
       "0                         Key_Frame__test_subset.hex\n",
       "1                        Key_Frame__train_subset.hex\n",
       "2                   Key_Frame__validation_subset.hex\n",
       "3  combined-prediction-363710cd-66d8-4128-b194-b3...\n",
       "4           gbm-02bf2457-a731-415f-b898-49aaf7700c3e\n",
       "5  modelmetrics_gbm-02bf2457-a731-415f-b898-49aaf...\n",
       "6  modelmetrics_gbm-02bf2457-a731-415f-b898-49aaf...\n",
       "7  modelmetrics_gbm-02bf2457-a731-415f-b898-49aaf...\n",
       "8    prediction-363710cd-66d8-4128-b194-b30484bf588c"
      ]
     },
     "execution_count": 7,
     "metadata": {},
     "output_type": "execute_result"
    }
   ],
   "source": [
    "#h2o.remove_all()\n",
    "h2o.ls()"
   ]
  },
  {
   "cell_type": "code",
   "execution_count": 3,
   "metadata": {},
   "outputs": [
    {
     "name": "stdout",
     "output_type": "stream",
     "text": [
      "Parse progress: |████████████████████████████████████████████████████████████████| (done) 100%\n",
      "Parse progress: |████████████████████████████████████████████████████████████████| (done) 100%\n",
      "Parse progress: |████████████████████████████████████████████████████████████████| (done) 100%\n"
     ]
    }
   ],
   "source": [
    "random_state = 1\n",
    "input_features = ['County', 'State', 'Area', 'VicAge', 'VicSex', 'VicRace', 'VicEthnic', 'VicCount', 'Weapon', 'Subcircum', 'Agency', 'Agentype', 'Circumstance', 'Homicide']\n",
    "output_features = ['OffAge', 'OffSex', 'OffRace', 'OffEthnic', 'OffCount', 'Relationship']\n",
    "\n",
    "def load_subsets() -> List[pd.DataFrame]:\n",
    "    # loads the seperately saved train/test/validation subsets instead of loading, cleaning and sampling data from scraftch every time\n",
    "    # use of this function should be mutualy exclusive with method \"prepare_data\"\n",
    "    train_sample = h2o.import_file('train_subset.csv', destination_frame = 'train_sample')\n",
    "    test_sample = h2o.import_file('test_subset.csv', destination_frame = 'test_sample')\n",
    "    validation_sample = h2o.import_file('validation_subset.csv', destination_frame = 'validation_sample')\n",
    "\n",
    "    return train_sample, test_sample, validation_sample\n",
    "\n",
    "train_sample, test_sample, validation_sample = load_subsets()"
   ]
  },
  {
   "cell_type": "code",
   "execution_count": 9,
   "metadata": {},
   "outputs": [
    {
     "name": "stdout",
     "output_type": "stream",
     "text": [
      "                                                 key\n",
      "0                         Key_Frame__test_subset.hex\n",
      "1                        Key_Frame__train_subset.hex\n",
      "2                   Key_Frame__validation_subset.hex\n",
      "3  combined-prediction-363710cd-66d8-4128-b194-b3...\n",
      "4           gbm-02bf2457-a731-415f-b898-49aaf7700c3e\n",
      "5  modelmetrics_gbm-02bf2457-a731-415f-b898-49aaf...\n",
      "6  modelmetrics_gbm-02bf2457-a731-415f-b898-49aaf...\n",
      "7  modelmetrics_gbm-02bf2457-a731-415f-b898-49aaf...\n",
      "8    prediction-363710cd-66d8-4128-b194-b30484bf588c\n",
      "9                                      py_3_sid_86b5\n"
     ]
    },
    {
     "ename": "KeyError",
     "evalue": "3",
     "output_type": "error",
     "traceback": [
      "\u001b[0;31m---------------------------------------------------------------------------\u001b[0m",
      "\u001b[0;31mKeyError\u001b[0m                                  Traceback (most recent call last)",
      "\u001b[0;32m~/opt/anaconda3/lib/python3.8/site-packages/pandas/core/indexes/base.py\u001b[0m in \u001b[0;36mget_loc\u001b[0;34m(self, key, method, tolerance)\u001b[0m\n\u001b[1;32m   3079\u001b[0m             \u001b[0;32mtry\u001b[0m\u001b[0;34m:\u001b[0m\u001b[0;34m\u001b[0m\u001b[0;34m\u001b[0m\u001b[0m\n\u001b[0;32m-> 3080\u001b[0;31m                 \u001b[0;32mreturn\u001b[0m \u001b[0mself\u001b[0m\u001b[0;34m.\u001b[0m\u001b[0m_engine\u001b[0m\u001b[0;34m.\u001b[0m\u001b[0mget_loc\u001b[0m\u001b[0;34m(\u001b[0m\u001b[0mcasted_key\u001b[0m\u001b[0;34m)\u001b[0m\u001b[0;34m\u001b[0m\u001b[0;34m\u001b[0m\u001b[0m\n\u001b[0m\u001b[1;32m   3081\u001b[0m             \u001b[0;32mexcept\u001b[0m \u001b[0mKeyError\u001b[0m \u001b[0;32mas\u001b[0m \u001b[0merr\u001b[0m\u001b[0;34m:\u001b[0m\u001b[0;34m\u001b[0m\u001b[0;34m\u001b[0m\u001b[0m\n",
      "\u001b[0;32mpandas/_libs/index.pyx\u001b[0m in \u001b[0;36mpandas._libs.index.IndexEngine.get_loc\u001b[0;34m()\u001b[0m\n",
      "\u001b[0;32mpandas/_libs/index.pyx\u001b[0m in \u001b[0;36mpandas._libs.index.IndexEngine.get_loc\u001b[0;34m()\u001b[0m\n",
      "\u001b[0;32mpandas/_libs/hashtable_class_helper.pxi\u001b[0m in \u001b[0;36mpandas._libs.hashtable.PyObjectHashTable.get_item\u001b[0;34m()\u001b[0m\n",
      "\u001b[0;32mpandas/_libs/hashtable_class_helper.pxi\u001b[0m in \u001b[0;36mpandas._libs.hashtable.PyObjectHashTable.get_item\u001b[0;34m()\u001b[0m\n",
      "\u001b[0;31mKeyError\u001b[0m: 3",
      "\nThe above exception was the direct cause of the following exception:\n",
      "\u001b[0;31mKeyError\u001b[0m                                  Traceback (most recent call last)",
      "\u001b[0;32m<ipython-input-9-2669f825c6fc>\u001b[0m in \u001b[0;36m<module>\u001b[0;34m\u001b[0m\n\u001b[1;32m      1\u001b[0m \u001b[0mlist\u001b[0m \u001b[0;34m=\u001b[0m \u001b[0mh2o\u001b[0m\u001b[0;34m.\u001b[0m\u001b[0mls\u001b[0m\u001b[0;34m(\u001b[0m\u001b[0;34m)\u001b[0m\u001b[0;34m\u001b[0m\u001b[0;34m\u001b[0m\u001b[0m\n\u001b[1;32m      2\u001b[0m \u001b[0mprint\u001b[0m\u001b[0;34m(\u001b[0m\u001b[0mlist\u001b[0m\u001b[0;34m)\u001b[0m\u001b[0;34m\u001b[0m\u001b[0;34m\u001b[0m\u001b[0m\n\u001b[0;32m----> 3\u001b[0;31m \u001b[0mcombined\u001b[0m \u001b[0;34m=\u001b[0m \u001b[0mlist\u001b[0m\u001b[0;34m[\u001b[0m\u001b[0;36m3\u001b[0m\u001b[0;34m]\u001b[0m\u001b[0;34m\u001b[0m\u001b[0;34m\u001b[0m\u001b[0m\n\u001b[0m\u001b[1;32m      4\u001b[0m \u001b[0mcombined\u001b[0m\u001b[0;34m.\u001b[0m\u001b[0mhead\u001b[0m\u001b[0;34m(\u001b[0m\u001b[0;34m)\u001b[0m\u001b[0;34m\u001b[0m\u001b[0;34m\u001b[0m\u001b[0m\n",
      "\u001b[0;32m~/opt/anaconda3/lib/python3.8/site-packages/pandas/core/frame.py\u001b[0m in \u001b[0;36m__getitem__\u001b[0;34m(self, key)\u001b[0m\n\u001b[1;32m   3022\u001b[0m             \u001b[0;32mif\u001b[0m \u001b[0mself\u001b[0m\u001b[0;34m.\u001b[0m\u001b[0mcolumns\u001b[0m\u001b[0;34m.\u001b[0m\u001b[0mnlevels\u001b[0m \u001b[0;34m>\u001b[0m \u001b[0;36m1\u001b[0m\u001b[0;34m:\u001b[0m\u001b[0;34m\u001b[0m\u001b[0;34m\u001b[0m\u001b[0m\n\u001b[1;32m   3023\u001b[0m                 \u001b[0;32mreturn\u001b[0m \u001b[0mself\u001b[0m\u001b[0;34m.\u001b[0m\u001b[0m_getitem_multilevel\u001b[0m\u001b[0;34m(\u001b[0m\u001b[0mkey\u001b[0m\u001b[0;34m)\u001b[0m\u001b[0;34m\u001b[0m\u001b[0;34m\u001b[0m\u001b[0m\n\u001b[0;32m-> 3024\u001b[0;31m             \u001b[0mindexer\u001b[0m \u001b[0;34m=\u001b[0m \u001b[0mself\u001b[0m\u001b[0;34m.\u001b[0m\u001b[0mcolumns\u001b[0m\u001b[0;34m.\u001b[0m\u001b[0mget_loc\u001b[0m\u001b[0;34m(\u001b[0m\u001b[0mkey\u001b[0m\u001b[0;34m)\u001b[0m\u001b[0;34m\u001b[0m\u001b[0;34m\u001b[0m\u001b[0m\n\u001b[0m\u001b[1;32m   3025\u001b[0m             \u001b[0;32mif\u001b[0m \u001b[0mis_integer\u001b[0m\u001b[0;34m(\u001b[0m\u001b[0mindexer\u001b[0m\u001b[0;34m)\u001b[0m\u001b[0;34m:\u001b[0m\u001b[0;34m\u001b[0m\u001b[0;34m\u001b[0m\u001b[0m\n\u001b[1;32m   3026\u001b[0m                 \u001b[0mindexer\u001b[0m \u001b[0;34m=\u001b[0m \u001b[0;34m[\u001b[0m\u001b[0mindexer\u001b[0m\u001b[0;34m]\u001b[0m\u001b[0;34m\u001b[0m\u001b[0;34m\u001b[0m\u001b[0m\n",
      "\u001b[0;32m~/opt/anaconda3/lib/python3.8/site-packages/pandas/core/indexes/base.py\u001b[0m in \u001b[0;36mget_loc\u001b[0;34m(self, key, method, tolerance)\u001b[0m\n\u001b[1;32m   3080\u001b[0m                 \u001b[0;32mreturn\u001b[0m \u001b[0mself\u001b[0m\u001b[0;34m.\u001b[0m\u001b[0m_engine\u001b[0m\u001b[0;34m.\u001b[0m\u001b[0mget_loc\u001b[0m\u001b[0;34m(\u001b[0m\u001b[0mcasted_key\u001b[0m\u001b[0;34m)\u001b[0m\u001b[0;34m\u001b[0m\u001b[0;34m\u001b[0m\u001b[0m\n\u001b[1;32m   3081\u001b[0m             \u001b[0;32mexcept\u001b[0m \u001b[0mKeyError\u001b[0m \u001b[0;32mas\u001b[0m \u001b[0merr\u001b[0m\u001b[0;34m:\u001b[0m\u001b[0;34m\u001b[0m\u001b[0;34m\u001b[0m\u001b[0m\n\u001b[0;32m-> 3082\u001b[0;31m                 \u001b[0;32mraise\u001b[0m \u001b[0mKeyError\u001b[0m\u001b[0;34m(\u001b[0m\u001b[0mkey\u001b[0m\u001b[0;34m)\u001b[0m \u001b[0;32mfrom\u001b[0m \u001b[0merr\u001b[0m\u001b[0;34m\u001b[0m\u001b[0;34m\u001b[0m\u001b[0m\n\u001b[0m\u001b[1;32m   3083\u001b[0m \u001b[0;34m\u001b[0m\u001b[0m\n\u001b[1;32m   3084\u001b[0m         \u001b[0;32mif\u001b[0m \u001b[0mtolerance\u001b[0m \u001b[0;32mis\u001b[0m \u001b[0;32mnot\u001b[0m \u001b[0;32mNone\u001b[0m\u001b[0;34m:\u001b[0m\u001b[0;34m\u001b[0m\u001b[0;34m\u001b[0m\u001b[0m\n",
      "\u001b[0;31mKeyError\u001b[0m: 3"
     ]
    }
   ],
   "source": [
    "list = h2o.ls()\n",
    "print(list)\n",
    "combined = list[3]\n",
    "combined.head()"
   ]
  },
  {
   "cell_type": "code",
   "execution_count": 18,
   "metadata": {},
   "outputs": [
    {
     "name": "stdout",
     "output_type": "stream",
     "text": [
      "gbm Grid Build progress: |███████████████████████████████████████████████████████| (done) 100%\n",
      "      max_depth  min_rows  min_split_improvement                 model_ids  \\\n",
      "0           5.0       5.0                0.00100   one_tree_grid_1_model_1   \n",
      "1           5.0      20.0                0.00001  one_tree_grid_1_model_15   \n",
      "2           5.0      60.0                0.00001  one_tree_grid_1_model_27   \n",
      "3           5.0      50.0                0.00001  one_tree_grid_1_model_24   \n",
      "4           5.0      10.0                0.00001   one_tree_grid_1_model_4   \n",
      "5           5.0     100.0                0.00001  one_tree_grid_1_model_30   \n",
      "6           5.0      30.0                0.00001  one_tree_grid_1_model_18   \n",
      "7           5.0      40.0                0.00001  one_tree_grid_1_model_21   \n",
      "8           5.0       5.0                0.00001   one_tree_grid_1_model_9   \n",
      "9           7.0       5.0                0.00100   one_tree_grid_1_model_2   \n",
      "10          7.0     100.0                0.00001  one_tree_grid_1_model_31   \n",
      "11          7.0      60.0                0.00001  one_tree_grid_1_model_28   \n",
      "12          7.0      40.0                0.00001  one_tree_grid_1_model_22   \n",
      "13          7.0      50.0                0.00001  one_tree_grid_1_model_25   \n",
      "14          7.0      30.0                0.00001  one_tree_grid_1_model_19   \n",
      "15          7.0      20.0                0.00001  one_tree_grid_1_model_16   \n",
      "16          7.0      10.0                0.00001   one_tree_grid_1_model_5   \n",
      "17         10.0       5.0                0.00100   one_tree_grid_1_model_3   \n",
      "18          7.0       5.0                0.00001  one_tree_grid_1_model_10   \n",
      "19         10.0     100.0                0.00001  one_tree_grid_1_model_32   \n",
      "20         10.0      60.0                0.00001  one_tree_grid_1_model_29   \n",
      "21         10.0      50.0                0.00001  one_tree_grid_1_model_26   \n",
      "22         10.0      40.0                0.00001  one_tree_grid_1_model_23   \n",
      "23         10.0      30.0                0.00001  one_tree_grid_1_model_20   \n",
      "24         10.0      20.0                0.00001  one_tree_grid_1_model_17   \n",
      "25         10.0      10.0                0.00001   one_tree_grid_1_model_6   \n",
      "26         10.0       5.0                0.00001  one_tree_grid_1_model_11   \n",
      "27         12.0      10.0                0.00001   one_tree_grid_1_model_7   \n",
      "28         15.0      10.0                0.00001   one_tree_grid_1_model_8   \n",
      "\n",
      "     logloss  \n",
      "0   2.057877  \n",
      "1   2.059214  \n",
      "2   2.059406  \n",
      "3   2.059422  \n",
      "4   2.060036  \n",
      "5   2.060078  \n",
      "6   2.061369  \n",
      "7   2.061413  \n",
      "8   2.061633  \n",
      "9   2.075571  \n",
      "10  2.094248  \n",
      "11  2.097454  \n",
      "12  2.102315  \n",
      "13  2.102506  \n",
      "14  2.106007  \n",
      "15  2.106387  \n",
      "16  2.107207  \n",
      "17  2.108871  \n",
      "18  2.110500  \n",
      "19  2.154053  \n",
      "20  2.168580  \n",
      "21  2.182297  \n",
      "22  2.183631  \n",
      "23  2.196789  \n",
      "24  2.205572  \n",
      "25  2.216426  \n",
      "26  2.220160  \n",
      "27  2.328522  \n",
      "28  2.478647  \n"
     ]
    },
    {
     "data": {
      "text/plain": []
     },
     "execution_count": 18,
     "metadata": {},
     "output_type": "execute_result"
    }
   ],
   "source": [
    "hyper_parameters_1 = {'max_depth': [5, 7, 10], 'min_rows': [5, 10, 20, 30, 40, 50, 60, 100]}\n",
    "one_tree_grid1 = H2OGridSearch(model=H2OGradientBoostingEstimator, grid_id='one_tree_grid_1', hyper_params=hyper_parameters_1)\n",
    "one_tree_grid1.train(x=input_features, y='OffAge', training_frame=train_sample, validation_frame=validation_sample, seed=random_state)\n",
    "\n",
    "result_grid_1= one_tree_grid1.get_grid()\n",
    "result_grid_1\n",
    "\n",
    "# additional hyper-parameters: 'min_rows': [5, 10, 20, 30, 40, 50, 60, 100], 'min_split_improvement': [1e-3, 1e-5, 1e-7, 1e-10]"
   ]
  },
  {
   "cell_type": "code",
   "execution_count": 19,
   "metadata": {},
   "outputs": [
    {
     "data": {
      "text/html": [
       "<table>\n",
       "<thead>\n",
       "<tr><th style=\"text-align: right;\">  C1</th><th>Area                            </th><th>County      </th><th style=\"text-align: right;\">  FileMonth</th><th style=\"text-align: right;\">  FileDay</th><th style=\"text-align: right;\">  FileYear</th><th>State       </th><th>Agency                            </th><th>Agentype        </th><th>Source  </th><th>Solved  </th><th style=\"text-align: right;\">  Year</th><th>Month    </th><th>ActionType   </th><th>Homicide                             </th><th style=\"text-align: right;\">  VicAge</th><th>VicSex  </th><th>VicRace  </th><th>VicEthnic             </th><th>OffAge  </th><th>OffSex  </th><th>OffRace  </th><th>OffEthnic             </th><th>Weapon                              </th><th>Relationship           </th><th>Circumstance                        </th><th>Subcircum  </th><th style=\"text-align: right;\">  VicCount</th><th style=\"text-align: right;\">  OffCount</th></tr>\n",
       "</thead>\n",
       "<tbody>\n",
       "<tr><td style=\"text-align: right;\">   0</td><td>Atlanta-Sandy Springs-Marietta  </td><td>Fulton      </td><td style=\"text-align: right;\">          3</td><td style=\"text-align: right;\">       21</td><td style=\"text-align: right;\">        11</td><td>Georgia     </td><td>Sandy Spring                      </td><td>Municipal police</td><td>FBI     </td><td>Yes     </td><td style=\"text-align: right;\">  2010</td><td>September</td><td>Normal update</td><td>Murder and non-negligent manslaughter</td><td style=\"text-align: right;\">       2</td><td>Female  </td><td>Black    </td><td>Not of Hispanic origin</td><td>0-11    </td><td>Female  </td><td>Black    </td><td>Not of Hispanic origin</td><td>Unknown                             </td><td>Other - known to victim</td><td>Child killed by babysitter          </td><td>Unknown    </td><td style=\"text-align: right;\">         0</td><td style=\"text-align: right;\">         0</td></tr>\n",
       "<tr><td style=\"text-align: right;\">   1</td><td>Columbus                        </td><td>Franklin    </td><td style=\"text-align: right;\">          4</td><td style=\"text-align: right;\">        5</td><td style=\"text-align: right;\">        83</td><td>Ohio        </td><td>Columbus                          </td><td>Municipal police</td><td>FBI     </td><td>Yes     </td><td style=\"text-align: right;\">  1982</td><td>October  </td><td>Adjustment   </td><td>Murder and non-negligent manslaughter</td><td style=\"text-align: right;\">      14</td><td>Male    </td><td>Black    </td><td>Not of Hispanic origin</td><td>0-11    </td><td>Female  </td><td>Black    </td><td>Not of Hispanic origin</td><td>Knife or cutting instrument         </td><td>Stranger               </td><td>Other arguments                     </td><td>Unknown    </td><td style=\"text-align: right;\">         0</td><td style=\"text-align: right;\">         0</td></tr>\n",
       "<tr><td style=\"text-align: right;\">   2</td><td>Philadelphia-Camden-Wilmington  </td><td>Philadelphia</td><td style=\"text-align: right;\">          1</td><td style=\"text-align: right;\">       18</td><td style=\"text-align: right;\">        95</td><td>Pennsylvania</td><td>Philadelphia                      </td><td>Municipal police</td><td>FBI     </td><td>Yes     </td><td style=\"text-align: right;\">  1994</td><td>July     </td><td>Normal update</td><td>Murder and non-negligent manslaughter</td><td style=\"text-align: right;\">       0</td><td>Female  </td><td>Black    </td><td>Unknown               </td><td>0-11    </td><td>Female  </td><td>Black    </td><td>Unknown               </td><td>Personal weapons, includes beating  </td><td>Other family           </td><td>Other                               </td><td>Unknown    </td><td style=\"text-align: right;\">         0</td><td style=\"text-align: right;\">         0</td></tr>\n",
       "<tr><td style=\"text-align: right;\">   3</td><td>Minneapolis-St. Paul-Bloomington</td><td>Hennepin    </td><td style=\"text-align: right;\">          4</td><td style=\"text-align: right;\">        1</td><td style=\"text-align: right;\">        81</td><td>Minnesota   </td><td>Minneapolis                       </td><td>Municipal police</td><td>FBI     </td><td>Yes     </td><td style=\"text-align: right;\">  1980</td><td>November </td><td>Adjustment   </td><td>Murder and non-negligent manslaughter</td><td style=\"text-align: right;\">       0</td><td>Female  </td><td>Black    </td><td>Unknown               </td><td>0-11    </td><td>Female  </td><td>Black    </td><td>Unknown               </td><td>Unknown                             </td><td>Acquaintance           </td><td>Child killed by babysitter          </td><td>Unknown    </td><td style=\"text-align: right;\">         0</td><td style=\"text-align: right;\">         0</td></tr>\n",
       "<tr><td style=\"text-align: right;\">   4</td><td>Denver-Aurora                   </td><td>Denver      </td><td style=\"text-align: right;\">          7</td><td style=\"text-align: right;\">       13</td><td style=\"text-align: right;\">         1</td><td>Colorado    </td><td>Denver                            </td><td>Municipal police</td><td>FBI     </td><td>Yes     </td><td style=\"text-align: right;\">  2001</td><td>March    </td><td>Normal update</td><td>Manslaughter by negligence           </td><td style=\"text-align: right;\">      46</td><td>Male    </td><td>Black    </td><td>Unknown               </td><td>0-11    </td><td>Female  </td><td>Black    </td><td>Unknown               </td><td>Fire                                </td><td>Acquaintance           </td><td>All other manslaughter by negligence</td><td>Unknown    </td><td style=\"text-align: right;\">         0</td><td style=\"text-align: right;\">         0</td></tr>\n",
       "<tr><td style=\"text-align: right;\">   5</td><td>Rockford                        </td><td>Winnebago   </td><td style=\"text-align: right;\">          3</td><td style=\"text-align: right;\">       16</td><td style=\"text-align: right;\">        95</td><td>Illinois    </td><td>Rockford                          </td><td>Municipal police</td><td>FBI     </td><td>Yes     </td><td style=\"text-align: right;\">  1994</td><td>August   </td><td>Normal update</td><td>Murder and non-negligent manslaughter</td><td style=\"text-align: right;\">       0</td><td>Male    </td><td>Black    </td><td>Unknown               </td><td>0-11    </td><td>Female  </td><td>Black    </td><td>Unknown               </td><td>Blunt object - hammer, club, etc    </td><td>Other family           </td><td>Other                               </td><td>Unknown    </td><td style=\"text-align: right;\">         0</td><td style=\"text-align: right;\">         0</td></tr>\n",
       "<tr><td style=\"text-align: right;\">   6</td><td>New Orleans-Metairie-Kenner     </td><td>Orleans     </td><td style=\"text-align: right;\">          2</td><td style=\"text-align: right;\">       15</td><td style=\"text-align: right;\">        94</td><td>Louisiana   </td><td>New Orleans                       </td><td>Municipal police</td><td>FBI     </td><td>Yes     </td><td style=\"text-align: right;\">  1993</td><td>September</td><td>Normal update</td><td>Murder and non-negligent manslaughter</td><td style=\"text-align: right;\">       0</td><td>Male    </td><td>Black    </td><td>Unknown               </td><td>0-11    </td><td>Female  </td><td>Black    </td><td>Unknown               </td><td>Personal weapons, includes beating  </td><td>Other family           </td><td>Other                               </td><td>Unknown    </td><td style=\"text-align: right;\">         0</td><td style=\"text-align: right;\">         0</td></tr>\n",
       "<tr><td style=\"text-align: right;\">   7</td><td>Chicago-Naperville-Joliet       </td><td>Cook        </td><td style=\"text-align: right;\">          3</td><td style=\"text-align: right;\">        1</td><td style=\"text-align: right;\">        80</td><td>Illinois    </td><td>Chicago                           </td><td>Municipal police</td><td>FBI     </td><td>Yes     </td><td style=\"text-align: right;\">  1979</td><td>May      </td><td>Adjustment   </td><td>Manslaughter by negligence           </td><td style=\"text-align: right;\">       1</td><td>Male    </td><td>Black    </td><td>Unknown               </td><td>0-11    </td><td>Female  </td><td>Black    </td><td>Unknown               </td><td>Asphyxiation - includes death by gas</td><td>Neighbor               </td><td>All other manslaughter by negligence</td><td>Unknown    </td><td style=\"text-align: right;\">         0</td><td style=\"text-align: right;\">         0</td></tr>\n",
       "<tr><td style=\"text-align: right;\">   8</td><td>St. Louis                       </td><td>St. Louis   </td><td style=\"text-align: right;\">          6</td><td style=\"text-align: right;\">        5</td><td style=\"text-align: right;\">        86</td><td>Missouri    </td><td>St. Louis County Police Department</td><td>County police   </td><td>FBI     </td><td>Yes     </td><td style=\"text-align: right;\">  1986</td><td>March    </td><td>Normal update</td><td>Murder and non-negligent manslaughter</td><td style=\"text-align: right;\">      10</td><td>Male    </td><td>White    </td><td>Not of Hispanic origin</td><td>0-11    </td><td>Female  </td><td>White    </td><td>Not of Hispanic origin</td><td>Handgun - pistol, revolver, etc     </td><td>Acquaintance           </td><td>Other arguments                     </td><td>Unknown    </td><td style=\"text-align: right;\">         0</td><td style=\"text-align: right;\">         0</td></tr>\n",
       "<tr><td style=\"text-align: right;\">   9</td><td>Fort Wayne                      </td><td>Allen       </td><td style=\"text-align: right;\">          8</td><td style=\"text-align: right;\">       30</td><td style=\"text-align: right;\">         1</td><td>Indiana     </td><td>Fort Wayne                        </td><td>Municipal police</td><td>FBI     </td><td>Yes     </td><td style=\"text-align: right;\">  2001</td><td>February </td><td>Normal update</td><td>Manslaughter by negligence           </td><td style=\"text-align: right;\">       4</td><td>Male    </td><td>Black    </td><td>Unknown               </td><td>0-11    </td><td>Female  </td><td>White    </td><td>Unknown               </td><td>Firearm, type not stated            </td><td>Other family           </td><td>Children playing with gun           </td><td>Unknown    </td><td style=\"text-align: right;\">         0</td><td style=\"text-align: right;\">         0</td></tr>\n",
       "</tbody>\n",
       "</table>"
      ]
     },
     "metadata": {},
     "output_type": "display_data"
    },
    {
     "data": {
      "text/plain": []
     },
     "execution_count": 19,
     "metadata": {},
     "output_type": "execute_result"
    }
   ],
   "source": [
    "train_sample.head()"
   ]
  },
  {
   "cell_type": "markdown",
   "metadata": {},
   "source": [
    "## Building the multi-output Tree"
   ]
  },
  {
   "cell_type": "code",
   "execution_count": 18,
   "metadata": {},
   "outputs": [
    {
     "name": "stdout",
     "output_type": "stream",
     "text": [
      "gbm Model Build progress: |██████████████████████████████████████████████████████| (done) 100%\n",
      "gbm prediction progress: |███████████████████████████████████████████████████████| (done) 100%\n"
     ]
    },
    {
     "name": "stderr",
     "output_type": "stream",
     "text": [
      "/Users/thomas/opt/anaconda3/lib/python3.8/site-packages/h2o/job.py:83: UserWarning: Test/Validation dataset column 'County' has levels not trained on: [\"Ballard\", \"Banks\", \"Box Butte\", \"Chowan\", \"Cimarron\", \"Clear Creek\", \"Day\", \"Doniphan\", \"Elliott\", \"Ellsworth\", ...25 not listed..., \"Schley\", \"Stonewall\", \"Teton\", \"Towner\", \"Trempealeau\", \"Wallowa\", \"Walsh\", \"Warrick\", \"Washakie\", \"Yellow Medicine\"]\n",
      "  warnings.warn(w)\n",
      "/Users/thomas/opt/anaconda3/lib/python3.8/site-packages/h2o/job.py:83: UserWarning: Test/Validation dataset column 'Agency' has levels not trained on: [\"Acton\", \"Adairsville\", \"Alamo Community College District\", \"Alamosa\", \"Albia\", \"Allegany State Police\", \"Allegheny Township\", \"Antlers\", \"Asotin County\", \"Audubon\", ...562 not listed..., \"Windham Town\", \"Winfield Township\", \"Winston\", \"Winston-Salem State Univ\", \"Wood-Ridge\", \"Woodbridge\", \"Worland\", \"Yale University\", \"Yellow Medicine County\", \"Yorktown\"]\n",
      "  warnings.warn(w)\n"
     ]
    },
    {
     "data": {
      "text/html": [
       "<table>\n",
       "<thead>\n",
       "<tr><th>predict  </th><th style=\"text-align: right;\">     0-11</th><th style=\"text-align: right;\">    12-14</th><th style=\"text-align: right;\">    15-17</th><th style=\"text-align: right;\">    18-21</th><th style=\"text-align: right;\">    22-24</th><th style=\"text-align: right;\">    25-29</th><th style=\"text-align: right;\">    30-34</th><th style=\"text-align: right;\">    35-39</th><th style=\"text-align: right;\">    40-49</th><th style=\"text-align: right;\">    50-64</th><th style=\"text-align: right;\">      65+</th><th style=\"text-align: right;\">  Unknown</th></tr>\n",
       "</thead>\n",
       "<tbody>\n",
       "<tr><td>12-14    </td><td style=\"text-align: right;\">0.0671881</td><td style=\"text-align: right;\">0.223072 </td><td style=\"text-align: right;\">0.0697152</td><td style=\"text-align: right;\">0.0682007</td><td style=\"text-align: right;\">0.0737514</td><td style=\"text-align: right;\">0.073916 </td><td style=\"text-align: right;\">0.0772392</td><td style=\"text-align: right;\">0.068193 </td><td style=\"text-align: right;\">0.069548 </td><td style=\"text-align: right;\">0.0702253</td><td style=\"text-align: right;\">0.0674731</td><td style=\"text-align: right;\">0.0714778</td></tr>\n",
       "<tr><td>18-21    </td><td style=\"text-align: right;\">0.0754351</td><td style=\"text-align: right;\">0.0760381</td><td style=\"text-align: right;\">0.0786543</td><td style=\"text-align: right;\">0.116086 </td><td style=\"text-align: right;\">0.0885761</td><td style=\"text-align: right;\">0.0807495</td><td style=\"text-align: right;\">0.085567 </td><td style=\"text-align: right;\">0.0779921</td><td style=\"text-align: right;\">0.0760669</td><td style=\"text-align: right;\">0.0752653</td><td style=\"text-align: right;\">0.074748 </td><td style=\"text-align: right;\">0.0948214</td></tr>\n",
       "<tr><td>30-34    </td><td style=\"text-align: right;\">0.077261 </td><td style=\"text-align: right;\">0.0778837</td><td style=\"text-align: right;\">0.0752731</td><td style=\"text-align: right;\">0.0903915</td><td style=\"text-align: right;\">0.0814263</td><td style=\"text-align: right;\">0.0814712</td><td style=\"text-align: right;\">0.121755 </td><td style=\"text-align: right;\">0.0806971</td><td style=\"text-align: right;\">0.0800199</td><td style=\"text-align: right;\">0.0784923</td><td style=\"text-align: right;\">0.0764178</td><td style=\"text-align: right;\">0.0789113</td></tr>\n",
       "<tr><td>50-64    </td><td style=\"text-align: right;\">0.0738957</td><td style=\"text-align: right;\">0.0738886</td><td style=\"text-align: right;\">0.0747253</td><td style=\"text-align: right;\">0.0793601</td><td style=\"text-align: right;\">0.0771018</td><td style=\"text-align: right;\">0.0739626</td><td style=\"text-align: right;\">0.0820706</td><td style=\"text-align: right;\">0.0825838</td><td style=\"text-align: right;\">0.116158 </td><td style=\"text-align: right;\">0.118123 </td><td style=\"text-align: right;\">0.0739983</td><td style=\"text-align: right;\">0.0741321</td></tr>\n",
       "<tr><td>15-17    </td><td style=\"text-align: right;\">0.0752141</td><td style=\"text-align: right;\">0.0768369</td><td style=\"text-align: right;\">0.110545 </td><td style=\"text-align: right;\">0.0905319</td><td style=\"text-align: right;\">0.0912759</td><td style=\"text-align: right;\">0.0827457</td><td style=\"text-align: right;\">0.0791536</td><td style=\"text-align: right;\">0.086296 </td><td style=\"text-align: right;\">0.0803397</td><td style=\"text-align: right;\">0.0760559</td><td style=\"text-align: right;\">0.0755331</td><td style=\"text-align: right;\">0.0754719</td></tr>\n",
       "<tr><td>12-14    </td><td style=\"text-align: right;\">0.0683174</td><td style=\"text-align: right;\">0.226822 </td><td style=\"text-align: right;\">0.0684772</td><td style=\"text-align: right;\">0.069347 </td><td style=\"text-align: right;\">0.0770146</td><td style=\"text-align: right;\">0.0751584</td><td style=\"text-align: right;\">0.0694656</td><td style=\"text-align: right;\">0.0693393</td><td style=\"text-align: right;\">0.0698178</td><td style=\"text-align: right;\">0.069082 </td><td style=\"text-align: right;\">0.0686072</td><td style=\"text-align: right;\">0.0685516</td></tr>\n",
       "<tr><td>12-14    </td><td style=\"text-align: right;\">0.0665955</td><td style=\"text-align: right;\">0.221105 </td><td style=\"text-align: right;\">0.0794016</td><td style=\"text-align: right;\">0.0675992</td><td style=\"text-align: right;\">0.0750734</td><td style=\"text-align: right;\">0.0840258</td><td style=\"text-align: right;\">0.0677147</td><td style=\"text-align: right;\">0.0675916</td><td style=\"text-align: right;\">0.0689346</td><td style=\"text-align: right;\">0.0673408</td><td style=\"text-align: right;\">0.066878 </td><td style=\"text-align: right;\">0.0677399</td></tr>\n",
       "<tr><td>25-29    </td><td style=\"text-align: right;\">0.074995 </td><td style=\"text-align: right;\">0.0754099</td><td style=\"text-align: right;\">0.077575 </td><td style=\"text-align: right;\">0.0862205</td><td style=\"text-align: right;\">0.0902491</td><td style=\"text-align: right;\">0.108447 </td><td style=\"text-align: right;\">0.0938695</td><td style=\"text-align: right;\">0.0805686</td><td style=\"text-align: right;\">0.0800874</td><td style=\"text-align: right;\">0.0820474</td><td style=\"text-align: right;\">0.0752959</td><td style=\"text-align: right;\">0.0752349</td></tr>\n",
       "<tr><td>35-39    </td><td style=\"text-align: right;\">0.0744553</td><td style=\"text-align: right;\">0.0744553</td><td style=\"text-align: right;\">0.0772558</td><td style=\"text-align: right;\">0.0896186</td><td style=\"text-align: right;\">0.0896201</td><td style=\"text-align: right;\">0.0819109</td><td style=\"text-align: right;\">0.0994311</td><td style=\"text-align: right;\">0.101742 </td><td style=\"text-align: right;\">0.0795292</td><td style=\"text-align: right;\">0.0814755</td><td style=\"text-align: right;\">0.0747711</td><td style=\"text-align: right;\">0.0757348</td></tr>\n",
       "<tr><td>0-11     </td><td style=\"text-align: right;\">0.123784 </td><td style=\"text-align: right;\">0.105704 </td><td style=\"text-align: right;\">0.0998457</td><td style=\"text-align: right;\">0.0893325</td><td style=\"text-align: right;\">0.0765825</td><td style=\"text-align: right;\">0.0747368</td><td style=\"text-align: right;\">0.0714924</td><td style=\"text-align: right;\">0.0757049</td><td style=\"text-align: right;\">0.0694261</td><td style=\"text-align: right;\">0.0686945</td><td style=\"text-align: right;\">0.0682224</td><td style=\"text-align: right;\">0.0764736</td></tr>\n",
       "</tbody>\n",
       "</table>"
      ]
     },
     "metadata": {},
     "output_type": "display_data"
    },
    {
     "name": "stdout",
     "output_type": "stream",
     "text": [
      "\n"
     ]
    }
   ],
   "source": [
    "one_tree = H2OGradientBoostingEstimator(ntrees=1, max_depth=5, seed = random_state)\n",
    "one_tree.train(x = input_features, y = 'OffAge', training_frame = train_sample)\n",
    "# one_tree.model_performance(test_sample).accuracy()\n",
    "predictions = one_tree.predict(test_sample)\n",
    "print(predictions)"
   ]
  },
  {
   "cell_type": "code",
   "execution_count": 26,
   "metadata": {},
   "outputs": [
    {
     "data": {
      "text/html": [
       "<table>\n",
       "<thead>\n",
       "<tr><th>predict  </th><th style=\"text-align: right;\">     0-11</th><th style=\"text-align: right;\">    12-14</th><th style=\"text-align: right;\">    15-17</th><th style=\"text-align: right;\">    18-21</th><th style=\"text-align: right;\">    22-24</th><th style=\"text-align: right;\">    25-29</th><th style=\"text-align: right;\">    30-34</th><th style=\"text-align: right;\">    35-39</th><th style=\"text-align: right;\">    40-49</th><th style=\"text-align: right;\">    50-64</th><th style=\"text-align: right;\">      65+</th><th style=\"text-align: right;\">  Unknown</th></tr>\n",
       "</thead>\n",
       "<tbody>\n",
       "<tr><td>12-14    </td><td style=\"text-align: right;\">0.0671881</td><td style=\"text-align: right;\">0.223072 </td><td style=\"text-align: right;\">0.0697152</td><td style=\"text-align: right;\">0.0682007</td><td style=\"text-align: right;\">0.0737514</td><td style=\"text-align: right;\">0.073916 </td><td style=\"text-align: right;\">0.0772392</td><td style=\"text-align: right;\">0.068193 </td><td style=\"text-align: right;\">0.069548 </td><td style=\"text-align: right;\">0.0702253</td><td style=\"text-align: right;\">0.0674731</td><td style=\"text-align: right;\">0.0714778</td></tr>\n",
       "<tr><td>18-21    </td><td style=\"text-align: right;\">0.0754351</td><td style=\"text-align: right;\">0.0760381</td><td style=\"text-align: right;\">0.0786543</td><td style=\"text-align: right;\">0.116086 </td><td style=\"text-align: right;\">0.0885761</td><td style=\"text-align: right;\">0.0807495</td><td style=\"text-align: right;\">0.085567 </td><td style=\"text-align: right;\">0.0779921</td><td style=\"text-align: right;\">0.0760669</td><td style=\"text-align: right;\">0.0752653</td><td style=\"text-align: right;\">0.074748 </td><td style=\"text-align: right;\">0.0948214</td></tr>\n",
       "<tr><td>30-34    </td><td style=\"text-align: right;\">0.077261 </td><td style=\"text-align: right;\">0.0778837</td><td style=\"text-align: right;\">0.0752731</td><td style=\"text-align: right;\">0.0903915</td><td style=\"text-align: right;\">0.0814263</td><td style=\"text-align: right;\">0.0814712</td><td style=\"text-align: right;\">0.121755 </td><td style=\"text-align: right;\">0.0806971</td><td style=\"text-align: right;\">0.0800199</td><td style=\"text-align: right;\">0.0784923</td><td style=\"text-align: right;\">0.0764178</td><td style=\"text-align: right;\">0.0789113</td></tr>\n",
       "<tr><td>50-64    </td><td style=\"text-align: right;\">0.0738957</td><td style=\"text-align: right;\">0.0738886</td><td style=\"text-align: right;\">0.0747253</td><td style=\"text-align: right;\">0.0793601</td><td style=\"text-align: right;\">0.0771018</td><td style=\"text-align: right;\">0.0739626</td><td style=\"text-align: right;\">0.0820706</td><td style=\"text-align: right;\">0.0825838</td><td style=\"text-align: right;\">0.116158 </td><td style=\"text-align: right;\">0.118123 </td><td style=\"text-align: right;\">0.0739983</td><td style=\"text-align: right;\">0.0741321</td></tr>\n",
       "<tr><td>15-17    </td><td style=\"text-align: right;\">0.0752141</td><td style=\"text-align: right;\">0.0768369</td><td style=\"text-align: right;\">0.110545 </td><td style=\"text-align: right;\">0.0905319</td><td style=\"text-align: right;\">0.0912759</td><td style=\"text-align: right;\">0.0827457</td><td style=\"text-align: right;\">0.0791536</td><td style=\"text-align: right;\">0.086296 </td><td style=\"text-align: right;\">0.0803397</td><td style=\"text-align: right;\">0.0760559</td><td style=\"text-align: right;\">0.0755331</td><td style=\"text-align: right;\">0.0754719</td></tr>\n",
       "<tr><td>12-14    </td><td style=\"text-align: right;\">0.0683174</td><td style=\"text-align: right;\">0.226822 </td><td style=\"text-align: right;\">0.0684772</td><td style=\"text-align: right;\">0.069347 </td><td style=\"text-align: right;\">0.0770146</td><td style=\"text-align: right;\">0.0751584</td><td style=\"text-align: right;\">0.0694656</td><td style=\"text-align: right;\">0.0693393</td><td style=\"text-align: right;\">0.0698178</td><td style=\"text-align: right;\">0.069082 </td><td style=\"text-align: right;\">0.0686072</td><td style=\"text-align: right;\">0.0685516</td></tr>\n",
       "<tr><td>12-14    </td><td style=\"text-align: right;\">0.0665955</td><td style=\"text-align: right;\">0.221105 </td><td style=\"text-align: right;\">0.0794016</td><td style=\"text-align: right;\">0.0675992</td><td style=\"text-align: right;\">0.0750734</td><td style=\"text-align: right;\">0.0840258</td><td style=\"text-align: right;\">0.0677147</td><td style=\"text-align: right;\">0.0675916</td><td style=\"text-align: right;\">0.0689346</td><td style=\"text-align: right;\">0.0673408</td><td style=\"text-align: right;\">0.066878 </td><td style=\"text-align: right;\">0.0677399</td></tr>\n",
       "<tr><td>25-29    </td><td style=\"text-align: right;\">0.074995 </td><td style=\"text-align: right;\">0.0754099</td><td style=\"text-align: right;\">0.077575 </td><td style=\"text-align: right;\">0.0862205</td><td style=\"text-align: right;\">0.0902491</td><td style=\"text-align: right;\">0.108447 </td><td style=\"text-align: right;\">0.0938695</td><td style=\"text-align: right;\">0.0805686</td><td style=\"text-align: right;\">0.0800874</td><td style=\"text-align: right;\">0.0820474</td><td style=\"text-align: right;\">0.0752959</td><td style=\"text-align: right;\">0.0752349</td></tr>\n",
       "<tr><td>35-39    </td><td style=\"text-align: right;\">0.0744553</td><td style=\"text-align: right;\">0.0744553</td><td style=\"text-align: right;\">0.0772558</td><td style=\"text-align: right;\">0.0896186</td><td style=\"text-align: right;\">0.0896201</td><td style=\"text-align: right;\">0.0819109</td><td style=\"text-align: right;\">0.0994311</td><td style=\"text-align: right;\">0.101742 </td><td style=\"text-align: right;\">0.0795292</td><td style=\"text-align: right;\">0.0814755</td><td style=\"text-align: right;\">0.0747711</td><td style=\"text-align: right;\">0.0757348</td></tr>\n",
       "<tr><td>0-11     </td><td style=\"text-align: right;\">0.123784 </td><td style=\"text-align: right;\">0.105704 </td><td style=\"text-align: right;\">0.0998457</td><td style=\"text-align: right;\">0.0893325</td><td style=\"text-align: right;\">0.0765825</td><td style=\"text-align: right;\">0.0747368</td><td style=\"text-align: right;\">0.0714924</td><td style=\"text-align: right;\">0.0757049</td><td style=\"text-align: right;\">0.0694261</td><td style=\"text-align: right;\">0.0686945</td><td style=\"text-align: right;\">0.0682224</td><td style=\"text-align: right;\">0.0764736</td></tr>\n",
       "</tbody>\n",
       "</table>"
      ]
     },
     "metadata": {},
     "output_type": "display_data"
    },
    {
     "data": {
      "text/plain": []
     },
     "execution_count": 26,
     "metadata": {},
     "output_type": "execute_result"
    }
   ],
   "source": [
    "#feature_interactions = one_tree.feature_interaction()\n",
    "#print(feature_interactions)\n",
    "\n",
    "predictions2 = h2o.predict"
   ]
  }
 ],
 "metadata": {
  "interpreter": {
   "hash": "d06a35f6432bcea124c520d36814be75a6dd5ed4335e0c829924d510b7f0b7dd"
  },
  "kernelspec": {
   "display_name": "Python 3.8.8 64-bit ('base': conda)",
   "language": "python",
   "name": "python3"
  },
  "language_info": {
   "codemirror_mode": {
    "name": "ipython",
    "version": 3
   },
   "file_extension": ".py",
   "mimetype": "text/x-python",
   "name": "python",
   "nbconvert_exporter": "python",
   "pygments_lexer": "ipython3",
   "version": "3.8.8"
  },
  "orig_nbformat": 4
 },
 "nbformat": 4,
 "nbformat_minor": 2
}
