{
 "cells": [
  {
   "cell_type": "code",
   "execution_count": 2,
   "metadata": {},
   "outputs": [],
   "source": [
    "import numpy as np\n",
    "import pandas as pd\n",
    "import zipfile\n",
    "from tabulate import tabulate\n",
    "from typing import Optional\n",
    "from functions_dependency_test import heatmap_chi, heatmap_mutual_info\n",
    "from Data_transformations import feature_cleaning, values_cleaning\n",
    "from preprocess import clean_dataframe"
   ]
  },
  {
   "cell_type": "code",
   "execution_count": 3,
   "metadata": {},
   "outputs": [
    {
     "name": "stderr",
     "output_type": "stream",
     "text": [
      "/Users/thomas/opt/anaconda3/lib/python3.8/site-packages/IPython/core/interactiveshell.py:3165: DtypeWarning: Columns (9) have mixed types.Specify dtype option on import or set low_memory=False.\n",
      "  has_raised = await self.run_ast_nodes(code_ast.body, cell_name,\n"
     ]
    }
   ],
   "source": [
    "raw_data = pd.read_csv('Murder_Data.zip', index_col=0, compression='zip')\n",
    "\n",
    "df = clean_dataframe(raw_data)\n",
    "df = df.drop(['Solved'], axis=1)"
   ]
  },
  {
   "cell_type": "code",
   "execution_count": 6,
   "metadata": {},
   "outputs": [
    {
     "data": {
      "application/vnd.plotly.v1+json": {
       "config": {
        "plotlyServerURL": "https://plot.ly"
       },
       "data": [
        {
         "colorscale": [
          [
           0,
           "#0d0887"
          ],
          [
           0.1111111111111111,
           "#46039f"
          ],
          [
           0.2222222222222222,
           "#7201a8"
          ],
          [
           0.3333333333333333,
           "#9c179e"
          ],
          [
           0.4444444444444444,
           "#bd3786"
          ],
          [
           0.5555555555555556,
           "#d8576b"
          ],
          [
           0.6666666666666666,
           "#ed7953"
          ],
          [
           0.7777777777777778,
           "#fb9f3a"
          ],
          [
           0.8888888888888888,
           "#fdca26"
          ],
          [
           1,
           "#f0f921"
          ]
         ],
         "reversescale": false,
         "showscale": false,
         "type": "heatmap",
         "x": [
          "Area",
          "County",
          "FileMonth",
          "FileDay",
          "FileYear",
          "State",
          "Agency",
          "Agentype",
          "Source",
          "Year",
          "Month",
          "ActionType",
          "Homicide",
          "VicAge",
          "VicSex",
          "VicRace",
          "VicEthnic",
          "OffAge",
          "OffSex",
          "OffRace",
          "OffEthnic",
          "Weapon",
          "Relationship",
          "Circumstance",
          "Subcircum",
          "VicCount",
          "OffCount"
         ],
         "y": [
          "Area",
          "County",
          "FileMonth",
          "FileDay",
          "FileYear",
          "State",
          "Agency",
          "Agentype",
          "Source",
          "Year",
          "Month",
          "ActionType",
          "Homicide",
          "VicAge",
          "VicSex",
          "VicRace",
          "VicEthnic",
          "OffAge",
          "OffSex",
          "OffRace",
          "OffEthnic",
          "Weapon",
          "Relationship",
          "Circumstance",
          "Subcircum",
          "VicCount",
          "OffCount"
         ],
         "z": [
          [
           0,
           0,
           0,
           0,
           0,
           0,
           0,
           0,
           0,
           0,
           8.472913767991094e-109,
           0,
           0,
           0,
           0,
           0,
           0,
           0,
           0,
           0,
           0,
           0,
           0,
           0,
           0,
           0,
           0
          ],
          [
           0,
           0,
           0,
           0,
           0,
           0,
           0,
           0,
           0,
           0,
           8.958684823268496e-154,
           0,
           0,
           0,
           0,
           0,
           0,
           0,
           2.766505950513105e-306,
           0,
           0,
           0,
           0,
           0,
           0,
           0,
           0
          ],
          [
           0,
           0,
           0,
           0,
           0,
           0,
           0,
           0,
           0,
           0,
           0,
           0,
           2.034730431003453e-206,
           1.997616673914254e-104,
           6.332001964071868e-12,
           8.731348401347551e-227,
           0,
           0,
           1.4153921984289381e-87,
           2.444791179934841e-239,
           0,
           0,
           0,
           0,
           1.806143735236692e-130,
           0,
           0
          ],
          [
           0,
           0,
           0,
           0,
           0,
           0,
           0,
           0,
           0,
           0,
           0,
           0,
           0,
           6.956232126500166e-128,
           2.266603071362801e-14,
           0,
           0,
           0,
           1.3312961803976373e-122,
           0,
           0,
           0,
           0,
           0,
           8.994284631567585e-169,
           0,
           0
          ],
          [
           0,
           0,
           0,
           0,
           0,
           0,
           0,
           0,
           0,
           0,
           0,
           0,
           0,
           0,
           6.727751047069252e-92,
           0,
           0,
           0,
           0,
           0,
           0,
           0,
           0,
           0,
           0,
           0,
           0
          ],
          [
           0,
           0,
           0,
           0,
           0,
           0,
           0,
           0,
           0,
           0,
           3.447668897857635e-135,
           0,
           0,
           0,
           0,
           0,
           0,
           0,
           0,
           0,
           0,
           0,
           0,
           0,
           0,
           0,
           0
          ],
          [
           0,
           0,
           0,
           0,
           0,
           0,
           0,
           0,
           0,
           0,
           0,
           0,
           0,
           0,
           0,
           0,
           0,
           0,
           9.44414137387966e-287,
           0,
           0,
           0,
           0,
           0,
           4.3744819811832425e-236,
           0,
           1
          ],
          [
           0,
           0,
           0,
           0,
           0,
           0,
           0,
           0,
           0,
           0,
           4.577647140183869e-13,
           4.0559544420578534e-220,
           0,
           0,
           0,
           0,
           0,
           0,
           6.144716078332264e-44,
           0,
           0,
           0,
           0,
           0,
           2.2043124591724307e-122,
           0,
           1.2623453323420834e-134
          ],
          [
           0,
           0,
           0,
           0,
           0,
           0,
           0,
           0,
           0,
           0,
           1.37284351221535e-9,
           0,
           1.4570711100154378e-207,
           7.415026262825266e-257,
           2.0926754431811504e-27,
           6.473199207328692e-63,
           0,
           0,
           3.630280402730011e-26,
           9.923116711654146e-65,
           0,
           0,
           0,
           0,
           8.38291195129202e-134,
           6.6333921833902355e-9,
           1.601925765254376e-96
          ],
          [
           0,
           0,
           0,
           0,
           0,
           0,
           0,
           0,
           0,
           0,
           3.367697839593008e-122,
           0,
           0,
           0,
           1.0085029034406192e-93,
           0,
           0,
           0,
           0,
           0,
           0,
           0,
           0,
           0,
           0,
           0,
           0
          ],
          [
           8.472913767991094e-109,
           8.958684823268496e-154,
           0,
           0,
           0,
           3.447668897857635e-135,
           0,
           4.577647140183869e-13,
           1.37284351221535e-9,
           3.367697839593008e-122,
           0,
           7.8257768382138e-60,
           0.000004962338221450552,
           1.6288295161180505e-9,
           4.358955699721546e-19,
           7.429843835758015e-7,
           2.264278930292604e-17,
           3.8671974740393045e-15,
           0.0005661373319597906,
           1.8292683710026146e-7,
           2.7935493140411354e-16,
           6.268171003060679e-179,
           7.459217728769917e-61,
           1.0840766626826081e-235,
           1.2454996140848314e-13,
           0,
           4.4805946581345505e-11
          ],
          [
           0,
           0,
           0,
           0,
           0,
           0,
           0,
           4.0559544420578534e-220,
           0,
           0,
           7.8257768382138e-60,
           0,
           0.00039307080738912293,
           5.838856106340582e-78,
           4.5466714216148424e-20,
           3.205737321412406e-222,
           0,
           5.88418687151663e-103,
           5.449003177355167e-50,
           1.1025861471073835e-250,
           0,
           5.22598035097863e-227,
           0,
           0,
           0,
           0,
           1.0656669247273571e-190
          ],
          [
           0,
           0,
           2.034730431003453e-206,
           0,
           0,
           0,
           0,
           0,
           1.4570711100154378e-207,
           0,
           0.000004962338221450552,
           0.00039307080738912293,
           0,
           0,
           1.6371592055980376e-8,
           0,
           7.27842738027615e-47,
           0,
           5.847831049554095e-125,
           0,
           3.523697529247015e-21,
           0,
           0,
           0,
           1.01682834962078e-174,
           5.815618401775434e-52,
           2.4147382282585034e-111
          ],
          [
           0,
           0,
           1.997616673914254e-104,
           6.956232126500166e-128,
           0,
           0,
           0,
           0,
           7.415026262825266e-257,
           0,
           1.6288295161180505e-9,
           5.838856106340582e-78,
           0,
           0,
           0,
           0,
           0,
           0,
           0,
           0,
           0,
           0,
           0,
           0,
           0,
           0,
           0
          ],
          [
           0,
           0,
           6.332001964071868e-12,
           2.266603071362801e-14,
           6.727751047069252e-92,
           0,
           0,
           0,
           2.0926754431811504e-27,
           1.0085029034406192e-93,
           4.358955699721546e-19,
           4.5466714216148424e-20,
           1.6371592055980376e-8,
           0,
           0,
           0,
           0,
           0,
           1.151255006407026e-61,
           0,
           7.193396172654005e-275,
           0,
           0,
           0,
           0,
           0,
           0
          ],
          [
           0,
           0,
           8.731348401347551e-227,
           0,
           0,
           0,
           0,
           0,
           6.473199207328692e-63,
           0,
           7.429843835758015e-7,
           3.205737321412406e-222,
           0,
           0,
           0,
           0,
           0,
           0,
           1.4750142552793532e-257,
           0,
           0,
           0,
           0,
           0,
           1.5238388392838448e-278,
           0,
           3.621400526099759e-32
          ],
          [
           0,
           0,
           0,
           0,
           0,
           0,
           0,
           0,
           0,
           0,
           2.264278930292604e-17,
           0,
           7.27842738027615e-47,
           0,
           0,
           0,
           0,
           0,
           0,
           0,
           0,
           0,
           0,
           0,
           0,
           3.987163663774149e-96,
           0
          ],
          [
           0,
           0,
           0,
           0,
           0,
           0,
           0,
           0,
           0,
           0,
           3.8671974740393045e-15,
           5.88418687151663e-103,
           0,
           0,
           0,
           0,
           0,
           0,
           0,
           0,
           0,
           0,
           0,
           0,
           0,
           0,
           0
          ],
          [
           0,
           2.766505950513105e-306,
           1.4153921984289381e-87,
           1.3312961803976373e-122,
           0,
           0,
           9.44414137387966e-287,
           6.144716078332264e-44,
           3.630280402730011e-26,
           0,
           0.0005661373319597906,
           5.449003177355167e-50,
           5.847831049554095e-125,
           0,
           1.151255006407026e-61,
           1.4750142552793532e-257,
           0,
           0,
           0,
           1.0602130678967244e-77,
           0,
           0,
           0,
           0,
           1.4714441946699728e-233,
           2.6447184793322963e-246,
           6.506278040984475e-288
          ],
          [
           0,
           0,
           2.444791179934841e-239,
           0,
           0,
           0,
           0,
           0,
           9.923116711654146e-65,
           0,
           1.8292683710026146e-7,
           1.1025861471073835e-250,
           0,
           0,
           0,
           0,
           0,
           0,
           1.0602130678967244e-77,
           0,
           0,
           0,
           0,
           0,
           0,
           0,
           4.774276462394932e-178
          ],
          [
           0,
           0,
           0,
           0,
           0,
           0,
           0,
           0,
           0,
           0,
           2.7935493140411354e-16,
           0,
           3.523697529247015e-21,
           0,
           7.193396172654005e-275,
           0,
           0,
           0,
           0,
           0,
           0,
           0,
           0,
           0,
           0,
           2.9665074682720015e-84,
           0
          ],
          [
           0,
           0,
           0,
           0,
           0,
           0,
           0,
           0,
           0,
           0,
           6.268171003060679e-179,
           5.22598035097863e-227,
           0,
           0,
           0,
           0,
           0,
           0,
           0,
           0,
           0,
           0,
           0,
           0,
           0,
           0,
           0
          ],
          [
           0,
           0,
           0,
           0,
           0,
           0,
           0,
           0,
           0,
           0,
           7.459217728769917e-61,
           0,
           0,
           0,
           0,
           0,
           0,
           0,
           0,
           0,
           0,
           0,
           0,
           0,
           0,
           0,
           0
          ],
          [
           0,
           0,
           0,
           0,
           0,
           0,
           0,
           0,
           0,
           0,
           1.0840766626826081e-235,
           0,
           0,
           0,
           0,
           0,
           0,
           0,
           0,
           0,
           0,
           0,
           0,
           0,
           0,
           0,
           0
          ],
          [
           0,
           0,
           1.806143735236692e-130,
           8.994284631567585e-169,
           0,
           0,
           4.3744819811832425e-236,
           2.2043124591724307e-122,
           8.38291195129202e-134,
           0,
           1.2454996140848314e-13,
           0,
           1.01682834962078e-174,
           0,
           0,
           1.5238388392838448e-278,
           0,
           0,
           1.4714441946699728e-233,
           0,
           0,
           0,
           0,
           0,
           0,
           1.2627102383484391e-251,
           0
          ],
          [
           0,
           0,
           0,
           0,
           0,
           0,
           0,
           0,
           6.6333921833902355e-9,
           0,
           0,
           0,
           5.815618401775434e-52,
           0,
           0,
           0,
           3.987163663774149e-96,
           0,
           2.6447184793322963e-246,
           0,
           2.9665074682720015e-84,
           0,
           0,
           0,
           1.2627102383484391e-251,
           0,
           0
          ],
          [
           0,
           0,
           0,
           0,
           0,
           0,
           1,
           1.2623453323420834e-134,
           1.601925765254376e-96,
           0,
           4.4805946581345505e-11,
           1.0656669247273571e-190,
           2.4147382282585034e-111,
           0,
           0,
           3.621400526099759e-32,
           0,
           0,
           6.506278040984475e-288,
           4.774276462394932e-178,
           0,
           0,
           0,
           0,
           0,
           0,
           0
          ]
         ]
        }
       ],
       "layout": {
        "annotations": [
         {
          "font": {
           "color": "#FFFFFF"
          },
          "showarrow": false,
          "text": "0.0",
          "x": "Area",
          "xref": "x",
          "y": "Area",
          "yref": "y"
         },
         {
          "font": {
           "color": "#FFFFFF"
          },
          "showarrow": false,
          "text": "0.0",
          "x": "County",
          "xref": "x",
          "y": "Area",
          "yref": "y"
         },
         {
          "font": {
           "color": "#FFFFFF"
          },
          "showarrow": false,
          "text": "0.0",
          "x": "FileMonth",
          "xref": "x",
          "y": "Area",
          "yref": "y"
         },
         {
          "font": {
           "color": "#FFFFFF"
          },
          "showarrow": false,
          "text": "0.0",
          "x": "FileDay",
          "xref": "x",
          "y": "Area",
          "yref": "y"
         },
         {
          "font": {
           "color": "#FFFFFF"
          },
          "showarrow": false,
          "text": "0.0",
          "x": "FileYear",
          "xref": "x",
          "y": "Area",
          "yref": "y"
         },
         {
          "font": {
           "color": "#FFFFFF"
          },
          "showarrow": false,
          "text": "0.0",
          "x": "State",
          "xref": "x",
          "y": "Area",
          "yref": "y"
         },
         {
          "font": {
           "color": "#FFFFFF"
          },
          "showarrow": false,
          "text": "0.0",
          "x": "Agency",
          "xref": "x",
          "y": "Area",
          "yref": "y"
         },
         {
          "font": {
           "color": "#FFFFFF"
          },
          "showarrow": false,
          "text": "0.0",
          "x": "Agentype",
          "xref": "x",
          "y": "Area",
          "yref": "y"
         },
         {
          "font": {
           "color": "#FFFFFF"
          },
          "showarrow": false,
          "text": "0.0",
          "x": "Source",
          "xref": "x",
          "y": "Area",
          "yref": "y"
         },
         {
          "font": {
           "color": "#FFFFFF"
          },
          "showarrow": false,
          "text": "0.0",
          "x": "Year",
          "xref": "x",
          "y": "Area",
          "yref": "y"
         },
         {
          "font": {
           "color": "#FFFFFF"
          },
          "showarrow": false,
          "text": "0.0",
          "x": "Month",
          "xref": "x",
          "y": "Area",
          "yref": "y"
         },
         {
          "font": {
           "color": "#FFFFFF"
          },
          "showarrow": false,
          "text": "0.0",
          "x": "ActionType",
          "xref": "x",
          "y": "Area",
          "yref": "y"
         },
         {
          "font": {
           "color": "#FFFFFF"
          },
          "showarrow": false,
          "text": "0.0",
          "x": "Homicide",
          "xref": "x",
          "y": "Area",
          "yref": "y"
         },
         {
          "font": {
           "color": "#FFFFFF"
          },
          "showarrow": false,
          "text": "0.0",
          "x": "VicAge",
          "xref": "x",
          "y": "Area",
          "yref": "y"
         },
         {
          "font": {
           "color": "#FFFFFF"
          },
          "showarrow": false,
          "text": "0.0",
          "x": "VicSex",
          "xref": "x",
          "y": "Area",
          "yref": "y"
         },
         {
          "font": {
           "color": "#FFFFFF"
          },
          "showarrow": false,
          "text": "0.0",
          "x": "VicRace",
          "xref": "x",
          "y": "Area",
          "yref": "y"
         },
         {
          "font": {
           "color": "#FFFFFF"
          },
          "showarrow": false,
          "text": "0.0",
          "x": "VicEthnic",
          "xref": "x",
          "y": "Area",
          "yref": "y"
         },
         {
          "font": {
           "color": "#FFFFFF"
          },
          "showarrow": false,
          "text": "0.0",
          "x": "OffAge",
          "xref": "x",
          "y": "Area",
          "yref": "y"
         },
         {
          "font": {
           "color": "#FFFFFF"
          },
          "showarrow": false,
          "text": "0.0",
          "x": "OffSex",
          "xref": "x",
          "y": "Area",
          "yref": "y"
         },
         {
          "font": {
           "color": "#FFFFFF"
          },
          "showarrow": false,
          "text": "0.0",
          "x": "OffRace",
          "xref": "x",
          "y": "Area",
          "yref": "y"
         },
         {
          "font": {
           "color": "#FFFFFF"
          },
          "showarrow": false,
          "text": "0.0",
          "x": "OffEthnic",
          "xref": "x",
          "y": "Area",
          "yref": "y"
         },
         {
          "font": {
           "color": "#FFFFFF"
          },
          "showarrow": false,
          "text": "0.0",
          "x": "Weapon",
          "xref": "x",
          "y": "Area",
          "yref": "y"
         },
         {
          "font": {
           "color": "#FFFFFF"
          },
          "showarrow": false,
          "text": "0.0",
          "x": "Relationship",
          "xref": "x",
          "y": "Area",
          "yref": "y"
         },
         {
          "font": {
           "color": "#FFFFFF"
          },
          "showarrow": false,
          "text": "0.0",
          "x": "Circumstance",
          "xref": "x",
          "y": "Area",
          "yref": "y"
         },
         {
          "font": {
           "color": "#FFFFFF"
          },
          "showarrow": false,
          "text": "0.0",
          "x": "Subcircum",
          "xref": "x",
          "y": "Area",
          "yref": "y"
         },
         {
          "font": {
           "color": "#FFFFFF"
          },
          "showarrow": false,
          "text": "0.0",
          "x": "VicCount",
          "xref": "x",
          "y": "Area",
          "yref": "y"
         },
         {
          "font": {
           "color": "#FFFFFF"
          },
          "showarrow": false,
          "text": "0.0",
          "x": "OffCount",
          "xref": "x",
          "y": "Area",
          "yref": "y"
         },
         {
          "font": {
           "color": "#FFFFFF"
          },
          "showarrow": false,
          "text": "0.0",
          "x": "Area",
          "xref": "x",
          "y": "County",
          "yref": "y"
         },
         {
          "font": {
           "color": "#FFFFFF"
          },
          "showarrow": false,
          "text": "0.0",
          "x": "County",
          "xref": "x",
          "y": "County",
          "yref": "y"
         },
         {
          "font": {
           "color": "#FFFFFF"
          },
          "showarrow": false,
          "text": "0.0",
          "x": "FileMonth",
          "xref": "x",
          "y": "County",
          "yref": "y"
         },
         {
          "font": {
           "color": "#FFFFFF"
          },
          "showarrow": false,
          "text": "0.0",
          "x": "FileDay",
          "xref": "x",
          "y": "County",
          "yref": "y"
         },
         {
          "font": {
           "color": "#FFFFFF"
          },
          "showarrow": false,
          "text": "0.0",
          "x": "FileYear",
          "xref": "x",
          "y": "County",
          "yref": "y"
         },
         {
          "font": {
           "color": "#FFFFFF"
          },
          "showarrow": false,
          "text": "0.0",
          "x": "State",
          "xref": "x",
          "y": "County",
          "yref": "y"
         },
         {
          "font": {
           "color": "#FFFFFF"
          },
          "showarrow": false,
          "text": "0.0",
          "x": "Agency",
          "xref": "x",
          "y": "County",
          "yref": "y"
         },
         {
          "font": {
           "color": "#FFFFFF"
          },
          "showarrow": false,
          "text": "0.0",
          "x": "Agentype",
          "xref": "x",
          "y": "County",
          "yref": "y"
         },
         {
          "font": {
           "color": "#FFFFFF"
          },
          "showarrow": false,
          "text": "0.0",
          "x": "Source",
          "xref": "x",
          "y": "County",
          "yref": "y"
         },
         {
          "font": {
           "color": "#FFFFFF"
          },
          "showarrow": false,
          "text": "0.0",
          "x": "Year",
          "xref": "x",
          "y": "County",
          "yref": "y"
         },
         {
          "font": {
           "color": "#FFFFFF"
          },
          "showarrow": false,
          "text": "0.0",
          "x": "Month",
          "xref": "x",
          "y": "County",
          "yref": "y"
         },
         {
          "font": {
           "color": "#FFFFFF"
          },
          "showarrow": false,
          "text": "0.0",
          "x": "ActionType",
          "xref": "x",
          "y": "County",
          "yref": "y"
         },
         {
          "font": {
           "color": "#FFFFFF"
          },
          "showarrow": false,
          "text": "0.0",
          "x": "Homicide",
          "xref": "x",
          "y": "County",
          "yref": "y"
         },
         {
          "font": {
           "color": "#FFFFFF"
          },
          "showarrow": false,
          "text": "0.0",
          "x": "VicAge",
          "xref": "x",
          "y": "County",
          "yref": "y"
         },
         {
          "font": {
           "color": "#FFFFFF"
          },
          "showarrow": false,
          "text": "0.0",
          "x": "VicSex",
          "xref": "x",
          "y": "County",
          "yref": "y"
         },
         {
          "font": {
           "color": "#FFFFFF"
          },
          "showarrow": false,
          "text": "0.0",
          "x": "VicRace",
          "xref": "x",
          "y": "County",
          "yref": "y"
         },
         {
          "font": {
           "color": "#FFFFFF"
          },
          "showarrow": false,
          "text": "0.0",
          "x": "VicEthnic",
          "xref": "x",
          "y": "County",
          "yref": "y"
         },
         {
          "font": {
           "color": "#FFFFFF"
          },
          "showarrow": false,
          "text": "0.0",
          "x": "OffAge",
          "xref": "x",
          "y": "County",
          "yref": "y"
         },
         {
          "font": {
           "color": "#FFFFFF"
          },
          "showarrow": false,
          "text": "0.0",
          "x": "OffSex",
          "xref": "x",
          "y": "County",
          "yref": "y"
         },
         {
          "font": {
           "color": "#FFFFFF"
          },
          "showarrow": false,
          "text": "0.0",
          "x": "OffRace",
          "xref": "x",
          "y": "County",
          "yref": "y"
         },
         {
          "font": {
           "color": "#FFFFFF"
          },
          "showarrow": false,
          "text": "0.0",
          "x": "OffEthnic",
          "xref": "x",
          "y": "County",
          "yref": "y"
         },
         {
          "font": {
           "color": "#FFFFFF"
          },
          "showarrow": false,
          "text": "0.0",
          "x": "Weapon",
          "xref": "x",
          "y": "County",
          "yref": "y"
         },
         {
          "font": {
           "color": "#FFFFFF"
          },
          "showarrow": false,
          "text": "0.0",
          "x": "Relationship",
          "xref": "x",
          "y": "County",
          "yref": "y"
         },
         {
          "font": {
           "color": "#FFFFFF"
          },
          "showarrow": false,
          "text": "0.0",
          "x": "Circumstance",
          "xref": "x",
          "y": "County",
          "yref": "y"
         },
         {
          "font": {
           "color": "#FFFFFF"
          },
          "showarrow": false,
          "text": "0.0",
          "x": "Subcircum",
          "xref": "x",
          "y": "County",
          "yref": "y"
         },
         {
          "font": {
           "color": "#FFFFFF"
          },
          "showarrow": false,
          "text": "0.0",
          "x": "VicCount",
          "xref": "x",
          "y": "County",
          "yref": "y"
         },
         {
          "font": {
           "color": "#FFFFFF"
          },
          "showarrow": false,
          "text": "0.0",
          "x": "OffCount",
          "xref": "x",
          "y": "County",
          "yref": "y"
         },
         {
          "font": {
           "color": "#FFFFFF"
          },
          "showarrow": false,
          "text": "0.0",
          "x": "Area",
          "xref": "x",
          "y": "FileMonth",
          "yref": "y"
         },
         {
          "font": {
           "color": "#FFFFFF"
          },
          "showarrow": false,
          "text": "0.0",
          "x": "County",
          "xref": "x",
          "y": "FileMonth",
          "yref": "y"
         },
         {
          "font": {
           "color": "#FFFFFF"
          },
          "showarrow": false,
          "text": "0.0",
          "x": "FileMonth",
          "xref": "x",
          "y": "FileMonth",
          "yref": "y"
         },
         {
          "font": {
           "color": "#FFFFFF"
          },
          "showarrow": false,
          "text": "0.0",
          "x": "FileDay",
          "xref": "x",
          "y": "FileMonth",
          "yref": "y"
         },
         {
          "font": {
           "color": "#FFFFFF"
          },
          "showarrow": false,
          "text": "0.0",
          "x": "FileYear",
          "xref": "x",
          "y": "FileMonth",
          "yref": "y"
         },
         {
          "font": {
           "color": "#FFFFFF"
          },
          "showarrow": false,
          "text": "0.0",
          "x": "State",
          "xref": "x",
          "y": "FileMonth",
          "yref": "y"
         },
         {
          "font": {
           "color": "#FFFFFF"
          },
          "showarrow": false,
          "text": "0.0",
          "x": "Agency",
          "xref": "x",
          "y": "FileMonth",
          "yref": "y"
         },
         {
          "font": {
           "color": "#FFFFFF"
          },
          "showarrow": false,
          "text": "0.0",
          "x": "Agentype",
          "xref": "x",
          "y": "FileMonth",
          "yref": "y"
         },
         {
          "font": {
           "color": "#FFFFFF"
          },
          "showarrow": false,
          "text": "0.0",
          "x": "Source",
          "xref": "x",
          "y": "FileMonth",
          "yref": "y"
         },
         {
          "font": {
           "color": "#FFFFFF"
          },
          "showarrow": false,
          "text": "0.0",
          "x": "Year",
          "xref": "x",
          "y": "FileMonth",
          "yref": "y"
         },
         {
          "font": {
           "color": "#FFFFFF"
          },
          "showarrow": false,
          "text": "0.0",
          "x": "Month",
          "xref": "x",
          "y": "FileMonth",
          "yref": "y"
         },
         {
          "font": {
           "color": "#FFFFFF"
          },
          "showarrow": false,
          "text": "0.0",
          "x": "ActionType",
          "xref": "x",
          "y": "FileMonth",
          "yref": "y"
         },
         {
          "font": {
           "color": "#FFFFFF"
          },
          "showarrow": false,
          "text": "0.0",
          "x": "Homicide",
          "xref": "x",
          "y": "FileMonth",
          "yref": "y"
         },
         {
          "font": {
           "color": "#FFFFFF"
          },
          "showarrow": false,
          "text": "0.0",
          "x": "VicAge",
          "xref": "x",
          "y": "FileMonth",
          "yref": "y"
         },
         {
          "font": {
           "color": "#FFFFFF"
          },
          "showarrow": false,
          "text": "0.0",
          "x": "VicSex",
          "xref": "x",
          "y": "FileMonth",
          "yref": "y"
         },
         {
          "font": {
           "color": "#FFFFFF"
          },
          "showarrow": false,
          "text": "0.0",
          "x": "VicRace",
          "xref": "x",
          "y": "FileMonth",
          "yref": "y"
         },
         {
          "font": {
           "color": "#FFFFFF"
          },
          "showarrow": false,
          "text": "0.0",
          "x": "VicEthnic",
          "xref": "x",
          "y": "FileMonth",
          "yref": "y"
         },
         {
          "font": {
           "color": "#FFFFFF"
          },
          "showarrow": false,
          "text": "0.0",
          "x": "OffAge",
          "xref": "x",
          "y": "FileMonth",
          "yref": "y"
         },
         {
          "font": {
           "color": "#FFFFFF"
          },
          "showarrow": false,
          "text": "0.0",
          "x": "OffSex",
          "xref": "x",
          "y": "FileMonth",
          "yref": "y"
         },
         {
          "font": {
           "color": "#FFFFFF"
          },
          "showarrow": false,
          "text": "0.0",
          "x": "OffRace",
          "xref": "x",
          "y": "FileMonth",
          "yref": "y"
         },
         {
          "font": {
           "color": "#FFFFFF"
          },
          "showarrow": false,
          "text": "0.0",
          "x": "OffEthnic",
          "xref": "x",
          "y": "FileMonth",
          "yref": "y"
         },
         {
          "font": {
           "color": "#FFFFFF"
          },
          "showarrow": false,
          "text": "0.0",
          "x": "Weapon",
          "xref": "x",
          "y": "FileMonth",
          "yref": "y"
         },
         {
          "font": {
           "color": "#FFFFFF"
          },
          "showarrow": false,
          "text": "0.0",
          "x": "Relationship",
          "xref": "x",
          "y": "FileMonth",
          "yref": "y"
         },
         {
          "font": {
           "color": "#FFFFFF"
          },
          "showarrow": false,
          "text": "0.0",
          "x": "Circumstance",
          "xref": "x",
          "y": "FileMonth",
          "yref": "y"
         },
         {
          "font": {
           "color": "#FFFFFF"
          },
          "showarrow": false,
          "text": "0.0",
          "x": "Subcircum",
          "xref": "x",
          "y": "FileMonth",
          "yref": "y"
         },
         {
          "font": {
           "color": "#FFFFFF"
          },
          "showarrow": false,
          "text": "0.0",
          "x": "VicCount",
          "xref": "x",
          "y": "FileMonth",
          "yref": "y"
         },
         {
          "font": {
           "color": "#FFFFFF"
          },
          "showarrow": false,
          "text": "0.0",
          "x": "OffCount",
          "xref": "x",
          "y": "FileMonth",
          "yref": "y"
         },
         {
          "font": {
           "color": "#FFFFFF"
          },
          "showarrow": false,
          "text": "0.0",
          "x": "Area",
          "xref": "x",
          "y": "FileDay",
          "yref": "y"
         },
         {
          "font": {
           "color": "#FFFFFF"
          },
          "showarrow": false,
          "text": "0.0",
          "x": "County",
          "xref": "x",
          "y": "FileDay",
          "yref": "y"
         },
         {
          "font": {
           "color": "#FFFFFF"
          },
          "showarrow": false,
          "text": "0.0",
          "x": "FileMonth",
          "xref": "x",
          "y": "FileDay",
          "yref": "y"
         },
         {
          "font": {
           "color": "#FFFFFF"
          },
          "showarrow": false,
          "text": "0.0",
          "x": "FileDay",
          "xref": "x",
          "y": "FileDay",
          "yref": "y"
         },
         {
          "font": {
           "color": "#FFFFFF"
          },
          "showarrow": false,
          "text": "0.0",
          "x": "FileYear",
          "xref": "x",
          "y": "FileDay",
          "yref": "y"
         },
         {
          "font": {
           "color": "#FFFFFF"
          },
          "showarrow": false,
          "text": "0.0",
          "x": "State",
          "xref": "x",
          "y": "FileDay",
          "yref": "y"
         },
         {
          "font": {
           "color": "#FFFFFF"
          },
          "showarrow": false,
          "text": "0.0",
          "x": "Agency",
          "xref": "x",
          "y": "FileDay",
          "yref": "y"
         },
         {
          "font": {
           "color": "#FFFFFF"
          },
          "showarrow": false,
          "text": "0.0",
          "x": "Agentype",
          "xref": "x",
          "y": "FileDay",
          "yref": "y"
         },
         {
          "font": {
           "color": "#FFFFFF"
          },
          "showarrow": false,
          "text": "0.0",
          "x": "Source",
          "xref": "x",
          "y": "FileDay",
          "yref": "y"
         },
         {
          "font": {
           "color": "#FFFFFF"
          },
          "showarrow": false,
          "text": "0.0",
          "x": "Year",
          "xref": "x",
          "y": "FileDay",
          "yref": "y"
         },
         {
          "font": {
           "color": "#FFFFFF"
          },
          "showarrow": false,
          "text": "0.0",
          "x": "Month",
          "xref": "x",
          "y": "FileDay",
          "yref": "y"
         },
         {
          "font": {
           "color": "#FFFFFF"
          },
          "showarrow": false,
          "text": "0.0",
          "x": "ActionType",
          "xref": "x",
          "y": "FileDay",
          "yref": "y"
         },
         {
          "font": {
           "color": "#FFFFFF"
          },
          "showarrow": false,
          "text": "0.0",
          "x": "Homicide",
          "xref": "x",
          "y": "FileDay",
          "yref": "y"
         },
         {
          "font": {
           "color": "#FFFFFF"
          },
          "showarrow": false,
          "text": "0.0",
          "x": "VicAge",
          "xref": "x",
          "y": "FileDay",
          "yref": "y"
         },
         {
          "font": {
           "color": "#FFFFFF"
          },
          "showarrow": false,
          "text": "0.0",
          "x": "VicSex",
          "xref": "x",
          "y": "FileDay",
          "yref": "y"
         },
         {
          "font": {
           "color": "#FFFFFF"
          },
          "showarrow": false,
          "text": "0.0",
          "x": "VicRace",
          "xref": "x",
          "y": "FileDay",
          "yref": "y"
         },
         {
          "font": {
           "color": "#FFFFFF"
          },
          "showarrow": false,
          "text": "0.0",
          "x": "VicEthnic",
          "xref": "x",
          "y": "FileDay",
          "yref": "y"
         },
         {
          "font": {
           "color": "#FFFFFF"
          },
          "showarrow": false,
          "text": "0.0",
          "x": "OffAge",
          "xref": "x",
          "y": "FileDay",
          "yref": "y"
         },
         {
          "font": {
           "color": "#FFFFFF"
          },
          "showarrow": false,
          "text": "0.0",
          "x": "OffSex",
          "xref": "x",
          "y": "FileDay",
          "yref": "y"
         },
         {
          "font": {
           "color": "#FFFFFF"
          },
          "showarrow": false,
          "text": "0.0",
          "x": "OffRace",
          "xref": "x",
          "y": "FileDay",
          "yref": "y"
         },
         {
          "font": {
           "color": "#FFFFFF"
          },
          "showarrow": false,
          "text": "0.0",
          "x": "OffEthnic",
          "xref": "x",
          "y": "FileDay",
          "yref": "y"
         },
         {
          "font": {
           "color": "#FFFFFF"
          },
          "showarrow": false,
          "text": "0.0",
          "x": "Weapon",
          "xref": "x",
          "y": "FileDay",
          "yref": "y"
         },
         {
          "font": {
           "color": "#FFFFFF"
          },
          "showarrow": false,
          "text": "0.0",
          "x": "Relationship",
          "xref": "x",
          "y": "FileDay",
          "yref": "y"
         },
         {
          "font": {
           "color": "#FFFFFF"
          },
          "showarrow": false,
          "text": "0.0",
          "x": "Circumstance",
          "xref": "x",
          "y": "FileDay",
          "yref": "y"
         },
         {
          "font": {
           "color": "#FFFFFF"
          },
          "showarrow": false,
          "text": "0.0",
          "x": "Subcircum",
          "xref": "x",
          "y": "FileDay",
          "yref": "y"
         },
         {
          "font": {
           "color": "#FFFFFF"
          },
          "showarrow": false,
          "text": "0.0",
          "x": "VicCount",
          "xref": "x",
          "y": "FileDay",
          "yref": "y"
         },
         {
          "font": {
           "color": "#FFFFFF"
          },
          "showarrow": false,
          "text": "0.0",
          "x": "OffCount",
          "xref": "x",
          "y": "FileDay",
          "yref": "y"
         },
         {
          "font": {
           "color": "#FFFFFF"
          },
          "showarrow": false,
          "text": "0.0",
          "x": "Area",
          "xref": "x",
          "y": "FileYear",
          "yref": "y"
         },
         {
          "font": {
           "color": "#FFFFFF"
          },
          "showarrow": false,
          "text": "0.0",
          "x": "County",
          "xref": "x",
          "y": "FileYear",
          "yref": "y"
         },
         {
          "font": {
           "color": "#FFFFFF"
          },
          "showarrow": false,
          "text": "0.0",
          "x": "FileMonth",
          "xref": "x",
          "y": "FileYear",
          "yref": "y"
         },
         {
          "font": {
           "color": "#FFFFFF"
          },
          "showarrow": false,
          "text": "0.0",
          "x": "FileDay",
          "xref": "x",
          "y": "FileYear",
          "yref": "y"
         },
         {
          "font": {
           "color": "#FFFFFF"
          },
          "showarrow": false,
          "text": "0.0",
          "x": "FileYear",
          "xref": "x",
          "y": "FileYear",
          "yref": "y"
         },
         {
          "font": {
           "color": "#FFFFFF"
          },
          "showarrow": false,
          "text": "0.0",
          "x": "State",
          "xref": "x",
          "y": "FileYear",
          "yref": "y"
         },
         {
          "font": {
           "color": "#FFFFFF"
          },
          "showarrow": false,
          "text": "0.0",
          "x": "Agency",
          "xref": "x",
          "y": "FileYear",
          "yref": "y"
         },
         {
          "font": {
           "color": "#FFFFFF"
          },
          "showarrow": false,
          "text": "0.0",
          "x": "Agentype",
          "xref": "x",
          "y": "FileYear",
          "yref": "y"
         },
         {
          "font": {
           "color": "#FFFFFF"
          },
          "showarrow": false,
          "text": "0.0",
          "x": "Source",
          "xref": "x",
          "y": "FileYear",
          "yref": "y"
         },
         {
          "font": {
           "color": "#FFFFFF"
          },
          "showarrow": false,
          "text": "0.0",
          "x": "Year",
          "xref": "x",
          "y": "FileYear",
          "yref": "y"
         },
         {
          "font": {
           "color": "#FFFFFF"
          },
          "showarrow": false,
          "text": "0.0",
          "x": "Month",
          "xref": "x",
          "y": "FileYear",
          "yref": "y"
         },
         {
          "font": {
           "color": "#FFFFFF"
          },
          "showarrow": false,
          "text": "0.0",
          "x": "ActionType",
          "xref": "x",
          "y": "FileYear",
          "yref": "y"
         },
         {
          "font": {
           "color": "#FFFFFF"
          },
          "showarrow": false,
          "text": "0.0",
          "x": "Homicide",
          "xref": "x",
          "y": "FileYear",
          "yref": "y"
         },
         {
          "font": {
           "color": "#FFFFFF"
          },
          "showarrow": false,
          "text": "0.0",
          "x": "VicAge",
          "xref": "x",
          "y": "FileYear",
          "yref": "y"
         },
         {
          "font": {
           "color": "#FFFFFF"
          },
          "showarrow": false,
          "text": "0.0",
          "x": "VicSex",
          "xref": "x",
          "y": "FileYear",
          "yref": "y"
         },
         {
          "font": {
           "color": "#FFFFFF"
          },
          "showarrow": false,
          "text": "0.0",
          "x": "VicRace",
          "xref": "x",
          "y": "FileYear",
          "yref": "y"
         },
         {
          "font": {
           "color": "#FFFFFF"
          },
          "showarrow": false,
          "text": "0.0",
          "x": "VicEthnic",
          "xref": "x",
          "y": "FileYear",
          "yref": "y"
         },
         {
          "font": {
           "color": "#FFFFFF"
          },
          "showarrow": false,
          "text": "0.0",
          "x": "OffAge",
          "xref": "x",
          "y": "FileYear",
          "yref": "y"
         },
         {
          "font": {
           "color": "#FFFFFF"
          },
          "showarrow": false,
          "text": "0.0",
          "x": "OffSex",
          "xref": "x",
          "y": "FileYear",
          "yref": "y"
         },
         {
          "font": {
           "color": "#FFFFFF"
          },
          "showarrow": false,
          "text": "0.0",
          "x": "OffRace",
          "xref": "x",
          "y": "FileYear",
          "yref": "y"
         },
         {
          "font": {
           "color": "#FFFFFF"
          },
          "showarrow": false,
          "text": "0.0",
          "x": "OffEthnic",
          "xref": "x",
          "y": "FileYear",
          "yref": "y"
         },
         {
          "font": {
           "color": "#FFFFFF"
          },
          "showarrow": false,
          "text": "0.0",
          "x": "Weapon",
          "xref": "x",
          "y": "FileYear",
          "yref": "y"
         },
         {
          "font": {
           "color": "#FFFFFF"
          },
          "showarrow": false,
          "text": "0.0",
          "x": "Relationship",
          "xref": "x",
          "y": "FileYear",
          "yref": "y"
         },
         {
          "font": {
           "color": "#FFFFFF"
          },
          "showarrow": false,
          "text": "0.0",
          "x": "Circumstance",
          "xref": "x",
          "y": "FileYear",
          "yref": "y"
         },
         {
          "font": {
           "color": "#FFFFFF"
          },
          "showarrow": false,
          "text": "0.0",
          "x": "Subcircum",
          "xref": "x",
          "y": "FileYear",
          "yref": "y"
         },
         {
          "font": {
           "color": "#FFFFFF"
          },
          "showarrow": false,
          "text": "0.0",
          "x": "VicCount",
          "xref": "x",
          "y": "FileYear",
          "yref": "y"
         },
         {
          "font": {
           "color": "#FFFFFF"
          },
          "showarrow": false,
          "text": "0.0",
          "x": "OffCount",
          "xref": "x",
          "y": "FileYear",
          "yref": "y"
         },
         {
          "font": {
           "color": "#FFFFFF"
          },
          "showarrow": false,
          "text": "0.0",
          "x": "Area",
          "xref": "x",
          "y": "State",
          "yref": "y"
         },
         {
          "font": {
           "color": "#FFFFFF"
          },
          "showarrow": false,
          "text": "0.0",
          "x": "County",
          "xref": "x",
          "y": "State",
          "yref": "y"
         },
         {
          "font": {
           "color": "#FFFFFF"
          },
          "showarrow": false,
          "text": "0.0",
          "x": "FileMonth",
          "xref": "x",
          "y": "State",
          "yref": "y"
         },
         {
          "font": {
           "color": "#FFFFFF"
          },
          "showarrow": false,
          "text": "0.0",
          "x": "FileDay",
          "xref": "x",
          "y": "State",
          "yref": "y"
         },
         {
          "font": {
           "color": "#FFFFFF"
          },
          "showarrow": false,
          "text": "0.0",
          "x": "FileYear",
          "xref": "x",
          "y": "State",
          "yref": "y"
         },
         {
          "font": {
           "color": "#FFFFFF"
          },
          "showarrow": false,
          "text": "0.0",
          "x": "State",
          "xref": "x",
          "y": "State",
          "yref": "y"
         },
         {
          "font": {
           "color": "#FFFFFF"
          },
          "showarrow": false,
          "text": "0.0",
          "x": "Agency",
          "xref": "x",
          "y": "State",
          "yref": "y"
         },
         {
          "font": {
           "color": "#FFFFFF"
          },
          "showarrow": false,
          "text": "0.0",
          "x": "Agentype",
          "xref": "x",
          "y": "State",
          "yref": "y"
         },
         {
          "font": {
           "color": "#FFFFFF"
          },
          "showarrow": false,
          "text": "0.0",
          "x": "Source",
          "xref": "x",
          "y": "State",
          "yref": "y"
         },
         {
          "font": {
           "color": "#FFFFFF"
          },
          "showarrow": false,
          "text": "0.0",
          "x": "Year",
          "xref": "x",
          "y": "State",
          "yref": "y"
         },
         {
          "font": {
           "color": "#FFFFFF"
          },
          "showarrow": false,
          "text": "0.0",
          "x": "Month",
          "xref": "x",
          "y": "State",
          "yref": "y"
         },
         {
          "font": {
           "color": "#FFFFFF"
          },
          "showarrow": false,
          "text": "0.0",
          "x": "ActionType",
          "xref": "x",
          "y": "State",
          "yref": "y"
         },
         {
          "font": {
           "color": "#FFFFFF"
          },
          "showarrow": false,
          "text": "0.0",
          "x": "Homicide",
          "xref": "x",
          "y": "State",
          "yref": "y"
         },
         {
          "font": {
           "color": "#FFFFFF"
          },
          "showarrow": false,
          "text": "0.0",
          "x": "VicAge",
          "xref": "x",
          "y": "State",
          "yref": "y"
         },
         {
          "font": {
           "color": "#FFFFFF"
          },
          "showarrow": false,
          "text": "0.0",
          "x": "VicSex",
          "xref": "x",
          "y": "State",
          "yref": "y"
         },
         {
          "font": {
           "color": "#FFFFFF"
          },
          "showarrow": false,
          "text": "0.0",
          "x": "VicRace",
          "xref": "x",
          "y": "State",
          "yref": "y"
         },
         {
          "font": {
           "color": "#FFFFFF"
          },
          "showarrow": false,
          "text": "0.0",
          "x": "VicEthnic",
          "xref": "x",
          "y": "State",
          "yref": "y"
         },
         {
          "font": {
           "color": "#FFFFFF"
          },
          "showarrow": false,
          "text": "0.0",
          "x": "OffAge",
          "xref": "x",
          "y": "State",
          "yref": "y"
         },
         {
          "font": {
           "color": "#FFFFFF"
          },
          "showarrow": false,
          "text": "0.0",
          "x": "OffSex",
          "xref": "x",
          "y": "State",
          "yref": "y"
         },
         {
          "font": {
           "color": "#FFFFFF"
          },
          "showarrow": false,
          "text": "0.0",
          "x": "OffRace",
          "xref": "x",
          "y": "State",
          "yref": "y"
         },
         {
          "font": {
           "color": "#FFFFFF"
          },
          "showarrow": false,
          "text": "0.0",
          "x": "OffEthnic",
          "xref": "x",
          "y": "State",
          "yref": "y"
         },
         {
          "font": {
           "color": "#FFFFFF"
          },
          "showarrow": false,
          "text": "0.0",
          "x": "Weapon",
          "xref": "x",
          "y": "State",
          "yref": "y"
         },
         {
          "font": {
           "color": "#FFFFFF"
          },
          "showarrow": false,
          "text": "0.0",
          "x": "Relationship",
          "xref": "x",
          "y": "State",
          "yref": "y"
         },
         {
          "font": {
           "color": "#FFFFFF"
          },
          "showarrow": false,
          "text": "0.0",
          "x": "Circumstance",
          "xref": "x",
          "y": "State",
          "yref": "y"
         },
         {
          "font": {
           "color": "#FFFFFF"
          },
          "showarrow": false,
          "text": "0.0",
          "x": "Subcircum",
          "xref": "x",
          "y": "State",
          "yref": "y"
         },
         {
          "font": {
           "color": "#FFFFFF"
          },
          "showarrow": false,
          "text": "0.0",
          "x": "VicCount",
          "xref": "x",
          "y": "State",
          "yref": "y"
         },
         {
          "font": {
           "color": "#FFFFFF"
          },
          "showarrow": false,
          "text": "0.0",
          "x": "OffCount",
          "xref": "x",
          "y": "State",
          "yref": "y"
         },
         {
          "font": {
           "color": "#FFFFFF"
          },
          "showarrow": false,
          "text": "0.0",
          "x": "Area",
          "xref": "x",
          "y": "Agency",
          "yref": "y"
         },
         {
          "font": {
           "color": "#FFFFFF"
          },
          "showarrow": false,
          "text": "0.0",
          "x": "County",
          "xref": "x",
          "y": "Agency",
          "yref": "y"
         },
         {
          "font": {
           "color": "#FFFFFF"
          },
          "showarrow": false,
          "text": "0.0",
          "x": "FileMonth",
          "xref": "x",
          "y": "Agency",
          "yref": "y"
         },
         {
          "font": {
           "color": "#FFFFFF"
          },
          "showarrow": false,
          "text": "0.0",
          "x": "FileDay",
          "xref": "x",
          "y": "Agency",
          "yref": "y"
         },
         {
          "font": {
           "color": "#FFFFFF"
          },
          "showarrow": false,
          "text": "0.0",
          "x": "FileYear",
          "xref": "x",
          "y": "Agency",
          "yref": "y"
         },
         {
          "font": {
           "color": "#FFFFFF"
          },
          "showarrow": false,
          "text": "0.0",
          "x": "State",
          "xref": "x",
          "y": "Agency",
          "yref": "y"
         },
         {
          "font": {
           "color": "#FFFFFF"
          },
          "showarrow": false,
          "text": "0.0",
          "x": "Agency",
          "xref": "x",
          "y": "Agency",
          "yref": "y"
         },
         {
          "font": {
           "color": "#FFFFFF"
          },
          "showarrow": false,
          "text": "0.0",
          "x": "Agentype",
          "xref": "x",
          "y": "Agency",
          "yref": "y"
         },
         {
          "font": {
           "color": "#FFFFFF"
          },
          "showarrow": false,
          "text": "0.0",
          "x": "Source",
          "xref": "x",
          "y": "Agency",
          "yref": "y"
         },
         {
          "font": {
           "color": "#FFFFFF"
          },
          "showarrow": false,
          "text": "0.0",
          "x": "Year",
          "xref": "x",
          "y": "Agency",
          "yref": "y"
         },
         {
          "font": {
           "color": "#FFFFFF"
          },
          "showarrow": false,
          "text": "0.0",
          "x": "Month",
          "xref": "x",
          "y": "Agency",
          "yref": "y"
         },
         {
          "font": {
           "color": "#FFFFFF"
          },
          "showarrow": false,
          "text": "0.0",
          "x": "ActionType",
          "xref": "x",
          "y": "Agency",
          "yref": "y"
         },
         {
          "font": {
           "color": "#FFFFFF"
          },
          "showarrow": false,
          "text": "0.0",
          "x": "Homicide",
          "xref": "x",
          "y": "Agency",
          "yref": "y"
         },
         {
          "font": {
           "color": "#FFFFFF"
          },
          "showarrow": false,
          "text": "0.0",
          "x": "VicAge",
          "xref": "x",
          "y": "Agency",
          "yref": "y"
         },
         {
          "font": {
           "color": "#FFFFFF"
          },
          "showarrow": false,
          "text": "0.0",
          "x": "VicSex",
          "xref": "x",
          "y": "Agency",
          "yref": "y"
         },
         {
          "font": {
           "color": "#FFFFFF"
          },
          "showarrow": false,
          "text": "0.0",
          "x": "VicRace",
          "xref": "x",
          "y": "Agency",
          "yref": "y"
         },
         {
          "font": {
           "color": "#FFFFFF"
          },
          "showarrow": false,
          "text": "0.0",
          "x": "VicEthnic",
          "xref": "x",
          "y": "Agency",
          "yref": "y"
         },
         {
          "font": {
           "color": "#FFFFFF"
          },
          "showarrow": false,
          "text": "0.0",
          "x": "OffAge",
          "xref": "x",
          "y": "Agency",
          "yref": "y"
         },
         {
          "font": {
           "color": "#FFFFFF"
          },
          "showarrow": false,
          "text": "0.0",
          "x": "OffSex",
          "xref": "x",
          "y": "Agency",
          "yref": "y"
         },
         {
          "font": {
           "color": "#FFFFFF"
          },
          "showarrow": false,
          "text": "0.0",
          "x": "OffRace",
          "xref": "x",
          "y": "Agency",
          "yref": "y"
         },
         {
          "font": {
           "color": "#FFFFFF"
          },
          "showarrow": false,
          "text": "0.0",
          "x": "OffEthnic",
          "xref": "x",
          "y": "Agency",
          "yref": "y"
         },
         {
          "font": {
           "color": "#FFFFFF"
          },
          "showarrow": false,
          "text": "0.0",
          "x": "Weapon",
          "xref": "x",
          "y": "Agency",
          "yref": "y"
         },
         {
          "font": {
           "color": "#FFFFFF"
          },
          "showarrow": false,
          "text": "0.0",
          "x": "Relationship",
          "xref": "x",
          "y": "Agency",
          "yref": "y"
         },
         {
          "font": {
           "color": "#FFFFFF"
          },
          "showarrow": false,
          "text": "0.0",
          "x": "Circumstance",
          "xref": "x",
          "y": "Agency",
          "yref": "y"
         },
         {
          "font": {
           "color": "#FFFFFF"
          },
          "showarrow": false,
          "text": "0.0",
          "x": "Subcircum",
          "xref": "x",
          "y": "Agency",
          "yref": "y"
         },
         {
          "font": {
           "color": "#FFFFFF"
          },
          "showarrow": false,
          "text": "0.0",
          "x": "VicCount",
          "xref": "x",
          "y": "Agency",
          "yref": "y"
         },
         {
          "font": {
           "color": "#000000"
          },
          "showarrow": false,
          "text": "1.0",
          "x": "OffCount",
          "xref": "x",
          "y": "Agency",
          "yref": "y"
         },
         {
          "font": {
           "color": "#FFFFFF"
          },
          "showarrow": false,
          "text": "0.0",
          "x": "Area",
          "xref": "x",
          "y": "Agentype",
          "yref": "y"
         },
         {
          "font": {
           "color": "#FFFFFF"
          },
          "showarrow": false,
          "text": "0.0",
          "x": "County",
          "xref": "x",
          "y": "Agentype",
          "yref": "y"
         },
         {
          "font": {
           "color": "#FFFFFF"
          },
          "showarrow": false,
          "text": "0.0",
          "x": "FileMonth",
          "xref": "x",
          "y": "Agentype",
          "yref": "y"
         },
         {
          "font": {
           "color": "#FFFFFF"
          },
          "showarrow": false,
          "text": "0.0",
          "x": "FileDay",
          "xref": "x",
          "y": "Agentype",
          "yref": "y"
         },
         {
          "font": {
           "color": "#FFFFFF"
          },
          "showarrow": false,
          "text": "0.0",
          "x": "FileYear",
          "xref": "x",
          "y": "Agentype",
          "yref": "y"
         },
         {
          "font": {
           "color": "#FFFFFF"
          },
          "showarrow": false,
          "text": "0.0",
          "x": "State",
          "xref": "x",
          "y": "Agentype",
          "yref": "y"
         },
         {
          "font": {
           "color": "#FFFFFF"
          },
          "showarrow": false,
          "text": "0.0",
          "x": "Agency",
          "xref": "x",
          "y": "Agentype",
          "yref": "y"
         },
         {
          "font": {
           "color": "#FFFFFF"
          },
          "showarrow": false,
          "text": "0.0",
          "x": "Agentype",
          "xref": "x",
          "y": "Agentype",
          "yref": "y"
         },
         {
          "font": {
           "color": "#FFFFFF"
          },
          "showarrow": false,
          "text": "0.0",
          "x": "Source",
          "xref": "x",
          "y": "Agentype",
          "yref": "y"
         },
         {
          "font": {
           "color": "#FFFFFF"
          },
          "showarrow": false,
          "text": "0.0",
          "x": "Year",
          "xref": "x",
          "y": "Agentype",
          "yref": "y"
         },
         {
          "font": {
           "color": "#FFFFFF"
          },
          "showarrow": false,
          "text": "0.0",
          "x": "Month",
          "xref": "x",
          "y": "Agentype",
          "yref": "y"
         },
         {
          "font": {
           "color": "#FFFFFF"
          },
          "showarrow": false,
          "text": "0.0",
          "x": "ActionType",
          "xref": "x",
          "y": "Agentype",
          "yref": "y"
         },
         {
          "font": {
           "color": "#FFFFFF"
          },
          "showarrow": false,
          "text": "0.0",
          "x": "Homicide",
          "xref": "x",
          "y": "Agentype",
          "yref": "y"
         },
         {
          "font": {
           "color": "#FFFFFF"
          },
          "showarrow": false,
          "text": "0.0",
          "x": "VicAge",
          "xref": "x",
          "y": "Agentype",
          "yref": "y"
         },
         {
          "font": {
           "color": "#FFFFFF"
          },
          "showarrow": false,
          "text": "0.0",
          "x": "VicSex",
          "xref": "x",
          "y": "Agentype",
          "yref": "y"
         },
         {
          "font": {
           "color": "#FFFFFF"
          },
          "showarrow": false,
          "text": "0.0",
          "x": "VicRace",
          "xref": "x",
          "y": "Agentype",
          "yref": "y"
         },
         {
          "font": {
           "color": "#FFFFFF"
          },
          "showarrow": false,
          "text": "0.0",
          "x": "VicEthnic",
          "xref": "x",
          "y": "Agentype",
          "yref": "y"
         },
         {
          "font": {
           "color": "#FFFFFF"
          },
          "showarrow": false,
          "text": "0.0",
          "x": "OffAge",
          "xref": "x",
          "y": "Agentype",
          "yref": "y"
         },
         {
          "font": {
           "color": "#FFFFFF"
          },
          "showarrow": false,
          "text": "0.0",
          "x": "OffSex",
          "xref": "x",
          "y": "Agentype",
          "yref": "y"
         },
         {
          "font": {
           "color": "#FFFFFF"
          },
          "showarrow": false,
          "text": "0.0",
          "x": "OffRace",
          "xref": "x",
          "y": "Agentype",
          "yref": "y"
         },
         {
          "font": {
           "color": "#FFFFFF"
          },
          "showarrow": false,
          "text": "0.0",
          "x": "OffEthnic",
          "xref": "x",
          "y": "Agentype",
          "yref": "y"
         },
         {
          "font": {
           "color": "#FFFFFF"
          },
          "showarrow": false,
          "text": "0.0",
          "x": "Weapon",
          "xref": "x",
          "y": "Agentype",
          "yref": "y"
         },
         {
          "font": {
           "color": "#FFFFFF"
          },
          "showarrow": false,
          "text": "0.0",
          "x": "Relationship",
          "xref": "x",
          "y": "Agentype",
          "yref": "y"
         },
         {
          "font": {
           "color": "#FFFFFF"
          },
          "showarrow": false,
          "text": "0.0",
          "x": "Circumstance",
          "xref": "x",
          "y": "Agentype",
          "yref": "y"
         },
         {
          "font": {
           "color": "#FFFFFF"
          },
          "showarrow": false,
          "text": "0.0",
          "x": "Subcircum",
          "xref": "x",
          "y": "Agentype",
          "yref": "y"
         },
         {
          "font": {
           "color": "#FFFFFF"
          },
          "showarrow": false,
          "text": "0.0",
          "x": "VicCount",
          "xref": "x",
          "y": "Agentype",
          "yref": "y"
         },
         {
          "font": {
           "color": "#FFFFFF"
          },
          "showarrow": false,
          "text": "0.0",
          "x": "OffCount",
          "xref": "x",
          "y": "Agentype",
          "yref": "y"
         },
         {
          "font": {
           "color": "#FFFFFF"
          },
          "showarrow": false,
          "text": "0.0",
          "x": "Area",
          "xref": "x",
          "y": "Source",
          "yref": "y"
         },
         {
          "font": {
           "color": "#FFFFFF"
          },
          "showarrow": false,
          "text": "0.0",
          "x": "County",
          "xref": "x",
          "y": "Source",
          "yref": "y"
         },
         {
          "font": {
           "color": "#FFFFFF"
          },
          "showarrow": false,
          "text": "0.0",
          "x": "FileMonth",
          "xref": "x",
          "y": "Source",
          "yref": "y"
         },
         {
          "font": {
           "color": "#FFFFFF"
          },
          "showarrow": false,
          "text": "0.0",
          "x": "FileDay",
          "xref": "x",
          "y": "Source",
          "yref": "y"
         },
         {
          "font": {
           "color": "#FFFFFF"
          },
          "showarrow": false,
          "text": "0.0",
          "x": "FileYear",
          "xref": "x",
          "y": "Source",
          "yref": "y"
         },
         {
          "font": {
           "color": "#FFFFFF"
          },
          "showarrow": false,
          "text": "0.0",
          "x": "State",
          "xref": "x",
          "y": "Source",
          "yref": "y"
         },
         {
          "font": {
           "color": "#FFFFFF"
          },
          "showarrow": false,
          "text": "0.0",
          "x": "Agency",
          "xref": "x",
          "y": "Source",
          "yref": "y"
         },
         {
          "font": {
           "color": "#FFFFFF"
          },
          "showarrow": false,
          "text": "0.0",
          "x": "Agentype",
          "xref": "x",
          "y": "Source",
          "yref": "y"
         },
         {
          "font": {
           "color": "#FFFFFF"
          },
          "showarrow": false,
          "text": "0.0",
          "x": "Source",
          "xref": "x",
          "y": "Source",
          "yref": "y"
         },
         {
          "font": {
           "color": "#FFFFFF"
          },
          "showarrow": false,
          "text": "0.0",
          "x": "Year",
          "xref": "x",
          "y": "Source",
          "yref": "y"
         },
         {
          "font": {
           "color": "#FFFFFF"
          },
          "showarrow": false,
          "text": "0.0",
          "x": "Month",
          "xref": "x",
          "y": "Source",
          "yref": "y"
         },
         {
          "font": {
           "color": "#FFFFFF"
          },
          "showarrow": false,
          "text": "0.0",
          "x": "ActionType",
          "xref": "x",
          "y": "Source",
          "yref": "y"
         },
         {
          "font": {
           "color": "#FFFFFF"
          },
          "showarrow": false,
          "text": "0.0",
          "x": "Homicide",
          "xref": "x",
          "y": "Source",
          "yref": "y"
         },
         {
          "font": {
           "color": "#FFFFFF"
          },
          "showarrow": false,
          "text": "0.0",
          "x": "VicAge",
          "xref": "x",
          "y": "Source",
          "yref": "y"
         },
         {
          "font": {
           "color": "#FFFFFF"
          },
          "showarrow": false,
          "text": "0.0",
          "x": "VicSex",
          "xref": "x",
          "y": "Source",
          "yref": "y"
         },
         {
          "font": {
           "color": "#FFFFFF"
          },
          "showarrow": false,
          "text": "0.0",
          "x": "VicRace",
          "xref": "x",
          "y": "Source",
          "yref": "y"
         },
         {
          "font": {
           "color": "#FFFFFF"
          },
          "showarrow": false,
          "text": "0.0",
          "x": "VicEthnic",
          "xref": "x",
          "y": "Source",
          "yref": "y"
         },
         {
          "font": {
           "color": "#FFFFFF"
          },
          "showarrow": false,
          "text": "0.0",
          "x": "OffAge",
          "xref": "x",
          "y": "Source",
          "yref": "y"
         },
         {
          "font": {
           "color": "#FFFFFF"
          },
          "showarrow": false,
          "text": "0.0",
          "x": "OffSex",
          "xref": "x",
          "y": "Source",
          "yref": "y"
         },
         {
          "font": {
           "color": "#FFFFFF"
          },
          "showarrow": false,
          "text": "0.0",
          "x": "OffRace",
          "xref": "x",
          "y": "Source",
          "yref": "y"
         },
         {
          "font": {
           "color": "#FFFFFF"
          },
          "showarrow": false,
          "text": "0.0",
          "x": "OffEthnic",
          "xref": "x",
          "y": "Source",
          "yref": "y"
         },
         {
          "font": {
           "color": "#FFFFFF"
          },
          "showarrow": false,
          "text": "0.0",
          "x": "Weapon",
          "xref": "x",
          "y": "Source",
          "yref": "y"
         },
         {
          "font": {
           "color": "#FFFFFF"
          },
          "showarrow": false,
          "text": "0.0",
          "x": "Relationship",
          "xref": "x",
          "y": "Source",
          "yref": "y"
         },
         {
          "font": {
           "color": "#FFFFFF"
          },
          "showarrow": false,
          "text": "0.0",
          "x": "Circumstance",
          "xref": "x",
          "y": "Source",
          "yref": "y"
         },
         {
          "font": {
           "color": "#FFFFFF"
          },
          "showarrow": false,
          "text": "0.0",
          "x": "Subcircum",
          "xref": "x",
          "y": "Source",
          "yref": "y"
         },
         {
          "font": {
           "color": "#FFFFFF"
          },
          "showarrow": false,
          "text": "0.0",
          "x": "VicCount",
          "xref": "x",
          "y": "Source",
          "yref": "y"
         },
         {
          "font": {
           "color": "#FFFFFF"
          },
          "showarrow": false,
          "text": "0.0",
          "x": "OffCount",
          "xref": "x",
          "y": "Source",
          "yref": "y"
         },
         {
          "font": {
           "color": "#FFFFFF"
          },
          "showarrow": false,
          "text": "0.0",
          "x": "Area",
          "xref": "x",
          "y": "Year",
          "yref": "y"
         },
         {
          "font": {
           "color": "#FFFFFF"
          },
          "showarrow": false,
          "text": "0.0",
          "x": "County",
          "xref": "x",
          "y": "Year",
          "yref": "y"
         },
         {
          "font": {
           "color": "#FFFFFF"
          },
          "showarrow": false,
          "text": "0.0",
          "x": "FileMonth",
          "xref": "x",
          "y": "Year",
          "yref": "y"
         },
         {
          "font": {
           "color": "#FFFFFF"
          },
          "showarrow": false,
          "text": "0.0",
          "x": "FileDay",
          "xref": "x",
          "y": "Year",
          "yref": "y"
         },
         {
          "font": {
           "color": "#FFFFFF"
          },
          "showarrow": false,
          "text": "0.0",
          "x": "FileYear",
          "xref": "x",
          "y": "Year",
          "yref": "y"
         },
         {
          "font": {
           "color": "#FFFFFF"
          },
          "showarrow": false,
          "text": "0.0",
          "x": "State",
          "xref": "x",
          "y": "Year",
          "yref": "y"
         },
         {
          "font": {
           "color": "#FFFFFF"
          },
          "showarrow": false,
          "text": "0.0",
          "x": "Agency",
          "xref": "x",
          "y": "Year",
          "yref": "y"
         },
         {
          "font": {
           "color": "#FFFFFF"
          },
          "showarrow": false,
          "text": "0.0",
          "x": "Agentype",
          "xref": "x",
          "y": "Year",
          "yref": "y"
         },
         {
          "font": {
           "color": "#FFFFFF"
          },
          "showarrow": false,
          "text": "0.0",
          "x": "Source",
          "xref": "x",
          "y": "Year",
          "yref": "y"
         },
         {
          "font": {
           "color": "#FFFFFF"
          },
          "showarrow": false,
          "text": "0.0",
          "x": "Year",
          "xref": "x",
          "y": "Year",
          "yref": "y"
         },
         {
          "font": {
           "color": "#FFFFFF"
          },
          "showarrow": false,
          "text": "0.0",
          "x": "Month",
          "xref": "x",
          "y": "Year",
          "yref": "y"
         },
         {
          "font": {
           "color": "#FFFFFF"
          },
          "showarrow": false,
          "text": "0.0",
          "x": "ActionType",
          "xref": "x",
          "y": "Year",
          "yref": "y"
         },
         {
          "font": {
           "color": "#FFFFFF"
          },
          "showarrow": false,
          "text": "0.0",
          "x": "Homicide",
          "xref": "x",
          "y": "Year",
          "yref": "y"
         },
         {
          "font": {
           "color": "#FFFFFF"
          },
          "showarrow": false,
          "text": "0.0",
          "x": "VicAge",
          "xref": "x",
          "y": "Year",
          "yref": "y"
         },
         {
          "font": {
           "color": "#FFFFFF"
          },
          "showarrow": false,
          "text": "0.0",
          "x": "VicSex",
          "xref": "x",
          "y": "Year",
          "yref": "y"
         },
         {
          "font": {
           "color": "#FFFFFF"
          },
          "showarrow": false,
          "text": "0.0",
          "x": "VicRace",
          "xref": "x",
          "y": "Year",
          "yref": "y"
         },
         {
          "font": {
           "color": "#FFFFFF"
          },
          "showarrow": false,
          "text": "0.0",
          "x": "VicEthnic",
          "xref": "x",
          "y": "Year",
          "yref": "y"
         },
         {
          "font": {
           "color": "#FFFFFF"
          },
          "showarrow": false,
          "text": "0.0",
          "x": "OffAge",
          "xref": "x",
          "y": "Year",
          "yref": "y"
         },
         {
          "font": {
           "color": "#FFFFFF"
          },
          "showarrow": false,
          "text": "0.0",
          "x": "OffSex",
          "xref": "x",
          "y": "Year",
          "yref": "y"
         },
         {
          "font": {
           "color": "#FFFFFF"
          },
          "showarrow": false,
          "text": "0.0",
          "x": "OffRace",
          "xref": "x",
          "y": "Year",
          "yref": "y"
         },
         {
          "font": {
           "color": "#FFFFFF"
          },
          "showarrow": false,
          "text": "0.0",
          "x": "OffEthnic",
          "xref": "x",
          "y": "Year",
          "yref": "y"
         },
         {
          "font": {
           "color": "#FFFFFF"
          },
          "showarrow": false,
          "text": "0.0",
          "x": "Weapon",
          "xref": "x",
          "y": "Year",
          "yref": "y"
         },
         {
          "font": {
           "color": "#FFFFFF"
          },
          "showarrow": false,
          "text": "0.0",
          "x": "Relationship",
          "xref": "x",
          "y": "Year",
          "yref": "y"
         },
         {
          "font": {
           "color": "#FFFFFF"
          },
          "showarrow": false,
          "text": "0.0",
          "x": "Circumstance",
          "xref": "x",
          "y": "Year",
          "yref": "y"
         },
         {
          "font": {
           "color": "#FFFFFF"
          },
          "showarrow": false,
          "text": "0.0",
          "x": "Subcircum",
          "xref": "x",
          "y": "Year",
          "yref": "y"
         },
         {
          "font": {
           "color": "#FFFFFF"
          },
          "showarrow": false,
          "text": "0.0",
          "x": "VicCount",
          "xref": "x",
          "y": "Year",
          "yref": "y"
         },
         {
          "font": {
           "color": "#FFFFFF"
          },
          "showarrow": false,
          "text": "0.0",
          "x": "OffCount",
          "xref": "x",
          "y": "Year",
          "yref": "y"
         },
         {
          "font": {
           "color": "#FFFFFF"
          },
          "showarrow": false,
          "text": "0.0",
          "x": "Area",
          "xref": "x",
          "y": "Month",
          "yref": "y"
         },
         {
          "font": {
           "color": "#FFFFFF"
          },
          "showarrow": false,
          "text": "0.0",
          "x": "County",
          "xref": "x",
          "y": "Month",
          "yref": "y"
         },
         {
          "font": {
           "color": "#FFFFFF"
          },
          "showarrow": false,
          "text": "0.0",
          "x": "FileMonth",
          "xref": "x",
          "y": "Month",
          "yref": "y"
         },
         {
          "font": {
           "color": "#FFFFFF"
          },
          "showarrow": false,
          "text": "0.0",
          "x": "FileDay",
          "xref": "x",
          "y": "Month",
          "yref": "y"
         },
         {
          "font": {
           "color": "#FFFFFF"
          },
          "showarrow": false,
          "text": "0.0",
          "x": "FileYear",
          "xref": "x",
          "y": "Month",
          "yref": "y"
         },
         {
          "font": {
           "color": "#FFFFFF"
          },
          "showarrow": false,
          "text": "0.0",
          "x": "State",
          "xref": "x",
          "y": "Month",
          "yref": "y"
         },
         {
          "font": {
           "color": "#FFFFFF"
          },
          "showarrow": false,
          "text": "0.0",
          "x": "Agency",
          "xref": "x",
          "y": "Month",
          "yref": "y"
         },
         {
          "font": {
           "color": "#FFFFFF"
          },
          "showarrow": false,
          "text": "0.0",
          "x": "Agentype",
          "xref": "x",
          "y": "Month",
          "yref": "y"
         },
         {
          "font": {
           "color": "#FFFFFF"
          },
          "showarrow": false,
          "text": "0.0",
          "x": "Source",
          "xref": "x",
          "y": "Month",
          "yref": "y"
         },
         {
          "font": {
           "color": "#FFFFFF"
          },
          "showarrow": false,
          "text": "0.0",
          "x": "Year",
          "xref": "x",
          "y": "Month",
          "yref": "y"
         },
         {
          "font": {
           "color": "#FFFFFF"
          },
          "showarrow": false,
          "text": "0.0",
          "x": "Month",
          "xref": "x",
          "y": "Month",
          "yref": "y"
         },
         {
          "font": {
           "color": "#FFFFFF"
          },
          "showarrow": false,
          "text": "0.0",
          "x": "ActionType",
          "xref": "x",
          "y": "Month",
          "yref": "y"
         },
         {
          "font": {
           "color": "#FFFFFF"
          },
          "showarrow": false,
          "text": "0.0",
          "x": "Homicide",
          "xref": "x",
          "y": "Month",
          "yref": "y"
         },
         {
          "font": {
           "color": "#FFFFFF"
          },
          "showarrow": false,
          "text": "0.0",
          "x": "VicAge",
          "xref": "x",
          "y": "Month",
          "yref": "y"
         },
         {
          "font": {
           "color": "#FFFFFF"
          },
          "showarrow": false,
          "text": "0.0",
          "x": "VicSex",
          "xref": "x",
          "y": "Month",
          "yref": "y"
         },
         {
          "font": {
           "color": "#FFFFFF"
          },
          "showarrow": false,
          "text": "0.0",
          "x": "VicRace",
          "xref": "x",
          "y": "Month",
          "yref": "y"
         },
         {
          "font": {
           "color": "#FFFFFF"
          },
          "showarrow": false,
          "text": "0.0",
          "x": "VicEthnic",
          "xref": "x",
          "y": "Month",
          "yref": "y"
         },
         {
          "font": {
           "color": "#FFFFFF"
          },
          "showarrow": false,
          "text": "0.0",
          "x": "OffAge",
          "xref": "x",
          "y": "Month",
          "yref": "y"
         },
         {
          "font": {
           "color": "#FFFFFF"
          },
          "showarrow": false,
          "text": "0.0006",
          "x": "OffSex",
          "xref": "x",
          "y": "Month",
          "yref": "y"
         },
         {
          "font": {
           "color": "#FFFFFF"
          },
          "showarrow": false,
          "text": "0.0",
          "x": "OffRace",
          "xref": "x",
          "y": "Month",
          "yref": "y"
         },
         {
          "font": {
           "color": "#FFFFFF"
          },
          "showarrow": false,
          "text": "0.0",
          "x": "OffEthnic",
          "xref": "x",
          "y": "Month",
          "yref": "y"
         },
         {
          "font": {
           "color": "#FFFFFF"
          },
          "showarrow": false,
          "text": "0.0",
          "x": "Weapon",
          "xref": "x",
          "y": "Month",
          "yref": "y"
         },
         {
          "font": {
           "color": "#FFFFFF"
          },
          "showarrow": false,
          "text": "0.0",
          "x": "Relationship",
          "xref": "x",
          "y": "Month",
          "yref": "y"
         },
         {
          "font": {
           "color": "#FFFFFF"
          },
          "showarrow": false,
          "text": "0.0",
          "x": "Circumstance",
          "xref": "x",
          "y": "Month",
          "yref": "y"
         },
         {
          "font": {
           "color": "#FFFFFF"
          },
          "showarrow": false,
          "text": "0.0",
          "x": "Subcircum",
          "xref": "x",
          "y": "Month",
          "yref": "y"
         },
         {
          "font": {
           "color": "#FFFFFF"
          },
          "showarrow": false,
          "text": "0.0",
          "x": "VicCount",
          "xref": "x",
          "y": "Month",
          "yref": "y"
         },
         {
          "font": {
           "color": "#FFFFFF"
          },
          "showarrow": false,
          "text": "0.0",
          "x": "OffCount",
          "xref": "x",
          "y": "Month",
          "yref": "y"
         },
         {
          "font": {
           "color": "#FFFFFF"
          },
          "showarrow": false,
          "text": "0.0",
          "x": "Area",
          "xref": "x",
          "y": "ActionType",
          "yref": "y"
         },
         {
          "font": {
           "color": "#FFFFFF"
          },
          "showarrow": false,
          "text": "0.0",
          "x": "County",
          "xref": "x",
          "y": "ActionType",
          "yref": "y"
         },
         {
          "font": {
           "color": "#FFFFFF"
          },
          "showarrow": false,
          "text": "0.0",
          "x": "FileMonth",
          "xref": "x",
          "y": "ActionType",
          "yref": "y"
         },
         {
          "font": {
           "color": "#FFFFFF"
          },
          "showarrow": false,
          "text": "0.0",
          "x": "FileDay",
          "xref": "x",
          "y": "ActionType",
          "yref": "y"
         },
         {
          "font": {
           "color": "#FFFFFF"
          },
          "showarrow": false,
          "text": "0.0",
          "x": "FileYear",
          "xref": "x",
          "y": "ActionType",
          "yref": "y"
         },
         {
          "font": {
           "color": "#FFFFFF"
          },
          "showarrow": false,
          "text": "0.0",
          "x": "State",
          "xref": "x",
          "y": "ActionType",
          "yref": "y"
         },
         {
          "font": {
           "color": "#FFFFFF"
          },
          "showarrow": false,
          "text": "0.0",
          "x": "Agency",
          "xref": "x",
          "y": "ActionType",
          "yref": "y"
         },
         {
          "font": {
           "color": "#FFFFFF"
          },
          "showarrow": false,
          "text": "0.0",
          "x": "Agentype",
          "xref": "x",
          "y": "ActionType",
          "yref": "y"
         },
         {
          "font": {
           "color": "#FFFFFF"
          },
          "showarrow": false,
          "text": "0.0",
          "x": "Source",
          "xref": "x",
          "y": "ActionType",
          "yref": "y"
         },
         {
          "font": {
           "color": "#FFFFFF"
          },
          "showarrow": false,
          "text": "0.0",
          "x": "Year",
          "xref": "x",
          "y": "ActionType",
          "yref": "y"
         },
         {
          "font": {
           "color": "#FFFFFF"
          },
          "showarrow": false,
          "text": "0.0",
          "x": "Month",
          "xref": "x",
          "y": "ActionType",
          "yref": "y"
         },
         {
          "font": {
           "color": "#FFFFFF"
          },
          "showarrow": false,
          "text": "0.0",
          "x": "ActionType",
          "xref": "x",
          "y": "ActionType",
          "yref": "y"
         },
         {
          "font": {
           "color": "#FFFFFF"
          },
          "showarrow": false,
          "text": "0.0004",
          "x": "Homicide",
          "xref": "x",
          "y": "ActionType",
          "yref": "y"
         },
         {
          "font": {
           "color": "#FFFFFF"
          },
          "showarrow": false,
          "text": "0.0",
          "x": "VicAge",
          "xref": "x",
          "y": "ActionType",
          "yref": "y"
         },
         {
          "font": {
           "color": "#FFFFFF"
          },
          "showarrow": false,
          "text": "0.0",
          "x": "VicSex",
          "xref": "x",
          "y": "ActionType",
          "yref": "y"
         },
         {
          "font": {
           "color": "#FFFFFF"
          },
          "showarrow": false,
          "text": "0.0",
          "x": "VicRace",
          "xref": "x",
          "y": "ActionType",
          "yref": "y"
         },
         {
          "font": {
           "color": "#FFFFFF"
          },
          "showarrow": false,
          "text": "0.0",
          "x": "VicEthnic",
          "xref": "x",
          "y": "ActionType",
          "yref": "y"
         },
         {
          "font": {
           "color": "#FFFFFF"
          },
          "showarrow": false,
          "text": "0.0",
          "x": "OffAge",
          "xref": "x",
          "y": "ActionType",
          "yref": "y"
         },
         {
          "font": {
           "color": "#FFFFFF"
          },
          "showarrow": false,
          "text": "0.0",
          "x": "OffSex",
          "xref": "x",
          "y": "ActionType",
          "yref": "y"
         },
         {
          "font": {
           "color": "#FFFFFF"
          },
          "showarrow": false,
          "text": "0.0",
          "x": "OffRace",
          "xref": "x",
          "y": "ActionType",
          "yref": "y"
         },
         {
          "font": {
           "color": "#FFFFFF"
          },
          "showarrow": false,
          "text": "0.0",
          "x": "OffEthnic",
          "xref": "x",
          "y": "ActionType",
          "yref": "y"
         },
         {
          "font": {
           "color": "#FFFFFF"
          },
          "showarrow": false,
          "text": "0.0",
          "x": "Weapon",
          "xref": "x",
          "y": "ActionType",
          "yref": "y"
         },
         {
          "font": {
           "color": "#FFFFFF"
          },
          "showarrow": false,
          "text": "0.0",
          "x": "Relationship",
          "xref": "x",
          "y": "ActionType",
          "yref": "y"
         },
         {
          "font": {
           "color": "#FFFFFF"
          },
          "showarrow": false,
          "text": "0.0",
          "x": "Circumstance",
          "xref": "x",
          "y": "ActionType",
          "yref": "y"
         },
         {
          "font": {
           "color": "#FFFFFF"
          },
          "showarrow": false,
          "text": "0.0",
          "x": "Subcircum",
          "xref": "x",
          "y": "ActionType",
          "yref": "y"
         },
         {
          "font": {
           "color": "#FFFFFF"
          },
          "showarrow": false,
          "text": "0.0",
          "x": "VicCount",
          "xref": "x",
          "y": "ActionType",
          "yref": "y"
         },
         {
          "font": {
           "color": "#FFFFFF"
          },
          "showarrow": false,
          "text": "0.0",
          "x": "OffCount",
          "xref": "x",
          "y": "ActionType",
          "yref": "y"
         },
         {
          "font": {
           "color": "#FFFFFF"
          },
          "showarrow": false,
          "text": "0.0",
          "x": "Area",
          "xref": "x",
          "y": "Homicide",
          "yref": "y"
         },
         {
          "font": {
           "color": "#FFFFFF"
          },
          "showarrow": false,
          "text": "0.0",
          "x": "County",
          "xref": "x",
          "y": "Homicide",
          "yref": "y"
         },
         {
          "font": {
           "color": "#FFFFFF"
          },
          "showarrow": false,
          "text": "0.0",
          "x": "FileMonth",
          "xref": "x",
          "y": "Homicide",
          "yref": "y"
         },
         {
          "font": {
           "color": "#FFFFFF"
          },
          "showarrow": false,
          "text": "0.0",
          "x": "FileDay",
          "xref": "x",
          "y": "Homicide",
          "yref": "y"
         },
         {
          "font": {
           "color": "#FFFFFF"
          },
          "showarrow": false,
          "text": "0.0",
          "x": "FileYear",
          "xref": "x",
          "y": "Homicide",
          "yref": "y"
         },
         {
          "font": {
           "color": "#FFFFFF"
          },
          "showarrow": false,
          "text": "0.0",
          "x": "State",
          "xref": "x",
          "y": "Homicide",
          "yref": "y"
         },
         {
          "font": {
           "color": "#FFFFFF"
          },
          "showarrow": false,
          "text": "0.0",
          "x": "Agency",
          "xref": "x",
          "y": "Homicide",
          "yref": "y"
         },
         {
          "font": {
           "color": "#FFFFFF"
          },
          "showarrow": false,
          "text": "0.0",
          "x": "Agentype",
          "xref": "x",
          "y": "Homicide",
          "yref": "y"
         },
         {
          "font": {
           "color": "#FFFFFF"
          },
          "showarrow": false,
          "text": "0.0",
          "x": "Source",
          "xref": "x",
          "y": "Homicide",
          "yref": "y"
         },
         {
          "font": {
           "color": "#FFFFFF"
          },
          "showarrow": false,
          "text": "0.0",
          "x": "Year",
          "xref": "x",
          "y": "Homicide",
          "yref": "y"
         },
         {
          "font": {
           "color": "#FFFFFF"
          },
          "showarrow": false,
          "text": "0.0",
          "x": "Month",
          "xref": "x",
          "y": "Homicide",
          "yref": "y"
         },
         {
          "font": {
           "color": "#FFFFFF"
          },
          "showarrow": false,
          "text": "0.0004",
          "x": "ActionType",
          "xref": "x",
          "y": "Homicide",
          "yref": "y"
         },
         {
          "font": {
           "color": "#FFFFFF"
          },
          "showarrow": false,
          "text": "0.0",
          "x": "Homicide",
          "xref": "x",
          "y": "Homicide",
          "yref": "y"
         },
         {
          "font": {
           "color": "#FFFFFF"
          },
          "showarrow": false,
          "text": "0.0",
          "x": "VicAge",
          "xref": "x",
          "y": "Homicide",
          "yref": "y"
         },
         {
          "font": {
           "color": "#FFFFFF"
          },
          "showarrow": false,
          "text": "0.0",
          "x": "VicSex",
          "xref": "x",
          "y": "Homicide",
          "yref": "y"
         },
         {
          "font": {
           "color": "#FFFFFF"
          },
          "showarrow": false,
          "text": "0.0",
          "x": "VicRace",
          "xref": "x",
          "y": "Homicide",
          "yref": "y"
         },
         {
          "font": {
           "color": "#FFFFFF"
          },
          "showarrow": false,
          "text": "0.0",
          "x": "VicEthnic",
          "xref": "x",
          "y": "Homicide",
          "yref": "y"
         },
         {
          "font": {
           "color": "#FFFFFF"
          },
          "showarrow": false,
          "text": "0.0",
          "x": "OffAge",
          "xref": "x",
          "y": "Homicide",
          "yref": "y"
         },
         {
          "font": {
           "color": "#FFFFFF"
          },
          "showarrow": false,
          "text": "0.0",
          "x": "OffSex",
          "xref": "x",
          "y": "Homicide",
          "yref": "y"
         },
         {
          "font": {
           "color": "#FFFFFF"
          },
          "showarrow": false,
          "text": "0.0",
          "x": "OffRace",
          "xref": "x",
          "y": "Homicide",
          "yref": "y"
         },
         {
          "font": {
           "color": "#FFFFFF"
          },
          "showarrow": false,
          "text": "0.0",
          "x": "OffEthnic",
          "xref": "x",
          "y": "Homicide",
          "yref": "y"
         },
         {
          "font": {
           "color": "#FFFFFF"
          },
          "showarrow": false,
          "text": "0.0",
          "x": "Weapon",
          "xref": "x",
          "y": "Homicide",
          "yref": "y"
         },
         {
          "font": {
           "color": "#FFFFFF"
          },
          "showarrow": false,
          "text": "0.0",
          "x": "Relationship",
          "xref": "x",
          "y": "Homicide",
          "yref": "y"
         },
         {
          "font": {
           "color": "#FFFFFF"
          },
          "showarrow": false,
          "text": "0.0",
          "x": "Circumstance",
          "xref": "x",
          "y": "Homicide",
          "yref": "y"
         },
         {
          "font": {
           "color": "#FFFFFF"
          },
          "showarrow": false,
          "text": "0.0",
          "x": "Subcircum",
          "xref": "x",
          "y": "Homicide",
          "yref": "y"
         },
         {
          "font": {
           "color": "#FFFFFF"
          },
          "showarrow": false,
          "text": "0.0",
          "x": "VicCount",
          "xref": "x",
          "y": "Homicide",
          "yref": "y"
         },
         {
          "font": {
           "color": "#FFFFFF"
          },
          "showarrow": false,
          "text": "0.0",
          "x": "OffCount",
          "xref": "x",
          "y": "Homicide",
          "yref": "y"
         },
         {
          "font": {
           "color": "#FFFFFF"
          },
          "showarrow": false,
          "text": "0.0",
          "x": "Area",
          "xref": "x",
          "y": "VicAge",
          "yref": "y"
         },
         {
          "font": {
           "color": "#FFFFFF"
          },
          "showarrow": false,
          "text": "0.0",
          "x": "County",
          "xref": "x",
          "y": "VicAge",
          "yref": "y"
         },
         {
          "font": {
           "color": "#FFFFFF"
          },
          "showarrow": false,
          "text": "0.0",
          "x": "FileMonth",
          "xref": "x",
          "y": "VicAge",
          "yref": "y"
         },
         {
          "font": {
           "color": "#FFFFFF"
          },
          "showarrow": false,
          "text": "0.0",
          "x": "FileDay",
          "xref": "x",
          "y": "VicAge",
          "yref": "y"
         },
         {
          "font": {
           "color": "#FFFFFF"
          },
          "showarrow": false,
          "text": "0.0",
          "x": "FileYear",
          "xref": "x",
          "y": "VicAge",
          "yref": "y"
         },
         {
          "font": {
           "color": "#FFFFFF"
          },
          "showarrow": false,
          "text": "0.0",
          "x": "State",
          "xref": "x",
          "y": "VicAge",
          "yref": "y"
         },
         {
          "font": {
           "color": "#FFFFFF"
          },
          "showarrow": false,
          "text": "0.0",
          "x": "Agency",
          "xref": "x",
          "y": "VicAge",
          "yref": "y"
         },
         {
          "font": {
           "color": "#FFFFFF"
          },
          "showarrow": false,
          "text": "0.0",
          "x": "Agentype",
          "xref": "x",
          "y": "VicAge",
          "yref": "y"
         },
         {
          "font": {
           "color": "#FFFFFF"
          },
          "showarrow": false,
          "text": "0.0",
          "x": "Source",
          "xref": "x",
          "y": "VicAge",
          "yref": "y"
         },
         {
          "font": {
           "color": "#FFFFFF"
          },
          "showarrow": false,
          "text": "0.0",
          "x": "Year",
          "xref": "x",
          "y": "VicAge",
          "yref": "y"
         },
         {
          "font": {
           "color": "#FFFFFF"
          },
          "showarrow": false,
          "text": "0.0",
          "x": "Month",
          "xref": "x",
          "y": "VicAge",
          "yref": "y"
         },
         {
          "font": {
           "color": "#FFFFFF"
          },
          "showarrow": false,
          "text": "0.0",
          "x": "ActionType",
          "xref": "x",
          "y": "VicAge",
          "yref": "y"
         },
         {
          "font": {
           "color": "#FFFFFF"
          },
          "showarrow": false,
          "text": "0.0",
          "x": "Homicide",
          "xref": "x",
          "y": "VicAge",
          "yref": "y"
         },
         {
          "font": {
           "color": "#FFFFFF"
          },
          "showarrow": false,
          "text": "0.0",
          "x": "VicAge",
          "xref": "x",
          "y": "VicAge",
          "yref": "y"
         },
         {
          "font": {
           "color": "#FFFFFF"
          },
          "showarrow": false,
          "text": "0.0",
          "x": "VicSex",
          "xref": "x",
          "y": "VicAge",
          "yref": "y"
         },
         {
          "font": {
           "color": "#FFFFFF"
          },
          "showarrow": false,
          "text": "0.0",
          "x": "VicRace",
          "xref": "x",
          "y": "VicAge",
          "yref": "y"
         },
         {
          "font": {
           "color": "#FFFFFF"
          },
          "showarrow": false,
          "text": "0.0",
          "x": "VicEthnic",
          "xref": "x",
          "y": "VicAge",
          "yref": "y"
         },
         {
          "font": {
           "color": "#FFFFFF"
          },
          "showarrow": false,
          "text": "0.0",
          "x": "OffAge",
          "xref": "x",
          "y": "VicAge",
          "yref": "y"
         },
         {
          "font": {
           "color": "#FFFFFF"
          },
          "showarrow": false,
          "text": "0.0",
          "x": "OffSex",
          "xref": "x",
          "y": "VicAge",
          "yref": "y"
         },
         {
          "font": {
           "color": "#FFFFFF"
          },
          "showarrow": false,
          "text": "0.0",
          "x": "OffRace",
          "xref": "x",
          "y": "VicAge",
          "yref": "y"
         },
         {
          "font": {
           "color": "#FFFFFF"
          },
          "showarrow": false,
          "text": "0.0",
          "x": "OffEthnic",
          "xref": "x",
          "y": "VicAge",
          "yref": "y"
         },
         {
          "font": {
           "color": "#FFFFFF"
          },
          "showarrow": false,
          "text": "0.0",
          "x": "Weapon",
          "xref": "x",
          "y": "VicAge",
          "yref": "y"
         },
         {
          "font": {
           "color": "#FFFFFF"
          },
          "showarrow": false,
          "text": "0.0",
          "x": "Relationship",
          "xref": "x",
          "y": "VicAge",
          "yref": "y"
         },
         {
          "font": {
           "color": "#FFFFFF"
          },
          "showarrow": false,
          "text": "0.0",
          "x": "Circumstance",
          "xref": "x",
          "y": "VicAge",
          "yref": "y"
         },
         {
          "font": {
           "color": "#FFFFFF"
          },
          "showarrow": false,
          "text": "0.0",
          "x": "Subcircum",
          "xref": "x",
          "y": "VicAge",
          "yref": "y"
         },
         {
          "font": {
           "color": "#FFFFFF"
          },
          "showarrow": false,
          "text": "0.0",
          "x": "VicCount",
          "xref": "x",
          "y": "VicAge",
          "yref": "y"
         },
         {
          "font": {
           "color": "#FFFFFF"
          },
          "showarrow": false,
          "text": "0.0",
          "x": "OffCount",
          "xref": "x",
          "y": "VicAge",
          "yref": "y"
         },
         {
          "font": {
           "color": "#FFFFFF"
          },
          "showarrow": false,
          "text": "0.0",
          "x": "Area",
          "xref": "x",
          "y": "VicSex",
          "yref": "y"
         },
         {
          "font": {
           "color": "#FFFFFF"
          },
          "showarrow": false,
          "text": "0.0",
          "x": "County",
          "xref": "x",
          "y": "VicSex",
          "yref": "y"
         },
         {
          "font": {
           "color": "#FFFFFF"
          },
          "showarrow": false,
          "text": "0.0",
          "x": "FileMonth",
          "xref": "x",
          "y": "VicSex",
          "yref": "y"
         },
         {
          "font": {
           "color": "#FFFFFF"
          },
          "showarrow": false,
          "text": "0.0",
          "x": "FileDay",
          "xref": "x",
          "y": "VicSex",
          "yref": "y"
         },
         {
          "font": {
           "color": "#FFFFFF"
          },
          "showarrow": false,
          "text": "0.0",
          "x": "FileYear",
          "xref": "x",
          "y": "VicSex",
          "yref": "y"
         },
         {
          "font": {
           "color": "#FFFFFF"
          },
          "showarrow": false,
          "text": "0.0",
          "x": "State",
          "xref": "x",
          "y": "VicSex",
          "yref": "y"
         },
         {
          "font": {
           "color": "#FFFFFF"
          },
          "showarrow": false,
          "text": "0.0",
          "x": "Agency",
          "xref": "x",
          "y": "VicSex",
          "yref": "y"
         },
         {
          "font": {
           "color": "#FFFFFF"
          },
          "showarrow": false,
          "text": "0.0",
          "x": "Agentype",
          "xref": "x",
          "y": "VicSex",
          "yref": "y"
         },
         {
          "font": {
           "color": "#FFFFFF"
          },
          "showarrow": false,
          "text": "0.0",
          "x": "Source",
          "xref": "x",
          "y": "VicSex",
          "yref": "y"
         },
         {
          "font": {
           "color": "#FFFFFF"
          },
          "showarrow": false,
          "text": "0.0",
          "x": "Year",
          "xref": "x",
          "y": "VicSex",
          "yref": "y"
         },
         {
          "font": {
           "color": "#FFFFFF"
          },
          "showarrow": false,
          "text": "0.0",
          "x": "Month",
          "xref": "x",
          "y": "VicSex",
          "yref": "y"
         },
         {
          "font": {
           "color": "#FFFFFF"
          },
          "showarrow": false,
          "text": "0.0",
          "x": "ActionType",
          "xref": "x",
          "y": "VicSex",
          "yref": "y"
         },
         {
          "font": {
           "color": "#FFFFFF"
          },
          "showarrow": false,
          "text": "0.0",
          "x": "Homicide",
          "xref": "x",
          "y": "VicSex",
          "yref": "y"
         },
         {
          "font": {
           "color": "#FFFFFF"
          },
          "showarrow": false,
          "text": "0.0",
          "x": "VicAge",
          "xref": "x",
          "y": "VicSex",
          "yref": "y"
         },
         {
          "font": {
           "color": "#FFFFFF"
          },
          "showarrow": false,
          "text": "0.0",
          "x": "VicSex",
          "xref": "x",
          "y": "VicSex",
          "yref": "y"
         },
         {
          "font": {
           "color": "#FFFFFF"
          },
          "showarrow": false,
          "text": "0.0",
          "x": "VicRace",
          "xref": "x",
          "y": "VicSex",
          "yref": "y"
         },
         {
          "font": {
           "color": "#FFFFFF"
          },
          "showarrow": false,
          "text": "0.0",
          "x": "VicEthnic",
          "xref": "x",
          "y": "VicSex",
          "yref": "y"
         },
         {
          "font": {
           "color": "#FFFFFF"
          },
          "showarrow": false,
          "text": "0.0",
          "x": "OffAge",
          "xref": "x",
          "y": "VicSex",
          "yref": "y"
         },
         {
          "font": {
           "color": "#FFFFFF"
          },
          "showarrow": false,
          "text": "0.0",
          "x": "OffSex",
          "xref": "x",
          "y": "VicSex",
          "yref": "y"
         },
         {
          "font": {
           "color": "#FFFFFF"
          },
          "showarrow": false,
          "text": "0.0",
          "x": "OffRace",
          "xref": "x",
          "y": "VicSex",
          "yref": "y"
         },
         {
          "font": {
           "color": "#FFFFFF"
          },
          "showarrow": false,
          "text": "0.0",
          "x": "OffEthnic",
          "xref": "x",
          "y": "VicSex",
          "yref": "y"
         },
         {
          "font": {
           "color": "#FFFFFF"
          },
          "showarrow": false,
          "text": "0.0",
          "x": "Weapon",
          "xref": "x",
          "y": "VicSex",
          "yref": "y"
         },
         {
          "font": {
           "color": "#FFFFFF"
          },
          "showarrow": false,
          "text": "0.0",
          "x": "Relationship",
          "xref": "x",
          "y": "VicSex",
          "yref": "y"
         },
         {
          "font": {
           "color": "#FFFFFF"
          },
          "showarrow": false,
          "text": "0.0",
          "x": "Circumstance",
          "xref": "x",
          "y": "VicSex",
          "yref": "y"
         },
         {
          "font": {
           "color": "#FFFFFF"
          },
          "showarrow": false,
          "text": "0.0",
          "x": "Subcircum",
          "xref": "x",
          "y": "VicSex",
          "yref": "y"
         },
         {
          "font": {
           "color": "#FFFFFF"
          },
          "showarrow": false,
          "text": "0.0",
          "x": "VicCount",
          "xref": "x",
          "y": "VicSex",
          "yref": "y"
         },
         {
          "font": {
           "color": "#FFFFFF"
          },
          "showarrow": false,
          "text": "0.0",
          "x": "OffCount",
          "xref": "x",
          "y": "VicSex",
          "yref": "y"
         },
         {
          "font": {
           "color": "#FFFFFF"
          },
          "showarrow": false,
          "text": "0.0",
          "x": "Area",
          "xref": "x",
          "y": "VicRace",
          "yref": "y"
         },
         {
          "font": {
           "color": "#FFFFFF"
          },
          "showarrow": false,
          "text": "0.0",
          "x": "County",
          "xref": "x",
          "y": "VicRace",
          "yref": "y"
         },
         {
          "font": {
           "color": "#FFFFFF"
          },
          "showarrow": false,
          "text": "0.0",
          "x": "FileMonth",
          "xref": "x",
          "y": "VicRace",
          "yref": "y"
         },
         {
          "font": {
           "color": "#FFFFFF"
          },
          "showarrow": false,
          "text": "0.0",
          "x": "FileDay",
          "xref": "x",
          "y": "VicRace",
          "yref": "y"
         },
         {
          "font": {
           "color": "#FFFFFF"
          },
          "showarrow": false,
          "text": "0.0",
          "x": "FileYear",
          "xref": "x",
          "y": "VicRace",
          "yref": "y"
         },
         {
          "font": {
           "color": "#FFFFFF"
          },
          "showarrow": false,
          "text": "0.0",
          "x": "State",
          "xref": "x",
          "y": "VicRace",
          "yref": "y"
         },
         {
          "font": {
           "color": "#FFFFFF"
          },
          "showarrow": false,
          "text": "0.0",
          "x": "Agency",
          "xref": "x",
          "y": "VicRace",
          "yref": "y"
         },
         {
          "font": {
           "color": "#FFFFFF"
          },
          "showarrow": false,
          "text": "0.0",
          "x": "Agentype",
          "xref": "x",
          "y": "VicRace",
          "yref": "y"
         },
         {
          "font": {
           "color": "#FFFFFF"
          },
          "showarrow": false,
          "text": "0.0",
          "x": "Source",
          "xref": "x",
          "y": "VicRace",
          "yref": "y"
         },
         {
          "font": {
           "color": "#FFFFFF"
          },
          "showarrow": false,
          "text": "0.0",
          "x": "Year",
          "xref": "x",
          "y": "VicRace",
          "yref": "y"
         },
         {
          "font": {
           "color": "#FFFFFF"
          },
          "showarrow": false,
          "text": "0.0",
          "x": "Month",
          "xref": "x",
          "y": "VicRace",
          "yref": "y"
         },
         {
          "font": {
           "color": "#FFFFFF"
          },
          "showarrow": false,
          "text": "0.0",
          "x": "ActionType",
          "xref": "x",
          "y": "VicRace",
          "yref": "y"
         },
         {
          "font": {
           "color": "#FFFFFF"
          },
          "showarrow": false,
          "text": "0.0",
          "x": "Homicide",
          "xref": "x",
          "y": "VicRace",
          "yref": "y"
         },
         {
          "font": {
           "color": "#FFFFFF"
          },
          "showarrow": false,
          "text": "0.0",
          "x": "VicAge",
          "xref": "x",
          "y": "VicRace",
          "yref": "y"
         },
         {
          "font": {
           "color": "#FFFFFF"
          },
          "showarrow": false,
          "text": "0.0",
          "x": "VicSex",
          "xref": "x",
          "y": "VicRace",
          "yref": "y"
         },
         {
          "font": {
           "color": "#FFFFFF"
          },
          "showarrow": false,
          "text": "0.0",
          "x": "VicRace",
          "xref": "x",
          "y": "VicRace",
          "yref": "y"
         },
         {
          "font": {
           "color": "#FFFFFF"
          },
          "showarrow": false,
          "text": "0.0",
          "x": "VicEthnic",
          "xref": "x",
          "y": "VicRace",
          "yref": "y"
         },
         {
          "font": {
           "color": "#FFFFFF"
          },
          "showarrow": false,
          "text": "0.0",
          "x": "OffAge",
          "xref": "x",
          "y": "VicRace",
          "yref": "y"
         },
         {
          "font": {
           "color": "#FFFFFF"
          },
          "showarrow": false,
          "text": "0.0",
          "x": "OffSex",
          "xref": "x",
          "y": "VicRace",
          "yref": "y"
         },
         {
          "font": {
           "color": "#FFFFFF"
          },
          "showarrow": false,
          "text": "0.0",
          "x": "OffRace",
          "xref": "x",
          "y": "VicRace",
          "yref": "y"
         },
         {
          "font": {
           "color": "#FFFFFF"
          },
          "showarrow": false,
          "text": "0.0",
          "x": "OffEthnic",
          "xref": "x",
          "y": "VicRace",
          "yref": "y"
         },
         {
          "font": {
           "color": "#FFFFFF"
          },
          "showarrow": false,
          "text": "0.0",
          "x": "Weapon",
          "xref": "x",
          "y": "VicRace",
          "yref": "y"
         },
         {
          "font": {
           "color": "#FFFFFF"
          },
          "showarrow": false,
          "text": "0.0",
          "x": "Relationship",
          "xref": "x",
          "y": "VicRace",
          "yref": "y"
         },
         {
          "font": {
           "color": "#FFFFFF"
          },
          "showarrow": false,
          "text": "0.0",
          "x": "Circumstance",
          "xref": "x",
          "y": "VicRace",
          "yref": "y"
         },
         {
          "font": {
           "color": "#FFFFFF"
          },
          "showarrow": false,
          "text": "0.0",
          "x": "Subcircum",
          "xref": "x",
          "y": "VicRace",
          "yref": "y"
         },
         {
          "font": {
           "color": "#FFFFFF"
          },
          "showarrow": false,
          "text": "0.0",
          "x": "VicCount",
          "xref": "x",
          "y": "VicRace",
          "yref": "y"
         },
         {
          "font": {
           "color": "#FFFFFF"
          },
          "showarrow": false,
          "text": "0.0",
          "x": "OffCount",
          "xref": "x",
          "y": "VicRace",
          "yref": "y"
         },
         {
          "font": {
           "color": "#FFFFFF"
          },
          "showarrow": false,
          "text": "0.0",
          "x": "Area",
          "xref": "x",
          "y": "VicEthnic",
          "yref": "y"
         },
         {
          "font": {
           "color": "#FFFFFF"
          },
          "showarrow": false,
          "text": "0.0",
          "x": "County",
          "xref": "x",
          "y": "VicEthnic",
          "yref": "y"
         },
         {
          "font": {
           "color": "#FFFFFF"
          },
          "showarrow": false,
          "text": "0.0",
          "x": "FileMonth",
          "xref": "x",
          "y": "VicEthnic",
          "yref": "y"
         },
         {
          "font": {
           "color": "#FFFFFF"
          },
          "showarrow": false,
          "text": "0.0",
          "x": "FileDay",
          "xref": "x",
          "y": "VicEthnic",
          "yref": "y"
         },
         {
          "font": {
           "color": "#FFFFFF"
          },
          "showarrow": false,
          "text": "0.0",
          "x": "FileYear",
          "xref": "x",
          "y": "VicEthnic",
          "yref": "y"
         },
         {
          "font": {
           "color": "#FFFFFF"
          },
          "showarrow": false,
          "text": "0.0",
          "x": "State",
          "xref": "x",
          "y": "VicEthnic",
          "yref": "y"
         },
         {
          "font": {
           "color": "#FFFFFF"
          },
          "showarrow": false,
          "text": "0.0",
          "x": "Agency",
          "xref": "x",
          "y": "VicEthnic",
          "yref": "y"
         },
         {
          "font": {
           "color": "#FFFFFF"
          },
          "showarrow": false,
          "text": "0.0",
          "x": "Agentype",
          "xref": "x",
          "y": "VicEthnic",
          "yref": "y"
         },
         {
          "font": {
           "color": "#FFFFFF"
          },
          "showarrow": false,
          "text": "0.0",
          "x": "Source",
          "xref": "x",
          "y": "VicEthnic",
          "yref": "y"
         },
         {
          "font": {
           "color": "#FFFFFF"
          },
          "showarrow": false,
          "text": "0.0",
          "x": "Year",
          "xref": "x",
          "y": "VicEthnic",
          "yref": "y"
         },
         {
          "font": {
           "color": "#FFFFFF"
          },
          "showarrow": false,
          "text": "0.0",
          "x": "Month",
          "xref": "x",
          "y": "VicEthnic",
          "yref": "y"
         },
         {
          "font": {
           "color": "#FFFFFF"
          },
          "showarrow": false,
          "text": "0.0",
          "x": "ActionType",
          "xref": "x",
          "y": "VicEthnic",
          "yref": "y"
         },
         {
          "font": {
           "color": "#FFFFFF"
          },
          "showarrow": false,
          "text": "0.0",
          "x": "Homicide",
          "xref": "x",
          "y": "VicEthnic",
          "yref": "y"
         },
         {
          "font": {
           "color": "#FFFFFF"
          },
          "showarrow": false,
          "text": "0.0",
          "x": "VicAge",
          "xref": "x",
          "y": "VicEthnic",
          "yref": "y"
         },
         {
          "font": {
           "color": "#FFFFFF"
          },
          "showarrow": false,
          "text": "0.0",
          "x": "VicSex",
          "xref": "x",
          "y": "VicEthnic",
          "yref": "y"
         },
         {
          "font": {
           "color": "#FFFFFF"
          },
          "showarrow": false,
          "text": "0.0",
          "x": "VicRace",
          "xref": "x",
          "y": "VicEthnic",
          "yref": "y"
         },
         {
          "font": {
           "color": "#FFFFFF"
          },
          "showarrow": false,
          "text": "0.0",
          "x": "VicEthnic",
          "xref": "x",
          "y": "VicEthnic",
          "yref": "y"
         },
         {
          "font": {
           "color": "#FFFFFF"
          },
          "showarrow": false,
          "text": "0.0",
          "x": "OffAge",
          "xref": "x",
          "y": "VicEthnic",
          "yref": "y"
         },
         {
          "font": {
           "color": "#FFFFFF"
          },
          "showarrow": false,
          "text": "0.0",
          "x": "OffSex",
          "xref": "x",
          "y": "VicEthnic",
          "yref": "y"
         },
         {
          "font": {
           "color": "#FFFFFF"
          },
          "showarrow": false,
          "text": "0.0",
          "x": "OffRace",
          "xref": "x",
          "y": "VicEthnic",
          "yref": "y"
         },
         {
          "font": {
           "color": "#FFFFFF"
          },
          "showarrow": false,
          "text": "0.0",
          "x": "OffEthnic",
          "xref": "x",
          "y": "VicEthnic",
          "yref": "y"
         },
         {
          "font": {
           "color": "#FFFFFF"
          },
          "showarrow": false,
          "text": "0.0",
          "x": "Weapon",
          "xref": "x",
          "y": "VicEthnic",
          "yref": "y"
         },
         {
          "font": {
           "color": "#FFFFFF"
          },
          "showarrow": false,
          "text": "0.0",
          "x": "Relationship",
          "xref": "x",
          "y": "VicEthnic",
          "yref": "y"
         },
         {
          "font": {
           "color": "#FFFFFF"
          },
          "showarrow": false,
          "text": "0.0",
          "x": "Circumstance",
          "xref": "x",
          "y": "VicEthnic",
          "yref": "y"
         },
         {
          "font": {
           "color": "#FFFFFF"
          },
          "showarrow": false,
          "text": "0.0",
          "x": "Subcircum",
          "xref": "x",
          "y": "VicEthnic",
          "yref": "y"
         },
         {
          "font": {
           "color": "#FFFFFF"
          },
          "showarrow": false,
          "text": "0.0",
          "x": "VicCount",
          "xref": "x",
          "y": "VicEthnic",
          "yref": "y"
         },
         {
          "font": {
           "color": "#FFFFFF"
          },
          "showarrow": false,
          "text": "0.0",
          "x": "OffCount",
          "xref": "x",
          "y": "VicEthnic",
          "yref": "y"
         },
         {
          "font": {
           "color": "#FFFFFF"
          },
          "showarrow": false,
          "text": "0.0",
          "x": "Area",
          "xref": "x",
          "y": "OffAge",
          "yref": "y"
         },
         {
          "font": {
           "color": "#FFFFFF"
          },
          "showarrow": false,
          "text": "0.0",
          "x": "County",
          "xref": "x",
          "y": "OffAge",
          "yref": "y"
         },
         {
          "font": {
           "color": "#FFFFFF"
          },
          "showarrow": false,
          "text": "0.0",
          "x": "FileMonth",
          "xref": "x",
          "y": "OffAge",
          "yref": "y"
         },
         {
          "font": {
           "color": "#FFFFFF"
          },
          "showarrow": false,
          "text": "0.0",
          "x": "FileDay",
          "xref": "x",
          "y": "OffAge",
          "yref": "y"
         },
         {
          "font": {
           "color": "#FFFFFF"
          },
          "showarrow": false,
          "text": "0.0",
          "x": "FileYear",
          "xref": "x",
          "y": "OffAge",
          "yref": "y"
         },
         {
          "font": {
           "color": "#FFFFFF"
          },
          "showarrow": false,
          "text": "0.0",
          "x": "State",
          "xref": "x",
          "y": "OffAge",
          "yref": "y"
         },
         {
          "font": {
           "color": "#FFFFFF"
          },
          "showarrow": false,
          "text": "0.0",
          "x": "Agency",
          "xref": "x",
          "y": "OffAge",
          "yref": "y"
         },
         {
          "font": {
           "color": "#FFFFFF"
          },
          "showarrow": false,
          "text": "0.0",
          "x": "Agentype",
          "xref": "x",
          "y": "OffAge",
          "yref": "y"
         },
         {
          "font": {
           "color": "#FFFFFF"
          },
          "showarrow": false,
          "text": "0.0",
          "x": "Source",
          "xref": "x",
          "y": "OffAge",
          "yref": "y"
         },
         {
          "font": {
           "color": "#FFFFFF"
          },
          "showarrow": false,
          "text": "0.0",
          "x": "Year",
          "xref": "x",
          "y": "OffAge",
          "yref": "y"
         },
         {
          "font": {
           "color": "#FFFFFF"
          },
          "showarrow": false,
          "text": "0.0",
          "x": "Month",
          "xref": "x",
          "y": "OffAge",
          "yref": "y"
         },
         {
          "font": {
           "color": "#FFFFFF"
          },
          "showarrow": false,
          "text": "0.0",
          "x": "ActionType",
          "xref": "x",
          "y": "OffAge",
          "yref": "y"
         },
         {
          "font": {
           "color": "#FFFFFF"
          },
          "showarrow": false,
          "text": "0.0",
          "x": "Homicide",
          "xref": "x",
          "y": "OffAge",
          "yref": "y"
         },
         {
          "font": {
           "color": "#FFFFFF"
          },
          "showarrow": false,
          "text": "0.0",
          "x": "VicAge",
          "xref": "x",
          "y": "OffAge",
          "yref": "y"
         },
         {
          "font": {
           "color": "#FFFFFF"
          },
          "showarrow": false,
          "text": "0.0",
          "x": "VicSex",
          "xref": "x",
          "y": "OffAge",
          "yref": "y"
         },
         {
          "font": {
           "color": "#FFFFFF"
          },
          "showarrow": false,
          "text": "0.0",
          "x": "VicRace",
          "xref": "x",
          "y": "OffAge",
          "yref": "y"
         },
         {
          "font": {
           "color": "#FFFFFF"
          },
          "showarrow": false,
          "text": "0.0",
          "x": "VicEthnic",
          "xref": "x",
          "y": "OffAge",
          "yref": "y"
         },
         {
          "font": {
           "color": "#FFFFFF"
          },
          "showarrow": false,
          "text": "0.0",
          "x": "OffAge",
          "xref": "x",
          "y": "OffAge",
          "yref": "y"
         },
         {
          "font": {
           "color": "#FFFFFF"
          },
          "showarrow": false,
          "text": "0.0",
          "x": "OffSex",
          "xref": "x",
          "y": "OffAge",
          "yref": "y"
         },
         {
          "font": {
           "color": "#FFFFFF"
          },
          "showarrow": false,
          "text": "0.0",
          "x": "OffRace",
          "xref": "x",
          "y": "OffAge",
          "yref": "y"
         },
         {
          "font": {
           "color": "#FFFFFF"
          },
          "showarrow": false,
          "text": "0.0",
          "x": "OffEthnic",
          "xref": "x",
          "y": "OffAge",
          "yref": "y"
         },
         {
          "font": {
           "color": "#FFFFFF"
          },
          "showarrow": false,
          "text": "0.0",
          "x": "Weapon",
          "xref": "x",
          "y": "OffAge",
          "yref": "y"
         },
         {
          "font": {
           "color": "#FFFFFF"
          },
          "showarrow": false,
          "text": "0.0",
          "x": "Relationship",
          "xref": "x",
          "y": "OffAge",
          "yref": "y"
         },
         {
          "font": {
           "color": "#FFFFFF"
          },
          "showarrow": false,
          "text": "0.0",
          "x": "Circumstance",
          "xref": "x",
          "y": "OffAge",
          "yref": "y"
         },
         {
          "font": {
           "color": "#FFFFFF"
          },
          "showarrow": false,
          "text": "0.0",
          "x": "Subcircum",
          "xref": "x",
          "y": "OffAge",
          "yref": "y"
         },
         {
          "font": {
           "color": "#FFFFFF"
          },
          "showarrow": false,
          "text": "0.0",
          "x": "VicCount",
          "xref": "x",
          "y": "OffAge",
          "yref": "y"
         },
         {
          "font": {
           "color": "#FFFFFF"
          },
          "showarrow": false,
          "text": "0.0",
          "x": "OffCount",
          "xref": "x",
          "y": "OffAge",
          "yref": "y"
         },
         {
          "font": {
           "color": "#FFFFFF"
          },
          "showarrow": false,
          "text": "0.0",
          "x": "Area",
          "xref": "x",
          "y": "OffSex",
          "yref": "y"
         },
         {
          "font": {
           "color": "#FFFFFF"
          },
          "showarrow": false,
          "text": "0.0",
          "x": "County",
          "xref": "x",
          "y": "OffSex",
          "yref": "y"
         },
         {
          "font": {
           "color": "#FFFFFF"
          },
          "showarrow": false,
          "text": "0.0",
          "x": "FileMonth",
          "xref": "x",
          "y": "OffSex",
          "yref": "y"
         },
         {
          "font": {
           "color": "#FFFFFF"
          },
          "showarrow": false,
          "text": "0.0",
          "x": "FileDay",
          "xref": "x",
          "y": "OffSex",
          "yref": "y"
         },
         {
          "font": {
           "color": "#FFFFFF"
          },
          "showarrow": false,
          "text": "0.0",
          "x": "FileYear",
          "xref": "x",
          "y": "OffSex",
          "yref": "y"
         },
         {
          "font": {
           "color": "#FFFFFF"
          },
          "showarrow": false,
          "text": "0.0",
          "x": "State",
          "xref": "x",
          "y": "OffSex",
          "yref": "y"
         },
         {
          "font": {
           "color": "#FFFFFF"
          },
          "showarrow": false,
          "text": "0.0",
          "x": "Agency",
          "xref": "x",
          "y": "OffSex",
          "yref": "y"
         },
         {
          "font": {
           "color": "#FFFFFF"
          },
          "showarrow": false,
          "text": "0.0",
          "x": "Agentype",
          "xref": "x",
          "y": "OffSex",
          "yref": "y"
         },
         {
          "font": {
           "color": "#FFFFFF"
          },
          "showarrow": false,
          "text": "0.0",
          "x": "Source",
          "xref": "x",
          "y": "OffSex",
          "yref": "y"
         },
         {
          "font": {
           "color": "#FFFFFF"
          },
          "showarrow": false,
          "text": "0.0",
          "x": "Year",
          "xref": "x",
          "y": "OffSex",
          "yref": "y"
         },
         {
          "font": {
           "color": "#FFFFFF"
          },
          "showarrow": false,
          "text": "0.0006",
          "x": "Month",
          "xref": "x",
          "y": "OffSex",
          "yref": "y"
         },
         {
          "font": {
           "color": "#FFFFFF"
          },
          "showarrow": false,
          "text": "0.0",
          "x": "ActionType",
          "xref": "x",
          "y": "OffSex",
          "yref": "y"
         },
         {
          "font": {
           "color": "#FFFFFF"
          },
          "showarrow": false,
          "text": "0.0",
          "x": "Homicide",
          "xref": "x",
          "y": "OffSex",
          "yref": "y"
         },
         {
          "font": {
           "color": "#FFFFFF"
          },
          "showarrow": false,
          "text": "0.0",
          "x": "VicAge",
          "xref": "x",
          "y": "OffSex",
          "yref": "y"
         },
         {
          "font": {
           "color": "#FFFFFF"
          },
          "showarrow": false,
          "text": "0.0",
          "x": "VicSex",
          "xref": "x",
          "y": "OffSex",
          "yref": "y"
         },
         {
          "font": {
           "color": "#FFFFFF"
          },
          "showarrow": false,
          "text": "0.0",
          "x": "VicRace",
          "xref": "x",
          "y": "OffSex",
          "yref": "y"
         },
         {
          "font": {
           "color": "#FFFFFF"
          },
          "showarrow": false,
          "text": "0.0",
          "x": "VicEthnic",
          "xref": "x",
          "y": "OffSex",
          "yref": "y"
         },
         {
          "font": {
           "color": "#FFFFFF"
          },
          "showarrow": false,
          "text": "0.0",
          "x": "OffAge",
          "xref": "x",
          "y": "OffSex",
          "yref": "y"
         },
         {
          "font": {
           "color": "#FFFFFF"
          },
          "showarrow": false,
          "text": "0.0",
          "x": "OffSex",
          "xref": "x",
          "y": "OffSex",
          "yref": "y"
         },
         {
          "font": {
           "color": "#FFFFFF"
          },
          "showarrow": false,
          "text": "0.0",
          "x": "OffRace",
          "xref": "x",
          "y": "OffSex",
          "yref": "y"
         },
         {
          "font": {
           "color": "#FFFFFF"
          },
          "showarrow": false,
          "text": "0.0",
          "x": "OffEthnic",
          "xref": "x",
          "y": "OffSex",
          "yref": "y"
         },
         {
          "font": {
           "color": "#FFFFFF"
          },
          "showarrow": false,
          "text": "0.0",
          "x": "Weapon",
          "xref": "x",
          "y": "OffSex",
          "yref": "y"
         },
         {
          "font": {
           "color": "#FFFFFF"
          },
          "showarrow": false,
          "text": "0.0",
          "x": "Relationship",
          "xref": "x",
          "y": "OffSex",
          "yref": "y"
         },
         {
          "font": {
           "color": "#FFFFFF"
          },
          "showarrow": false,
          "text": "0.0",
          "x": "Circumstance",
          "xref": "x",
          "y": "OffSex",
          "yref": "y"
         },
         {
          "font": {
           "color": "#FFFFFF"
          },
          "showarrow": false,
          "text": "0.0",
          "x": "Subcircum",
          "xref": "x",
          "y": "OffSex",
          "yref": "y"
         },
         {
          "font": {
           "color": "#FFFFFF"
          },
          "showarrow": false,
          "text": "0.0",
          "x": "VicCount",
          "xref": "x",
          "y": "OffSex",
          "yref": "y"
         },
         {
          "font": {
           "color": "#FFFFFF"
          },
          "showarrow": false,
          "text": "0.0",
          "x": "OffCount",
          "xref": "x",
          "y": "OffSex",
          "yref": "y"
         },
         {
          "font": {
           "color": "#FFFFFF"
          },
          "showarrow": false,
          "text": "0.0",
          "x": "Area",
          "xref": "x",
          "y": "OffRace",
          "yref": "y"
         },
         {
          "font": {
           "color": "#FFFFFF"
          },
          "showarrow": false,
          "text": "0.0",
          "x": "County",
          "xref": "x",
          "y": "OffRace",
          "yref": "y"
         },
         {
          "font": {
           "color": "#FFFFFF"
          },
          "showarrow": false,
          "text": "0.0",
          "x": "FileMonth",
          "xref": "x",
          "y": "OffRace",
          "yref": "y"
         },
         {
          "font": {
           "color": "#FFFFFF"
          },
          "showarrow": false,
          "text": "0.0",
          "x": "FileDay",
          "xref": "x",
          "y": "OffRace",
          "yref": "y"
         },
         {
          "font": {
           "color": "#FFFFFF"
          },
          "showarrow": false,
          "text": "0.0",
          "x": "FileYear",
          "xref": "x",
          "y": "OffRace",
          "yref": "y"
         },
         {
          "font": {
           "color": "#FFFFFF"
          },
          "showarrow": false,
          "text": "0.0",
          "x": "State",
          "xref": "x",
          "y": "OffRace",
          "yref": "y"
         },
         {
          "font": {
           "color": "#FFFFFF"
          },
          "showarrow": false,
          "text": "0.0",
          "x": "Agency",
          "xref": "x",
          "y": "OffRace",
          "yref": "y"
         },
         {
          "font": {
           "color": "#FFFFFF"
          },
          "showarrow": false,
          "text": "0.0",
          "x": "Agentype",
          "xref": "x",
          "y": "OffRace",
          "yref": "y"
         },
         {
          "font": {
           "color": "#FFFFFF"
          },
          "showarrow": false,
          "text": "0.0",
          "x": "Source",
          "xref": "x",
          "y": "OffRace",
          "yref": "y"
         },
         {
          "font": {
           "color": "#FFFFFF"
          },
          "showarrow": false,
          "text": "0.0",
          "x": "Year",
          "xref": "x",
          "y": "OffRace",
          "yref": "y"
         },
         {
          "font": {
           "color": "#FFFFFF"
          },
          "showarrow": false,
          "text": "0.0",
          "x": "Month",
          "xref": "x",
          "y": "OffRace",
          "yref": "y"
         },
         {
          "font": {
           "color": "#FFFFFF"
          },
          "showarrow": false,
          "text": "0.0",
          "x": "ActionType",
          "xref": "x",
          "y": "OffRace",
          "yref": "y"
         },
         {
          "font": {
           "color": "#FFFFFF"
          },
          "showarrow": false,
          "text": "0.0",
          "x": "Homicide",
          "xref": "x",
          "y": "OffRace",
          "yref": "y"
         },
         {
          "font": {
           "color": "#FFFFFF"
          },
          "showarrow": false,
          "text": "0.0",
          "x": "VicAge",
          "xref": "x",
          "y": "OffRace",
          "yref": "y"
         },
         {
          "font": {
           "color": "#FFFFFF"
          },
          "showarrow": false,
          "text": "0.0",
          "x": "VicSex",
          "xref": "x",
          "y": "OffRace",
          "yref": "y"
         },
         {
          "font": {
           "color": "#FFFFFF"
          },
          "showarrow": false,
          "text": "0.0",
          "x": "VicRace",
          "xref": "x",
          "y": "OffRace",
          "yref": "y"
         },
         {
          "font": {
           "color": "#FFFFFF"
          },
          "showarrow": false,
          "text": "0.0",
          "x": "VicEthnic",
          "xref": "x",
          "y": "OffRace",
          "yref": "y"
         },
         {
          "font": {
           "color": "#FFFFFF"
          },
          "showarrow": false,
          "text": "0.0",
          "x": "OffAge",
          "xref": "x",
          "y": "OffRace",
          "yref": "y"
         },
         {
          "font": {
           "color": "#FFFFFF"
          },
          "showarrow": false,
          "text": "0.0",
          "x": "OffSex",
          "xref": "x",
          "y": "OffRace",
          "yref": "y"
         },
         {
          "font": {
           "color": "#FFFFFF"
          },
          "showarrow": false,
          "text": "0.0",
          "x": "OffRace",
          "xref": "x",
          "y": "OffRace",
          "yref": "y"
         },
         {
          "font": {
           "color": "#FFFFFF"
          },
          "showarrow": false,
          "text": "0.0",
          "x": "OffEthnic",
          "xref": "x",
          "y": "OffRace",
          "yref": "y"
         },
         {
          "font": {
           "color": "#FFFFFF"
          },
          "showarrow": false,
          "text": "0.0",
          "x": "Weapon",
          "xref": "x",
          "y": "OffRace",
          "yref": "y"
         },
         {
          "font": {
           "color": "#FFFFFF"
          },
          "showarrow": false,
          "text": "0.0",
          "x": "Relationship",
          "xref": "x",
          "y": "OffRace",
          "yref": "y"
         },
         {
          "font": {
           "color": "#FFFFFF"
          },
          "showarrow": false,
          "text": "0.0",
          "x": "Circumstance",
          "xref": "x",
          "y": "OffRace",
          "yref": "y"
         },
         {
          "font": {
           "color": "#FFFFFF"
          },
          "showarrow": false,
          "text": "0.0",
          "x": "Subcircum",
          "xref": "x",
          "y": "OffRace",
          "yref": "y"
         },
         {
          "font": {
           "color": "#FFFFFF"
          },
          "showarrow": false,
          "text": "0.0",
          "x": "VicCount",
          "xref": "x",
          "y": "OffRace",
          "yref": "y"
         },
         {
          "font": {
           "color": "#FFFFFF"
          },
          "showarrow": false,
          "text": "0.0",
          "x": "OffCount",
          "xref": "x",
          "y": "OffRace",
          "yref": "y"
         },
         {
          "font": {
           "color": "#FFFFFF"
          },
          "showarrow": false,
          "text": "0.0",
          "x": "Area",
          "xref": "x",
          "y": "OffEthnic",
          "yref": "y"
         },
         {
          "font": {
           "color": "#FFFFFF"
          },
          "showarrow": false,
          "text": "0.0",
          "x": "County",
          "xref": "x",
          "y": "OffEthnic",
          "yref": "y"
         },
         {
          "font": {
           "color": "#FFFFFF"
          },
          "showarrow": false,
          "text": "0.0",
          "x": "FileMonth",
          "xref": "x",
          "y": "OffEthnic",
          "yref": "y"
         },
         {
          "font": {
           "color": "#FFFFFF"
          },
          "showarrow": false,
          "text": "0.0",
          "x": "FileDay",
          "xref": "x",
          "y": "OffEthnic",
          "yref": "y"
         },
         {
          "font": {
           "color": "#FFFFFF"
          },
          "showarrow": false,
          "text": "0.0",
          "x": "FileYear",
          "xref": "x",
          "y": "OffEthnic",
          "yref": "y"
         },
         {
          "font": {
           "color": "#FFFFFF"
          },
          "showarrow": false,
          "text": "0.0",
          "x": "State",
          "xref": "x",
          "y": "OffEthnic",
          "yref": "y"
         },
         {
          "font": {
           "color": "#FFFFFF"
          },
          "showarrow": false,
          "text": "0.0",
          "x": "Agency",
          "xref": "x",
          "y": "OffEthnic",
          "yref": "y"
         },
         {
          "font": {
           "color": "#FFFFFF"
          },
          "showarrow": false,
          "text": "0.0",
          "x": "Agentype",
          "xref": "x",
          "y": "OffEthnic",
          "yref": "y"
         },
         {
          "font": {
           "color": "#FFFFFF"
          },
          "showarrow": false,
          "text": "0.0",
          "x": "Source",
          "xref": "x",
          "y": "OffEthnic",
          "yref": "y"
         },
         {
          "font": {
           "color": "#FFFFFF"
          },
          "showarrow": false,
          "text": "0.0",
          "x": "Year",
          "xref": "x",
          "y": "OffEthnic",
          "yref": "y"
         },
         {
          "font": {
           "color": "#FFFFFF"
          },
          "showarrow": false,
          "text": "0.0",
          "x": "Month",
          "xref": "x",
          "y": "OffEthnic",
          "yref": "y"
         },
         {
          "font": {
           "color": "#FFFFFF"
          },
          "showarrow": false,
          "text": "0.0",
          "x": "ActionType",
          "xref": "x",
          "y": "OffEthnic",
          "yref": "y"
         },
         {
          "font": {
           "color": "#FFFFFF"
          },
          "showarrow": false,
          "text": "0.0",
          "x": "Homicide",
          "xref": "x",
          "y": "OffEthnic",
          "yref": "y"
         },
         {
          "font": {
           "color": "#FFFFFF"
          },
          "showarrow": false,
          "text": "0.0",
          "x": "VicAge",
          "xref": "x",
          "y": "OffEthnic",
          "yref": "y"
         },
         {
          "font": {
           "color": "#FFFFFF"
          },
          "showarrow": false,
          "text": "0.0",
          "x": "VicSex",
          "xref": "x",
          "y": "OffEthnic",
          "yref": "y"
         },
         {
          "font": {
           "color": "#FFFFFF"
          },
          "showarrow": false,
          "text": "0.0",
          "x": "VicRace",
          "xref": "x",
          "y": "OffEthnic",
          "yref": "y"
         },
         {
          "font": {
           "color": "#FFFFFF"
          },
          "showarrow": false,
          "text": "0.0",
          "x": "VicEthnic",
          "xref": "x",
          "y": "OffEthnic",
          "yref": "y"
         },
         {
          "font": {
           "color": "#FFFFFF"
          },
          "showarrow": false,
          "text": "0.0",
          "x": "OffAge",
          "xref": "x",
          "y": "OffEthnic",
          "yref": "y"
         },
         {
          "font": {
           "color": "#FFFFFF"
          },
          "showarrow": false,
          "text": "0.0",
          "x": "OffSex",
          "xref": "x",
          "y": "OffEthnic",
          "yref": "y"
         },
         {
          "font": {
           "color": "#FFFFFF"
          },
          "showarrow": false,
          "text": "0.0",
          "x": "OffRace",
          "xref": "x",
          "y": "OffEthnic",
          "yref": "y"
         },
         {
          "font": {
           "color": "#FFFFFF"
          },
          "showarrow": false,
          "text": "0.0",
          "x": "OffEthnic",
          "xref": "x",
          "y": "OffEthnic",
          "yref": "y"
         },
         {
          "font": {
           "color": "#FFFFFF"
          },
          "showarrow": false,
          "text": "0.0",
          "x": "Weapon",
          "xref": "x",
          "y": "OffEthnic",
          "yref": "y"
         },
         {
          "font": {
           "color": "#FFFFFF"
          },
          "showarrow": false,
          "text": "0.0",
          "x": "Relationship",
          "xref": "x",
          "y": "OffEthnic",
          "yref": "y"
         },
         {
          "font": {
           "color": "#FFFFFF"
          },
          "showarrow": false,
          "text": "0.0",
          "x": "Circumstance",
          "xref": "x",
          "y": "OffEthnic",
          "yref": "y"
         },
         {
          "font": {
           "color": "#FFFFFF"
          },
          "showarrow": false,
          "text": "0.0",
          "x": "Subcircum",
          "xref": "x",
          "y": "OffEthnic",
          "yref": "y"
         },
         {
          "font": {
           "color": "#FFFFFF"
          },
          "showarrow": false,
          "text": "0.0",
          "x": "VicCount",
          "xref": "x",
          "y": "OffEthnic",
          "yref": "y"
         },
         {
          "font": {
           "color": "#FFFFFF"
          },
          "showarrow": false,
          "text": "0.0",
          "x": "OffCount",
          "xref": "x",
          "y": "OffEthnic",
          "yref": "y"
         },
         {
          "font": {
           "color": "#FFFFFF"
          },
          "showarrow": false,
          "text": "0.0",
          "x": "Area",
          "xref": "x",
          "y": "Weapon",
          "yref": "y"
         },
         {
          "font": {
           "color": "#FFFFFF"
          },
          "showarrow": false,
          "text": "0.0",
          "x": "County",
          "xref": "x",
          "y": "Weapon",
          "yref": "y"
         },
         {
          "font": {
           "color": "#FFFFFF"
          },
          "showarrow": false,
          "text": "0.0",
          "x": "FileMonth",
          "xref": "x",
          "y": "Weapon",
          "yref": "y"
         },
         {
          "font": {
           "color": "#FFFFFF"
          },
          "showarrow": false,
          "text": "0.0",
          "x": "FileDay",
          "xref": "x",
          "y": "Weapon",
          "yref": "y"
         },
         {
          "font": {
           "color": "#FFFFFF"
          },
          "showarrow": false,
          "text": "0.0",
          "x": "FileYear",
          "xref": "x",
          "y": "Weapon",
          "yref": "y"
         },
         {
          "font": {
           "color": "#FFFFFF"
          },
          "showarrow": false,
          "text": "0.0",
          "x": "State",
          "xref": "x",
          "y": "Weapon",
          "yref": "y"
         },
         {
          "font": {
           "color": "#FFFFFF"
          },
          "showarrow": false,
          "text": "0.0",
          "x": "Agency",
          "xref": "x",
          "y": "Weapon",
          "yref": "y"
         },
         {
          "font": {
           "color": "#FFFFFF"
          },
          "showarrow": false,
          "text": "0.0",
          "x": "Agentype",
          "xref": "x",
          "y": "Weapon",
          "yref": "y"
         },
         {
          "font": {
           "color": "#FFFFFF"
          },
          "showarrow": false,
          "text": "0.0",
          "x": "Source",
          "xref": "x",
          "y": "Weapon",
          "yref": "y"
         },
         {
          "font": {
           "color": "#FFFFFF"
          },
          "showarrow": false,
          "text": "0.0",
          "x": "Year",
          "xref": "x",
          "y": "Weapon",
          "yref": "y"
         },
         {
          "font": {
           "color": "#FFFFFF"
          },
          "showarrow": false,
          "text": "0.0",
          "x": "Month",
          "xref": "x",
          "y": "Weapon",
          "yref": "y"
         },
         {
          "font": {
           "color": "#FFFFFF"
          },
          "showarrow": false,
          "text": "0.0",
          "x": "ActionType",
          "xref": "x",
          "y": "Weapon",
          "yref": "y"
         },
         {
          "font": {
           "color": "#FFFFFF"
          },
          "showarrow": false,
          "text": "0.0",
          "x": "Homicide",
          "xref": "x",
          "y": "Weapon",
          "yref": "y"
         },
         {
          "font": {
           "color": "#FFFFFF"
          },
          "showarrow": false,
          "text": "0.0",
          "x": "VicAge",
          "xref": "x",
          "y": "Weapon",
          "yref": "y"
         },
         {
          "font": {
           "color": "#FFFFFF"
          },
          "showarrow": false,
          "text": "0.0",
          "x": "VicSex",
          "xref": "x",
          "y": "Weapon",
          "yref": "y"
         },
         {
          "font": {
           "color": "#FFFFFF"
          },
          "showarrow": false,
          "text": "0.0",
          "x": "VicRace",
          "xref": "x",
          "y": "Weapon",
          "yref": "y"
         },
         {
          "font": {
           "color": "#FFFFFF"
          },
          "showarrow": false,
          "text": "0.0",
          "x": "VicEthnic",
          "xref": "x",
          "y": "Weapon",
          "yref": "y"
         },
         {
          "font": {
           "color": "#FFFFFF"
          },
          "showarrow": false,
          "text": "0.0",
          "x": "OffAge",
          "xref": "x",
          "y": "Weapon",
          "yref": "y"
         },
         {
          "font": {
           "color": "#FFFFFF"
          },
          "showarrow": false,
          "text": "0.0",
          "x": "OffSex",
          "xref": "x",
          "y": "Weapon",
          "yref": "y"
         },
         {
          "font": {
           "color": "#FFFFFF"
          },
          "showarrow": false,
          "text": "0.0",
          "x": "OffRace",
          "xref": "x",
          "y": "Weapon",
          "yref": "y"
         },
         {
          "font": {
           "color": "#FFFFFF"
          },
          "showarrow": false,
          "text": "0.0",
          "x": "OffEthnic",
          "xref": "x",
          "y": "Weapon",
          "yref": "y"
         },
         {
          "font": {
           "color": "#FFFFFF"
          },
          "showarrow": false,
          "text": "0.0",
          "x": "Weapon",
          "xref": "x",
          "y": "Weapon",
          "yref": "y"
         },
         {
          "font": {
           "color": "#FFFFFF"
          },
          "showarrow": false,
          "text": "0.0",
          "x": "Relationship",
          "xref": "x",
          "y": "Weapon",
          "yref": "y"
         },
         {
          "font": {
           "color": "#FFFFFF"
          },
          "showarrow": false,
          "text": "0.0",
          "x": "Circumstance",
          "xref": "x",
          "y": "Weapon",
          "yref": "y"
         },
         {
          "font": {
           "color": "#FFFFFF"
          },
          "showarrow": false,
          "text": "0.0",
          "x": "Subcircum",
          "xref": "x",
          "y": "Weapon",
          "yref": "y"
         },
         {
          "font": {
           "color": "#FFFFFF"
          },
          "showarrow": false,
          "text": "0.0",
          "x": "VicCount",
          "xref": "x",
          "y": "Weapon",
          "yref": "y"
         },
         {
          "font": {
           "color": "#FFFFFF"
          },
          "showarrow": false,
          "text": "0.0",
          "x": "OffCount",
          "xref": "x",
          "y": "Weapon",
          "yref": "y"
         },
         {
          "font": {
           "color": "#FFFFFF"
          },
          "showarrow": false,
          "text": "0.0",
          "x": "Area",
          "xref": "x",
          "y": "Relationship",
          "yref": "y"
         },
         {
          "font": {
           "color": "#FFFFFF"
          },
          "showarrow": false,
          "text": "0.0",
          "x": "County",
          "xref": "x",
          "y": "Relationship",
          "yref": "y"
         },
         {
          "font": {
           "color": "#FFFFFF"
          },
          "showarrow": false,
          "text": "0.0",
          "x": "FileMonth",
          "xref": "x",
          "y": "Relationship",
          "yref": "y"
         },
         {
          "font": {
           "color": "#FFFFFF"
          },
          "showarrow": false,
          "text": "0.0",
          "x": "FileDay",
          "xref": "x",
          "y": "Relationship",
          "yref": "y"
         },
         {
          "font": {
           "color": "#FFFFFF"
          },
          "showarrow": false,
          "text": "0.0",
          "x": "FileYear",
          "xref": "x",
          "y": "Relationship",
          "yref": "y"
         },
         {
          "font": {
           "color": "#FFFFFF"
          },
          "showarrow": false,
          "text": "0.0",
          "x": "State",
          "xref": "x",
          "y": "Relationship",
          "yref": "y"
         },
         {
          "font": {
           "color": "#FFFFFF"
          },
          "showarrow": false,
          "text": "0.0",
          "x": "Agency",
          "xref": "x",
          "y": "Relationship",
          "yref": "y"
         },
         {
          "font": {
           "color": "#FFFFFF"
          },
          "showarrow": false,
          "text": "0.0",
          "x": "Agentype",
          "xref": "x",
          "y": "Relationship",
          "yref": "y"
         },
         {
          "font": {
           "color": "#FFFFFF"
          },
          "showarrow": false,
          "text": "0.0",
          "x": "Source",
          "xref": "x",
          "y": "Relationship",
          "yref": "y"
         },
         {
          "font": {
           "color": "#FFFFFF"
          },
          "showarrow": false,
          "text": "0.0",
          "x": "Year",
          "xref": "x",
          "y": "Relationship",
          "yref": "y"
         },
         {
          "font": {
           "color": "#FFFFFF"
          },
          "showarrow": false,
          "text": "0.0",
          "x": "Month",
          "xref": "x",
          "y": "Relationship",
          "yref": "y"
         },
         {
          "font": {
           "color": "#FFFFFF"
          },
          "showarrow": false,
          "text": "0.0",
          "x": "ActionType",
          "xref": "x",
          "y": "Relationship",
          "yref": "y"
         },
         {
          "font": {
           "color": "#FFFFFF"
          },
          "showarrow": false,
          "text": "0.0",
          "x": "Homicide",
          "xref": "x",
          "y": "Relationship",
          "yref": "y"
         },
         {
          "font": {
           "color": "#FFFFFF"
          },
          "showarrow": false,
          "text": "0.0",
          "x": "VicAge",
          "xref": "x",
          "y": "Relationship",
          "yref": "y"
         },
         {
          "font": {
           "color": "#FFFFFF"
          },
          "showarrow": false,
          "text": "0.0",
          "x": "VicSex",
          "xref": "x",
          "y": "Relationship",
          "yref": "y"
         },
         {
          "font": {
           "color": "#FFFFFF"
          },
          "showarrow": false,
          "text": "0.0",
          "x": "VicRace",
          "xref": "x",
          "y": "Relationship",
          "yref": "y"
         },
         {
          "font": {
           "color": "#FFFFFF"
          },
          "showarrow": false,
          "text": "0.0",
          "x": "VicEthnic",
          "xref": "x",
          "y": "Relationship",
          "yref": "y"
         },
         {
          "font": {
           "color": "#FFFFFF"
          },
          "showarrow": false,
          "text": "0.0",
          "x": "OffAge",
          "xref": "x",
          "y": "Relationship",
          "yref": "y"
         },
         {
          "font": {
           "color": "#FFFFFF"
          },
          "showarrow": false,
          "text": "0.0",
          "x": "OffSex",
          "xref": "x",
          "y": "Relationship",
          "yref": "y"
         },
         {
          "font": {
           "color": "#FFFFFF"
          },
          "showarrow": false,
          "text": "0.0",
          "x": "OffRace",
          "xref": "x",
          "y": "Relationship",
          "yref": "y"
         },
         {
          "font": {
           "color": "#FFFFFF"
          },
          "showarrow": false,
          "text": "0.0",
          "x": "OffEthnic",
          "xref": "x",
          "y": "Relationship",
          "yref": "y"
         },
         {
          "font": {
           "color": "#FFFFFF"
          },
          "showarrow": false,
          "text": "0.0",
          "x": "Weapon",
          "xref": "x",
          "y": "Relationship",
          "yref": "y"
         },
         {
          "font": {
           "color": "#FFFFFF"
          },
          "showarrow": false,
          "text": "0.0",
          "x": "Relationship",
          "xref": "x",
          "y": "Relationship",
          "yref": "y"
         },
         {
          "font": {
           "color": "#FFFFFF"
          },
          "showarrow": false,
          "text": "0.0",
          "x": "Circumstance",
          "xref": "x",
          "y": "Relationship",
          "yref": "y"
         },
         {
          "font": {
           "color": "#FFFFFF"
          },
          "showarrow": false,
          "text": "0.0",
          "x": "Subcircum",
          "xref": "x",
          "y": "Relationship",
          "yref": "y"
         },
         {
          "font": {
           "color": "#FFFFFF"
          },
          "showarrow": false,
          "text": "0.0",
          "x": "VicCount",
          "xref": "x",
          "y": "Relationship",
          "yref": "y"
         },
         {
          "font": {
           "color": "#FFFFFF"
          },
          "showarrow": false,
          "text": "0.0",
          "x": "OffCount",
          "xref": "x",
          "y": "Relationship",
          "yref": "y"
         },
         {
          "font": {
           "color": "#FFFFFF"
          },
          "showarrow": false,
          "text": "0.0",
          "x": "Area",
          "xref": "x",
          "y": "Circumstance",
          "yref": "y"
         },
         {
          "font": {
           "color": "#FFFFFF"
          },
          "showarrow": false,
          "text": "0.0",
          "x": "County",
          "xref": "x",
          "y": "Circumstance",
          "yref": "y"
         },
         {
          "font": {
           "color": "#FFFFFF"
          },
          "showarrow": false,
          "text": "0.0",
          "x": "FileMonth",
          "xref": "x",
          "y": "Circumstance",
          "yref": "y"
         },
         {
          "font": {
           "color": "#FFFFFF"
          },
          "showarrow": false,
          "text": "0.0",
          "x": "FileDay",
          "xref": "x",
          "y": "Circumstance",
          "yref": "y"
         },
         {
          "font": {
           "color": "#FFFFFF"
          },
          "showarrow": false,
          "text": "0.0",
          "x": "FileYear",
          "xref": "x",
          "y": "Circumstance",
          "yref": "y"
         },
         {
          "font": {
           "color": "#FFFFFF"
          },
          "showarrow": false,
          "text": "0.0",
          "x": "State",
          "xref": "x",
          "y": "Circumstance",
          "yref": "y"
         },
         {
          "font": {
           "color": "#FFFFFF"
          },
          "showarrow": false,
          "text": "0.0",
          "x": "Agency",
          "xref": "x",
          "y": "Circumstance",
          "yref": "y"
         },
         {
          "font": {
           "color": "#FFFFFF"
          },
          "showarrow": false,
          "text": "0.0",
          "x": "Agentype",
          "xref": "x",
          "y": "Circumstance",
          "yref": "y"
         },
         {
          "font": {
           "color": "#FFFFFF"
          },
          "showarrow": false,
          "text": "0.0",
          "x": "Source",
          "xref": "x",
          "y": "Circumstance",
          "yref": "y"
         },
         {
          "font": {
           "color": "#FFFFFF"
          },
          "showarrow": false,
          "text": "0.0",
          "x": "Year",
          "xref": "x",
          "y": "Circumstance",
          "yref": "y"
         },
         {
          "font": {
           "color": "#FFFFFF"
          },
          "showarrow": false,
          "text": "0.0",
          "x": "Month",
          "xref": "x",
          "y": "Circumstance",
          "yref": "y"
         },
         {
          "font": {
           "color": "#FFFFFF"
          },
          "showarrow": false,
          "text": "0.0",
          "x": "ActionType",
          "xref": "x",
          "y": "Circumstance",
          "yref": "y"
         },
         {
          "font": {
           "color": "#FFFFFF"
          },
          "showarrow": false,
          "text": "0.0",
          "x": "Homicide",
          "xref": "x",
          "y": "Circumstance",
          "yref": "y"
         },
         {
          "font": {
           "color": "#FFFFFF"
          },
          "showarrow": false,
          "text": "0.0",
          "x": "VicAge",
          "xref": "x",
          "y": "Circumstance",
          "yref": "y"
         },
         {
          "font": {
           "color": "#FFFFFF"
          },
          "showarrow": false,
          "text": "0.0",
          "x": "VicSex",
          "xref": "x",
          "y": "Circumstance",
          "yref": "y"
         },
         {
          "font": {
           "color": "#FFFFFF"
          },
          "showarrow": false,
          "text": "0.0",
          "x": "VicRace",
          "xref": "x",
          "y": "Circumstance",
          "yref": "y"
         },
         {
          "font": {
           "color": "#FFFFFF"
          },
          "showarrow": false,
          "text": "0.0",
          "x": "VicEthnic",
          "xref": "x",
          "y": "Circumstance",
          "yref": "y"
         },
         {
          "font": {
           "color": "#FFFFFF"
          },
          "showarrow": false,
          "text": "0.0",
          "x": "OffAge",
          "xref": "x",
          "y": "Circumstance",
          "yref": "y"
         },
         {
          "font": {
           "color": "#FFFFFF"
          },
          "showarrow": false,
          "text": "0.0",
          "x": "OffSex",
          "xref": "x",
          "y": "Circumstance",
          "yref": "y"
         },
         {
          "font": {
           "color": "#FFFFFF"
          },
          "showarrow": false,
          "text": "0.0",
          "x": "OffRace",
          "xref": "x",
          "y": "Circumstance",
          "yref": "y"
         },
         {
          "font": {
           "color": "#FFFFFF"
          },
          "showarrow": false,
          "text": "0.0",
          "x": "OffEthnic",
          "xref": "x",
          "y": "Circumstance",
          "yref": "y"
         },
         {
          "font": {
           "color": "#FFFFFF"
          },
          "showarrow": false,
          "text": "0.0",
          "x": "Weapon",
          "xref": "x",
          "y": "Circumstance",
          "yref": "y"
         },
         {
          "font": {
           "color": "#FFFFFF"
          },
          "showarrow": false,
          "text": "0.0",
          "x": "Relationship",
          "xref": "x",
          "y": "Circumstance",
          "yref": "y"
         },
         {
          "font": {
           "color": "#FFFFFF"
          },
          "showarrow": false,
          "text": "0.0",
          "x": "Circumstance",
          "xref": "x",
          "y": "Circumstance",
          "yref": "y"
         },
         {
          "font": {
           "color": "#FFFFFF"
          },
          "showarrow": false,
          "text": "0.0",
          "x": "Subcircum",
          "xref": "x",
          "y": "Circumstance",
          "yref": "y"
         },
         {
          "font": {
           "color": "#FFFFFF"
          },
          "showarrow": false,
          "text": "0.0",
          "x": "VicCount",
          "xref": "x",
          "y": "Circumstance",
          "yref": "y"
         },
         {
          "font": {
           "color": "#FFFFFF"
          },
          "showarrow": false,
          "text": "0.0",
          "x": "OffCount",
          "xref": "x",
          "y": "Circumstance",
          "yref": "y"
         },
         {
          "font": {
           "color": "#FFFFFF"
          },
          "showarrow": false,
          "text": "0.0",
          "x": "Area",
          "xref": "x",
          "y": "Subcircum",
          "yref": "y"
         },
         {
          "font": {
           "color": "#FFFFFF"
          },
          "showarrow": false,
          "text": "0.0",
          "x": "County",
          "xref": "x",
          "y": "Subcircum",
          "yref": "y"
         },
         {
          "font": {
           "color": "#FFFFFF"
          },
          "showarrow": false,
          "text": "0.0",
          "x": "FileMonth",
          "xref": "x",
          "y": "Subcircum",
          "yref": "y"
         },
         {
          "font": {
           "color": "#FFFFFF"
          },
          "showarrow": false,
          "text": "0.0",
          "x": "FileDay",
          "xref": "x",
          "y": "Subcircum",
          "yref": "y"
         },
         {
          "font": {
           "color": "#FFFFFF"
          },
          "showarrow": false,
          "text": "0.0",
          "x": "FileYear",
          "xref": "x",
          "y": "Subcircum",
          "yref": "y"
         },
         {
          "font": {
           "color": "#FFFFFF"
          },
          "showarrow": false,
          "text": "0.0",
          "x": "State",
          "xref": "x",
          "y": "Subcircum",
          "yref": "y"
         },
         {
          "font": {
           "color": "#FFFFFF"
          },
          "showarrow": false,
          "text": "0.0",
          "x": "Agency",
          "xref": "x",
          "y": "Subcircum",
          "yref": "y"
         },
         {
          "font": {
           "color": "#FFFFFF"
          },
          "showarrow": false,
          "text": "0.0",
          "x": "Agentype",
          "xref": "x",
          "y": "Subcircum",
          "yref": "y"
         },
         {
          "font": {
           "color": "#FFFFFF"
          },
          "showarrow": false,
          "text": "0.0",
          "x": "Source",
          "xref": "x",
          "y": "Subcircum",
          "yref": "y"
         },
         {
          "font": {
           "color": "#FFFFFF"
          },
          "showarrow": false,
          "text": "0.0",
          "x": "Year",
          "xref": "x",
          "y": "Subcircum",
          "yref": "y"
         },
         {
          "font": {
           "color": "#FFFFFF"
          },
          "showarrow": false,
          "text": "0.0",
          "x": "Month",
          "xref": "x",
          "y": "Subcircum",
          "yref": "y"
         },
         {
          "font": {
           "color": "#FFFFFF"
          },
          "showarrow": false,
          "text": "0.0",
          "x": "ActionType",
          "xref": "x",
          "y": "Subcircum",
          "yref": "y"
         },
         {
          "font": {
           "color": "#FFFFFF"
          },
          "showarrow": false,
          "text": "0.0",
          "x": "Homicide",
          "xref": "x",
          "y": "Subcircum",
          "yref": "y"
         },
         {
          "font": {
           "color": "#FFFFFF"
          },
          "showarrow": false,
          "text": "0.0",
          "x": "VicAge",
          "xref": "x",
          "y": "Subcircum",
          "yref": "y"
         },
         {
          "font": {
           "color": "#FFFFFF"
          },
          "showarrow": false,
          "text": "0.0",
          "x": "VicSex",
          "xref": "x",
          "y": "Subcircum",
          "yref": "y"
         },
         {
          "font": {
           "color": "#FFFFFF"
          },
          "showarrow": false,
          "text": "0.0",
          "x": "VicRace",
          "xref": "x",
          "y": "Subcircum",
          "yref": "y"
         },
         {
          "font": {
           "color": "#FFFFFF"
          },
          "showarrow": false,
          "text": "0.0",
          "x": "VicEthnic",
          "xref": "x",
          "y": "Subcircum",
          "yref": "y"
         },
         {
          "font": {
           "color": "#FFFFFF"
          },
          "showarrow": false,
          "text": "0.0",
          "x": "OffAge",
          "xref": "x",
          "y": "Subcircum",
          "yref": "y"
         },
         {
          "font": {
           "color": "#FFFFFF"
          },
          "showarrow": false,
          "text": "0.0",
          "x": "OffSex",
          "xref": "x",
          "y": "Subcircum",
          "yref": "y"
         },
         {
          "font": {
           "color": "#FFFFFF"
          },
          "showarrow": false,
          "text": "0.0",
          "x": "OffRace",
          "xref": "x",
          "y": "Subcircum",
          "yref": "y"
         },
         {
          "font": {
           "color": "#FFFFFF"
          },
          "showarrow": false,
          "text": "0.0",
          "x": "OffEthnic",
          "xref": "x",
          "y": "Subcircum",
          "yref": "y"
         },
         {
          "font": {
           "color": "#FFFFFF"
          },
          "showarrow": false,
          "text": "0.0",
          "x": "Weapon",
          "xref": "x",
          "y": "Subcircum",
          "yref": "y"
         },
         {
          "font": {
           "color": "#FFFFFF"
          },
          "showarrow": false,
          "text": "0.0",
          "x": "Relationship",
          "xref": "x",
          "y": "Subcircum",
          "yref": "y"
         },
         {
          "font": {
           "color": "#FFFFFF"
          },
          "showarrow": false,
          "text": "0.0",
          "x": "Circumstance",
          "xref": "x",
          "y": "Subcircum",
          "yref": "y"
         },
         {
          "font": {
           "color": "#FFFFFF"
          },
          "showarrow": false,
          "text": "0.0",
          "x": "Subcircum",
          "xref": "x",
          "y": "Subcircum",
          "yref": "y"
         },
         {
          "font": {
           "color": "#FFFFFF"
          },
          "showarrow": false,
          "text": "0.0",
          "x": "VicCount",
          "xref": "x",
          "y": "Subcircum",
          "yref": "y"
         },
         {
          "font": {
           "color": "#FFFFFF"
          },
          "showarrow": false,
          "text": "0.0",
          "x": "OffCount",
          "xref": "x",
          "y": "Subcircum",
          "yref": "y"
         },
         {
          "font": {
           "color": "#FFFFFF"
          },
          "showarrow": false,
          "text": "0.0",
          "x": "Area",
          "xref": "x",
          "y": "VicCount",
          "yref": "y"
         },
         {
          "font": {
           "color": "#FFFFFF"
          },
          "showarrow": false,
          "text": "0.0",
          "x": "County",
          "xref": "x",
          "y": "VicCount",
          "yref": "y"
         },
         {
          "font": {
           "color": "#FFFFFF"
          },
          "showarrow": false,
          "text": "0.0",
          "x": "FileMonth",
          "xref": "x",
          "y": "VicCount",
          "yref": "y"
         },
         {
          "font": {
           "color": "#FFFFFF"
          },
          "showarrow": false,
          "text": "0.0",
          "x": "FileDay",
          "xref": "x",
          "y": "VicCount",
          "yref": "y"
         },
         {
          "font": {
           "color": "#FFFFFF"
          },
          "showarrow": false,
          "text": "0.0",
          "x": "FileYear",
          "xref": "x",
          "y": "VicCount",
          "yref": "y"
         },
         {
          "font": {
           "color": "#FFFFFF"
          },
          "showarrow": false,
          "text": "0.0",
          "x": "State",
          "xref": "x",
          "y": "VicCount",
          "yref": "y"
         },
         {
          "font": {
           "color": "#FFFFFF"
          },
          "showarrow": false,
          "text": "0.0",
          "x": "Agency",
          "xref": "x",
          "y": "VicCount",
          "yref": "y"
         },
         {
          "font": {
           "color": "#FFFFFF"
          },
          "showarrow": false,
          "text": "0.0",
          "x": "Agentype",
          "xref": "x",
          "y": "VicCount",
          "yref": "y"
         },
         {
          "font": {
           "color": "#FFFFFF"
          },
          "showarrow": false,
          "text": "0.0",
          "x": "Source",
          "xref": "x",
          "y": "VicCount",
          "yref": "y"
         },
         {
          "font": {
           "color": "#FFFFFF"
          },
          "showarrow": false,
          "text": "0.0",
          "x": "Year",
          "xref": "x",
          "y": "VicCount",
          "yref": "y"
         },
         {
          "font": {
           "color": "#FFFFFF"
          },
          "showarrow": false,
          "text": "0.0",
          "x": "Month",
          "xref": "x",
          "y": "VicCount",
          "yref": "y"
         },
         {
          "font": {
           "color": "#FFFFFF"
          },
          "showarrow": false,
          "text": "0.0",
          "x": "ActionType",
          "xref": "x",
          "y": "VicCount",
          "yref": "y"
         },
         {
          "font": {
           "color": "#FFFFFF"
          },
          "showarrow": false,
          "text": "0.0",
          "x": "Homicide",
          "xref": "x",
          "y": "VicCount",
          "yref": "y"
         },
         {
          "font": {
           "color": "#FFFFFF"
          },
          "showarrow": false,
          "text": "0.0",
          "x": "VicAge",
          "xref": "x",
          "y": "VicCount",
          "yref": "y"
         },
         {
          "font": {
           "color": "#FFFFFF"
          },
          "showarrow": false,
          "text": "0.0",
          "x": "VicSex",
          "xref": "x",
          "y": "VicCount",
          "yref": "y"
         },
         {
          "font": {
           "color": "#FFFFFF"
          },
          "showarrow": false,
          "text": "0.0",
          "x": "VicRace",
          "xref": "x",
          "y": "VicCount",
          "yref": "y"
         },
         {
          "font": {
           "color": "#FFFFFF"
          },
          "showarrow": false,
          "text": "0.0",
          "x": "VicEthnic",
          "xref": "x",
          "y": "VicCount",
          "yref": "y"
         },
         {
          "font": {
           "color": "#FFFFFF"
          },
          "showarrow": false,
          "text": "0.0",
          "x": "OffAge",
          "xref": "x",
          "y": "VicCount",
          "yref": "y"
         },
         {
          "font": {
           "color": "#FFFFFF"
          },
          "showarrow": false,
          "text": "0.0",
          "x": "OffSex",
          "xref": "x",
          "y": "VicCount",
          "yref": "y"
         },
         {
          "font": {
           "color": "#FFFFFF"
          },
          "showarrow": false,
          "text": "0.0",
          "x": "OffRace",
          "xref": "x",
          "y": "VicCount",
          "yref": "y"
         },
         {
          "font": {
           "color": "#FFFFFF"
          },
          "showarrow": false,
          "text": "0.0",
          "x": "OffEthnic",
          "xref": "x",
          "y": "VicCount",
          "yref": "y"
         },
         {
          "font": {
           "color": "#FFFFFF"
          },
          "showarrow": false,
          "text": "0.0",
          "x": "Weapon",
          "xref": "x",
          "y": "VicCount",
          "yref": "y"
         },
         {
          "font": {
           "color": "#FFFFFF"
          },
          "showarrow": false,
          "text": "0.0",
          "x": "Relationship",
          "xref": "x",
          "y": "VicCount",
          "yref": "y"
         },
         {
          "font": {
           "color": "#FFFFFF"
          },
          "showarrow": false,
          "text": "0.0",
          "x": "Circumstance",
          "xref": "x",
          "y": "VicCount",
          "yref": "y"
         },
         {
          "font": {
           "color": "#FFFFFF"
          },
          "showarrow": false,
          "text": "0.0",
          "x": "Subcircum",
          "xref": "x",
          "y": "VicCount",
          "yref": "y"
         },
         {
          "font": {
           "color": "#FFFFFF"
          },
          "showarrow": false,
          "text": "0.0",
          "x": "VicCount",
          "xref": "x",
          "y": "VicCount",
          "yref": "y"
         },
         {
          "font": {
           "color": "#FFFFFF"
          },
          "showarrow": false,
          "text": "0.0",
          "x": "OffCount",
          "xref": "x",
          "y": "VicCount",
          "yref": "y"
         },
         {
          "font": {
           "color": "#FFFFFF"
          },
          "showarrow": false,
          "text": "0.0",
          "x": "Area",
          "xref": "x",
          "y": "OffCount",
          "yref": "y"
         },
         {
          "font": {
           "color": "#FFFFFF"
          },
          "showarrow": false,
          "text": "0.0",
          "x": "County",
          "xref": "x",
          "y": "OffCount",
          "yref": "y"
         },
         {
          "font": {
           "color": "#FFFFFF"
          },
          "showarrow": false,
          "text": "0.0",
          "x": "FileMonth",
          "xref": "x",
          "y": "OffCount",
          "yref": "y"
         },
         {
          "font": {
           "color": "#FFFFFF"
          },
          "showarrow": false,
          "text": "0.0",
          "x": "FileDay",
          "xref": "x",
          "y": "OffCount",
          "yref": "y"
         },
         {
          "font": {
           "color": "#FFFFFF"
          },
          "showarrow": false,
          "text": "0.0",
          "x": "FileYear",
          "xref": "x",
          "y": "OffCount",
          "yref": "y"
         },
         {
          "font": {
           "color": "#FFFFFF"
          },
          "showarrow": false,
          "text": "0.0",
          "x": "State",
          "xref": "x",
          "y": "OffCount",
          "yref": "y"
         },
         {
          "font": {
           "color": "#000000"
          },
          "showarrow": false,
          "text": "1.0",
          "x": "Agency",
          "xref": "x",
          "y": "OffCount",
          "yref": "y"
         },
         {
          "font": {
           "color": "#FFFFFF"
          },
          "showarrow": false,
          "text": "0.0",
          "x": "Agentype",
          "xref": "x",
          "y": "OffCount",
          "yref": "y"
         },
         {
          "font": {
           "color": "#FFFFFF"
          },
          "showarrow": false,
          "text": "0.0",
          "x": "Source",
          "xref": "x",
          "y": "OffCount",
          "yref": "y"
         },
         {
          "font": {
           "color": "#FFFFFF"
          },
          "showarrow": false,
          "text": "0.0",
          "x": "Year",
          "xref": "x",
          "y": "OffCount",
          "yref": "y"
         },
         {
          "font": {
           "color": "#FFFFFF"
          },
          "showarrow": false,
          "text": "0.0",
          "x": "Month",
          "xref": "x",
          "y": "OffCount",
          "yref": "y"
         },
         {
          "font": {
           "color": "#FFFFFF"
          },
          "showarrow": false,
          "text": "0.0",
          "x": "ActionType",
          "xref": "x",
          "y": "OffCount",
          "yref": "y"
         },
         {
          "font": {
           "color": "#FFFFFF"
          },
          "showarrow": false,
          "text": "0.0",
          "x": "Homicide",
          "xref": "x",
          "y": "OffCount",
          "yref": "y"
         },
         {
          "font": {
           "color": "#FFFFFF"
          },
          "showarrow": false,
          "text": "0.0",
          "x": "VicAge",
          "xref": "x",
          "y": "OffCount",
          "yref": "y"
         },
         {
          "font": {
           "color": "#FFFFFF"
          },
          "showarrow": false,
          "text": "0.0",
          "x": "VicSex",
          "xref": "x",
          "y": "OffCount",
          "yref": "y"
         },
         {
          "font": {
           "color": "#FFFFFF"
          },
          "showarrow": false,
          "text": "0.0",
          "x": "VicRace",
          "xref": "x",
          "y": "OffCount",
          "yref": "y"
         },
         {
          "font": {
           "color": "#FFFFFF"
          },
          "showarrow": false,
          "text": "0.0",
          "x": "VicEthnic",
          "xref": "x",
          "y": "OffCount",
          "yref": "y"
         },
         {
          "font": {
           "color": "#FFFFFF"
          },
          "showarrow": false,
          "text": "0.0",
          "x": "OffAge",
          "xref": "x",
          "y": "OffCount",
          "yref": "y"
         },
         {
          "font": {
           "color": "#FFFFFF"
          },
          "showarrow": false,
          "text": "0.0",
          "x": "OffSex",
          "xref": "x",
          "y": "OffCount",
          "yref": "y"
         },
         {
          "font": {
           "color": "#FFFFFF"
          },
          "showarrow": false,
          "text": "0.0",
          "x": "OffRace",
          "xref": "x",
          "y": "OffCount",
          "yref": "y"
         },
         {
          "font": {
           "color": "#FFFFFF"
          },
          "showarrow": false,
          "text": "0.0",
          "x": "OffEthnic",
          "xref": "x",
          "y": "OffCount",
          "yref": "y"
         },
         {
          "font": {
           "color": "#FFFFFF"
          },
          "showarrow": false,
          "text": "0.0",
          "x": "Weapon",
          "xref": "x",
          "y": "OffCount",
          "yref": "y"
         },
         {
          "font": {
           "color": "#FFFFFF"
          },
          "showarrow": false,
          "text": "0.0",
          "x": "Relationship",
          "xref": "x",
          "y": "OffCount",
          "yref": "y"
         },
         {
          "font": {
           "color": "#FFFFFF"
          },
          "showarrow": false,
          "text": "0.0",
          "x": "Circumstance",
          "xref": "x",
          "y": "OffCount",
          "yref": "y"
         },
         {
          "font": {
           "color": "#FFFFFF"
          },
          "showarrow": false,
          "text": "0.0",
          "x": "Subcircum",
          "xref": "x",
          "y": "OffCount",
          "yref": "y"
         },
         {
          "font": {
           "color": "#FFFFFF"
          },
          "showarrow": false,
          "text": "0.0",
          "x": "VicCount",
          "xref": "x",
          "y": "OffCount",
          "yref": "y"
         },
         {
          "font": {
           "color": "#FFFFFF"
          },
          "showarrow": false,
          "text": "0.0",
          "x": "OffCount",
          "xref": "x",
          "y": "OffCount",
          "yref": "y"
         }
        ],
        "autosize": false,
        "height": 2000,
        "template": {
         "data": {
          "bar": [
           {
            "error_x": {
             "color": "#2a3f5f"
            },
            "error_y": {
             "color": "#2a3f5f"
            },
            "marker": {
             "line": {
              "color": "#E5ECF6",
              "width": 0.5
             },
             "pattern": {
              "fillmode": "overlay",
              "size": 10,
              "solidity": 0.2
             }
            },
            "type": "bar"
           }
          ],
          "barpolar": [
           {
            "marker": {
             "line": {
              "color": "#E5ECF6",
              "width": 0.5
             },
             "pattern": {
              "fillmode": "overlay",
              "size": 10,
              "solidity": 0.2
             }
            },
            "type": "barpolar"
           }
          ],
          "carpet": [
           {
            "aaxis": {
             "endlinecolor": "#2a3f5f",
             "gridcolor": "white",
             "linecolor": "white",
             "minorgridcolor": "white",
             "startlinecolor": "#2a3f5f"
            },
            "baxis": {
             "endlinecolor": "#2a3f5f",
             "gridcolor": "white",
             "linecolor": "white",
             "minorgridcolor": "white",
             "startlinecolor": "#2a3f5f"
            },
            "type": "carpet"
           }
          ],
          "choropleth": [
           {
            "colorbar": {
             "outlinewidth": 0,
             "ticks": ""
            },
            "type": "choropleth"
           }
          ],
          "contour": [
           {
            "colorbar": {
             "outlinewidth": 0,
             "ticks": ""
            },
            "colorscale": [
             [
              0,
              "#0d0887"
             ],
             [
              0.1111111111111111,
              "#46039f"
             ],
             [
              0.2222222222222222,
              "#7201a8"
             ],
             [
              0.3333333333333333,
              "#9c179e"
             ],
             [
              0.4444444444444444,
              "#bd3786"
             ],
             [
              0.5555555555555556,
              "#d8576b"
             ],
             [
              0.6666666666666666,
              "#ed7953"
             ],
             [
              0.7777777777777778,
              "#fb9f3a"
             ],
             [
              0.8888888888888888,
              "#fdca26"
             ],
             [
              1,
              "#f0f921"
             ]
            ],
            "type": "contour"
           }
          ],
          "contourcarpet": [
           {
            "colorbar": {
             "outlinewidth": 0,
             "ticks": ""
            },
            "type": "contourcarpet"
           }
          ],
          "heatmap": [
           {
            "colorbar": {
             "outlinewidth": 0,
             "ticks": ""
            },
            "colorscale": [
             [
              0,
              "#0d0887"
             ],
             [
              0.1111111111111111,
              "#46039f"
             ],
             [
              0.2222222222222222,
              "#7201a8"
             ],
             [
              0.3333333333333333,
              "#9c179e"
             ],
             [
              0.4444444444444444,
              "#bd3786"
             ],
             [
              0.5555555555555556,
              "#d8576b"
             ],
             [
              0.6666666666666666,
              "#ed7953"
             ],
             [
              0.7777777777777778,
              "#fb9f3a"
             ],
             [
              0.8888888888888888,
              "#fdca26"
             ],
             [
              1,
              "#f0f921"
             ]
            ],
            "type": "heatmap"
           }
          ],
          "heatmapgl": [
           {
            "colorbar": {
             "outlinewidth": 0,
             "ticks": ""
            },
            "colorscale": [
             [
              0,
              "#0d0887"
             ],
             [
              0.1111111111111111,
              "#46039f"
             ],
             [
              0.2222222222222222,
              "#7201a8"
             ],
             [
              0.3333333333333333,
              "#9c179e"
             ],
             [
              0.4444444444444444,
              "#bd3786"
             ],
             [
              0.5555555555555556,
              "#d8576b"
             ],
             [
              0.6666666666666666,
              "#ed7953"
             ],
             [
              0.7777777777777778,
              "#fb9f3a"
             ],
             [
              0.8888888888888888,
              "#fdca26"
             ],
             [
              1,
              "#f0f921"
             ]
            ],
            "type": "heatmapgl"
           }
          ],
          "histogram": [
           {
            "marker": {
             "pattern": {
              "fillmode": "overlay",
              "size": 10,
              "solidity": 0.2
             }
            },
            "type": "histogram"
           }
          ],
          "histogram2d": [
           {
            "colorbar": {
             "outlinewidth": 0,
             "ticks": ""
            },
            "colorscale": [
             [
              0,
              "#0d0887"
             ],
             [
              0.1111111111111111,
              "#46039f"
             ],
             [
              0.2222222222222222,
              "#7201a8"
             ],
             [
              0.3333333333333333,
              "#9c179e"
             ],
             [
              0.4444444444444444,
              "#bd3786"
             ],
             [
              0.5555555555555556,
              "#d8576b"
             ],
             [
              0.6666666666666666,
              "#ed7953"
             ],
             [
              0.7777777777777778,
              "#fb9f3a"
             ],
             [
              0.8888888888888888,
              "#fdca26"
             ],
             [
              1,
              "#f0f921"
             ]
            ],
            "type": "histogram2d"
           }
          ],
          "histogram2dcontour": [
           {
            "colorbar": {
             "outlinewidth": 0,
             "ticks": ""
            },
            "colorscale": [
             [
              0,
              "#0d0887"
             ],
             [
              0.1111111111111111,
              "#46039f"
             ],
             [
              0.2222222222222222,
              "#7201a8"
             ],
             [
              0.3333333333333333,
              "#9c179e"
             ],
             [
              0.4444444444444444,
              "#bd3786"
             ],
             [
              0.5555555555555556,
              "#d8576b"
             ],
             [
              0.6666666666666666,
              "#ed7953"
             ],
             [
              0.7777777777777778,
              "#fb9f3a"
             ],
             [
              0.8888888888888888,
              "#fdca26"
             ],
             [
              1,
              "#f0f921"
             ]
            ],
            "type": "histogram2dcontour"
           }
          ],
          "mesh3d": [
           {
            "colorbar": {
             "outlinewidth": 0,
             "ticks": ""
            },
            "type": "mesh3d"
           }
          ],
          "parcoords": [
           {
            "line": {
             "colorbar": {
              "outlinewidth": 0,
              "ticks": ""
             }
            },
            "type": "parcoords"
           }
          ],
          "pie": [
           {
            "automargin": true,
            "type": "pie"
           }
          ],
          "scatter": [
           {
            "marker": {
             "colorbar": {
              "outlinewidth": 0,
              "ticks": ""
             }
            },
            "type": "scatter"
           }
          ],
          "scatter3d": [
           {
            "line": {
             "colorbar": {
              "outlinewidth": 0,
              "ticks": ""
             }
            },
            "marker": {
             "colorbar": {
              "outlinewidth": 0,
              "ticks": ""
             }
            },
            "type": "scatter3d"
           }
          ],
          "scattercarpet": [
           {
            "marker": {
             "colorbar": {
              "outlinewidth": 0,
              "ticks": ""
             }
            },
            "type": "scattercarpet"
           }
          ],
          "scattergeo": [
           {
            "marker": {
             "colorbar": {
              "outlinewidth": 0,
              "ticks": ""
             }
            },
            "type": "scattergeo"
           }
          ],
          "scattergl": [
           {
            "marker": {
             "colorbar": {
              "outlinewidth": 0,
              "ticks": ""
             }
            },
            "type": "scattergl"
           }
          ],
          "scattermapbox": [
           {
            "marker": {
             "colorbar": {
              "outlinewidth": 0,
              "ticks": ""
             }
            },
            "type": "scattermapbox"
           }
          ],
          "scatterpolar": [
           {
            "marker": {
             "colorbar": {
              "outlinewidth": 0,
              "ticks": ""
             }
            },
            "type": "scatterpolar"
           }
          ],
          "scatterpolargl": [
           {
            "marker": {
             "colorbar": {
              "outlinewidth": 0,
              "ticks": ""
             }
            },
            "type": "scatterpolargl"
           }
          ],
          "scatterternary": [
           {
            "marker": {
             "colorbar": {
              "outlinewidth": 0,
              "ticks": ""
             }
            },
            "type": "scatterternary"
           }
          ],
          "surface": [
           {
            "colorbar": {
             "outlinewidth": 0,
             "ticks": ""
            },
            "colorscale": [
             [
              0,
              "#0d0887"
             ],
             [
              0.1111111111111111,
              "#46039f"
             ],
             [
              0.2222222222222222,
              "#7201a8"
             ],
             [
              0.3333333333333333,
              "#9c179e"
             ],
             [
              0.4444444444444444,
              "#bd3786"
             ],
             [
              0.5555555555555556,
              "#d8576b"
             ],
             [
              0.6666666666666666,
              "#ed7953"
             ],
             [
              0.7777777777777778,
              "#fb9f3a"
             ],
             [
              0.8888888888888888,
              "#fdca26"
             ],
             [
              1,
              "#f0f921"
             ]
            ],
            "type": "surface"
           }
          ],
          "table": [
           {
            "cells": {
             "fill": {
              "color": "#EBF0F8"
             },
             "line": {
              "color": "white"
             }
            },
            "header": {
             "fill": {
              "color": "#C8D4E3"
             },
             "line": {
              "color": "white"
             }
            },
            "type": "table"
           }
          ]
         },
         "layout": {
          "annotationdefaults": {
           "arrowcolor": "#2a3f5f",
           "arrowhead": 0,
           "arrowwidth": 1
          },
          "autotypenumbers": "strict",
          "coloraxis": {
           "colorbar": {
            "outlinewidth": 0,
            "ticks": ""
           }
          },
          "colorscale": {
           "diverging": [
            [
             0,
             "#8e0152"
            ],
            [
             0.1,
             "#c51b7d"
            ],
            [
             0.2,
             "#de77ae"
            ],
            [
             0.3,
             "#f1b6da"
            ],
            [
             0.4,
             "#fde0ef"
            ],
            [
             0.5,
             "#f7f7f7"
            ],
            [
             0.6,
             "#e6f5d0"
            ],
            [
             0.7,
             "#b8e186"
            ],
            [
             0.8,
             "#7fbc41"
            ],
            [
             0.9,
             "#4d9221"
            ],
            [
             1,
             "#276419"
            ]
           ],
           "sequential": [
            [
             0,
             "#0d0887"
            ],
            [
             0.1111111111111111,
             "#46039f"
            ],
            [
             0.2222222222222222,
             "#7201a8"
            ],
            [
             0.3333333333333333,
             "#9c179e"
            ],
            [
             0.4444444444444444,
             "#bd3786"
            ],
            [
             0.5555555555555556,
             "#d8576b"
            ],
            [
             0.6666666666666666,
             "#ed7953"
            ],
            [
             0.7777777777777778,
             "#fb9f3a"
            ],
            [
             0.8888888888888888,
             "#fdca26"
            ],
            [
             1,
             "#f0f921"
            ]
           ],
           "sequentialminus": [
            [
             0,
             "#0d0887"
            ],
            [
             0.1111111111111111,
             "#46039f"
            ],
            [
             0.2222222222222222,
             "#7201a8"
            ],
            [
             0.3333333333333333,
             "#9c179e"
            ],
            [
             0.4444444444444444,
             "#bd3786"
            ],
            [
             0.5555555555555556,
             "#d8576b"
            ],
            [
             0.6666666666666666,
             "#ed7953"
            ],
            [
             0.7777777777777778,
             "#fb9f3a"
            ],
            [
             0.8888888888888888,
             "#fdca26"
            ],
            [
             1,
             "#f0f921"
            ]
           ]
          },
          "colorway": [
           "#636efa",
           "#EF553B",
           "#00cc96",
           "#ab63fa",
           "#FFA15A",
           "#19d3f3",
           "#FF6692",
           "#B6E880",
           "#FF97FF",
           "#FECB52"
          ],
          "font": {
           "color": "#2a3f5f"
          },
          "geo": {
           "bgcolor": "white",
           "lakecolor": "white",
           "landcolor": "#E5ECF6",
           "showlakes": true,
           "showland": true,
           "subunitcolor": "white"
          },
          "hoverlabel": {
           "align": "left"
          },
          "hovermode": "closest",
          "mapbox": {
           "style": "light"
          },
          "paper_bgcolor": "white",
          "plot_bgcolor": "#E5ECF6",
          "polar": {
           "angularaxis": {
            "gridcolor": "white",
            "linecolor": "white",
            "ticks": ""
           },
           "bgcolor": "#E5ECF6",
           "radialaxis": {
            "gridcolor": "white",
            "linecolor": "white",
            "ticks": ""
           }
          },
          "scene": {
           "xaxis": {
            "backgroundcolor": "#E5ECF6",
            "gridcolor": "white",
            "gridwidth": 2,
            "linecolor": "white",
            "showbackground": true,
            "ticks": "",
            "zerolinecolor": "white"
           },
           "yaxis": {
            "backgroundcolor": "#E5ECF6",
            "gridcolor": "white",
            "gridwidth": 2,
            "linecolor": "white",
            "showbackground": true,
            "ticks": "",
            "zerolinecolor": "white"
           },
           "zaxis": {
            "backgroundcolor": "#E5ECF6",
            "gridcolor": "white",
            "gridwidth": 2,
            "linecolor": "white",
            "showbackground": true,
            "ticks": "",
            "zerolinecolor": "white"
           }
          },
          "shapedefaults": {
           "line": {
            "color": "#2a3f5f"
           }
          },
          "ternary": {
           "aaxis": {
            "gridcolor": "white",
            "linecolor": "white",
            "ticks": ""
           },
           "baxis": {
            "gridcolor": "white",
            "linecolor": "white",
            "ticks": ""
           },
           "bgcolor": "#E5ECF6",
           "caxis": {
            "gridcolor": "white",
            "linecolor": "white",
            "ticks": ""
           }
          },
          "title": {
           "x": 0.05
          },
          "xaxis": {
           "automargin": true,
           "gridcolor": "white",
           "linecolor": "white",
           "ticks": "",
           "title": {
            "standoff": 15
           },
           "zerolinecolor": "white",
           "zerolinewidth": 2
          },
          "yaxis": {
           "automargin": true,
           "gridcolor": "white",
           "linecolor": "white",
           "ticks": "",
           "title": {
            "standoff": 15
           },
           "zerolinecolor": "white",
           "zerolinewidth": 2
          }
         }
        },
        "title": {
         "text": "p_values of Chi-Squared test for independence"
        },
        "width": 2000,
        "xaxis": {
         "dtick": 1,
         "gridcolor": "rgb(0, 0, 0)",
         "side": "top",
         "ticks": ""
        },
        "yaxis": {
         "dtick": 1,
         "ticks": "",
         "ticksuffix": "  "
        }
       }
      }
     },
     "metadata": {},
     "output_type": "display_data"
    }
   ],
   "source": [
    "p_of_chi = heatmap_chi(df, return_df=True)"
   ]
  },
  {
   "cell_type": "code",
   "execution_count": 7,
   "metadata": {},
   "outputs": [
    {
     "data": {
      "application/vnd.plotly.v1+json": {
       "config": {
        "plotlyServerURL": "https://plot.ly"
       },
       "data": [
        {
         "colorscale": [
          [
           0,
           "#0d0887"
          ],
          [
           0.1111111111111111,
           "#46039f"
          ],
          [
           0.2222222222222222,
           "#7201a8"
          ],
          [
           0.3333333333333333,
           "#9c179e"
          ],
          [
           0.4444444444444444,
           "#bd3786"
          ],
          [
           0.5555555555555556,
           "#d8576b"
          ],
          [
           0.6666666666666666,
           "#ed7953"
          ],
          [
           0.7777777777777778,
           "#fb9f3a"
          ],
          [
           0.8888888888888888,
           "#fdca26"
          ],
          [
           1,
           "#f0f921"
          ]
         ],
         "reversescale": false,
         "showscale": false,
         "type": "heatmap",
         "x": [
          "Area",
          "County",
          "FileMonth",
          "FileDay",
          "FileYear",
          "State",
          "Agency",
          "Agentype",
          "Source",
          "Year",
          "Month",
          "ActionType",
          "Homicide",
          "VicAge",
          "VicSex",
          "VicRace",
          "VicEthnic",
          "OffAge",
          "OffSex",
          "OffRace",
          "OffEthnic",
          "Weapon",
          "Relationship",
          "Circumstance",
          "Subcircum",
          "VicCount",
          "OffCount"
         ],
         "y": [
          "Area",
          "County",
          "FileMonth",
          "FileDay",
          "FileYear",
          "State",
          "Agency",
          "Agentype",
          "Source",
          "Year",
          "Month",
          "ActionType",
          "Homicide",
          "VicAge",
          "VicSex",
          "VicRace",
          "VicEthnic",
          "OffAge",
          "OffSex",
          "OffRace",
          "OffEthnic",
          "Weapon",
          "Relationship",
          "Circumstance",
          "Subcircum",
          "VicCount",
          "OffCount"
         ],
         "z": [
          [
           1,
           0.8619372014682638,
           0.03451695339571745,
           0.035331644197966125,
           0.025491274829099343,
           0.7799924267805629,
           0.8090399530524374,
           0.09061571617281841,
           0.04380822581744875,
           0.014308967952387158,
           0.0015679172226570651,
           0.02111111932158544,
           0.0022754942562428822,
           0.011406904432077519,
           0.0021161290168549124,
           0.046280100994221036,
           0.07123265568297346,
           0.013925002190581242,
           0.0010135336993972518,
           0.047765604348213746,
           0.07272545118265798,
           0.0196986217252602,
           0.03580983278954702,
           0.03866771231272996,
           0.005587649142171594,
           0.005265700739006256,
           0.004751328051372553
          ],
          [
           0.8619372014682638,
           1,
           0.03373252793377289,
           0.039932256490063274,
           0.035322346025880795,
           0.6666670770545662,
           0.8966337828699522,
           0.09741362310380187,
           0.03386429558447445,
           0.026582137883988374,
           0.0055027148405522005,
           0.018224752071606662,
           0.002753247959440959,
           0.027449046056164626,
           0.0032851584238015497,
           0.04665240338700097,
           0.06230816776337155,
           0.029506741539411647,
           0.0014106559033134937,
           0.04787055915697146,
           0.06346421187220266,
           0.023971981890906373,
           0.042509237167335234,
           0.04305437972084617,
           0.006487172045212895,
           0.007978904291510405,
           0.006222930896684647
          ],
          [
           0.03451695339571745,
           0.03373252793377289,
           1,
           0.12217364055795162,
           0.15727081646097674,
           0.04233661961061416,
           0.04939469622115796,
           0.0014750223157690763,
           0.0384692822074461,
           0.15252282899264286,
           0.06744884321698298,
           0.008702896407151637,
           0.0007580395966351101,
           0.000714281001109743,
           0.00004891431200290361,
           0.0007176724527360967,
           0.023377086524879763,
           0.0011151428688917415,
           0.00029476028320495295,
           0.0007523532983772911,
           0.022263101528953323,
           0.0034431229248221636,
           0.005902979019700306,
           0.005499053562737711,
           0.00048491373544747046,
           0.0018444204805640287,
           0.001612122313777983
          ],
          [
           0.035331644197966125,
           0.039932256490063274,
           0.12217364055795162,
           1,
           0.21822645920942765,
           0.03709965751263309,
           0.0684876227436734,
           0.0015950428876100214,
           0.040430244810828055,
           0.20857662537093077,
           0.0025577651393612765,
           0.00876192913317753,
           0.000894183653734906,
           0.001287610582680774,
           0.000060085339434548345,
           0.0009272645863714862,
           0.034714542881995616,
           0.0016387462459762977,
           0.00031691653813639687,
           0.0008638319344880623,
           0.03174804579476364,
           0.004589544687506253,
           0.007817227795239886,
           0.00737632649327381,
           0.0005908660243043587,
           0.0020347492828533733,
           0.00146278445996632
          ],
          [
           0.025491274829099343,
           0.035322346025880795,
           0.15727081646097674,
           0.21822645920942765,
           1,
           0.02284528775194418,
           0.07132216483136446,
           0.0018524430051180857,
           0.028942715834638894,
           0.7819977837331212,
           0.0009161666072130937,
           0.01567859488972507,
           0.0012744778249659265,
           0.00368654888470726,
           0.0002339688706166374,
           0.0011721747799252873,
           0.06254380398193167,
           0.005297741003047309,
           0.0012491529949937119,
           0.001162869702554583,
           0.05733137628915504,
           0.01683054992144491,
           0.01589877261759102,
           0.022717179721983286,
           0.0021482182877122016,
           0.0028255988056787927,
           0.0030286282607654737
          ],
          [
           0.7799924267805629,
           0.6666670770545662,
           0.04233661961061416,
           0.03709965751263309,
           0.02284528775194418,
           1,
           0.623546440319126,
           0.07611224249224735,
           0.06361069034683041,
           0.009405036991789411,
           0.0005339207590597569,
           0.028729031201657557,
           0.0024573576054480843,
           0.0037326913330861665,
           0.0012142676188972269,
           0.041348711780079345,
           0.08904568751725368,
           0.006467520397507822,
           0.0008389434492718613,
           0.04254676650083605,
           0.09104046104291894,
           0.01574643616999434,
           0.03254014154415479,
           0.037699613638666724,
           0.0052053117790736795,
           0.003046424980767352,
           0.003899132653332513
          ],
          [
           0.8090399530524374,
           0.8966337828699522,
           0.04939469622115796,
           0.0684876227436734,
           0.07132216483136446,
           0.623546440319126,
           1,
           0.19943876793953855,
           0.03173113993767536,
           0.06411803662421385,
           0.020537829997039986,
           0.01883241223957074,
           0.004742275346003049,
           0.0684546865489019,
           0.0063063444225670735,
           0.055331188573340025,
           0.06178103118470013,
           0.06708754373413112,
           0.00346484100934103,
           0.05710718198345686,
           0.06282979392015212,
           0.040227631956468404,
           0.06548826833893842,
           0.06131157540001156,
           0.009416613289745362,
           0.014396859181152745,
           0.010945675709341554
          ],
          [
           0.09061571617281841,
           0.09741362310380187,
           0.0014750223157690763,
           0.0015950428876100214,
           0.0018524430051180857,
           0.07611224249224735,
           0.19943876793953855,
           1,
           0.00991138713990332,
           0.0013031277388142963,
           0.00009893904149362635,
           0.0016160259634816817,
           0.0025360944725310104,
           0.0026461978028665535,
           0.0032419732607890366,
           0.04344952920670813,
           0.005101670415096025,
           0.004008433791016773,
           0.0003357538658867026,
           0.04629044643653612,
           0.0053363656038870055,
           0.01145022506265925,
           0.008134363027201453,
           0.007498276362951985,
           0.0012599750101706785,
           0.00456230528013445,
           0.0010945851125058314
          ],
          [
           0.04380822581744875,
           0.03386429558447445,
           0.0384692822074461,
           0.040430244810828055,
           0.028942715834638894,
           0.06361069034683041,
           0.03173113993767536,
           0.00991138713990332,
           1,
           0.015177034274434027,
           0.000043282531620397196,
           0.02495993718539117,
           0.004462383383732228,
           0.0005675208506142453,
           0.00027719649313766363,
           0.0007483722533291096,
           0.028882442519713104,
           0.0010629893779742219,
           0.0004000279806853315,
           0.0008253517058953898,
           0.02793767019871271,
           0.010258070162617842,
           0.03839645663976581,
           0.019897732756564753,
           0.0018922360879724575,
           0.0002834154637788588,
           0.0011672475223927503
          ],
          [
           0.014308967952387158,
           0.026582137883988374,
           0.15252282899264286,
           0.20857662537093077,
           0.7819977837331212,
           0.009405036991789411,
           0.06411803662421385,
           0.0013031277388142963,
           0.015177034274434027,
           1,
           0.0004470982194500537,
           0.015358658411641678,
           0.0012937936136899325,
           0.0036577642658087747,
           0.00023268869329820622,
           0.0010839140334313712,
           0.06386057559544912,
           0.005088180386047971,
           0.0011940001268606543,
           0.0010529282284867513,
           0.05918322024879483,
           0.015476270618506897,
           0.01331161873942692,
           0.02046422102078595,
           0.0020962699761454613,
           0.0027301845411938593,
           0.002736033953924249
          ],
          [
           0.0015679172226570651,
           0.0055027148405522005,
           0.06744884321698298,
           0.0025577651393612765,
           0.0009161666072130937,
           0.0005339207590597569,
           0.020537829997039986,
           0.00009893904149362635,
           0.000043282531620397196,
           0.0004470982194500537,
           1,
           0.00018740098176361656,
           0.000029972695313451527,
           0.00037446345234419905,
           0.00006493966739393074,
           0.000055915332894387026,
           0.00006753601365892353,
           0.0004245192569527523,
           0.00002030685631074689,
           0.00005809496603256606,
           0.00006461400253220895,
           0.0004081019323310456,
           0.00032991826561900244,
           0.0006859554866863876,
           0.00012949572805018015,
           0.0009999908944847888,
           0.00014975161752614233
          ],
          [
           0.02111111932158544,
           0.018224752071606662,
           0.008702896407151637,
           0.00876192913317753,
           0.01567859488972507,
           0.028729031201657557,
           0.01883241223957074,
           0.0016160259634816817,
           0.02495993718539117,
           0.015358658411641678,
           0.00018740098176361656,
           1,
           0.000037968293186018655,
           0.00024033420455411362,
           0.0001455189621390611,
           0.0013765012263184343,
           0.017673059135689076,
           0.00032710998307138484,
           0.0004880312307630064,
           0.0015807858170236305,
           0.019171073104821648,
           0.0008936056428976273,
           0.006719436847420518,
           0.007164069486688743,
           0.003828473854762243,
           0.00343636558704553,
           0.0014568942772529908
          ],
          [
           0.0022754942562428822,
           0.002753247959440959,
           0.0007580395966351101,
           0.000894183653734906,
           0.0012744778249659265,
           0.0024573576054480843,
           0.004742275346003049,
           0.0025360944725310104,
           0.004462383383732228,
           0.0012937936136899325,
           0.000029972695313451527,
           0.000037968293186018655,
           1,
           0.0032494864151383154,
           0.0000824349694366476,
           0.0033510530283118625,
           0.0003568853872570325,
           0.0022302883121290773,
           0.001871245264254643,
           0.005063782757290317,
           0.000161842273732088,
           0.012061337497220477,
           0.005251043665766833,
           0.08303049196393547,
           0.00277584559194534,
           0.0011685501260944497,
           0.0016425277530094885
          ],
          [
           0.011406904432077519,
           0.027449046056164626,
           0.000714281001109743,
           0.001287610582680774,
           0.00368654888470726,
           0.0037326913330861665,
           0.0684546865489019,
           0.0026461978028665535,
           0.0005675208506142453,
           0.0036577642658087747,
           0.00037446345234419905,
           0.00024033420455411362,
           0.0032494864151383154,
           1,
           0.007011825465558763,
           0.00620336831126084,
           0.002394454112675926,
           0.041232138021382016,
           0.00792091964444109,
           0.00367124636430162,
           0.001714371505252656,
           0.03197996392327615,
           0.04772044147365881,
           0.033207933789981624,
           0.002969492851984043,
           0.004971786772627316,
           0.002319837324116271
          ],
          [
           0.0021161290168549124,
           0.0032851584238015497,
           0.00004891431200290361,
           0.000060085339434548345,
           0.0002339688706166374,
           0.0012142676188972269,
           0.0063063444225670735,
           0.0032419732607890366,
           0.00027719649313766363,
           0.00023268869329820622,
           0.00006493966739393074,
           0.0001455189621390611,
           0.0000824349694366476,
           0.007011825465558763,
           1,
           0.010452839414532495,
           0.0024630826474245334,
           0.008216297832853946,
           0.0005400559085925463,
           0.006122777228900267,
           0.0016092677113835672,
           0.017292207479878186,
           0.13508919290655666,
           0.02391025363402936,
           0.02298793468357768,
           0.010477882576220194,
           0.013352997660886289
          ],
          [
           0.046280100994221036,
           0.04665240338700097,
           0.0007176724527360967,
           0.0009272645863714862,
           0.0011721747799252873,
           0.041348711780079345,
           0.055331188573340025,
           0.04344952920670813,
           0.0007483722533291096,
           0.0010839140334313712,
           0.000055915332894387026,
           0.0013765012263184343,
           0.0033510530283118625,
           0.00620336831126084,
           0.010452839414532495,
           1,
           0.06975909172933384,
           0.0035762054181864337,
           0.0018111406050306288,
           0.46682765946383703,
           0.042065045338195606,
           0.013098398375116553,
           0.01494565010863357,
           0.008868543320996475,
           0.002295501388445114,
           0.005616663615323183,
           0.00028340423913912047
          ],
          [
           0.07123265568297346,
           0.06230816776337155,
           0.023377086524879763,
           0.034714542881995616,
           0.06254380398193167,
           0.08904568751725368,
           0.06178103118470013,
           0.005101670415096025,
           0.028882442519713104,
           0.06386057559544912,
           0.00006753601365892353,
           0.017673059135689076,
           0.0003568853872570325,
           0.002394454112675926,
           0.0024630826474245334,
           0.06975909172933384,
           1,
           0.0017668889363713761,
           0.0028450865349493467,
           0.04108589156499126,
           0.7531655229435618,
           0.0019627684607372835,
           0.012458689553363779,
           0.011195880087711763,
           0.0026462377895557464,
           0.0007324970953118223,
           0.002431531760436997
          ],
          [
           0.013925002190581242,
           0.029506741539411647,
           0.0011151428688917415,
           0.0016387462459762977,
           0.005297741003047309,
           0.006467520397507822,
           0.06708754373413112,
           0.004008433791016773,
           0.0010629893779742219,
           0.005088180386047971,
           0.0004245192569527523,
           0.00032710998307138484,
           0.0022302883121290773,
           0.041232138021382016,
           0.008216297832853946,
           0.0035762054181864337,
           0.0017668889363713761,
           1,
           0.0026428139227132347,
           0.006852904975848669,
           0.0022000280589586376,
           0.006235179786652798,
           0.029824636235605072,
           0.024998210846236525,
           0.005548113548839281,
           0.0026398326422709803,
           0.013167633655902613
          ],
          [
           0.0010135336993972518,
           0.0014106559033134937,
           0.00029476028320495295,
           0.00031691653813639687,
           0.0012491529949937119,
           0.0008389434492718613,
           0.00346484100934103,
           0.0003357538658867026,
           0.0004000279806853315,
           0.0011940001268606543,
           0.00002030685631074689,
           0.0004880312307630064,
           0.001871245264254643,
           0.00792091964444109,
           0.0005400559085925463,
           0.0018111406050306288,
           0.0028450865349493467,
           0.0026428139227132347,
           1,
           0.0005368731112280912,
           0.0033020768830996357,
           0.012823292817002592,
           0.09100053101767294,
           0.011548970695354665,
           0.003937451946625118,
           0.0033372362537423465,
           0.0027748936378631105
          ],
          [
           0.047765604348213746,
           0.04787055915697146,
           0.0007523532983772911,
           0.0008638319344880623,
           0.001162869702554583,
           0.04254676650083605,
           0.05710718198345686,
           0.04629044643653612,
           0.0008253517058953898,
           0.0010529282284867513,
           0.00005809496603256606,
           0.0015807858170236305,
           0.005063782757290317,
           0.00367124636430162,
           0.006122777228900267,
           0.46682765946383703,
           0.04108589156499126,
           0.006852904975848669,
           0.0005368731112280912,
           1,
           0.07646392960294347,
           0.012748573287255508,
           0.016326626708876555,
           0.01566331429711148,
           0.01536090706540347,
           0.004544576248219466,
           0.0011752569038945314
          ],
          [
           0.07272545118265798,
           0.06346421187220266,
           0.022263101528953323,
           0.03174804579476364,
           0.05733137628915504,
           0.09104046104291894,
           0.06282979392015212,
           0.0053363656038870055,
           0.02793767019871271,
           0.05918322024879483,
           0.00006461400253220895,
           0.019171073104821648,
           0.000161842273732088,
           0.001714371505252656,
           0.0016092677113835672,
           0.042065045338195606,
           0.7531655229435618,
           0.0022000280589586376,
           0.0033020768830996357,
           0.07646392960294347,
           1,
           0.002497068194930979,
           0.012914438336998995,
           0.012212122817799992,
           0.0029898068672005473,
           0.0007528902902414467,
           0.002566547280617215
          ],
          [
           0.0196986217252602,
           0.023971981890906373,
           0.0034431229248221636,
           0.004589544687506253,
           0.01683054992144491,
           0.01574643616999434,
           0.040227631956468404,
           0.01145022506265925,
           0.010258070162617842,
           0.015476270618506897,
           0.0004081019323310456,
           0.0008936056428976273,
           0.012061337497220477,
           0.03197996392327615,
           0.017292207479878186,
           0.013098398375116553,
           0.0019627684607372835,
           0.006235179786652798,
           0.012823292817002592,
           0.012748573287255508,
           0.002497068194930979,
           1,
           0.03749398712012798,
           0.06035601331978998,
           0.013866780791498326,
           0.015321709908228504,
           0.005073501364494361
          ],
          [
           0.03580983278954702,
           0.042509237167335234,
           0.005902979019700306,
           0.007817227795239886,
           0.01589877261759102,
           0.03254014154415479,
           0.06548826833893842,
           0.008134363027201453,
           0.03839645663976581,
           0.01331161873942692,
           0.00032991826561900244,
           0.006719436847420518,
           0.005251043665766833,
           0.04772044147365881,
           0.13508919290655666,
           0.01494565010863357,
           0.012458689553363779,
           0.029824636235605072,
           0.09100053101767294,
           0.016326626708876555,
           0.012914438336998995,
           0.03749398712012798,
           1,
           0.09884991360767598,
           0.03105585974090887,
           0.008498546923378363,
           0.024251049948525186
          ],
          [
           0.03866771231272996,
           0.04305437972084617,
           0.005499053562737711,
           0.00737632649327381,
           0.022717179721983286,
           0.037699613638666724,
           0.06131157540001156,
           0.007498276362951985,
           0.019897732756564753,
           0.02046422102078595,
           0.0006859554866863876,
           0.007164069486688743,
           0.08303049196393547,
           0.033207933789981624,
           0.02391025363402936,
           0.008868543320996475,
           0.011195880087711763,
           0.024998210846236525,
           0.011548970695354665,
           0.01566331429711148,
           0.012212122817799992,
           0.06035601331978998,
           0.09884991360767598,
           1,
           0.1744178273728057,
           0.01135845372349507,
           0.028084642817704255
          ],
          [
           0.005587649142171594,
           0.006487172045212895,
           0.00048491373544747046,
           0.0005908660243043587,
           0.0021482182877122016,
           0.0052053117790736795,
           0.009416613289745362,
           0.0012599750101706785,
           0.0018922360879724575,
           0.0020962699761454613,
           0.00012949572805018015,
           0.003828473854762243,
           0.00277584559194534,
           0.002969492851984043,
           0.02298793468357768,
           0.002295501388445114,
           0.0026462377895557464,
           0.005548113548839281,
           0.003937451946625118,
           0.01536090706540347,
           0.0029898068672005473,
           0.013866780791498326,
           0.03105585974090887,
           0.1744178273728057,
           1,
           0.005790686057176589,
           0.0036373062661212143
          ],
          [
           0.005265700739006256,
           0.007978904291510405,
           0.0018444204805640287,
           0.0020347492828533733,
           0.0028255988056787927,
           0.003046424980767352,
           0.014396859181152745,
           0.00456230528013445,
           0.0002834154637788588,
           0.0027301845411938593,
           0.0009999908944847888,
           0.00343636558704553,
           0.0011685501260944497,
           0.004971786772627316,
           0.010477882576220194,
           0.005616663615323183,
           0.0007324970953118223,
           0.0026398326422709803,
           0.0033372362537423465,
           0.004544576248219466,
           0.0007528902902414467,
           0.015321709908228504,
           0.008498546923378363,
           0.01135845372349507,
           0.005790686057176589,
           1,
           0.0064877090641636825
          ],
          [
           0.004751328051372553,
           0.006222930896684647,
           0.001612122313777983,
           0.00146278445996632,
           0.0030286282607654737,
           0.003899132653332513,
           0.010945675709341554,
           0.0010945851125058314,
           0.0011672475223927503,
           0.002736033953924249,
           0.00014975161752614233,
           0.0014568942772529908,
           0.0016425277530094885,
           0.002319837324116271,
           0.013352997660886289,
           0.00028340423913912047,
           0.002431531760436997,
           0.013167633655902613,
           0.0027748936378631105,
           0.0011752569038945314,
           0.002566547280617215,
           0.005073501364494361,
           0.024251049948525186,
           0.028084642817704255,
           0.0036373062661212143,
           0.0064877090641636825,
           1
          ]
         ]
        }
       ],
       "layout": {
        "annotations": [
         {
          "font": {
           "color": "#000000"
          },
          "showarrow": false,
          "text": "1.0",
          "x": "Area",
          "xref": "x",
          "y": "Area",
          "yref": "y"
         },
         {
          "font": {
           "color": "#000000"
          },
          "showarrow": false,
          "text": "0.8619",
          "x": "County",
          "xref": "x",
          "y": "Area",
          "yref": "y"
         },
         {
          "font": {
           "color": "#FFFFFF"
          },
          "showarrow": false,
          "text": "0.0345",
          "x": "FileMonth",
          "xref": "x",
          "y": "Area",
          "yref": "y"
         },
         {
          "font": {
           "color": "#FFFFFF"
          },
          "showarrow": false,
          "text": "0.0353",
          "x": "FileDay",
          "xref": "x",
          "y": "Area",
          "yref": "y"
         },
         {
          "font": {
           "color": "#FFFFFF"
          },
          "showarrow": false,
          "text": "0.0255",
          "x": "FileYear",
          "xref": "x",
          "y": "Area",
          "yref": "y"
         },
         {
          "font": {
           "color": "#000000"
          },
          "showarrow": false,
          "text": "0.78",
          "x": "State",
          "xref": "x",
          "y": "Area",
          "yref": "y"
         },
         {
          "font": {
           "color": "#000000"
          },
          "showarrow": false,
          "text": "0.809",
          "x": "Agency",
          "xref": "x",
          "y": "Area",
          "yref": "y"
         },
         {
          "font": {
           "color": "#FFFFFF"
          },
          "showarrow": false,
          "text": "0.0906",
          "x": "Agentype",
          "xref": "x",
          "y": "Area",
          "yref": "y"
         },
         {
          "font": {
           "color": "#FFFFFF"
          },
          "showarrow": false,
          "text": "0.0438",
          "x": "Source",
          "xref": "x",
          "y": "Area",
          "yref": "y"
         },
         {
          "font": {
           "color": "#FFFFFF"
          },
          "showarrow": false,
          "text": "0.0143",
          "x": "Year",
          "xref": "x",
          "y": "Area",
          "yref": "y"
         },
         {
          "font": {
           "color": "#FFFFFF"
          },
          "showarrow": false,
          "text": "0.0016",
          "x": "Month",
          "xref": "x",
          "y": "Area",
          "yref": "y"
         },
         {
          "font": {
           "color": "#FFFFFF"
          },
          "showarrow": false,
          "text": "0.0211",
          "x": "ActionType",
          "xref": "x",
          "y": "Area",
          "yref": "y"
         },
         {
          "font": {
           "color": "#FFFFFF"
          },
          "showarrow": false,
          "text": "0.0023",
          "x": "Homicide",
          "xref": "x",
          "y": "Area",
          "yref": "y"
         },
         {
          "font": {
           "color": "#FFFFFF"
          },
          "showarrow": false,
          "text": "0.0114",
          "x": "VicAge",
          "xref": "x",
          "y": "Area",
          "yref": "y"
         },
         {
          "font": {
           "color": "#FFFFFF"
          },
          "showarrow": false,
          "text": "0.0021",
          "x": "VicSex",
          "xref": "x",
          "y": "Area",
          "yref": "y"
         },
         {
          "font": {
           "color": "#FFFFFF"
          },
          "showarrow": false,
          "text": "0.0463",
          "x": "VicRace",
          "xref": "x",
          "y": "Area",
          "yref": "y"
         },
         {
          "font": {
           "color": "#FFFFFF"
          },
          "showarrow": false,
          "text": "0.0712",
          "x": "VicEthnic",
          "xref": "x",
          "y": "Area",
          "yref": "y"
         },
         {
          "font": {
           "color": "#FFFFFF"
          },
          "showarrow": false,
          "text": "0.0139",
          "x": "OffAge",
          "xref": "x",
          "y": "Area",
          "yref": "y"
         },
         {
          "font": {
           "color": "#FFFFFF"
          },
          "showarrow": false,
          "text": "0.001",
          "x": "OffSex",
          "xref": "x",
          "y": "Area",
          "yref": "y"
         },
         {
          "font": {
           "color": "#FFFFFF"
          },
          "showarrow": false,
          "text": "0.0478",
          "x": "OffRace",
          "xref": "x",
          "y": "Area",
          "yref": "y"
         },
         {
          "font": {
           "color": "#FFFFFF"
          },
          "showarrow": false,
          "text": "0.0727",
          "x": "OffEthnic",
          "xref": "x",
          "y": "Area",
          "yref": "y"
         },
         {
          "font": {
           "color": "#FFFFFF"
          },
          "showarrow": false,
          "text": "0.0197",
          "x": "Weapon",
          "xref": "x",
          "y": "Area",
          "yref": "y"
         },
         {
          "font": {
           "color": "#FFFFFF"
          },
          "showarrow": false,
          "text": "0.0358",
          "x": "Relationship",
          "xref": "x",
          "y": "Area",
          "yref": "y"
         },
         {
          "font": {
           "color": "#FFFFFF"
          },
          "showarrow": false,
          "text": "0.0387",
          "x": "Circumstance",
          "xref": "x",
          "y": "Area",
          "yref": "y"
         },
         {
          "font": {
           "color": "#FFFFFF"
          },
          "showarrow": false,
          "text": "0.0056",
          "x": "Subcircum",
          "xref": "x",
          "y": "Area",
          "yref": "y"
         },
         {
          "font": {
           "color": "#FFFFFF"
          },
          "showarrow": false,
          "text": "0.0053",
          "x": "VicCount",
          "xref": "x",
          "y": "Area",
          "yref": "y"
         },
         {
          "font": {
           "color": "#FFFFFF"
          },
          "showarrow": false,
          "text": "0.0048",
          "x": "OffCount",
          "xref": "x",
          "y": "Area",
          "yref": "y"
         },
         {
          "font": {
           "color": "#000000"
          },
          "showarrow": false,
          "text": "0.8619",
          "x": "Area",
          "xref": "x",
          "y": "County",
          "yref": "y"
         },
         {
          "font": {
           "color": "#000000"
          },
          "showarrow": false,
          "text": "1.0",
          "x": "County",
          "xref": "x",
          "y": "County",
          "yref": "y"
         },
         {
          "font": {
           "color": "#FFFFFF"
          },
          "showarrow": false,
          "text": "0.0337",
          "x": "FileMonth",
          "xref": "x",
          "y": "County",
          "yref": "y"
         },
         {
          "font": {
           "color": "#FFFFFF"
          },
          "showarrow": false,
          "text": "0.0399",
          "x": "FileDay",
          "xref": "x",
          "y": "County",
          "yref": "y"
         },
         {
          "font": {
           "color": "#FFFFFF"
          },
          "showarrow": false,
          "text": "0.0353",
          "x": "FileYear",
          "xref": "x",
          "y": "County",
          "yref": "y"
         },
         {
          "font": {
           "color": "#000000"
          },
          "showarrow": false,
          "text": "0.6667",
          "x": "State",
          "xref": "x",
          "y": "County",
          "yref": "y"
         },
         {
          "font": {
           "color": "#000000"
          },
          "showarrow": false,
          "text": "0.8966",
          "x": "Agency",
          "xref": "x",
          "y": "County",
          "yref": "y"
         },
         {
          "font": {
           "color": "#FFFFFF"
          },
          "showarrow": false,
          "text": "0.0974",
          "x": "Agentype",
          "xref": "x",
          "y": "County",
          "yref": "y"
         },
         {
          "font": {
           "color": "#FFFFFF"
          },
          "showarrow": false,
          "text": "0.0339",
          "x": "Source",
          "xref": "x",
          "y": "County",
          "yref": "y"
         },
         {
          "font": {
           "color": "#FFFFFF"
          },
          "showarrow": false,
          "text": "0.0266",
          "x": "Year",
          "xref": "x",
          "y": "County",
          "yref": "y"
         },
         {
          "font": {
           "color": "#FFFFFF"
          },
          "showarrow": false,
          "text": "0.0055",
          "x": "Month",
          "xref": "x",
          "y": "County",
          "yref": "y"
         },
         {
          "font": {
           "color": "#FFFFFF"
          },
          "showarrow": false,
          "text": "0.0182",
          "x": "ActionType",
          "xref": "x",
          "y": "County",
          "yref": "y"
         },
         {
          "font": {
           "color": "#FFFFFF"
          },
          "showarrow": false,
          "text": "0.0028",
          "x": "Homicide",
          "xref": "x",
          "y": "County",
          "yref": "y"
         },
         {
          "font": {
           "color": "#FFFFFF"
          },
          "showarrow": false,
          "text": "0.0274",
          "x": "VicAge",
          "xref": "x",
          "y": "County",
          "yref": "y"
         },
         {
          "font": {
           "color": "#FFFFFF"
          },
          "showarrow": false,
          "text": "0.0033",
          "x": "VicSex",
          "xref": "x",
          "y": "County",
          "yref": "y"
         },
         {
          "font": {
           "color": "#FFFFFF"
          },
          "showarrow": false,
          "text": "0.0467",
          "x": "VicRace",
          "xref": "x",
          "y": "County",
          "yref": "y"
         },
         {
          "font": {
           "color": "#FFFFFF"
          },
          "showarrow": false,
          "text": "0.0623",
          "x": "VicEthnic",
          "xref": "x",
          "y": "County",
          "yref": "y"
         },
         {
          "font": {
           "color": "#FFFFFF"
          },
          "showarrow": false,
          "text": "0.0295",
          "x": "OffAge",
          "xref": "x",
          "y": "County",
          "yref": "y"
         },
         {
          "font": {
           "color": "#FFFFFF"
          },
          "showarrow": false,
          "text": "0.0014",
          "x": "OffSex",
          "xref": "x",
          "y": "County",
          "yref": "y"
         },
         {
          "font": {
           "color": "#FFFFFF"
          },
          "showarrow": false,
          "text": "0.0479",
          "x": "OffRace",
          "xref": "x",
          "y": "County",
          "yref": "y"
         },
         {
          "font": {
           "color": "#FFFFFF"
          },
          "showarrow": false,
          "text": "0.0635",
          "x": "OffEthnic",
          "xref": "x",
          "y": "County",
          "yref": "y"
         },
         {
          "font": {
           "color": "#FFFFFF"
          },
          "showarrow": false,
          "text": "0.024",
          "x": "Weapon",
          "xref": "x",
          "y": "County",
          "yref": "y"
         },
         {
          "font": {
           "color": "#FFFFFF"
          },
          "showarrow": false,
          "text": "0.0425",
          "x": "Relationship",
          "xref": "x",
          "y": "County",
          "yref": "y"
         },
         {
          "font": {
           "color": "#FFFFFF"
          },
          "showarrow": false,
          "text": "0.0431",
          "x": "Circumstance",
          "xref": "x",
          "y": "County",
          "yref": "y"
         },
         {
          "font": {
           "color": "#FFFFFF"
          },
          "showarrow": false,
          "text": "0.0065",
          "x": "Subcircum",
          "xref": "x",
          "y": "County",
          "yref": "y"
         },
         {
          "font": {
           "color": "#FFFFFF"
          },
          "showarrow": false,
          "text": "0.008",
          "x": "VicCount",
          "xref": "x",
          "y": "County",
          "yref": "y"
         },
         {
          "font": {
           "color": "#FFFFFF"
          },
          "showarrow": false,
          "text": "0.0062",
          "x": "OffCount",
          "xref": "x",
          "y": "County",
          "yref": "y"
         },
         {
          "font": {
           "color": "#FFFFFF"
          },
          "showarrow": false,
          "text": "0.0345",
          "x": "Area",
          "xref": "x",
          "y": "FileMonth",
          "yref": "y"
         },
         {
          "font": {
           "color": "#FFFFFF"
          },
          "showarrow": false,
          "text": "0.0337",
          "x": "County",
          "xref": "x",
          "y": "FileMonth",
          "yref": "y"
         },
         {
          "font": {
           "color": "#000000"
          },
          "showarrow": false,
          "text": "1.0",
          "x": "FileMonth",
          "xref": "x",
          "y": "FileMonth",
          "yref": "y"
         },
         {
          "font": {
           "color": "#FFFFFF"
          },
          "showarrow": false,
          "text": "0.1222",
          "x": "FileDay",
          "xref": "x",
          "y": "FileMonth",
          "yref": "y"
         },
         {
          "font": {
           "color": "#FFFFFF"
          },
          "showarrow": false,
          "text": "0.1573",
          "x": "FileYear",
          "xref": "x",
          "y": "FileMonth",
          "yref": "y"
         },
         {
          "font": {
           "color": "#FFFFFF"
          },
          "showarrow": false,
          "text": "0.0423",
          "x": "State",
          "xref": "x",
          "y": "FileMonth",
          "yref": "y"
         },
         {
          "font": {
           "color": "#FFFFFF"
          },
          "showarrow": false,
          "text": "0.0494",
          "x": "Agency",
          "xref": "x",
          "y": "FileMonth",
          "yref": "y"
         },
         {
          "font": {
           "color": "#FFFFFF"
          },
          "showarrow": false,
          "text": "0.0015",
          "x": "Agentype",
          "xref": "x",
          "y": "FileMonth",
          "yref": "y"
         },
         {
          "font": {
           "color": "#FFFFFF"
          },
          "showarrow": false,
          "text": "0.0385",
          "x": "Source",
          "xref": "x",
          "y": "FileMonth",
          "yref": "y"
         },
         {
          "font": {
           "color": "#FFFFFF"
          },
          "showarrow": false,
          "text": "0.1525",
          "x": "Year",
          "xref": "x",
          "y": "FileMonth",
          "yref": "y"
         },
         {
          "font": {
           "color": "#FFFFFF"
          },
          "showarrow": false,
          "text": "0.0674",
          "x": "Month",
          "xref": "x",
          "y": "FileMonth",
          "yref": "y"
         },
         {
          "font": {
           "color": "#FFFFFF"
          },
          "showarrow": false,
          "text": "0.0087",
          "x": "ActionType",
          "xref": "x",
          "y": "FileMonth",
          "yref": "y"
         },
         {
          "font": {
           "color": "#FFFFFF"
          },
          "showarrow": false,
          "text": "0.0008",
          "x": "Homicide",
          "xref": "x",
          "y": "FileMonth",
          "yref": "y"
         },
         {
          "font": {
           "color": "#FFFFFF"
          },
          "showarrow": false,
          "text": "0.0007",
          "x": "VicAge",
          "xref": "x",
          "y": "FileMonth",
          "yref": "y"
         },
         {
          "font": {
           "color": "#FFFFFF"
          },
          "showarrow": false,
          "text": "0.0",
          "x": "VicSex",
          "xref": "x",
          "y": "FileMonth",
          "yref": "y"
         },
         {
          "font": {
           "color": "#FFFFFF"
          },
          "showarrow": false,
          "text": "0.0007",
          "x": "VicRace",
          "xref": "x",
          "y": "FileMonth",
          "yref": "y"
         },
         {
          "font": {
           "color": "#FFFFFF"
          },
          "showarrow": false,
          "text": "0.0234",
          "x": "VicEthnic",
          "xref": "x",
          "y": "FileMonth",
          "yref": "y"
         },
         {
          "font": {
           "color": "#FFFFFF"
          },
          "showarrow": false,
          "text": "0.0011",
          "x": "OffAge",
          "xref": "x",
          "y": "FileMonth",
          "yref": "y"
         },
         {
          "font": {
           "color": "#FFFFFF"
          },
          "showarrow": false,
          "text": "0.0003",
          "x": "OffSex",
          "xref": "x",
          "y": "FileMonth",
          "yref": "y"
         },
         {
          "font": {
           "color": "#FFFFFF"
          },
          "showarrow": false,
          "text": "0.0008",
          "x": "OffRace",
          "xref": "x",
          "y": "FileMonth",
          "yref": "y"
         },
         {
          "font": {
           "color": "#FFFFFF"
          },
          "showarrow": false,
          "text": "0.0223",
          "x": "OffEthnic",
          "xref": "x",
          "y": "FileMonth",
          "yref": "y"
         },
         {
          "font": {
           "color": "#FFFFFF"
          },
          "showarrow": false,
          "text": "0.0034",
          "x": "Weapon",
          "xref": "x",
          "y": "FileMonth",
          "yref": "y"
         },
         {
          "font": {
           "color": "#FFFFFF"
          },
          "showarrow": false,
          "text": "0.0059",
          "x": "Relationship",
          "xref": "x",
          "y": "FileMonth",
          "yref": "y"
         },
         {
          "font": {
           "color": "#FFFFFF"
          },
          "showarrow": false,
          "text": "0.0055",
          "x": "Circumstance",
          "xref": "x",
          "y": "FileMonth",
          "yref": "y"
         },
         {
          "font": {
           "color": "#FFFFFF"
          },
          "showarrow": false,
          "text": "0.0005",
          "x": "Subcircum",
          "xref": "x",
          "y": "FileMonth",
          "yref": "y"
         },
         {
          "font": {
           "color": "#FFFFFF"
          },
          "showarrow": false,
          "text": "0.0018",
          "x": "VicCount",
          "xref": "x",
          "y": "FileMonth",
          "yref": "y"
         },
         {
          "font": {
           "color": "#FFFFFF"
          },
          "showarrow": false,
          "text": "0.0016",
          "x": "OffCount",
          "xref": "x",
          "y": "FileMonth",
          "yref": "y"
         },
         {
          "font": {
           "color": "#FFFFFF"
          },
          "showarrow": false,
          "text": "0.0353",
          "x": "Area",
          "xref": "x",
          "y": "FileDay",
          "yref": "y"
         },
         {
          "font": {
           "color": "#FFFFFF"
          },
          "showarrow": false,
          "text": "0.0399",
          "x": "County",
          "xref": "x",
          "y": "FileDay",
          "yref": "y"
         },
         {
          "font": {
           "color": "#FFFFFF"
          },
          "showarrow": false,
          "text": "0.1222",
          "x": "FileMonth",
          "xref": "x",
          "y": "FileDay",
          "yref": "y"
         },
         {
          "font": {
           "color": "#000000"
          },
          "showarrow": false,
          "text": "1.0",
          "x": "FileDay",
          "xref": "x",
          "y": "FileDay",
          "yref": "y"
         },
         {
          "font": {
           "color": "#FFFFFF"
          },
          "showarrow": false,
          "text": "0.2182",
          "x": "FileYear",
          "xref": "x",
          "y": "FileDay",
          "yref": "y"
         },
         {
          "font": {
           "color": "#FFFFFF"
          },
          "showarrow": false,
          "text": "0.0371",
          "x": "State",
          "xref": "x",
          "y": "FileDay",
          "yref": "y"
         },
         {
          "font": {
           "color": "#FFFFFF"
          },
          "showarrow": false,
          "text": "0.0685",
          "x": "Agency",
          "xref": "x",
          "y": "FileDay",
          "yref": "y"
         },
         {
          "font": {
           "color": "#FFFFFF"
          },
          "showarrow": false,
          "text": "0.0016",
          "x": "Agentype",
          "xref": "x",
          "y": "FileDay",
          "yref": "y"
         },
         {
          "font": {
           "color": "#FFFFFF"
          },
          "showarrow": false,
          "text": "0.0404",
          "x": "Source",
          "xref": "x",
          "y": "FileDay",
          "yref": "y"
         },
         {
          "font": {
           "color": "#FFFFFF"
          },
          "showarrow": false,
          "text": "0.2086",
          "x": "Year",
          "xref": "x",
          "y": "FileDay",
          "yref": "y"
         },
         {
          "font": {
           "color": "#FFFFFF"
          },
          "showarrow": false,
          "text": "0.0026",
          "x": "Month",
          "xref": "x",
          "y": "FileDay",
          "yref": "y"
         },
         {
          "font": {
           "color": "#FFFFFF"
          },
          "showarrow": false,
          "text": "0.0088",
          "x": "ActionType",
          "xref": "x",
          "y": "FileDay",
          "yref": "y"
         },
         {
          "font": {
           "color": "#FFFFFF"
          },
          "showarrow": false,
          "text": "0.0009",
          "x": "Homicide",
          "xref": "x",
          "y": "FileDay",
          "yref": "y"
         },
         {
          "font": {
           "color": "#FFFFFF"
          },
          "showarrow": false,
          "text": "0.0013",
          "x": "VicAge",
          "xref": "x",
          "y": "FileDay",
          "yref": "y"
         },
         {
          "font": {
           "color": "#FFFFFF"
          },
          "showarrow": false,
          "text": "0.0001",
          "x": "VicSex",
          "xref": "x",
          "y": "FileDay",
          "yref": "y"
         },
         {
          "font": {
           "color": "#FFFFFF"
          },
          "showarrow": false,
          "text": "0.0009",
          "x": "VicRace",
          "xref": "x",
          "y": "FileDay",
          "yref": "y"
         },
         {
          "font": {
           "color": "#FFFFFF"
          },
          "showarrow": false,
          "text": "0.0347",
          "x": "VicEthnic",
          "xref": "x",
          "y": "FileDay",
          "yref": "y"
         },
         {
          "font": {
           "color": "#FFFFFF"
          },
          "showarrow": false,
          "text": "0.0016",
          "x": "OffAge",
          "xref": "x",
          "y": "FileDay",
          "yref": "y"
         },
         {
          "font": {
           "color": "#FFFFFF"
          },
          "showarrow": false,
          "text": "0.0003",
          "x": "OffSex",
          "xref": "x",
          "y": "FileDay",
          "yref": "y"
         },
         {
          "font": {
           "color": "#FFFFFF"
          },
          "showarrow": false,
          "text": "0.0009",
          "x": "OffRace",
          "xref": "x",
          "y": "FileDay",
          "yref": "y"
         },
         {
          "font": {
           "color": "#FFFFFF"
          },
          "showarrow": false,
          "text": "0.0317",
          "x": "OffEthnic",
          "xref": "x",
          "y": "FileDay",
          "yref": "y"
         },
         {
          "font": {
           "color": "#FFFFFF"
          },
          "showarrow": false,
          "text": "0.0046",
          "x": "Weapon",
          "xref": "x",
          "y": "FileDay",
          "yref": "y"
         },
         {
          "font": {
           "color": "#FFFFFF"
          },
          "showarrow": false,
          "text": "0.0078",
          "x": "Relationship",
          "xref": "x",
          "y": "FileDay",
          "yref": "y"
         },
         {
          "font": {
           "color": "#FFFFFF"
          },
          "showarrow": false,
          "text": "0.0074",
          "x": "Circumstance",
          "xref": "x",
          "y": "FileDay",
          "yref": "y"
         },
         {
          "font": {
           "color": "#FFFFFF"
          },
          "showarrow": false,
          "text": "0.0006",
          "x": "Subcircum",
          "xref": "x",
          "y": "FileDay",
          "yref": "y"
         },
         {
          "font": {
           "color": "#FFFFFF"
          },
          "showarrow": false,
          "text": "0.002",
          "x": "VicCount",
          "xref": "x",
          "y": "FileDay",
          "yref": "y"
         },
         {
          "font": {
           "color": "#FFFFFF"
          },
          "showarrow": false,
          "text": "0.0015",
          "x": "OffCount",
          "xref": "x",
          "y": "FileDay",
          "yref": "y"
         },
         {
          "font": {
           "color": "#FFFFFF"
          },
          "showarrow": false,
          "text": "0.0255",
          "x": "Area",
          "xref": "x",
          "y": "FileYear",
          "yref": "y"
         },
         {
          "font": {
           "color": "#FFFFFF"
          },
          "showarrow": false,
          "text": "0.0353",
          "x": "County",
          "xref": "x",
          "y": "FileYear",
          "yref": "y"
         },
         {
          "font": {
           "color": "#FFFFFF"
          },
          "showarrow": false,
          "text": "0.1573",
          "x": "FileMonth",
          "xref": "x",
          "y": "FileYear",
          "yref": "y"
         },
         {
          "font": {
           "color": "#FFFFFF"
          },
          "showarrow": false,
          "text": "0.2182",
          "x": "FileDay",
          "xref": "x",
          "y": "FileYear",
          "yref": "y"
         },
         {
          "font": {
           "color": "#000000"
          },
          "showarrow": false,
          "text": "1.0",
          "x": "FileYear",
          "xref": "x",
          "y": "FileYear",
          "yref": "y"
         },
         {
          "font": {
           "color": "#FFFFFF"
          },
          "showarrow": false,
          "text": "0.0228",
          "x": "State",
          "xref": "x",
          "y": "FileYear",
          "yref": "y"
         },
         {
          "font": {
           "color": "#FFFFFF"
          },
          "showarrow": false,
          "text": "0.0713",
          "x": "Agency",
          "xref": "x",
          "y": "FileYear",
          "yref": "y"
         },
         {
          "font": {
           "color": "#FFFFFF"
          },
          "showarrow": false,
          "text": "0.0019",
          "x": "Agentype",
          "xref": "x",
          "y": "FileYear",
          "yref": "y"
         },
         {
          "font": {
           "color": "#FFFFFF"
          },
          "showarrow": false,
          "text": "0.0289",
          "x": "Source",
          "xref": "x",
          "y": "FileYear",
          "yref": "y"
         },
         {
          "font": {
           "color": "#000000"
          },
          "showarrow": false,
          "text": "0.782",
          "x": "Year",
          "xref": "x",
          "y": "FileYear",
          "yref": "y"
         },
         {
          "font": {
           "color": "#FFFFFF"
          },
          "showarrow": false,
          "text": "0.0009",
          "x": "Month",
          "xref": "x",
          "y": "FileYear",
          "yref": "y"
         },
         {
          "font": {
           "color": "#FFFFFF"
          },
          "showarrow": false,
          "text": "0.0157",
          "x": "ActionType",
          "xref": "x",
          "y": "FileYear",
          "yref": "y"
         },
         {
          "font": {
           "color": "#FFFFFF"
          },
          "showarrow": false,
          "text": "0.0013",
          "x": "Homicide",
          "xref": "x",
          "y": "FileYear",
          "yref": "y"
         },
         {
          "font": {
           "color": "#FFFFFF"
          },
          "showarrow": false,
          "text": "0.0037",
          "x": "VicAge",
          "xref": "x",
          "y": "FileYear",
          "yref": "y"
         },
         {
          "font": {
           "color": "#FFFFFF"
          },
          "showarrow": false,
          "text": "0.0002",
          "x": "VicSex",
          "xref": "x",
          "y": "FileYear",
          "yref": "y"
         },
         {
          "font": {
           "color": "#FFFFFF"
          },
          "showarrow": false,
          "text": "0.0012",
          "x": "VicRace",
          "xref": "x",
          "y": "FileYear",
          "yref": "y"
         },
         {
          "font": {
           "color": "#FFFFFF"
          },
          "showarrow": false,
          "text": "0.0625",
          "x": "VicEthnic",
          "xref": "x",
          "y": "FileYear",
          "yref": "y"
         },
         {
          "font": {
           "color": "#FFFFFF"
          },
          "showarrow": false,
          "text": "0.0053",
          "x": "OffAge",
          "xref": "x",
          "y": "FileYear",
          "yref": "y"
         },
         {
          "font": {
           "color": "#FFFFFF"
          },
          "showarrow": false,
          "text": "0.0012",
          "x": "OffSex",
          "xref": "x",
          "y": "FileYear",
          "yref": "y"
         },
         {
          "font": {
           "color": "#FFFFFF"
          },
          "showarrow": false,
          "text": "0.0012",
          "x": "OffRace",
          "xref": "x",
          "y": "FileYear",
          "yref": "y"
         },
         {
          "font": {
           "color": "#FFFFFF"
          },
          "showarrow": false,
          "text": "0.0573",
          "x": "OffEthnic",
          "xref": "x",
          "y": "FileYear",
          "yref": "y"
         },
         {
          "font": {
           "color": "#FFFFFF"
          },
          "showarrow": false,
          "text": "0.0168",
          "x": "Weapon",
          "xref": "x",
          "y": "FileYear",
          "yref": "y"
         },
         {
          "font": {
           "color": "#FFFFFF"
          },
          "showarrow": false,
          "text": "0.0159",
          "x": "Relationship",
          "xref": "x",
          "y": "FileYear",
          "yref": "y"
         },
         {
          "font": {
           "color": "#FFFFFF"
          },
          "showarrow": false,
          "text": "0.0227",
          "x": "Circumstance",
          "xref": "x",
          "y": "FileYear",
          "yref": "y"
         },
         {
          "font": {
           "color": "#FFFFFF"
          },
          "showarrow": false,
          "text": "0.0021",
          "x": "Subcircum",
          "xref": "x",
          "y": "FileYear",
          "yref": "y"
         },
         {
          "font": {
           "color": "#FFFFFF"
          },
          "showarrow": false,
          "text": "0.0028",
          "x": "VicCount",
          "xref": "x",
          "y": "FileYear",
          "yref": "y"
         },
         {
          "font": {
           "color": "#FFFFFF"
          },
          "showarrow": false,
          "text": "0.003",
          "x": "OffCount",
          "xref": "x",
          "y": "FileYear",
          "yref": "y"
         },
         {
          "font": {
           "color": "#000000"
          },
          "showarrow": false,
          "text": "0.78",
          "x": "Area",
          "xref": "x",
          "y": "State",
          "yref": "y"
         },
         {
          "font": {
           "color": "#000000"
          },
          "showarrow": false,
          "text": "0.6667",
          "x": "County",
          "xref": "x",
          "y": "State",
          "yref": "y"
         },
         {
          "font": {
           "color": "#FFFFFF"
          },
          "showarrow": false,
          "text": "0.0423",
          "x": "FileMonth",
          "xref": "x",
          "y": "State",
          "yref": "y"
         },
         {
          "font": {
           "color": "#FFFFFF"
          },
          "showarrow": false,
          "text": "0.0371",
          "x": "FileDay",
          "xref": "x",
          "y": "State",
          "yref": "y"
         },
         {
          "font": {
           "color": "#FFFFFF"
          },
          "showarrow": false,
          "text": "0.0228",
          "x": "FileYear",
          "xref": "x",
          "y": "State",
          "yref": "y"
         },
         {
          "font": {
           "color": "#000000"
          },
          "showarrow": false,
          "text": "1.0",
          "x": "State",
          "xref": "x",
          "y": "State",
          "yref": "y"
         },
         {
          "font": {
           "color": "#000000"
          },
          "showarrow": false,
          "text": "0.6235",
          "x": "Agency",
          "xref": "x",
          "y": "State",
          "yref": "y"
         },
         {
          "font": {
           "color": "#FFFFFF"
          },
          "showarrow": false,
          "text": "0.0761",
          "x": "Agentype",
          "xref": "x",
          "y": "State",
          "yref": "y"
         },
         {
          "font": {
           "color": "#FFFFFF"
          },
          "showarrow": false,
          "text": "0.0636",
          "x": "Source",
          "xref": "x",
          "y": "State",
          "yref": "y"
         },
         {
          "font": {
           "color": "#FFFFFF"
          },
          "showarrow": false,
          "text": "0.0094",
          "x": "Year",
          "xref": "x",
          "y": "State",
          "yref": "y"
         },
         {
          "font": {
           "color": "#FFFFFF"
          },
          "showarrow": false,
          "text": "0.0005",
          "x": "Month",
          "xref": "x",
          "y": "State",
          "yref": "y"
         },
         {
          "font": {
           "color": "#FFFFFF"
          },
          "showarrow": false,
          "text": "0.0287",
          "x": "ActionType",
          "xref": "x",
          "y": "State",
          "yref": "y"
         },
         {
          "font": {
           "color": "#FFFFFF"
          },
          "showarrow": false,
          "text": "0.0025",
          "x": "Homicide",
          "xref": "x",
          "y": "State",
          "yref": "y"
         },
         {
          "font": {
           "color": "#FFFFFF"
          },
          "showarrow": false,
          "text": "0.0037",
          "x": "VicAge",
          "xref": "x",
          "y": "State",
          "yref": "y"
         },
         {
          "font": {
           "color": "#FFFFFF"
          },
          "showarrow": false,
          "text": "0.0012",
          "x": "VicSex",
          "xref": "x",
          "y": "State",
          "yref": "y"
         },
         {
          "font": {
           "color": "#FFFFFF"
          },
          "showarrow": false,
          "text": "0.0413",
          "x": "VicRace",
          "xref": "x",
          "y": "State",
          "yref": "y"
         },
         {
          "font": {
           "color": "#FFFFFF"
          },
          "showarrow": false,
          "text": "0.089",
          "x": "VicEthnic",
          "xref": "x",
          "y": "State",
          "yref": "y"
         },
         {
          "font": {
           "color": "#FFFFFF"
          },
          "showarrow": false,
          "text": "0.0065",
          "x": "OffAge",
          "xref": "x",
          "y": "State",
          "yref": "y"
         },
         {
          "font": {
           "color": "#FFFFFF"
          },
          "showarrow": false,
          "text": "0.0008",
          "x": "OffSex",
          "xref": "x",
          "y": "State",
          "yref": "y"
         },
         {
          "font": {
           "color": "#FFFFFF"
          },
          "showarrow": false,
          "text": "0.0425",
          "x": "OffRace",
          "xref": "x",
          "y": "State",
          "yref": "y"
         },
         {
          "font": {
           "color": "#FFFFFF"
          },
          "showarrow": false,
          "text": "0.091",
          "x": "OffEthnic",
          "xref": "x",
          "y": "State",
          "yref": "y"
         },
         {
          "font": {
           "color": "#FFFFFF"
          },
          "showarrow": false,
          "text": "0.0157",
          "x": "Weapon",
          "xref": "x",
          "y": "State",
          "yref": "y"
         },
         {
          "font": {
           "color": "#FFFFFF"
          },
          "showarrow": false,
          "text": "0.0325",
          "x": "Relationship",
          "xref": "x",
          "y": "State",
          "yref": "y"
         },
         {
          "font": {
           "color": "#FFFFFF"
          },
          "showarrow": false,
          "text": "0.0377",
          "x": "Circumstance",
          "xref": "x",
          "y": "State",
          "yref": "y"
         },
         {
          "font": {
           "color": "#FFFFFF"
          },
          "showarrow": false,
          "text": "0.0052",
          "x": "Subcircum",
          "xref": "x",
          "y": "State",
          "yref": "y"
         },
         {
          "font": {
           "color": "#FFFFFF"
          },
          "showarrow": false,
          "text": "0.003",
          "x": "VicCount",
          "xref": "x",
          "y": "State",
          "yref": "y"
         },
         {
          "font": {
           "color": "#FFFFFF"
          },
          "showarrow": false,
          "text": "0.0039",
          "x": "OffCount",
          "xref": "x",
          "y": "State",
          "yref": "y"
         },
         {
          "font": {
           "color": "#000000"
          },
          "showarrow": false,
          "text": "0.809",
          "x": "Area",
          "xref": "x",
          "y": "Agency",
          "yref": "y"
         },
         {
          "font": {
           "color": "#000000"
          },
          "showarrow": false,
          "text": "0.8966",
          "x": "County",
          "xref": "x",
          "y": "Agency",
          "yref": "y"
         },
         {
          "font": {
           "color": "#FFFFFF"
          },
          "showarrow": false,
          "text": "0.0494",
          "x": "FileMonth",
          "xref": "x",
          "y": "Agency",
          "yref": "y"
         },
         {
          "font": {
           "color": "#FFFFFF"
          },
          "showarrow": false,
          "text": "0.0685",
          "x": "FileDay",
          "xref": "x",
          "y": "Agency",
          "yref": "y"
         },
         {
          "font": {
           "color": "#FFFFFF"
          },
          "showarrow": false,
          "text": "0.0713",
          "x": "FileYear",
          "xref": "x",
          "y": "Agency",
          "yref": "y"
         },
         {
          "font": {
           "color": "#000000"
          },
          "showarrow": false,
          "text": "0.6235",
          "x": "State",
          "xref": "x",
          "y": "Agency",
          "yref": "y"
         },
         {
          "font": {
           "color": "#000000"
          },
          "showarrow": false,
          "text": "1.0",
          "x": "Agency",
          "xref": "x",
          "y": "Agency",
          "yref": "y"
         },
         {
          "font": {
           "color": "#FFFFFF"
          },
          "showarrow": false,
          "text": "0.1994",
          "x": "Agentype",
          "xref": "x",
          "y": "Agency",
          "yref": "y"
         },
         {
          "font": {
           "color": "#FFFFFF"
          },
          "showarrow": false,
          "text": "0.0317",
          "x": "Source",
          "xref": "x",
          "y": "Agency",
          "yref": "y"
         },
         {
          "font": {
           "color": "#FFFFFF"
          },
          "showarrow": false,
          "text": "0.0641",
          "x": "Year",
          "xref": "x",
          "y": "Agency",
          "yref": "y"
         },
         {
          "font": {
           "color": "#FFFFFF"
          },
          "showarrow": false,
          "text": "0.0205",
          "x": "Month",
          "xref": "x",
          "y": "Agency",
          "yref": "y"
         },
         {
          "font": {
           "color": "#FFFFFF"
          },
          "showarrow": false,
          "text": "0.0188",
          "x": "ActionType",
          "xref": "x",
          "y": "Agency",
          "yref": "y"
         },
         {
          "font": {
           "color": "#FFFFFF"
          },
          "showarrow": false,
          "text": "0.0047",
          "x": "Homicide",
          "xref": "x",
          "y": "Agency",
          "yref": "y"
         },
         {
          "font": {
           "color": "#FFFFFF"
          },
          "showarrow": false,
          "text": "0.0685",
          "x": "VicAge",
          "xref": "x",
          "y": "Agency",
          "yref": "y"
         },
         {
          "font": {
           "color": "#FFFFFF"
          },
          "showarrow": false,
          "text": "0.0063",
          "x": "VicSex",
          "xref": "x",
          "y": "Agency",
          "yref": "y"
         },
         {
          "font": {
           "color": "#FFFFFF"
          },
          "showarrow": false,
          "text": "0.0553",
          "x": "VicRace",
          "xref": "x",
          "y": "Agency",
          "yref": "y"
         },
         {
          "font": {
           "color": "#FFFFFF"
          },
          "showarrow": false,
          "text": "0.0618",
          "x": "VicEthnic",
          "xref": "x",
          "y": "Agency",
          "yref": "y"
         },
         {
          "font": {
           "color": "#FFFFFF"
          },
          "showarrow": false,
          "text": "0.0671",
          "x": "OffAge",
          "xref": "x",
          "y": "Agency",
          "yref": "y"
         },
         {
          "font": {
           "color": "#FFFFFF"
          },
          "showarrow": false,
          "text": "0.0035",
          "x": "OffSex",
          "xref": "x",
          "y": "Agency",
          "yref": "y"
         },
         {
          "font": {
           "color": "#FFFFFF"
          },
          "showarrow": false,
          "text": "0.0571",
          "x": "OffRace",
          "xref": "x",
          "y": "Agency",
          "yref": "y"
         },
         {
          "font": {
           "color": "#FFFFFF"
          },
          "showarrow": false,
          "text": "0.0628",
          "x": "OffEthnic",
          "xref": "x",
          "y": "Agency",
          "yref": "y"
         },
         {
          "font": {
           "color": "#FFFFFF"
          },
          "showarrow": false,
          "text": "0.0402",
          "x": "Weapon",
          "xref": "x",
          "y": "Agency",
          "yref": "y"
         },
         {
          "font": {
           "color": "#FFFFFF"
          },
          "showarrow": false,
          "text": "0.0655",
          "x": "Relationship",
          "xref": "x",
          "y": "Agency",
          "yref": "y"
         },
         {
          "font": {
           "color": "#FFFFFF"
          },
          "showarrow": false,
          "text": "0.0613",
          "x": "Circumstance",
          "xref": "x",
          "y": "Agency",
          "yref": "y"
         },
         {
          "font": {
           "color": "#FFFFFF"
          },
          "showarrow": false,
          "text": "0.0094",
          "x": "Subcircum",
          "xref": "x",
          "y": "Agency",
          "yref": "y"
         },
         {
          "font": {
           "color": "#FFFFFF"
          },
          "showarrow": false,
          "text": "0.0144",
          "x": "VicCount",
          "xref": "x",
          "y": "Agency",
          "yref": "y"
         },
         {
          "font": {
           "color": "#FFFFFF"
          },
          "showarrow": false,
          "text": "0.0109",
          "x": "OffCount",
          "xref": "x",
          "y": "Agency",
          "yref": "y"
         },
         {
          "font": {
           "color": "#FFFFFF"
          },
          "showarrow": false,
          "text": "0.0906",
          "x": "Area",
          "xref": "x",
          "y": "Agentype",
          "yref": "y"
         },
         {
          "font": {
           "color": "#FFFFFF"
          },
          "showarrow": false,
          "text": "0.0974",
          "x": "County",
          "xref": "x",
          "y": "Agentype",
          "yref": "y"
         },
         {
          "font": {
           "color": "#FFFFFF"
          },
          "showarrow": false,
          "text": "0.0015",
          "x": "FileMonth",
          "xref": "x",
          "y": "Agentype",
          "yref": "y"
         },
         {
          "font": {
           "color": "#FFFFFF"
          },
          "showarrow": false,
          "text": "0.0016",
          "x": "FileDay",
          "xref": "x",
          "y": "Agentype",
          "yref": "y"
         },
         {
          "font": {
           "color": "#FFFFFF"
          },
          "showarrow": false,
          "text": "0.0019",
          "x": "FileYear",
          "xref": "x",
          "y": "Agentype",
          "yref": "y"
         },
         {
          "font": {
           "color": "#FFFFFF"
          },
          "showarrow": false,
          "text": "0.0761",
          "x": "State",
          "xref": "x",
          "y": "Agentype",
          "yref": "y"
         },
         {
          "font": {
           "color": "#FFFFFF"
          },
          "showarrow": false,
          "text": "0.1994",
          "x": "Agency",
          "xref": "x",
          "y": "Agentype",
          "yref": "y"
         },
         {
          "font": {
           "color": "#000000"
          },
          "showarrow": false,
          "text": "1.0",
          "x": "Agentype",
          "xref": "x",
          "y": "Agentype",
          "yref": "y"
         },
         {
          "font": {
           "color": "#FFFFFF"
          },
          "showarrow": false,
          "text": "0.0099",
          "x": "Source",
          "xref": "x",
          "y": "Agentype",
          "yref": "y"
         },
         {
          "font": {
           "color": "#FFFFFF"
          },
          "showarrow": false,
          "text": "0.0013",
          "x": "Year",
          "xref": "x",
          "y": "Agentype",
          "yref": "y"
         },
         {
          "font": {
           "color": "#FFFFFF"
          },
          "showarrow": false,
          "text": "0.0001",
          "x": "Month",
          "xref": "x",
          "y": "Agentype",
          "yref": "y"
         },
         {
          "font": {
           "color": "#FFFFFF"
          },
          "showarrow": false,
          "text": "0.0016",
          "x": "ActionType",
          "xref": "x",
          "y": "Agentype",
          "yref": "y"
         },
         {
          "font": {
           "color": "#FFFFFF"
          },
          "showarrow": false,
          "text": "0.0025",
          "x": "Homicide",
          "xref": "x",
          "y": "Agentype",
          "yref": "y"
         },
         {
          "font": {
           "color": "#FFFFFF"
          },
          "showarrow": false,
          "text": "0.0026",
          "x": "VicAge",
          "xref": "x",
          "y": "Agentype",
          "yref": "y"
         },
         {
          "font": {
           "color": "#FFFFFF"
          },
          "showarrow": false,
          "text": "0.0032",
          "x": "VicSex",
          "xref": "x",
          "y": "Agentype",
          "yref": "y"
         },
         {
          "font": {
           "color": "#FFFFFF"
          },
          "showarrow": false,
          "text": "0.0434",
          "x": "VicRace",
          "xref": "x",
          "y": "Agentype",
          "yref": "y"
         },
         {
          "font": {
           "color": "#FFFFFF"
          },
          "showarrow": false,
          "text": "0.0051",
          "x": "VicEthnic",
          "xref": "x",
          "y": "Agentype",
          "yref": "y"
         },
         {
          "font": {
           "color": "#FFFFFF"
          },
          "showarrow": false,
          "text": "0.004",
          "x": "OffAge",
          "xref": "x",
          "y": "Agentype",
          "yref": "y"
         },
         {
          "font": {
           "color": "#FFFFFF"
          },
          "showarrow": false,
          "text": "0.0003",
          "x": "OffSex",
          "xref": "x",
          "y": "Agentype",
          "yref": "y"
         },
         {
          "font": {
           "color": "#FFFFFF"
          },
          "showarrow": false,
          "text": "0.0463",
          "x": "OffRace",
          "xref": "x",
          "y": "Agentype",
          "yref": "y"
         },
         {
          "font": {
           "color": "#FFFFFF"
          },
          "showarrow": false,
          "text": "0.0053",
          "x": "OffEthnic",
          "xref": "x",
          "y": "Agentype",
          "yref": "y"
         },
         {
          "font": {
           "color": "#FFFFFF"
          },
          "showarrow": false,
          "text": "0.0115",
          "x": "Weapon",
          "xref": "x",
          "y": "Agentype",
          "yref": "y"
         },
         {
          "font": {
           "color": "#FFFFFF"
          },
          "showarrow": false,
          "text": "0.0081",
          "x": "Relationship",
          "xref": "x",
          "y": "Agentype",
          "yref": "y"
         },
         {
          "font": {
           "color": "#FFFFFF"
          },
          "showarrow": false,
          "text": "0.0075",
          "x": "Circumstance",
          "xref": "x",
          "y": "Agentype",
          "yref": "y"
         },
         {
          "font": {
           "color": "#FFFFFF"
          },
          "showarrow": false,
          "text": "0.0013",
          "x": "Subcircum",
          "xref": "x",
          "y": "Agentype",
          "yref": "y"
         },
         {
          "font": {
           "color": "#FFFFFF"
          },
          "showarrow": false,
          "text": "0.0046",
          "x": "VicCount",
          "xref": "x",
          "y": "Agentype",
          "yref": "y"
         },
         {
          "font": {
           "color": "#FFFFFF"
          },
          "showarrow": false,
          "text": "0.0011",
          "x": "OffCount",
          "xref": "x",
          "y": "Agentype",
          "yref": "y"
         },
         {
          "font": {
           "color": "#FFFFFF"
          },
          "showarrow": false,
          "text": "0.0438",
          "x": "Area",
          "xref": "x",
          "y": "Source",
          "yref": "y"
         },
         {
          "font": {
           "color": "#FFFFFF"
          },
          "showarrow": false,
          "text": "0.0339",
          "x": "County",
          "xref": "x",
          "y": "Source",
          "yref": "y"
         },
         {
          "font": {
           "color": "#FFFFFF"
          },
          "showarrow": false,
          "text": "0.0385",
          "x": "FileMonth",
          "xref": "x",
          "y": "Source",
          "yref": "y"
         },
         {
          "font": {
           "color": "#FFFFFF"
          },
          "showarrow": false,
          "text": "0.0404",
          "x": "FileDay",
          "xref": "x",
          "y": "Source",
          "yref": "y"
         },
         {
          "font": {
           "color": "#FFFFFF"
          },
          "showarrow": false,
          "text": "0.0289",
          "x": "FileYear",
          "xref": "x",
          "y": "Source",
          "yref": "y"
         },
         {
          "font": {
           "color": "#FFFFFF"
          },
          "showarrow": false,
          "text": "0.0636",
          "x": "State",
          "xref": "x",
          "y": "Source",
          "yref": "y"
         },
         {
          "font": {
           "color": "#FFFFFF"
          },
          "showarrow": false,
          "text": "0.0317",
          "x": "Agency",
          "xref": "x",
          "y": "Source",
          "yref": "y"
         },
         {
          "font": {
           "color": "#FFFFFF"
          },
          "showarrow": false,
          "text": "0.0099",
          "x": "Agentype",
          "xref": "x",
          "y": "Source",
          "yref": "y"
         },
         {
          "font": {
           "color": "#000000"
          },
          "showarrow": false,
          "text": "1.0",
          "x": "Source",
          "xref": "x",
          "y": "Source",
          "yref": "y"
         },
         {
          "font": {
           "color": "#FFFFFF"
          },
          "showarrow": false,
          "text": "0.0152",
          "x": "Year",
          "xref": "x",
          "y": "Source",
          "yref": "y"
         },
         {
          "font": {
           "color": "#FFFFFF"
          },
          "showarrow": false,
          "text": "0.0",
          "x": "Month",
          "xref": "x",
          "y": "Source",
          "yref": "y"
         },
         {
          "font": {
           "color": "#FFFFFF"
          },
          "showarrow": false,
          "text": "0.025",
          "x": "ActionType",
          "xref": "x",
          "y": "Source",
          "yref": "y"
         },
         {
          "font": {
           "color": "#FFFFFF"
          },
          "showarrow": false,
          "text": "0.0045",
          "x": "Homicide",
          "xref": "x",
          "y": "Source",
          "yref": "y"
         },
         {
          "font": {
           "color": "#FFFFFF"
          },
          "showarrow": false,
          "text": "0.0006",
          "x": "VicAge",
          "xref": "x",
          "y": "Source",
          "yref": "y"
         },
         {
          "font": {
           "color": "#FFFFFF"
          },
          "showarrow": false,
          "text": "0.0003",
          "x": "VicSex",
          "xref": "x",
          "y": "Source",
          "yref": "y"
         },
         {
          "font": {
           "color": "#FFFFFF"
          },
          "showarrow": false,
          "text": "0.0007",
          "x": "VicRace",
          "xref": "x",
          "y": "Source",
          "yref": "y"
         },
         {
          "font": {
           "color": "#FFFFFF"
          },
          "showarrow": false,
          "text": "0.0289",
          "x": "VicEthnic",
          "xref": "x",
          "y": "Source",
          "yref": "y"
         },
         {
          "font": {
           "color": "#FFFFFF"
          },
          "showarrow": false,
          "text": "0.0011",
          "x": "OffAge",
          "xref": "x",
          "y": "Source",
          "yref": "y"
         },
         {
          "font": {
           "color": "#FFFFFF"
          },
          "showarrow": false,
          "text": "0.0004",
          "x": "OffSex",
          "xref": "x",
          "y": "Source",
          "yref": "y"
         },
         {
          "font": {
           "color": "#FFFFFF"
          },
          "showarrow": false,
          "text": "0.0008",
          "x": "OffRace",
          "xref": "x",
          "y": "Source",
          "yref": "y"
         },
         {
          "font": {
           "color": "#FFFFFF"
          },
          "showarrow": false,
          "text": "0.0279",
          "x": "OffEthnic",
          "xref": "x",
          "y": "Source",
          "yref": "y"
         },
         {
          "font": {
           "color": "#FFFFFF"
          },
          "showarrow": false,
          "text": "0.0103",
          "x": "Weapon",
          "xref": "x",
          "y": "Source",
          "yref": "y"
         },
         {
          "font": {
           "color": "#FFFFFF"
          },
          "showarrow": false,
          "text": "0.0384",
          "x": "Relationship",
          "xref": "x",
          "y": "Source",
          "yref": "y"
         },
         {
          "font": {
           "color": "#FFFFFF"
          },
          "showarrow": false,
          "text": "0.0199",
          "x": "Circumstance",
          "xref": "x",
          "y": "Source",
          "yref": "y"
         },
         {
          "font": {
           "color": "#FFFFFF"
          },
          "showarrow": false,
          "text": "0.0019",
          "x": "Subcircum",
          "xref": "x",
          "y": "Source",
          "yref": "y"
         },
         {
          "font": {
           "color": "#FFFFFF"
          },
          "showarrow": false,
          "text": "0.0003",
          "x": "VicCount",
          "xref": "x",
          "y": "Source",
          "yref": "y"
         },
         {
          "font": {
           "color": "#FFFFFF"
          },
          "showarrow": false,
          "text": "0.0012",
          "x": "OffCount",
          "xref": "x",
          "y": "Source",
          "yref": "y"
         },
         {
          "font": {
           "color": "#FFFFFF"
          },
          "showarrow": false,
          "text": "0.0143",
          "x": "Area",
          "xref": "x",
          "y": "Year",
          "yref": "y"
         },
         {
          "font": {
           "color": "#FFFFFF"
          },
          "showarrow": false,
          "text": "0.0266",
          "x": "County",
          "xref": "x",
          "y": "Year",
          "yref": "y"
         },
         {
          "font": {
           "color": "#FFFFFF"
          },
          "showarrow": false,
          "text": "0.1525",
          "x": "FileMonth",
          "xref": "x",
          "y": "Year",
          "yref": "y"
         },
         {
          "font": {
           "color": "#FFFFFF"
          },
          "showarrow": false,
          "text": "0.2086",
          "x": "FileDay",
          "xref": "x",
          "y": "Year",
          "yref": "y"
         },
         {
          "font": {
           "color": "#000000"
          },
          "showarrow": false,
          "text": "0.782",
          "x": "FileYear",
          "xref": "x",
          "y": "Year",
          "yref": "y"
         },
         {
          "font": {
           "color": "#FFFFFF"
          },
          "showarrow": false,
          "text": "0.0094",
          "x": "State",
          "xref": "x",
          "y": "Year",
          "yref": "y"
         },
         {
          "font": {
           "color": "#FFFFFF"
          },
          "showarrow": false,
          "text": "0.0641",
          "x": "Agency",
          "xref": "x",
          "y": "Year",
          "yref": "y"
         },
         {
          "font": {
           "color": "#FFFFFF"
          },
          "showarrow": false,
          "text": "0.0013",
          "x": "Agentype",
          "xref": "x",
          "y": "Year",
          "yref": "y"
         },
         {
          "font": {
           "color": "#FFFFFF"
          },
          "showarrow": false,
          "text": "0.0152",
          "x": "Source",
          "xref": "x",
          "y": "Year",
          "yref": "y"
         },
         {
          "font": {
           "color": "#000000"
          },
          "showarrow": false,
          "text": "1.0",
          "x": "Year",
          "xref": "x",
          "y": "Year",
          "yref": "y"
         },
         {
          "font": {
           "color": "#FFFFFF"
          },
          "showarrow": false,
          "text": "0.0004",
          "x": "Month",
          "xref": "x",
          "y": "Year",
          "yref": "y"
         },
         {
          "font": {
           "color": "#FFFFFF"
          },
          "showarrow": false,
          "text": "0.0154",
          "x": "ActionType",
          "xref": "x",
          "y": "Year",
          "yref": "y"
         },
         {
          "font": {
           "color": "#FFFFFF"
          },
          "showarrow": false,
          "text": "0.0013",
          "x": "Homicide",
          "xref": "x",
          "y": "Year",
          "yref": "y"
         },
         {
          "font": {
           "color": "#FFFFFF"
          },
          "showarrow": false,
          "text": "0.0037",
          "x": "VicAge",
          "xref": "x",
          "y": "Year",
          "yref": "y"
         },
         {
          "font": {
           "color": "#FFFFFF"
          },
          "showarrow": false,
          "text": "0.0002",
          "x": "VicSex",
          "xref": "x",
          "y": "Year",
          "yref": "y"
         },
         {
          "font": {
           "color": "#FFFFFF"
          },
          "showarrow": false,
          "text": "0.0011",
          "x": "VicRace",
          "xref": "x",
          "y": "Year",
          "yref": "y"
         },
         {
          "font": {
           "color": "#FFFFFF"
          },
          "showarrow": false,
          "text": "0.0639",
          "x": "VicEthnic",
          "xref": "x",
          "y": "Year",
          "yref": "y"
         },
         {
          "font": {
           "color": "#FFFFFF"
          },
          "showarrow": false,
          "text": "0.0051",
          "x": "OffAge",
          "xref": "x",
          "y": "Year",
          "yref": "y"
         },
         {
          "font": {
           "color": "#FFFFFF"
          },
          "showarrow": false,
          "text": "0.0012",
          "x": "OffSex",
          "xref": "x",
          "y": "Year",
          "yref": "y"
         },
         {
          "font": {
           "color": "#FFFFFF"
          },
          "showarrow": false,
          "text": "0.0011",
          "x": "OffRace",
          "xref": "x",
          "y": "Year",
          "yref": "y"
         },
         {
          "font": {
           "color": "#FFFFFF"
          },
          "showarrow": false,
          "text": "0.0592",
          "x": "OffEthnic",
          "xref": "x",
          "y": "Year",
          "yref": "y"
         },
         {
          "font": {
           "color": "#FFFFFF"
          },
          "showarrow": false,
          "text": "0.0155",
          "x": "Weapon",
          "xref": "x",
          "y": "Year",
          "yref": "y"
         },
         {
          "font": {
           "color": "#FFFFFF"
          },
          "showarrow": false,
          "text": "0.0133",
          "x": "Relationship",
          "xref": "x",
          "y": "Year",
          "yref": "y"
         },
         {
          "font": {
           "color": "#FFFFFF"
          },
          "showarrow": false,
          "text": "0.0205",
          "x": "Circumstance",
          "xref": "x",
          "y": "Year",
          "yref": "y"
         },
         {
          "font": {
           "color": "#FFFFFF"
          },
          "showarrow": false,
          "text": "0.0021",
          "x": "Subcircum",
          "xref": "x",
          "y": "Year",
          "yref": "y"
         },
         {
          "font": {
           "color": "#FFFFFF"
          },
          "showarrow": false,
          "text": "0.0027",
          "x": "VicCount",
          "xref": "x",
          "y": "Year",
          "yref": "y"
         },
         {
          "font": {
           "color": "#FFFFFF"
          },
          "showarrow": false,
          "text": "0.0027",
          "x": "OffCount",
          "xref": "x",
          "y": "Year",
          "yref": "y"
         },
         {
          "font": {
           "color": "#FFFFFF"
          },
          "showarrow": false,
          "text": "0.0016",
          "x": "Area",
          "xref": "x",
          "y": "Month",
          "yref": "y"
         },
         {
          "font": {
           "color": "#FFFFFF"
          },
          "showarrow": false,
          "text": "0.0055",
          "x": "County",
          "xref": "x",
          "y": "Month",
          "yref": "y"
         },
         {
          "font": {
           "color": "#FFFFFF"
          },
          "showarrow": false,
          "text": "0.0674",
          "x": "FileMonth",
          "xref": "x",
          "y": "Month",
          "yref": "y"
         },
         {
          "font": {
           "color": "#FFFFFF"
          },
          "showarrow": false,
          "text": "0.0026",
          "x": "FileDay",
          "xref": "x",
          "y": "Month",
          "yref": "y"
         },
         {
          "font": {
           "color": "#FFFFFF"
          },
          "showarrow": false,
          "text": "0.0009",
          "x": "FileYear",
          "xref": "x",
          "y": "Month",
          "yref": "y"
         },
         {
          "font": {
           "color": "#FFFFFF"
          },
          "showarrow": false,
          "text": "0.0005",
          "x": "State",
          "xref": "x",
          "y": "Month",
          "yref": "y"
         },
         {
          "font": {
           "color": "#FFFFFF"
          },
          "showarrow": false,
          "text": "0.0205",
          "x": "Agency",
          "xref": "x",
          "y": "Month",
          "yref": "y"
         },
         {
          "font": {
           "color": "#FFFFFF"
          },
          "showarrow": false,
          "text": "0.0001",
          "x": "Agentype",
          "xref": "x",
          "y": "Month",
          "yref": "y"
         },
         {
          "font": {
           "color": "#FFFFFF"
          },
          "showarrow": false,
          "text": "0.0",
          "x": "Source",
          "xref": "x",
          "y": "Month",
          "yref": "y"
         },
         {
          "font": {
           "color": "#FFFFFF"
          },
          "showarrow": false,
          "text": "0.0004",
          "x": "Year",
          "xref": "x",
          "y": "Month",
          "yref": "y"
         },
         {
          "font": {
           "color": "#000000"
          },
          "showarrow": false,
          "text": "1.0",
          "x": "Month",
          "xref": "x",
          "y": "Month",
          "yref": "y"
         },
         {
          "font": {
           "color": "#FFFFFF"
          },
          "showarrow": false,
          "text": "0.0002",
          "x": "ActionType",
          "xref": "x",
          "y": "Month",
          "yref": "y"
         },
         {
          "font": {
           "color": "#FFFFFF"
          },
          "showarrow": false,
          "text": "0.0",
          "x": "Homicide",
          "xref": "x",
          "y": "Month",
          "yref": "y"
         },
         {
          "font": {
           "color": "#FFFFFF"
          },
          "showarrow": false,
          "text": "0.0004",
          "x": "VicAge",
          "xref": "x",
          "y": "Month",
          "yref": "y"
         },
         {
          "font": {
           "color": "#FFFFFF"
          },
          "showarrow": false,
          "text": "0.0001",
          "x": "VicSex",
          "xref": "x",
          "y": "Month",
          "yref": "y"
         },
         {
          "font": {
           "color": "#FFFFFF"
          },
          "showarrow": false,
          "text": "0.0001",
          "x": "VicRace",
          "xref": "x",
          "y": "Month",
          "yref": "y"
         },
         {
          "font": {
           "color": "#FFFFFF"
          },
          "showarrow": false,
          "text": "0.0001",
          "x": "VicEthnic",
          "xref": "x",
          "y": "Month",
          "yref": "y"
         },
         {
          "font": {
           "color": "#FFFFFF"
          },
          "showarrow": false,
          "text": "0.0004",
          "x": "OffAge",
          "xref": "x",
          "y": "Month",
          "yref": "y"
         },
         {
          "font": {
           "color": "#FFFFFF"
          },
          "showarrow": false,
          "text": "0.0",
          "x": "OffSex",
          "xref": "x",
          "y": "Month",
          "yref": "y"
         },
         {
          "font": {
           "color": "#FFFFFF"
          },
          "showarrow": false,
          "text": "0.0001",
          "x": "OffRace",
          "xref": "x",
          "y": "Month",
          "yref": "y"
         },
         {
          "font": {
           "color": "#FFFFFF"
          },
          "showarrow": false,
          "text": "0.0001",
          "x": "OffEthnic",
          "xref": "x",
          "y": "Month",
          "yref": "y"
         },
         {
          "font": {
           "color": "#FFFFFF"
          },
          "showarrow": false,
          "text": "0.0004",
          "x": "Weapon",
          "xref": "x",
          "y": "Month",
          "yref": "y"
         },
         {
          "font": {
           "color": "#FFFFFF"
          },
          "showarrow": false,
          "text": "0.0003",
          "x": "Relationship",
          "xref": "x",
          "y": "Month",
          "yref": "y"
         },
         {
          "font": {
           "color": "#FFFFFF"
          },
          "showarrow": false,
          "text": "0.0007",
          "x": "Circumstance",
          "xref": "x",
          "y": "Month",
          "yref": "y"
         },
         {
          "font": {
           "color": "#FFFFFF"
          },
          "showarrow": false,
          "text": "0.0001",
          "x": "Subcircum",
          "xref": "x",
          "y": "Month",
          "yref": "y"
         },
         {
          "font": {
           "color": "#FFFFFF"
          },
          "showarrow": false,
          "text": "0.001",
          "x": "VicCount",
          "xref": "x",
          "y": "Month",
          "yref": "y"
         },
         {
          "font": {
           "color": "#FFFFFF"
          },
          "showarrow": false,
          "text": "0.0001",
          "x": "OffCount",
          "xref": "x",
          "y": "Month",
          "yref": "y"
         },
         {
          "font": {
           "color": "#FFFFFF"
          },
          "showarrow": false,
          "text": "0.0211",
          "x": "Area",
          "xref": "x",
          "y": "ActionType",
          "yref": "y"
         },
         {
          "font": {
           "color": "#FFFFFF"
          },
          "showarrow": false,
          "text": "0.0182",
          "x": "County",
          "xref": "x",
          "y": "ActionType",
          "yref": "y"
         },
         {
          "font": {
           "color": "#FFFFFF"
          },
          "showarrow": false,
          "text": "0.0087",
          "x": "FileMonth",
          "xref": "x",
          "y": "ActionType",
          "yref": "y"
         },
         {
          "font": {
           "color": "#FFFFFF"
          },
          "showarrow": false,
          "text": "0.0088",
          "x": "FileDay",
          "xref": "x",
          "y": "ActionType",
          "yref": "y"
         },
         {
          "font": {
           "color": "#FFFFFF"
          },
          "showarrow": false,
          "text": "0.0157",
          "x": "FileYear",
          "xref": "x",
          "y": "ActionType",
          "yref": "y"
         },
         {
          "font": {
           "color": "#FFFFFF"
          },
          "showarrow": false,
          "text": "0.0287",
          "x": "State",
          "xref": "x",
          "y": "ActionType",
          "yref": "y"
         },
         {
          "font": {
           "color": "#FFFFFF"
          },
          "showarrow": false,
          "text": "0.0188",
          "x": "Agency",
          "xref": "x",
          "y": "ActionType",
          "yref": "y"
         },
         {
          "font": {
           "color": "#FFFFFF"
          },
          "showarrow": false,
          "text": "0.0016",
          "x": "Agentype",
          "xref": "x",
          "y": "ActionType",
          "yref": "y"
         },
         {
          "font": {
           "color": "#FFFFFF"
          },
          "showarrow": false,
          "text": "0.025",
          "x": "Source",
          "xref": "x",
          "y": "ActionType",
          "yref": "y"
         },
         {
          "font": {
           "color": "#FFFFFF"
          },
          "showarrow": false,
          "text": "0.0154",
          "x": "Year",
          "xref": "x",
          "y": "ActionType",
          "yref": "y"
         },
         {
          "font": {
           "color": "#FFFFFF"
          },
          "showarrow": false,
          "text": "0.0002",
          "x": "Month",
          "xref": "x",
          "y": "ActionType",
          "yref": "y"
         },
         {
          "font": {
           "color": "#000000"
          },
          "showarrow": false,
          "text": "1.0",
          "x": "ActionType",
          "xref": "x",
          "y": "ActionType",
          "yref": "y"
         },
         {
          "font": {
           "color": "#FFFFFF"
          },
          "showarrow": false,
          "text": "0.0",
          "x": "Homicide",
          "xref": "x",
          "y": "ActionType",
          "yref": "y"
         },
         {
          "font": {
           "color": "#FFFFFF"
          },
          "showarrow": false,
          "text": "0.0002",
          "x": "VicAge",
          "xref": "x",
          "y": "ActionType",
          "yref": "y"
         },
         {
          "font": {
           "color": "#FFFFFF"
          },
          "showarrow": false,
          "text": "0.0001",
          "x": "VicSex",
          "xref": "x",
          "y": "ActionType",
          "yref": "y"
         },
         {
          "font": {
           "color": "#FFFFFF"
          },
          "showarrow": false,
          "text": "0.0014",
          "x": "VicRace",
          "xref": "x",
          "y": "ActionType",
          "yref": "y"
         },
         {
          "font": {
           "color": "#FFFFFF"
          },
          "showarrow": false,
          "text": "0.0177",
          "x": "VicEthnic",
          "xref": "x",
          "y": "ActionType",
          "yref": "y"
         },
         {
          "font": {
           "color": "#FFFFFF"
          },
          "showarrow": false,
          "text": "0.0003",
          "x": "OffAge",
          "xref": "x",
          "y": "ActionType",
          "yref": "y"
         },
         {
          "font": {
           "color": "#FFFFFF"
          },
          "showarrow": false,
          "text": "0.0005",
          "x": "OffSex",
          "xref": "x",
          "y": "ActionType",
          "yref": "y"
         },
         {
          "font": {
           "color": "#FFFFFF"
          },
          "showarrow": false,
          "text": "0.0016",
          "x": "OffRace",
          "xref": "x",
          "y": "ActionType",
          "yref": "y"
         },
         {
          "font": {
           "color": "#FFFFFF"
          },
          "showarrow": false,
          "text": "0.0192",
          "x": "OffEthnic",
          "xref": "x",
          "y": "ActionType",
          "yref": "y"
         },
         {
          "font": {
           "color": "#FFFFFF"
          },
          "showarrow": false,
          "text": "0.0009",
          "x": "Weapon",
          "xref": "x",
          "y": "ActionType",
          "yref": "y"
         },
         {
          "font": {
           "color": "#FFFFFF"
          },
          "showarrow": false,
          "text": "0.0067",
          "x": "Relationship",
          "xref": "x",
          "y": "ActionType",
          "yref": "y"
         },
         {
          "font": {
           "color": "#FFFFFF"
          },
          "showarrow": false,
          "text": "0.0072",
          "x": "Circumstance",
          "xref": "x",
          "y": "ActionType",
          "yref": "y"
         },
         {
          "font": {
           "color": "#FFFFFF"
          },
          "showarrow": false,
          "text": "0.0038",
          "x": "Subcircum",
          "xref": "x",
          "y": "ActionType",
          "yref": "y"
         },
         {
          "font": {
           "color": "#FFFFFF"
          },
          "showarrow": false,
          "text": "0.0034",
          "x": "VicCount",
          "xref": "x",
          "y": "ActionType",
          "yref": "y"
         },
         {
          "font": {
           "color": "#FFFFFF"
          },
          "showarrow": false,
          "text": "0.0015",
          "x": "OffCount",
          "xref": "x",
          "y": "ActionType",
          "yref": "y"
         },
         {
          "font": {
           "color": "#FFFFFF"
          },
          "showarrow": false,
          "text": "0.0023",
          "x": "Area",
          "xref": "x",
          "y": "Homicide",
          "yref": "y"
         },
         {
          "font": {
           "color": "#FFFFFF"
          },
          "showarrow": false,
          "text": "0.0028",
          "x": "County",
          "xref": "x",
          "y": "Homicide",
          "yref": "y"
         },
         {
          "font": {
           "color": "#FFFFFF"
          },
          "showarrow": false,
          "text": "0.0008",
          "x": "FileMonth",
          "xref": "x",
          "y": "Homicide",
          "yref": "y"
         },
         {
          "font": {
           "color": "#FFFFFF"
          },
          "showarrow": false,
          "text": "0.0009",
          "x": "FileDay",
          "xref": "x",
          "y": "Homicide",
          "yref": "y"
         },
         {
          "font": {
           "color": "#FFFFFF"
          },
          "showarrow": false,
          "text": "0.0013",
          "x": "FileYear",
          "xref": "x",
          "y": "Homicide",
          "yref": "y"
         },
         {
          "font": {
           "color": "#FFFFFF"
          },
          "showarrow": false,
          "text": "0.0025",
          "x": "State",
          "xref": "x",
          "y": "Homicide",
          "yref": "y"
         },
         {
          "font": {
           "color": "#FFFFFF"
          },
          "showarrow": false,
          "text": "0.0047",
          "x": "Agency",
          "xref": "x",
          "y": "Homicide",
          "yref": "y"
         },
         {
          "font": {
           "color": "#FFFFFF"
          },
          "showarrow": false,
          "text": "0.0025",
          "x": "Agentype",
          "xref": "x",
          "y": "Homicide",
          "yref": "y"
         },
         {
          "font": {
           "color": "#FFFFFF"
          },
          "showarrow": false,
          "text": "0.0045",
          "x": "Source",
          "xref": "x",
          "y": "Homicide",
          "yref": "y"
         },
         {
          "font": {
           "color": "#FFFFFF"
          },
          "showarrow": false,
          "text": "0.0013",
          "x": "Year",
          "xref": "x",
          "y": "Homicide",
          "yref": "y"
         },
         {
          "font": {
           "color": "#FFFFFF"
          },
          "showarrow": false,
          "text": "0.0",
          "x": "Month",
          "xref": "x",
          "y": "Homicide",
          "yref": "y"
         },
         {
          "font": {
           "color": "#FFFFFF"
          },
          "showarrow": false,
          "text": "0.0",
          "x": "ActionType",
          "xref": "x",
          "y": "Homicide",
          "yref": "y"
         },
         {
          "font": {
           "color": "#000000"
          },
          "showarrow": false,
          "text": "1.0",
          "x": "Homicide",
          "xref": "x",
          "y": "Homicide",
          "yref": "y"
         },
         {
          "font": {
           "color": "#FFFFFF"
          },
          "showarrow": false,
          "text": "0.0032",
          "x": "VicAge",
          "xref": "x",
          "y": "Homicide",
          "yref": "y"
         },
         {
          "font": {
           "color": "#FFFFFF"
          },
          "showarrow": false,
          "text": "0.0001",
          "x": "VicSex",
          "xref": "x",
          "y": "Homicide",
          "yref": "y"
         },
         {
          "font": {
           "color": "#FFFFFF"
          },
          "showarrow": false,
          "text": "0.0034",
          "x": "VicRace",
          "xref": "x",
          "y": "Homicide",
          "yref": "y"
         },
         {
          "font": {
           "color": "#FFFFFF"
          },
          "showarrow": false,
          "text": "0.0004",
          "x": "VicEthnic",
          "xref": "x",
          "y": "Homicide",
          "yref": "y"
         },
         {
          "font": {
           "color": "#FFFFFF"
          },
          "showarrow": false,
          "text": "0.0022",
          "x": "OffAge",
          "xref": "x",
          "y": "Homicide",
          "yref": "y"
         },
         {
          "font": {
           "color": "#FFFFFF"
          },
          "showarrow": false,
          "text": "0.0019",
          "x": "OffSex",
          "xref": "x",
          "y": "Homicide",
          "yref": "y"
         },
         {
          "font": {
           "color": "#FFFFFF"
          },
          "showarrow": false,
          "text": "0.0051",
          "x": "OffRace",
          "xref": "x",
          "y": "Homicide",
          "yref": "y"
         },
         {
          "font": {
           "color": "#FFFFFF"
          },
          "showarrow": false,
          "text": "0.0002",
          "x": "OffEthnic",
          "xref": "x",
          "y": "Homicide",
          "yref": "y"
         },
         {
          "font": {
           "color": "#FFFFFF"
          },
          "showarrow": false,
          "text": "0.0121",
          "x": "Weapon",
          "xref": "x",
          "y": "Homicide",
          "yref": "y"
         },
         {
          "font": {
           "color": "#FFFFFF"
          },
          "showarrow": false,
          "text": "0.0053",
          "x": "Relationship",
          "xref": "x",
          "y": "Homicide",
          "yref": "y"
         },
         {
          "font": {
           "color": "#FFFFFF"
          },
          "showarrow": false,
          "text": "0.083",
          "x": "Circumstance",
          "xref": "x",
          "y": "Homicide",
          "yref": "y"
         },
         {
          "font": {
           "color": "#FFFFFF"
          },
          "showarrow": false,
          "text": "0.0028",
          "x": "Subcircum",
          "xref": "x",
          "y": "Homicide",
          "yref": "y"
         },
         {
          "font": {
           "color": "#FFFFFF"
          },
          "showarrow": false,
          "text": "0.0012",
          "x": "VicCount",
          "xref": "x",
          "y": "Homicide",
          "yref": "y"
         },
         {
          "font": {
           "color": "#FFFFFF"
          },
          "showarrow": false,
          "text": "0.0016",
          "x": "OffCount",
          "xref": "x",
          "y": "Homicide",
          "yref": "y"
         },
         {
          "font": {
           "color": "#FFFFFF"
          },
          "showarrow": false,
          "text": "0.0114",
          "x": "Area",
          "xref": "x",
          "y": "VicAge",
          "yref": "y"
         },
         {
          "font": {
           "color": "#FFFFFF"
          },
          "showarrow": false,
          "text": "0.0274",
          "x": "County",
          "xref": "x",
          "y": "VicAge",
          "yref": "y"
         },
         {
          "font": {
           "color": "#FFFFFF"
          },
          "showarrow": false,
          "text": "0.0007",
          "x": "FileMonth",
          "xref": "x",
          "y": "VicAge",
          "yref": "y"
         },
         {
          "font": {
           "color": "#FFFFFF"
          },
          "showarrow": false,
          "text": "0.0013",
          "x": "FileDay",
          "xref": "x",
          "y": "VicAge",
          "yref": "y"
         },
         {
          "font": {
           "color": "#FFFFFF"
          },
          "showarrow": false,
          "text": "0.0037",
          "x": "FileYear",
          "xref": "x",
          "y": "VicAge",
          "yref": "y"
         },
         {
          "font": {
           "color": "#FFFFFF"
          },
          "showarrow": false,
          "text": "0.0037",
          "x": "State",
          "xref": "x",
          "y": "VicAge",
          "yref": "y"
         },
         {
          "font": {
           "color": "#FFFFFF"
          },
          "showarrow": false,
          "text": "0.0685",
          "x": "Agency",
          "xref": "x",
          "y": "VicAge",
          "yref": "y"
         },
         {
          "font": {
           "color": "#FFFFFF"
          },
          "showarrow": false,
          "text": "0.0026",
          "x": "Agentype",
          "xref": "x",
          "y": "VicAge",
          "yref": "y"
         },
         {
          "font": {
           "color": "#FFFFFF"
          },
          "showarrow": false,
          "text": "0.0006",
          "x": "Source",
          "xref": "x",
          "y": "VicAge",
          "yref": "y"
         },
         {
          "font": {
           "color": "#FFFFFF"
          },
          "showarrow": false,
          "text": "0.0037",
          "x": "Year",
          "xref": "x",
          "y": "VicAge",
          "yref": "y"
         },
         {
          "font": {
           "color": "#FFFFFF"
          },
          "showarrow": false,
          "text": "0.0004",
          "x": "Month",
          "xref": "x",
          "y": "VicAge",
          "yref": "y"
         },
         {
          "font": {
           "color": "#FFFFFF"
          },
          "showarrow": false,
          "text": "0.0002",
          "x": "ActionType",
          "xref": "x",
          "y": "VicAge",
          "yref": "y"
         },
         {
          "font": {
           "color": "#FFFFFF"
          },
          "showarrow": false,
          "text": "0.0032",
          "x": "Homicide",
          "xref": "x",
          "y": "VicAge",
          "yref": "y"
         },
         {
          "font": {
           "color": "#000000"
          },
          "showarrow": false,
          "text": "1.0",
          "x": "VicAge",
          "xref": "x",
          "y": "VicAge",
          "yref": "y"
         },
         {
          "font": {
           "color": "#FFFFFF"
          },
          "showarrow": false,
          "text": "0.007",
          "x": "VicSex",
          "xref": "x",
          "y": "VicAge",
          "yref": "y"
         },
         {
          "font": {
           "color": "#FFFFFF"
          },
          "showarrow": false,
          "text": "0.0062",
          "x": "VicRace",
          "xref": "x",
          "y": "VicAge",
          "yref": "y"
         },
         {
          "font": {
           "color": "#FFFFFF"
          },
          "showarrow": false,
          "text": "0.0024",
          "x": "VicEthnic",
          "xref": "x",
          "y": "VicAge",
          "yref": "y"
         },
         {
          "font": {
           "color": "#FFFFFF"
          },
          "showarrow": false,
          "text": "0.0412",
          "x": "OffAge",
          "xref": "x",
          "y": "VicAge",
          "yref": "y"
         },
         {
          "font": {
           "color": "#FFFFFF"
          },
          "showarrow": false,
          "text": "0.0079",
          "x": "OffSex",
          "xref": "x",
          "y": "VicAge",
          "yref": "y"
         },
         {
          "font": {
           "color": "#FFFFFF"
          },
          "showarrow": false,
          "text": "0.0037",
          "x": "OffRace",
          "xref": "x",
          "y": "VicAge",
          "yref": "y"
         },
         {
          "font": {
           "color": "#FFFFFF"
          },
          "showarrow": false,
          "text": "0.0017",
          "x": "OffEthnic",
          "xref": "x",
          "y": "VicAge",
          "yref": "y"
         },
         {
          "font": {
           "color": "#FFFFFF"
          },
          "showarrow": false,
          "text": "0.032",
          "x": "Weapon",
          "xref": "x",
          "y": "VicAge",
          "yref": "y"
         },
         {
          "font": {
           "color": "#FFFFFF"
          },
          "showarrow": false,
          "text": "0.0477",
          "x": "Relationship",
          "xref": "x",
          "y": "VicAge",
          "yref": "y"
         },
         {
          "font": {
           "color": "#FFFFFF"
          },
          "showarrow": false,
          "text": "0.0332",
          "x": "Circumstance",
          "xref": "x",
          "y": "VicAge",
          "yref": "y"
         },
         {
          "font": {
           "color": "#FFFFFF"
          },
          "showarrow": false,
          "text": "0.003",
          "x": "Subcircum",
          "xref": "x",
          "y": "VicAge",
          "yref": "y"
         },
         {
          "font": {
           "color": "#FFFFFF"
          },
          "showarrow": false,
          "text": "0.005",
          "x": "VicCount",
          "xref": "x",
          "y": "VicAge",
          "yref": "y"
         },
         {
          "font": {
           "color": "#FFFFFF"
          },
          "showarrow": false,
          "text": "0.0023",
          "x": "OffCount",
          "xref": "x",
          "y": "VicAge",
          "yref": "y"
         },
         {
          "font": {
           "color": "#FFFFFF"
          },
          "showarrow": false,
          "text": "0.0021",
          "x": "Area",
          "xref": "x",
          "y": "VicSex",
          "yref": "y"
         },
         {
          "font": {
           "color": "#FFFFFF"
          },
          "showarrow": false,
          "text": "0.0033",
          "x": "County",
          "xref": "x",
          "y": "VicSex",
          "yref": "y"
         },
         {
          "font": {
           "color": "#FFFFFF"
          },
          "showarrow": false,
          "text": "0.0",
          "x": "FileMonth",
          "xref": "x",
          "y": "VicSex",
          "yref": "y"
         },
         {
          "font": {
           "color": "#FFFFFF"
          },
          "showarrow": false,
          "text": "0.0001",
          "x": "FileDay",
          "xref": "x",
          "y": "VicSex",
          "yref": "y"
         },
         {
          "font": {
           "color": "#FFFFFF"
          },
          "showarrow": false,
          "text": "0.0002",
          "x": "FileYear",
          "xref": "x",
          "y": "VicSex",
          "yref": "y"
         },
         {
          "font": {
           "color": "#FFFFFF"
          },
          "showarrow": false,
          "text": "0.0012",
          "x": "State",
          "xref": "x",
          "y": "VicSex",
          "yref": "y"
         },
         {
          "font": {
           "color": "#FFFFFF"
          },
          "showarrow": false,
          "text": "0.0063",
          "x": "Agency",
          "xref": "x",
          "y": "VicSex",
          "yref": "y"
         },
         {
          "font": {
           "color": "#FFFFFF"
          },
          "showarrow": false,
          "text": "0.0032",
          "x": "Agentype",
          "xref": "x",
          "y": "VicSex",
          "yref": "y"
         },
         {
          "font": {
           "color": "#FFFFFF"
          },
          "showarrow": false,
          "text": "0.0003",
          "x": "Source",
          "xref": "x",
          "y": "VicSex",
          "yref": "y"
         },
         {
          "font": {
           "color": "#FFFFFF"
          },
          "showarrow": false,
          "text": "0.0002",
          "x": "Year",
          "xref": "x",
          "y": "VicSex",
          "yref": "y"
         },
         {
          "font": {
           "color": "#FFFFFF"
          },
          "showarrow": false,
          "text": "0.0001",
          "x": "Month",
          "xref": "x",
          "y": "VicSex",
          "yref": "y"
         },
         {
          "font": {
           "color": "#FFFFFF"
          },
          "showarrow": false,
          "text": "0.0001",
          "x": "ActionType",
          "xref": "x",
          "y": "VicSex",
          "yref": "y"
         },
         {
          "font": {
           "color": "#FFFFFF"
          },
          "showarrow": false,
          "text": "0.0001",
          "x": "Homicide",
          "xref": "x",
          "y": "VicSex",
          "yref": "y"
         },
         {
          "font": {
           "color": "#FFFFFF"
          },
          "showarrow": false,
          "text": "0.007",
          "x": "VicAge",
          "xref": "x",
          "y": "VicSex",
          "yref": "y"
         },
         {
          "font": {
           "color": "#000000"
          },
          "showarrow": false,
          "text": "1.0",
          "x": "VicSex",
          "xref": "x",
          "y": "VicSex",
          "yref": "y"
         },
         {
          "font": {
           "color": "#FFFFFF"
          },
          "showarrow": false,
          "text": "0.0105",
          "x": "VicRace",
          "xref": "x",
          "y": "VicSex",
          "yref": "y"
         },
         {
          "font": {
           "color": "#FFFFFF"
          },
          "showarrow": false,
          "text": "0.0025",
          "x": "VicEthnic",
          "xref": "x",
          "y": "VicSex",
          "yref": "y"
         },
         {
          "font": {
           "color": "#FFFFFF"
          },
          "showarrow": false,
          "text": "0.0082",
          "x": "OffAge",
          "xref": "x",
          "y": "VicSex",
          "yref": "y"
         },
         {
          "font": {
           "color": "#FFFFFF"
          },
          "showarrow": false,
          "text": "0.0005",
          "x": "OffSex",
          "xref": "x",
          "y": "VicSex",
          "yref": "y"
         },
         {
          "font": {
           "color": "#FFFFFF"
          },
          "showarrow": false,
          "text": "0.0061",
          "x": "OffRace",
          "xref": "x",
          "y": "VicSex",
          "yref": "y"
         },
         {
          "font": {
           "color": "#FFFFFF"
          },
          "showarrow": false,
          "text": "0.0016",
          "x": "OffEthnic",
          "xref": "x",
          "y": "VicSex",
          "yref": "y"
         },
         {
          "font": {
           "color": "#FFFFFF"
          },
          "showarrow": false,
          "text": "0.0173",
          "x": "Weapon",
          "xref": "x",
          "y": "VicSex",
          "yref": "y"
         },
         {
          "font": {
           "color": "#FFFFFF"
          },
          "showarrow": false,
          "text": "0.1351",
          "x": "Relationship",
          "xref": "x",
          "y": "VicSex",
          "yref": "y"
         },
         {
          "font": {
           "color": "#FFFFFF"
          },
          "showarrow": false,
          "text": "0.0239",
          "x": "Circumstance",
          "xref": "x",
          "y": "VicSex",
          "yref": "y"
         },
         {
          "font": {
           "color": "#FFFFFF"
          },
          "showarrow": false,
          "text": "0.023",
          "x": "Subcircum",
          "xref": "x",
          "y": "VicSex",
          "yref": "y"
         },
         {
          "font": {
           "color": "#FFFFFF"
          },
          "showarrow": false,
          "text": "0.0105",
          "x": "VicCount",
          "xref": "x",
          "y": "VicSex",
          "yref": "y"
         },
         {
          "font": {
           "color": "#FFFFFF"
          },
          "showarrow": false,
          "text": "0.0134",
          "x": "OffCount",
          "xref": "x",
          "y": "VicSex",
          "yref": "y"
         },
         {
          "font": {
           "color": "#FFFFFF"
          },
          "showarrow": false,
          "text": "0.0463",
          "x": "Area",
          "xref": "x",
          "y": "VicRace",
          "yref": "y"
         },
         {
          "font": {
           "color": "#FFFFFF"
          },
          "showarrow": false,
          "text": "0.0467",
          "x": "County",
          "xref": "x",
          "y": "VicRace",
          "yref": "y"
         },
         {
          "font": {
           "color": "#FFFFFF"
          },
          "showarrow": false,
          "text": "0.0007",
          "x": "FileMonth",
          "xref": "x",
          "y": "VicRace",
          "yref": "y"
         },
         {
          "font": {
           "color": "#FFFFFF"
          },
          "showarrow": false,
          "text": "0.0009",
          "x": "FileDay",
          "xref": "x",
          "y": "VicRace",
          "yref": "y"
         },
         {
          "font": {
           "color": "#FFFFFF"
          },
          "showarrow": false,
          "text": "0.0012",
          "x": "FileYear",
          "xref": "x",
          "y": "VicRace",
          "yref": "y"
         },
         {
          "font": {
           "color": "#FFFFFF"
          },
          "showarrow": false,
          "text": "0.0413",
          "x": "State",
          "xref": "x",
          "y": "VicRace",
          "yref": "y"
         },
         {
          "font": {
           "color": "#FFFFFF"
          },
          "showarrow": false,
          "text": "0.0553",
          "x": "Agency",
          "xref": "x",
          "y": "VicRace",
          "yref": "y"
         },
         {
          "font": {
           "color": "#FFFFFF"
          },
          "showarrow": false,
          "text": "0.0434",
          "x": "Agentype",
          "xref": "x",
          "y": "VicRace",
          "yref": "y"
         },
         {
          "font": {
           "color": "#FFFFFF"
          },
          "showarrow": false,
          "text": "0.0007",
          "x": "Source",
          "xref": "x",
          "y": "VicRace",
          "yref": "y"
         },
         {
          "font": {
           "color": "#FFFFFF"
          },
          "showarrow": false,
          "text": "0.0011",
          "x": "Year",
          "xref": "x",
          "y": "VicRace",
          "yref": "y"
         },
         {
          "font": {
           "color": "#FFFFFF"
          },
          "showarrow": false,
          "text": "0.0001",
          "x": "Month",
          "xref": "x",
          "y": "VicRace",
          "yref": "y"
         },
         {
          "font": {
           "color": "#FFFFFF"
          },
          "showarrow": false,
          "text": "0.0014",
          "x": "ActionType",
          "xref": "x",
          "y": "VicRace",
          "yref": "y"
         },
         {
          "font": {
           "color": "#FFFFFF"
          },
          "showarrow": false,
          "text": "0.0034",
          "x": "Homicide",
          "xref": "x",
          "y": "VicRace",
          "yref": "y"
         },
         {
          "font": {
           "color": "#FFFFFF"
          },
          "showarrow": false,
          "text": "0.0062",
          "x": "VicAge",
          "xref": "x",
          "y": "VicRace",
          "yref": "y"
         },
         {
          "font": {
           "color": "#FFFFFF"
          },
          "showarrow": false,
          "text": "0.0105",
          "x": "VicSex",
          "xref": "x",
          "y": "VicRace",
          "yref": "y"
         },
         {
          "font": {
           "color": "#000000"
          },
          "showarrow": false,
          "text": "1.0",
          "x": "VicRace",
          "xref": "x",
          "y": "VicRace",
          "yref": "y"
         },
         {
          "font": {
           "color": "#FFFFFF"
          },
          "showarrow": false,
          "text": "0.0698",
          "x": "VicEthnic",
          "xref": "x",
          "y": "VicRace",
          "yref": "y"
         },
         {
          "font": {
           "color": "#FFFFFF"
          },
          "showarrow": false,
          "text": "0.0036",
          "x": "OffAge",
          "xref": "x",
          "y": "VicRace",
          "yref": "y"
         },
         {
          "font": {
           "color": "#FFFFFF"
          },
          "showarrow": false,
          "text": "0.0018",
          "x": "OffSex",
          "xref": "x",
          "y": "VicRace",
          "yref": "y"
         },
         {
          "font": {
           "color": "#FFFFFF"
          },
          "showarrow": false,
          "text": "0.4668",
          "x": "OffRace",
          "xref": "x",
          "y": "VicRace",
          "yref": "y"
         },
         {
          "font": {
           "color": "#FFFFFF"
          },
          "showarrow": false,
          "text": "0.0421",
          "x": "OffEthnic",
          "xref": "x",
          "y": "VicRace",
          "yref": "y"
         },
         {
          "font": {
           "color": "#FFFFFF"
          },
          "showarrow": false,
          "text": "0.0131",
          "x": "Weapon",
          "xref": "x",
          "y": "VicRace",
          "yref": "y"
         },
         {
          "font": {
           "color": "#FFFFFF"
          },
          "showarrow": false,
          "text": "0.0149",
          "x": "Relationship",
          "xref": "x",
          "y": "VicRace",
          "yref": "y"
         },
         {
          "font": {
           "color": "#FFFFFF"
          },
          "showarrow": false,
          "text": "0.0089",
          "x": "Circumstance",
          "xref": "x",
          "y": "VicRace",
          "yref": "y"
         },
         {
          "font": {
           "color": "#FFFFFF"
          },
          "showarrow": false,
          "text": "0.0023",
          "x": "Subcircum",
          "xref": "x",
          "y": "VicRace",
          "yref": "y"
         },
         {
          "font": {
           "color": "#FFFFFF"
          },
          "showarrow": false,
          "text": "0.0056",
          "x": "VicCount",
          "xref": "x",
          "y": "VicRace",
          "yref": "y"
         },
         {
          "font": {
           "color": "#FFFFFF"
          },
          "showarrow": false,
          "text": "0.0003",
          "x": "OffCount",
          "xref": "x",
          "y": "VicRace",
          "yref": "y"
         },
         {
          "font": {
           "color": "#FFFFFF"
          },
          "showarrow": false,
          "text": "0.0712",
          "x": "Area",
          "xref": "x",
          "y": "VicEthnic",
          "yref": "y"
         },
         {
          "font": {
           "color": "#FFFFFF"
          },
          "showarrow": false,
          "text": "0.0623",
          "x": "County",
          "xref": "x",
          "y": "VicEthnic",
          "yref": "y"
         },
         {
          "font": {
           "color": "#FFFFFF"
          },
          "showarrow": false,
          "text": "0.0234",
          "x": "FileMonth",
          "xref": "x",
          "y": "VicEthnic",
          "yref": "y"
         },
         {
          "font": {
           "color": "#FFFFFF"
          },
          "showarrow": false,
          "text": "0.0347",
          "x": "FileDay",
          "xref": "x",
          "y": "VicEthnic",
          "yref": "y"
         },
         {
          "font": {
           "color": "#FFFFFF"
          },
          "showarrow": false,
          "text": "0.0625",
          "x": "FileYear",
          "xref": "x",
          "y": "VicEthnic",
          "yref": "y"
         },
         {
          "font": {
           "color": "#FFFFFF"
          },
          "showarrow": false,
          "text": "0.089",
          "x": "State",
          "xref": "x",
          "y": "VicEthnic",
          "yref": "y"
         },
         {
          "font": {
           "color": "#FFFFFF"
          },
          "showarrow": false,
          "text": "0.0618",
          "x": "Agency",
          "xref": "x",
          "y": "VicEthnic",
          "yref": "y"
         },
         {
          "font": {
           "color": "#FFFFFF"
          },
          "showarrow": false,
          "text": "0.0051",
          "x": "Agentype",
          "xref": "x",
          "y": "VicEthnic",
          "yref": "y"
         },
         {
          "font": {
           "color": "#FFFFFF"
          },
          "showarrow": false,
          "text": "0.0289",
          "x": "Source",
          "xref": "x",
          "y": "VicEthnic",
          "yref": "y"
         },
         {
          "font": {
           "color": "#FFFFFF"
          },
          "showarrow": false,
          "text": "0.0639",
          "x": "Year",
          "xref": "x",
          "y": "VicEthnic",
          "yref": "y"
         },
         {
          "font": {
           "color": "#FFFFFF"
          },
          "showarrow": false,
          "text": "0.0001",
          "x": "Month",
          "xref": "x",
          "y": "VicEthnic",
          "yref": "y"
         },
         {
          "font": {
           "color": "#FFFFFF"
          },
          "showarrow": false,
          "text": "0.0177",
          "x": "ActionType",
          "xref": "x",
          "y": "VicEthnic",
          "yref": "y"
         },
         {
          "font": {
           "color": "#FFFFFF"
          },
          "showarrow": false,
          "text": "0.0004",
          "x": "Homicide",
          "xref": "x",
          "y": "VicEthnic",
          "yref": "y"
         },
         {
          "font": {
           "color": "#FFFFFF"
          },
          "showarrow": false,
          "text": "0.0024",
          "x": "VicAge",
          "xref": "x",
          "y": "VicEthnic",
          "yref": "y"
         },
         {
          "font": {
           "color": "#FFFFFF"
          },
          "showarrow": false,
          "text": "0.0025",
          "x": "VicSex",
          "xref": "x",
          "y": "VicEthnic",
          "yref": "y"
         },
         {
          "font": {
           "color": "#FFFFFF"
          },
          "showarrow": false,
          "text": "0.0698",
          "x": "VicRace",
          "xref": "x",
          "y": "VicEthnic",
          "yref": "y"
         },
         {
          "font": {
           "color": "#000000"
          },
          "showarrow": false,
          "text": "1.0",
          "x": "VicEthnic",
          "xref": "x",
          "y": "VicEthnic",
          "yref": "y"
         },
         {
          "font": {
           "color": "#FFFFFF"
          },
          "showarrow": false,
          "text": "0.0018",
          "x": "OffAge",
          "xref": "x",
          "y": "VicEthnic",
          "yref": "y"
         },
         {
          "font": {
           "color": "#FFFFFF"
          },
          "showarrow": false,
          "text": "0.0028",
          "x": "OffSex",
          "xref": "x",
          "y": "VicEthnic",
          "yref": "y"
         },
         {
          "font": {
           "color": "#FFFFFF"
          },
          "showarrow": false,
          "text": "0.0411",
          "x": "OffRace",
          "xref": "x",
          "y": "VicEthnic",
          "yref": "y"
         },
         {
          "font": {
           "color": "#000000"
          },
          "showarrow": false,
          "text": "0.7532",
          "x": "OffEthnic",
          "xref": "x",
          "y": "VicEthnic",
          "yref": "y"
         },
         {
          "font": {
           "color": "#FFFFFF"
          },
          "showarrow": false,
          "text": "0.002",
          "x": "Weapon",
          "xref": "x",
          "y": "VicEthnic",
          "yref": "y"
         },
         {
          "font": {
           "color": "#FFFFFF"
          },
          "showarrow": false,
          "text": "0.0125",
          "x": "Relationship",
          "xref": "x",
          "y": "VicEthnic",
          "yref": "y"
         },
         {
          "font": {
           "color": "#FFFFFF"
          },
          "showarrow": false,
          "text": "0.0112",
          "x": "Circumstance",
          "xref": "x",
          "y": "VicEthnic",
          "yref": "y"
         },
         {
          "font": {
           "color": "#FFFFFF"
          },
          "showarrow": false,
          "text": "0.0026",
          "x": "Subcircum",
          "xref": "x",
          "y": "VicEthnic",
          "yref": "y"
         },
         {
          "font": {
           "color": "#FFFFFF"
          },
          "showarrow": false,
          "text": "0.0007",
          "x": "VicCount",
          "xref": "x",
          "y": "VicEthnic",
          "yref": "y"
         },
         {
          "font": {
           "color": "#FFFFFF"
          },
          "showarrow": false,
          "text": "0.0024",
          "x": "OffCount",
          "xref": "x",
          "y": "VicEthnic",
          "yref": "y"
         },
         {
          "font": {
           "color": "#FFFFFF"
          },
          "showarrow": false,
          "text": "0.0139",
          "x": "Area",
          "xref": "x",
          "y": "OffAge",
          "yref": "y"
         },
         {
          "font": {
           "color": "#FFFFFF"
          },
          "showarrow": false,
          "text": "0.0295",
          "x": "County",
          "xref": "x",
          "y": "OffAge",
          "yref": "y"
         },
         {
          "font": {
           "color": "#FFFFFF"
          },
          "showarrow": false,
          "text": "0.0011",
          "x": "FileMonth",
          "xref": "x",
          "y": "OffAge",
          "yref": "y"
         },
         {
          "font": {
           "color": "#FFFFFF"
          },
          "showarrow": false,
          "text": "0.0016",
          "x": "FileDay",
          "xref": "x",
          "y": "OffAge",
          "yref": "y"
         },
         {
          "font": {
           "color": "#FFFFFF"
          },
          "showarrow": false,
          "text": "0.0053",
          "x": "FileYear",
          "xref": "x",
          "y": "OffAge",
          "yref": "y"
         },
         {
          "font": {
           "color": "#FFFFFF"
          },
          "showarrow": false,
          "text": "0.0065",
          "x": "State",
          "xref": "x",
          "y": "OffAge",
          "yref": "y"
         },
         {
          "font": {
           "color": "#FFFFFF"
          },
          "showarrow": false,
          "text": "0.0671",
          "x": "Agency",
          "xref": "x",
          "y": "OffAge",
          "yref": "y"
         },
         {
          "font": {
           "color": "#FFFFFF"
          },
          "showarrow": false,
          "text": "0.004",
          "x": "Agentype",
          "xref": "x",
          "y": "OffAge",
          "yref": "y"
         },
         {
          "font": {
           "color": "#FFFFFF"
          },
          "showarrow": false,
          "text": "0.0011",
          "x": "Source",
          "xref": "x",
          "y": "OffAge",
          "yref": "y"
         },
         {
          "font": {
           "color": "#FFFFFF"
          },
          "showarrow": false,
          "text": "0.0051",
          "x": "Year",
          "xref": "x",
          "y": "OffAge",
          "yref": "y"
         },
         {
          "font": {
           "color": "#FFFFFF"
          },
          "showarrow": false,
          "text": "0.0004",
          "x": "Month",
          "xref": "x",
          "y": "OffAge",
          "yref": "y"
         },
         {
          "font": {
           "color": "#FFFFFF"
          },
          "showarrow": false,
          "text": "0.0003",
          "x": "ActionType",
          "xref": "x",
          "y": "OffAge",
          "yref": "y"
         },
         {
          "font": {
           "color": "#FFFFFF"
          },
          "showarrow": false,
          "text": "0.0022",
          "x": "Homicide",
          "xref": "x",
          "y": "OffAge",
          "yref": "y"
         },
         {
          "font": {
           "color": "#FFFFFF"
          },
          "showarrow": false,
          "text": "0.0412",
          "x": "VicAge",
          "xref": "x",
          "y": "OffAge",
          "yref": "y"
         },
         {
          "font": {
           "color": "#FFFFFF"
          },
          "showarrow": false,
          "text": "0.0082",
          "x": "VicSex",
          "xref": "x",
          "y": "OffAge",
          "yref": "y"
         },
         {
          "font": {
           "color": "#FFFFFF"
          },
          "showarrow": false,
          "text": "0.0036",
          "x": "VicRace",
          "xref": "x",
          "y": "OffAge",
          "yref": "y"
         },
         {
          "font": {
           "color": "#FFFFFF"
          },
          "showarrow": false,
          "text": "0.0018",
          "x": "VicEthnic",
          "xref": "x",
          "y": "OffAge",
          "yref": "y"
         },
         {
          "font": {
           "color": "#000000"
          },
          "showarrow": false,
          "text": "1.0",
          "x": "OffAge",
          "xref": "x",
          "y": "OffAge",
          "yref": "y"
         },
         {
          "font": {
           "color": "#FFFFFF"
          },
          "showarrow": false,
          "text": "0.0026",
          "x": "OffSex",
          "xref": "x",
          "y": "OffAge",
          "yref": "y"
         },
         {
          "font": {
           "color": "#FFFFFF"
          },
          "showarrow": false,
          "text": "0.0069",
          "x": "OffRace",
          "xref": "x",
          "y": "OffAge",
          "yref": "y"
         },
         {
          "font": {
           "color": "#FFFFFF"
          },
          "showarrow": false,
          "text": "0.0022",
          "x": "OffEthnic",
          "xref": "x",
          "y": "OffAge",
          "yref": "y"
         },
         {
          "font": {
           "color": "#FFFFFF"
          },
          "showarrow": false,
          "text": "0.0062",
          "x": "Weapon",
          "xref": "x",
          "y": "OffAge",
          "yref": "y"
         },
         {
          "font": {
           "color": "#FFFFFF"
          },
          "showarrow": false,
          "text": "0.0298",
          "x": "Relationship",
          "xref": "x",
          "y": "OffAge",
          "yref": "y"
         },
         {
          "font": {
           "color": "#FFFFFF"
          },
          "showarrow": false,
          "text": "0.025",
          "x": "Circumstance",
          "xref": "x",
          "y": "OffAge",
          "yref": "y"
         },
         {
          "font": {
           "color": "#FFFFFF"
          },
          "showarrow": false,
          "text": "0.0055",
          "x": "Subcircum",
          "xref": "x",
          "y": "OffAge",
          "yref": "y"
         },
         {
          "font": {
           "color": "#FFFFFF"
          },
          "showarrow": false,
          "text": "0.0026",
          "x": "VicCount",
          "xref": "x",
          "y": "OffAge",
          "yref": "y"
         },
         {
          "font": {
           "color": "#FFFFFF"
          },
          "showarrow": false,
          "text": "0.0132",
          "x": "OffCount",
          "xref": "x",
          "y": "OffAge",
          "yref": "y"
         },
         {
          "font": {
           "color": "#FFFFFF"
          },
          "showarrow": false,
          "text": "0.001",
          "x": "Area",
          "xref": "x",
          "y": "OffSex",
          "yref": "y"
         },
         {
          "font": {
           "color": "#FFFFFF"
          },
          "showarrow": false,
          "text": "0.0014",
          "x": "County",
          "xref": "x",
          "y": "OffSex",
          "yref": "y"
         },
         {
          "font": {
           "color": "#FFFFFF"
          },
          "showarrow": false,
          "text": "0.0003",
          "x": "FileMonth",
          "xref": "x",
          "y": "OffSex",
          "yref": "y"
         },
         {
          "font": {
           "color": "#FFFFFF"
          },
          "showarrow": false,
          "text": "0.0003",
          "x": "FileDay",
          "xref": "x",
          "y": "OffSex",
          "yref": "y"
         },
         {
          "font": {
           "color": "#FFFFFF"
          },
          "showarrow": false,
          "text": "0.0012",
          "x": "FileYear",
          "xref": "x",
          "y": "OffSex",
          "yref": "y"
         },
         {
          "font": {
           "color": "#FFFFFF"
          },
          "showarrow": false,
          "text": "0.0008",
          "x": "State",
          "xref": "x",
          "y": "OffSex",
          "yref": "y"
         },
         {
          "font": {
           "color": "#FFFFFF"
          },
          "showarrow": false,
          "text": "0.0035",
          "x": "Agency",
          "xref": "x",
          "y": "OffSex",
          "yref": "y"
         },
         {
          "font": {
           "color": "#FFFFFF"
          },
          "showarrow": false,
          "text": "0.0003",
          "x": "Agentype",
          "xref": "x",
          "y": "OffSex",
          "yref": "y"
         },
         {
          "font": {
           "color": "#FFFFFF"
          },
          "showarrow": false,
          "text": "0.0004",
          "x": "Source",
          "xref": "x",
          "y": "OffSex",
          "yref": "y"
         },
         {
          "font": {
           "color": "#FFFFFF"
          },
          "showarrow": false,
          "text": "0.0012",
          "x": "Year",
          "xref": "x",
          "y": "OffSex",
          "yref": "y"
         },
         {
          "font": {
           "color": "#FFFFFF"
          },
          "showarrow": false,
          "text": "0.0",
          "x": "Month",
          "xref": "x",
          "y": "OffSex",
          "yref": "y"
         },
         {
          "font": {
           "color": "#FFFFFF"
          },
          "showarrow": false,
          "text": "0.0005",
          "x": "ActionType",
          "xref": "x",
          "y": "OffSex",
          "yref": "y"
         },
         {
          "font": {
           "color": "#FFFFFF"
          },
          "showarrow": false,
          "text": "0.0019",
          "x": "Homicide",
          "xref": "x",
          "y": "OffSex",
          "yref": "y"
         },
         {
          "font": {
           "color": "#FFFFFF"
          },
          "showarrow": false,
          "text": "0.0079",
          "x": "VicAge",
          "xref": "x",
          "y": "OffSex",
          "yref": "y"
         },
         {
          "font": {
           "color": "#FFFFFF"
          },
          "showarrow": false,
          "text": "0.0005",
          "x": "VicSex",
          "xref": "x",
          "y": "OffSex",
          "yref": "y"
         },
         {
          "font": {
           "color": "#FFFFFF"
          },
          "showarrow": false,
          "text": "0.0018",
          "x": "VicRace",
          "xref": "x",
          "y": "OffSex",
          "yref": "y"
         },
         {
          "font": {
           "color": "#FFFFFF"
          },
          "showarrow": false,
          "text": "0.0028",
          "x": "VicEthnic",
          "xref": "x",
          "y": "OffSex",
          "yref": "y"
         },
         {
          "font": {
           "color": "#FFFFFF"
          },
          "showarrow": false,
          "text": "0.0026",
          "x": "OffAge",
          "xref": "x",
          "y": "OffSex",
          "yref": "y"
         },
         {
          "font": {
           "color": "#000000"
          },
          "showarrow": false,
          "text": "1.0",
          "x": "OffSex",
          "xref": "x",
          "y": "OffSex",
          "yref": "y"
         },
         {
          "font": {
           "color": "#FFFFFF"
          },
          "showarrow": false,
          "text": "0.0005",
          "x": "OffRace",
          "xref": "x",
          "y": "OffSex",
          "yref": "y"
         },
         {
          "font": {
           "color": "#FFFFFF"
          },
          "showarrow": false,
          "text": "0.0033",
          "x": "OffEthnic",
          "xref": "x",
          "y": "OffSex",
          "yref": "y"
         },
         {
          "font": {
           "color": "#FFFFFF"
          },
          "showarrow": false,
          "text": "0.0128",
          "x": "Weapon",
          "xref": "x",
          "y": "OffSex",
          "yref": "y"
         },
         {
          "font": {
           "color": "#FFFFFF"
          },
          "showarrow": false,
          "text": "0.091",
          "x": "Relationship",
          "xref": "x",
          "y": "OffSex",
          "yref": "y"
         },
         {
          "font": {
           "color": "#FFFFFF"
          },
          "showarrow": false,
          "text": "0.0115",
          "x": "Circumstance",
          "xref": "x",
          "y": "OffSex",
          "yref": "y"
         },
         {
          "font": {
           "color": "#FFFFFF"
          },
          "showarrow": false,
          "text": "0.0039",
          "x": "Subcircum",
          "xref": "x",
          "y": "OffSex",
          "yref": "y"
         },
         {
          "font": {
           "color": "#FFFFFF"
          },
          "showarrow": false,
          "text": "0.0033",
          "x": "VicCount",
          "xref": "x",
          "y": "OffSex",
          "yref": "y"
         },
         {
          "font": {
           "color": "#FFFFFF"
          },
          "showarrow": false,
          "text": "0.0028",
          "x": "OffCount",
          "xref": "x",
          "y": "OffSex",
          "yref": "y"
         },
         {
          "font": {
           "color": "#FFFFFF"
          },
          "showarrow": false,
          "text": "0.0478",
          "x": "Area",
          "xref": "x",
          "y": "OffRace",
          "yref": "y"
         },
         {
          "font": {
           "color": "#FFFFFF"
          },
          "showarrow": false,
          "text": "0.0479",
          "x": "County",
          "xref": "x",
          "y": "OffRace",
          "yref": "y"
         },
         {
          "font": {
           "color": "#FFFFFF"
          },
          "showarrow": false,
          "text": "0.0008",
          "x": "FileMonth",
          "xref": "x",
          "y": "OffRace",
          "yref": "y"
         },
         {
          "font": {
           "color": "#FFFFFF"
          },
          "showarrow": false,
          "text": "0.0009",
          "x": "FileDay",
          "xref": "x",
          "y": "OffRace",
          "yref": "y"
         },
         {
          "font": {
           "color": "#FFFFFF"
          },
          "showarrow": false,
          "text": "0.0012",
          "x": "FileYear",
          "xref": "x",
          "y": "OffRace",
          "yref": "y"
         },
         {
          "font": {
           "color": "#FFFFFF"
          },
          "showarrow": false,
          "text": "0.0425",
          "x": "State",
          "xref": "x",
          "y": "OffRace",
          "yref": "y"
         },
         {
          "font": {
           "color": "#FFFFFF"
          },
          "showarrow": false,
          "text": "0.0571",
          "x": "Agency",
          "xref": "x",
          "y": "OffRace",
          "yref": "y"
         },
         {
          "font": {
           "color": "#FFFFFF"
          },
          "showarrow": false,
          "text": "0.0463",
          "x": "Agentype",
          "xref": "x",
          "y": "OffRace",
          "yref": "y"
         },
         {
          "font": {
           "color": "#FFFFFF"
          },
          "showarrow": false,
          "text": "0.0008",
          "x": "Source",
          "xref": "x",
          "y": "OffRace",
          "yref": "y"
         },
         {
          "font": {
           "color": "#FFFFFF"
          },
          "showarrow": false,
          "text": "0.0011",
          "x": "Year",
          "xref": "x",
          "y": "OffRace",
          "yref": "y"
         },
         {
          "font": {
           "color": "#FFFFFF"
          },
          "showarrow": false,
          "text": "0.0001",
          "x": "Month",
          "xref": "x",
          "y": "OffRace",
          "yref": "y"
         },
         {
          "font": {
           "color": "#FFFFFF"
          },
          "showarrow": false,
          "text": "0.0016",
          "x": "ActionType",
          "xref": "x",
          "y": "OffRace",
          "yref": "y"
         },
         {
          "font": {
           "color": "#FFFFFF"
          },
          "showarrow": false,
          "text": "0.0051",
          "x": "Homicide",
          "xref": "x",
          "y": "OffRace",
          "yref": "y"
         },
         {
          "font": {
           "color": "#FFFFFF"
          },
          "showarrow": false,
          "text": "0.0037",
          "x": "VicAge",
          "xref": "x",
          "y": "OffRace",
          "yref": "y"
         },
         {
          "font": {
           "color": "#FFFFFF"
          },
          "showarrow": false,
          "text": "0.0061",
          "x": "VicSex",
          "xref": "x",
          "y": "OffRace",
          "yref": "y"
         },
         {
          "font": {
           "color": "#FFFFFF"
          },
          "showarrow": false,
          "text": "0.4668",
          "x": "VicRace",
          "xref": "x",
          "y": "OffRace",
          "yref": "y"
         },
         {
          "font": {
           "color": "#FFFFFF"
          },
          "showarrow": false,
          "text": "0.0411",
          "x": "VicEthnic",
          "xref": "x",
          "y": "OffRace",
          "yref": "y"
         },
         {
          "font": {
           "color": "#FFFFFF"
          },
          "showarrow": false,
          "text": "0.0069",
          "x": "OffAge",
          "xref": "x",
          "y": "OffRace",
          "yref": "y"
         },
         {
          "font": {
           "color": "#FFFFFF"
          },
          "showarrow": false,
          "text": "0.0005",
          "x": "OffSex",
          "xref": "x",
          "y": "OffRace",
          "yref": "y"
         },
         {
          "font": {
           "color": "#000000"
          },
          "showarrow": false,
          "text": "1.0",
          "x": "OffRace",
          "xref": "x",
          "y": "OffRace",
          "yref": "y"
         },
         {
          "font": {
           "color": "#FFFFFF"
          },
          "showarrow": false,
          "text": "0.0765",
          "x": "OffEthnic",
          "xref": "x",
          "y": "OffRace",
          "yref": "y"
         },
         {
          "font": {
           "color": "#FFFFFF"
          },
          "showarrow": false,
          "text": "0.0127",
          "x": "Weapon",
          "xref": "x",
          "y": "OffRace",
          "yref": "y"
         },
         {
          "font": {
           "color": "#FFFFFF"
          },
          "showarrow": false,
          "text": "0.0163",
          "x": "Relationship",
          "xref": "x",
          "y": "OffRace",
          "yref": "y"
         },
         {
          "font": {
           "color": "#FFFFFF"
          },
          "showarrow": false,
          "text": "0.0157",
          "x": "Circumstance",
          "xref": "x",
          "y": "OffRace",
          "yref": "y"
         },
         {
          "font": {
           "color": "#FFFFFF"
          },
          "showarrow": false,
          "text": "0.0154",
          "x": "Subcircum",
          "xref": "x",
          "y": "OffRace",
          "yref": "y"
         },
         {
          "font": {
           "color": "#FFFFFF"
          },
          "showarrow": false,
          "text": "0.0045",
          "x": "VicCount",
          "xref": "x",
          "y": "OffRace",
          "yref": "y"
         },
         {
          "font": {
           "color": "#FFFFFF"
          },
          "showarrow": false,
          "text": "0.0012",
          "x": "OffCount",
          "xref": "x",
          "y": "OffRace",
          "yref": "y"
         },
         {
          "font": {
           "color": "#FFFFFF"
          },
          "showarrow": false,
          "text": "0.0727",
          "x": "Area",
          "xref": "x",
          "y": "OffEthnic",
          "yref": "y"
         },
         {
          "font": {
           "color": "#FFFFFF"
          },
          "showarrow": false,
          "text": "0.0635",
          "x": "County",
          "xref": "x",
          "y": "OffEthnic",
          "yref": "y"
         },
         {
          "font": {
           "color": "#FFFFFF"
          },
          "showarrow": false,
          "text": "0.0223",
          "x": "FileMonth",
          "xref": "x",
          "y": "OffEthnic",
          "yref": "y"
         },
         {
          "font": {
           "color": "#FFFFFF"
          },
          "showarrow": false,
          "text": "0.0317",
          "x": "FileDay",
          "xref": "x",
          "y": "OffEthnic",
          "yref": "y"
         },
         {
          "font": {
           "color": "#FFFFFF"
          },
          "showarrow": false,
          "text": "0.0573",
          "x": "FileYear",
          "xref": "x",
          "y": "OffEthnic",
          "yref": "y"
         },
         {
          "font": {
           "color": "#FFFFFF"
          },
          "showarrow": false,
          "text": "0.091",
          "x": "State",
          "xref": "x",
          "y": "OffEthnic",
          "yref": "y"
         },
         {
          "font": {
           "color": "#FFFFFF"
          },
          "showarrow": false,
          "text": "0.0628",
          "x": "Agency",
          "xref": "x",
          "y": "OffEthnic",
          "yref": "y"
         },
         {
          "font": {
           "color": "#FFFFFF"
          },
          "showarrow": false,
          "text": "0.0053",
          "x": "Agentype",
          "xref": "x",
          "y": "OffEthnic",
          "yref": "y"
         },
         {
          "font": {
           "color": "#FFFFFF"
          },
          "showarrow": false,
          "text": "0.0279",
          "x": "Source",
          "xref": "x",
          "y": "OffEthnic",
          "yref": "y"
         },
         {
          "font": {
           "color": "#FFFFFF"
          },
          "showarrow": false,
          "text": "0.0592",
          "x": "Year",
          "xref": "x",
          "y": "OffEthnic",
          "yref": "y"
         },
         {
          "font": {
           "color": "#FFFFFF"
          },
          "showarrow": false,
          "text": "0.0001",
          "x": "Month",
          "xref": "x",
          "y": "OffEthnic",
          "yref": "y"
         },
         {
          "font": {
           "color": "#FFFFFF"
          },
          "showarrow": false,
          "text": "0.0192",
          "x": "ActionType",
          "xref": "x",
          "y": "OffEthnic",
          "yref": "y"
         },
         {
          "font": {
           "color": "#FFFFFF"
          },
          "showarrow": false,
          "text": "0.0002",
          "x": "Homicide",
          "xref": "x",
          "y": "OffEthnic",
          "yref": "y"
         },
         {
          "font": {
           "color": "#FFFFFF"
          },
          "showarrow": false,
          "text": "0.0017",
          "x": "VicAge",
          "xref": "x",
          "y": "OffEthnic",
          "yref": "y"
         },
         {
          "font": {
           "color": "#FFFFFF"
          },
          "showarrow": false,
          "text": "0.0016",
          "x": "VicSex",
          "xref": "x",
          "y": "OffEthnic",
          "yref": "y"
         },
         {
          "font": {
           "color": "#FFFFFF"
          },
          "showarrow": false,
          "text": "0.0421",
          "x": "VicRace",
          "xref": "x",
          "y": "OffEthnic",
          "yref": "y"
         },
         {
          "font": {
           "color": "#000000"
          },
          "showarrow": false,
          "text": "0.7532",
          "x": "VicEthnic",
          "xref": "x",
          "y": "OffEthnic",
          "yref": "y"
         },
         {
          "font": {
           "color": "#FFFFFF"
          },
          "showarrow": false,
          "text": "0.0022",
          "x": "OffAge",
          "xref": "x",
          "y": "OffEthnic",
          "yref": "y"
         },
         {
          "font": {
           "color": "#FFFFFF"
          },
          "showarrow": false,
          "text": "0.0033",
          "x": "OffSex",
          "xref": "x",
          "y": "OffEthnic",
          "yref": "y"
         },
         {
          "font": {
           "color": "#FFFFFF"
          },
          "showarrow": false,
          "text": "0.0765",
          "x": "OffRace",
          "xref": "x",
          "y": "OffEthnic",
          "yref": "y"
         },
         {
          "font": {
           "color": "#000000"
          },
          "showarrow": false,
          "text": "1.0",
          "x": "OffEthnic",
          "xref": "x",
          "y": "OffEthnic",
          "yref": "y"
         },
         {
          "font": {
           "color": "#FFFFFF"
          },
          "showarrow": false,
          "text": "0.0025",
          "x": "Weapon",
          "xref": "x",
          "y": "OffEthnic",
          "yref": "y"
         },
         {
          "font": {
           "color": "#FFFFFF"
          },
          "showarrow": false,
          "text": "0.0129",
          "x": "Relationship",
          "xref": "x",
          "y": "OffEthnic",
          "yref": "y"
         },
         {
          "font": {
           "color": "#FFFFFF"
          },
          "showarrow": false,
          "text": "0.0122",
          "x": "Circumstance",
          "xref": "x",
          "y": "OffEthnic",
          "yref": "y"
         },
         {
          "font": {
           "color": "#FFFFFF"
          },
          "showarrow": false,
          "text": "0.003",
          "x": "Subcircum",
          "xref": "x",
          "y": "OffEthnic",
          "yref": "y"
         },
         {
          "font": {
           "color": "#FFFFFF"
          },
          "showarrow": false,
          "text": "0.0008",
          "x": "VicCount",
          "xref": "x",
          "y": "OffEthnic",
          "yref": "y"
         },
         {
          "font": {
           "color": "#FFFFFF"
          },
          "showarrow": false,
          "text": "0.0026",
          "x": "OffCount",
          "xref": "x",
          "y": "OffEthnic",
          "yref": "y"
         },
         {
          "font": {
           "color": "#FFFFFF"
          },
          "showarrow": false,
          "text": "0.0197",
          "x": "Area",
          "xref": "x",
          "y": "Weapon",
          "yref": "y"
         },
         {
          "font": {
           "color": "#FFFFFF"
          },
          "showarrow": false,
          "text": "0.024",
          "x": "County",
          "xref": "x",
          "y": "Weapon",
          "yref": "y"
         },
         {
          "font": {
           "color": "#FFFFFF"
          },
          "showarrow": false,
          "text": "0.0034",
          "x": "FileMonth",
          "xref": "x",
          "y": "Weapon",
          "yref": "y"
         },
         {
          "font": {
           "color": "#FFFFFF"
          },
          "showarrow": false,
          "text": "0.0046",
          "x": "FileDay",
          "xref": "x",
          "y": "Weapon",
          "yref": "y"
         },
         {
          "font": {
           "color": "#FFFFFF"
          },
          "showarrow": false,
          "text": "0.0168",
          "x": "FileYear",
          "xref": "x",
          "y": "Weapon",
          "yref": "y"
         },
         {
          "font": {
           "color": "#FFFFFF"
          },
          "showarrow": false,
          "text": "0.0157",
          "x": "State",
          "xref": "x",
          "y": "Weapon",
          "yref": "y"
         },
         {
          "font": {
           "color": "#FFFFFF"
          },
          "showarrow": false,
          "text": "0.0402",
          "x": "Agency",
          "xref": "x",
          "y": "Weapon",
          "yref": "y"
         },
         {
          "font": {
           "color": "#FFFFFF"
          },
          "showarrow": false,
          "text": "0.0115",
          "x": "Agentype",
          "xref": "x",
          "y": "Weapon",
          "yref": "y"
         },
         {
          "font": {
           "color": "#FFFFFF"
          },
          "showarrow": false,
          "text": "0.0103",
          "x": "Source",
          "xref": "x",
          "y": "Weapon",
          "yref": "y"
         },
         {
          "font": {
           "color": "#FFFFFF"
          },
          "showarrow": false,
          "text": "0.0155",
          "x": "Year",
          "xref": "x",
          "y": "Weapon",
          "yref": "y"
         },
         {
          "font": {
           "color": "#FFFFFF"
          },
          "showarrow": false,
          "text": "0.0004",
          "x": "Month",
          "xref": "x",
          "y": "Weapon",
          "yref": "y"
         },
         {
          "font": {
           "color": "#FFFFFF"
          },
          "showarrow": false,
          "text": "0.0009",
          "x": "ActionType",
          "xref": "x",
          "y": "Weapon",
          "yref": "y"
         },
         {
          "font": {
           "color": "#FFFFFF"
          },
          "showarrow": false,
          "text": "0.0121",
          "x": "Homicide",
          "xref": "x",
          "y": "Weapon",
          "yref": "y"
         },
         {
          "font": {
           "color": "#FFFFFF"
          },
          "showarrow": false,
          "text": "0.032",
          "x": "VicAge",
          "xref": "x",
          "y": "Weapon",
          "yref": "y"
         },
         {
          "font": {
           "color": "#FFFFFF"
          },
          "showarrow": false,
          "text": "0.0173",
          "x": "VicSex",
          "xref": "x",
          "y": "Weapon",
          "yref": "y"
         },
         {
          "font": {
           "color": "#FFFFFF"
          },
          "showarrow": false,
          "text": "0.0131",
          "x": "VicRace",
          "xref": "x",
          "y": "Weapon",
          "yref": "y"
         },
         {
          "font": {
           "color": "#FFFFFF"
          },
          "showarrow": false,
          "text": "0.002",
          "x": "VicEthnic",
          "xref": "x",
          "y": "Weapon",
          "yref": "y"
         },
         {
          "font": {
           "color": "#FFFFFF"
          },
          "showarrow": false,
          "text": "0.0062",
          "x": "OffAge",
          "xref": "x",
          "y": "Weapon",
          "yref": "y"
         },
         {
          "font": {
           "color": "#FFFFFF"
          },
          "showarrow": false,
          "text": "0.0128",
          "x": "OffSex",
          "xref": "x",
          "y": "Weapon",
          "yref": "y"
         },
         {
          "font": {
           "color": "#FFFFFF"
          },
          "showarrow": false,
          "text": "0.0127",
          "x": "OffRace",
          "xref": "x",
          "y": "Weapon",
          "yref": "y"
         },
         {
          "font": {
           "color": "#FFFFFF"
          },
          "showarrow": false,
          "text": "0.0025",
          "x": "OffEthnic",
          "xref": "x",
          "y": "Weapon",
          "yref": "y"
         },
         {
          "font": {
           "color": "#000000"
          },
          "showarrow": false,
          "text": "1.0",
          "x": "Weapon",
          "xref": "x",
          "y": "Weapon",
          "yref": "y"
         },
         {
          "font": {
           "color": "#FFFFFF"
          },
          "showarrow": false,
          "text": "0.0375",
          "x": "Relationship",
          "xref": "x",
          "y": "Weapon",
          "yref": "y"
         },
         {
          "font": {
           "color": "#FFFFFF"
          },
          "showarrow": false,
          "text": "0.0604",
          "x": "Circumstance",
          "xref": "x",
          "y": "Weapon",
          "yref": "y"
         },
         {
          "font": {
           "color": "#FFFFFF"
          },
          "showarrow": false,
          "text": "0.0139",
          "x": "Subcircum",
          "xref": "x",
          "y": "Weapon",
          "yref": "y"
         },
         {
          "font": {
           "color": "#FFFFFF"
          },
          "showarrow": false,
          "text": "0.0153",
          "x": "VicCount",
          "xref": "x",
          "y": "Weapon",
          "yref": "y"
         },
         {
          "font": {
           "color": "#FFFFFF"
          },
          "showarrow": false,
          "text": "0.0051",
          "x": "OffCount",
          "xref": "x",
          "y": "Weapon",
          "yref": "y"
         },
         {
          "font": {
           "color": "#FFFFFF"
          },
          "showarrow": false,
          "text": "0.0358",
          "x": "Area",
          "xref": "x",
          "y": "Relationship",
          "yref": "y"
         },
         {
          "font": {
           "color": "#FFFFFF"
          },
          "showarrow": false,
          "text": "0.0425",
          "x": "County",
          "xref": "x",
          "y": "Relationship",
          "yref": "y"
         },
         {
          "font": {
           "color": "#FFFFFF"
          },
          "showarrow": false,
          "text": "0.0059",
          "x": "FileMonth",
          "xref": "x",
          "y": "Relationship",
          "yref": "y"
         },
         {
          "font": {
           "color": "#FFFFFF"
          },
          "showarrow": false,
          "text": "0.0078",
          "x": "FileDay",
          "xref": "x",
          "y": "Relationship",
          "yref": "y"
         },
         {
          "font": {
           "color": "#FFFFFF"
          },
          "showarrow": false,
          "text": "0.0159",
          "x": "FileYear",
          "xref": "x",
          "y": "Relationship",
          "yref": "y"
         },
         {
          "font": {
           "color": "#FFFFFF"
          },
          "showarrow": false,
          "text": "0.0325",
          "x": "State",
          "xref": "x",
          "y": "Relationship",
          "yref": "y"
         },
         {
          "font": {
           "color": "#FFFFFF"
          },
          "showarrow": false,
          "text": "0.0655",
          "x": "Agency",
          "xref": "x",
          "y": "Relationship",
          "yref": "y"
         },
         {
          "font": {
           "color": "#FFFFFF"
          },
          "showarrow": false,
          "text": "0.0081",
          "x": "Agentype",
          "xref": "x",
          "y": "Relationship",
          "yref": "y"
         },
         {
          "font": {
           "color": "#FFFFFF"
          },
          "showarrow": false,
          "text": "0.0384",
          "x": "Source",
          "xref": "x",
          "y": "Relationship",
          "yref": "y"
         },
         {
          "font": {
           "color": "#FFFFFF"
          },
          "showarrow": false,
          "text": "0.0133",
          "x": "Year",
          "xref": "x",
          "y": "Relationship",
          "yref": "y"
         },
         {
          "font": {
           "color": "#FFFFFF"
          },
          "showarrow": false,
          "text": "0.0003",
          "x": "Month",
          "xref": "x",
          "y": "Relationship",
          "yref": "y"
         },
         {
          "font": {
           "color": "#FFFFFF"
          },
          "showarrow": false,
          "text": "0.0067",
          "x": "ActionType",
          "xref": "x",
          "y": "Relationship",
          "yref": "y"
         },
         {
          "font": {
           "color": "#FFFFFF"
          },
          "showarrow": false,
          "text": "0.0053",
          "x": "Homicide",
          "xref": "x",
          "y": "Relationship",
          "yref": "y"
         },
         {
          "font": {
           "color": "#FFFFFF"
          },
          "showarrow": false,
          "text": "0.0477",
          "x": "VicAge",
          "xref": "x",
          "y": "Relationship",
          "yref": "y"
         },
         {
          "font": {
           "color": "#FFFFFF"
          },
          "showarrow": false,
          "text": "0.1351",
          "x": "VicSex",
          "xref": "x",
          "y": "Relationship",
          "yref": "y"
         },
         {
          "font": {
           "color": "#FFFFFF"
          },
          "showarrow": false,
          "text": "0.0149",
          "x": "VicRace",
          "xref": "x",
          "y": "Relationship",
          "yref": "y"
         },
         {
          "font": {
           "color": "#FFFFFF"
          },
          "showarrow": false,
          "text": "0.0125",
          "x": "VicEthnic",
          "xref": "x",
          "y": "Relationship",
          "yref": "y"
         },
         {
          "font": {
           "color": "#FFFFFF"
          },
          "showarrow": false,
          "text": "0.0298",
          "x": "OffAge",
          "xref": "x",
          "y": "Relationship",
          "yref": "y"
         },
         {
          "font": {
           "color": "#FFFFFF"
          },
          "showarrow": false,
          "text": "0.091",
          "x": "OffSex",
          "xref": "x",
          "y": "Relationship",
          "yref": "y"
         },
         {
          "font": {
           "color": "#FFFFFF"
          },
          "showarrow": false,
          "text": "0.0163",
          "x": "OffRace",
          "xref": "x",
          "y": "Relationship",
          "yref": "y"
         },
         {
          "font": {
           "color": "#FFFFFF"
          },
          "showarrow": false,
          "text": "0.0129",
          "x": "OffEthnic",
          "xref": "x",
          "y": "Relationship",
          "yref": "y"
         },
         {
          "font": {
           "color": "#FFFFFF"
          },
          "showarrow": false,
          "text": "0.0375",
          "x": "Weapon",
          "xref": "x",
          "y": "Relationship",
          "yref": "y"
         },
         {
          "font": {
           "color": "#000000"
          },
          "showarrow": false,
          "text": "1.0",
          "x": "Relationship",
          "xref": "x",
          "y": "Relationship",
          "yref": "y"
         },
         {
          "font": {
           "color": "#FFFFFF"
          },
          "showarrow": false,
          "text": "0.0988",
          "x": "Circumstance",
          "xref": "x",
          "y": "Relationship",
          "yref": "y"
         },
         {
          "font": {
           "color": "#FFFFFF"
          },
          "showarrow": false,
          "text": "0.0311",
          "x": "Subcircum",
          "xref": "x",
          "y": "Relationship",
          "yref": "y"
         },
         {
          "font": {
           "color": "#FFFFFF"
          },
          "showarrow": false,
          "text": "0.0085",
          "x": "VicCount",
          "xref": "x",
          "y": "Relationship",
          "yref": "y"
         },
         {
          "font": {
           "color": "#FFFFFF"
          },
          "showarrow": false,
          "text": "0.0243",
          "x": "OffCount",
          "xref": "x",
          "y": "Relationship",
          "yref": "y"
         },
         {
          "font": {
           "color": "#FFFFFF"
          },
          "showarrow": false,
          "text": "0.0387",
          "x": "Area",
          "xref": "x",
          "y": "Circumstance",
          "yref": "y"
         },
         {
          "font": {
           "color": "#FFFFFF"
          },
          "showarrow": false,
          "text": "0.0431",
          "x": "County",
          "xref": "x",
          "y": "Circumstance",
          "yref": "y"
         },
         {
          "font": {
           "color": "#FFFFFF"
          },
          "showarrow": false,
          "text": "0.0055",
          "x": "FileMonth",
          "xref": "x",
          "y": "Circumstance",
          "yref": "y"
         },
         {
          "font": {
           "color": "#FFFFFF"
          },
          "showarrow": false,
          "text": "0.0074",
          "x": "FileDay",
          "xref": "x",
          "y": "Circumstance",
          "yref": "y"
         },
         {
          "font": {
           "color": "#FFFFFF"
          },
          "showarrow": false,
          "text": "0.0227",
          "x": "FileYear",
          "xref": "x",
          "y": "Circumstance",
          "yref": "y"
         },
         {
          "font": {
           "color": "#FFFFFF"
          },
          "showarrow": false,
          "text": "0.0377",
          "x": "State",
          "xref": "x",
          "y": "Circumstance",
          "yref": "y"
         },
         {
          "font": {
           "color": "#FFFFFF"
          },
          "showarrow": false,
          "text": "0.0613",
          "x": "Agency",
          "xref": "x",
          "y": "Circumstance",
          "yref": "y"
         },
         {
          "font": {
           "color": "#FFFFFF"
          },
          "showarrow": false,
          "text": "0.0075",
          "x": "Agentype",
          "xref": "x",
          "y": "Circumstance",
          "yref": "y"
         },
         {
          "font": {
           "color": "#FFFFFF"
          },
          "showarrow": false,
          "text": "0.0199",
          "x": "Source",
          "xref": "x",
          "y": "Circumstance",
          "yref": "y"
         },
         {
          "font": {
           "color": "#FFFFFF"
          },
          "showarrow": false,
          "text": "0.0205",
          "x": "Year",
          "xref": "x",
          "y": "Circumstance",
          "yref": "y"
         },
         {
          "font": {
           "color": "#FFFFFF"
          },
          "showarrow": false,
          "text": "0.0007",
          "x": "Month",
          "xref": "x",
          "y": "Circumstance",
          "yref": "y"
         },
         {
          "font": {
           "color": "#FFFFFF"
          },
          "showarrow": false,
          "text": "0.0072",
          "x": "ActionType",
          "xref": "x",
          "y": "Circumstance",
          "yref": "y"
         },
         {
          "font": {
           "color": "#FFFFFF"
          },
          "showarrow": false,
          "text": "0.083",
          "x": "Homicide",
          "xref": "x",
          "y": "Circumstance",
          "yref": "y"
         },
         {
          "font": {
           "color": "#FFFFFF"
          },
          "showarrow": false,
          "text": "0.0332",
          "x": "VicAge",
          "xref": "x",
          "y": "Circumstance",
          "yref": "y"
         },
         {
          "font": {
           "color": "#FFFFFF"
          },
          "showarrow": false,
          "text": "0.0239",
          "x": "VicSex",
          "xref": "x",
          "y": "Circumstance",
          "yref": "y"
         },
         {
          "font": {
           "color": "#FFFFFF"
          },
          "showarrow": false,
          "text": "0.0089",
          "x": "VicRace",
          "xref": "x",
          "y": "Circumstance",
          "yref": "y"
         },
         {
          "font": {
           "color": "#FFFFFF"
          },
          "showarrow": false,
          "text": "0.0112",
          "x": "VicEthnic",
          "xref": "x",
          "y": "Circumstance",
          "yref": "y"
         },
         {
          "font": {
           "color": "#FFFFFF"
          },
          "showarrow": false,
          "text": "0.025",
          "x": "OffAge",
          "xref": "x",
          "y": "Circumstance",
          "yref": "y"
         },
         {
          "font": {
           "color": "#FFFFFF"
          },
          "showarrow": false,
          "text": "0.0115",
          "x": "OffSex",
          "xref": "x",
          "y": "Circumstance",
          "yref": "y"
         },
         {
          "font": {
           "color": "#FFFFFF"
          },
          "showarrow": false,
          "text": "0.0157",
          "x": "OffRace",
          "xref": "x",
          "y": "Circumstance",
          "yref": "y"
         },
         {
          "font": {
           "color": "#FFFFFF"
          },
          "showarrow": false,
          "text": "0.0122",
          "x": "OffEthnic",
          "xref": "x",
          "y": "Circumstance",
          "yref": "y"
         },
         {
          "font": {
           "color": "#FFFFFF"
          },
          "showarrow": false,
          "text": "0.0604",
          "x": "Weapon",
          "xref": "x",
          "y": "Circumstance",
          "yref": "y"
         },
         {
          "font": {
           "color": "#FFFFFF"
          },
          "showarrow": false,
          "text": "0.0988",
          "x": "Relationship",
          "xref": "x",
          "y": "Circumstance",
          "yref": "y"
         },
         {
          "font": {
           "color": "#000000"
          },
          "showarrow": false,
          "text": "1.0",
          "x": "Circumstance",
          "xref": "x",
          "y": "Circumstance",
          "yref": "y"
         },
         {
          "font": {
           "color": "#FFFFFF"
          },
          "showarrow": false,
          "text": "0.1744",
          "x": "Subcircum",
          "xref": "x",
          "y": "Circumstance",
          "yref": "y"
         },
         {
          "font": {
           "color": "#FFFFFF"
          },
          "showarrow": false,
          "text": "0.0114",
          "x": "VicCount",
          "xref": "x",
          "y": "Circumstance",
          "yref": "y"
         },
         {
          "font": {
           "color": "#FFFFFF"
          },
          "showarrow": false,
          "text": "0.0281",
          "x": "OffCount",
          "xref": "x",
          "y": "Circumstance",
          "yref": "y"
         },
         {
          "font": {
           "color": "#FFFFFF"
          },
          "showarrow": false,
          "text": "0.0056",
          "x": "Area",
          "xref": "x",
          "y": "Subcircum",
          "yref": "y"
         },
         {
          "font": {
           "color": "#FFFFFF"
          },
          "showarrow": false,
          "text": "0.0065",
          "x": "County",
          "xref": "x",
          "y": "Subcircum",
          "yref": "y"
         },
         {
          "font": {
           "color": "#FFFFFF"
          },
          "showarrow": false,
          "text": "0.0005",
          "x": "FileMonth",
          "xref": "x",
          "y": "Subcircum",
          "yref": "y"
         },
         {
          "font": {
           "color": "#FFFFFF"
          },
          "showarrow": false,
          "text": "0.0006",
          "x": "FileDay",
          "xref": "x",
          "y": "Subcircum",
          "yref": "y"
         },
         {
          "font": {
           "color": "#FFFFFF"
          },
          "showarrow": false,
          "text": "0.0021",
          "x": "FileYear",
          "xref": "x",
          "y": "Subcircum",
          "yref": "y"
         },
         {
          "font": {
           "color": "#FFFFFF"
          },
          "showarrow": false,
          "text": "0.0052",
          "x": "State",
          "xref": "x",
          "y": "Subcircum",
          "yref": "y"
         },
         {
          "font": {
           "color": "#FFFFFF"
          },
          "showarrow": false,
          "text": "0.0094",
          "x": "Agency",
          "xref": "x",
          "y": "Subcircum",
          "yref": "y"
         },
         {
          "font": {
           "color": "#FFFFFF"
          },
          "showarrow": false,
          "text": "0.0013",
          "x": "Agentype",
          "xref": "x",
          "y": "Subcircum",
          "yref": "y"
         },
         {
          "font": {
           "color": "#FFFFFF"
          },
          "showarrow": false,
          "text": "0.0019",
          "x": "Source",
          "xref": "x",
          "y": "Subcircum",
          "yref": "y"
         },
         {
          "font": {
           "color": "#FFFFFF"
          },
          "showarrow": false,
          "text": "0.0021",
          "x": "Year",
          "xref": "x",
          "y": "Subcircum",
          "yref": "y"
         },
         {
          "font": {
           "color": "#FFFFFF"
          },
          "showarrow": false,
          "text": "0.0001",
          "x": "Month",
          "xref": "x",
          "y": "Subcircum",
          "yref": "y"
         },
         {
          "font": {
           "color": "#FFFFFF"
          },
          "showarrow": false,
          "text": "0.0038",
          "x": "ActionType",
          "xref": "x",
          "y": "Subcircum",
          "yref": "y"
         },
         {
          "font": {
           "color": "#FFFFFF"
          },
          "showarrow": false,
          "text": "0.0028",
          "x": "Homicide",
          "xref": "x",
          "y": "Subcircum",
          "yref": "y"
         },
         {
          "font": {
           "color": "#FFFFFF"
          },
          "showarrow": false,
          "text": "0.003",
          "x": "VicAge",
          "xref": "x",
          "y": "Subcircum",
          "yref": "y"
         },
         {
          "font": {
           "color": "#FFFFFF"
          },
          "showarrow": false,
          "text": "0.023",
          "x": "VicSex",
          "xref": "x",
          "y": "Subcircum",
          "yref": "y"
         },
         {
          "font": {
           "color": "#FFFFFF"
          },
          "showarrow": false,
          "text": "0.0023",
          "x": "VicRace",
          "xref": "x",
          "y": "Subcircum",
          "yref": "y"
         },
         {
          "font": {
           "color": "#FFFFFF"
          },
          "showarrow": false,
          "text": "0.0026",
          "x": "VicEthnic",
          "xref": "x",
          "y": "Subcircum",
          "yref": "y"
         },
         {
          "font": {
           "color": "#FFFFFF"
          },
          "showarrow": false,
          "text": "0.0055",
          "x": "OffAge",
          "xref": "x",
          "y": "Subcircum",
          "yref": "y"
         },
         {
          "font": {
           "color": "#FFFFFF"
          },
          "showarrow": false,
          "text": "0.0039",
          "x": "OffSex",
          "xref": "x",
          "y": "Subcircum",
          "yref": "y"
         },
         {
          "font": {
           "color": "#FFFFFF"
          },
          "showarrow": false,
          "text": "0.0154",
          "x": "OffRace",
          "xref": "x",
          "y": "Subcircum",
          "yref": "y"
         },
         {
          "font": {
           "color": "#FFFFFF"
          },
          "showarrow": false,
          "text": "0.003",
          "x": "OffEthnic",
          "xref": "x",
          "y": "Subcircum",
          "yref": "y"
         },
         {
          "font": {
           "color": "#FFFFFF"
          },
          "showarrow": false,
          "text": "0.0139",
          "x": "Weapon",
          "xref": "x",
          "y": "Subcircum",
          "yref": "y"
         },
         {
          "font": {
           "color": "#FFFFFF"
          },
          "showarrow": false,
          "text": "0.0311",
          "x": "Relationship",
          "xref": "x",
          "y": "Subcircum",
          "yref": "y"
         },
         {
          "font": {
           "color": "#FFFFFF"
          },
          "showarrow": false,
          "text": "0.1744",
          "x": "Circumstance",
          "xref": "x",
          "y": "Subcircum",
          "yref": "y"
         },
         {
          "font": {
           "color": "#000000"
          },
          "showarrow": false,
          "text": "1.0",
          "x": "Subcircum",
          "xref": "x",
          "y": "Subcircum",
          "yref": "y"
         },
         {
          "font": {
           "color": "#FFFFFF"
          },
          "showarrow": false,
          "text": "0.0058",
          "x": "VicCount",
          "xref": "x",
          "y": "Subcircum",
          "yref": "y"
         },
         {
          "font": {
           "color": "#FFFFFF"
          },
          "showarrow": false,
          "text": "0.0036",
          "x": "OffCount",
          "xref": "x",
          "y": "Subcircum",
          "yref": "y"
         },
         {
          "font": {
           "color": "#FFFFFF"
          },
          "showarrow": false,
          "text": "0.0053",
          "x": "Area",
          "xref": "x",
          "y": "VicCount",
          "yref": "y"
         },
         {
          "font": {
           "color": "#FFFFFF"
          },
          "showarrow": false,
          "text": "0.008",
          "x": "County",
          "xref": "x",
          "y": "VicCount",
          "yref": "y"
         },
         {
          "font": {
           "color": "#FFFFFF"
          },
          "showarrow": false,
          "text": "0.0018",
          "x": "FileMonth",
          "xref": "x",
          "y": "VicCount",
          "yref": "y"
         },
         {
          "font": {
           "color": "#FFFFFF"
          },
          "showarrow": false,
          "text": "0.002",
          "x": "FileDay",
          "xref": "x",
          "y": "VicCount",
          "yref": "y"
         },
         {
          "font": {
           "color": "#FFFFFF"
          },
          "showarrow": false,
          "text": "0.0028",
          "x": "FileYear",
          "xref": "x",
          "y": "VicCount",
          "yref": "y"
         },
         {
          "font": {
           "color": "#FFFFFF"
          },
          "showarrow": false,
          "text": "0.003",
          "x": "State",
          "xref": "x",
          "y": "VicCount",
          "yref": "y"
         },
         {
          "font": {
           "color": "#FFFFFF"
          },
          "showarrow": false,
          "text": "0.0144",
          "x": "Agency",
          "xref": "x",
          "y": "VicCount",
          "yref": "y"
         },
         {
          "font": {
           "color": "#FFFFFF"
          },
          "showarrow": false,
          "text": "0.0046",
          "x": "Agentype",
          "xref": "x",
          "y": "VicCount",
          "yref": "y"
         },
         {
          "font": {
           "color": "#FFFFFF"
          },
          "showarrow": false,
          "text": "0.0003",
          "x": "Source",
          "xref": "x",
          "y": "VicCount",
          "yref": "y"
         },
         {
          "font": {
           "color": "#FFFFFF"
          },
          "showarrow": false,
          "text": "0.0027",
          "x": "Year",
          "xref": "x",
          "y": "VicCount",
          "yref": "y"
         },
         {
          "font": {
           "color": "#FFFFFF"
          },
          "showarrow": false,
          "text": "0.001",
          "x": "Month",
          "xref": "x",
          "y": "VicCount",
          "yref": "y"
         },
         {
          "font": {
           "color": "#FFFFFF"
          },
          "showarrow": false,
          "text": "0.0034",
          "x": "ActionType",
          "xref": "x",
          "y": "VicCount",
          "yref": "y"
         },
         {
          "font": {
           "color": "#FFFFFF"
          },
          "showarrow": false,
          "text": "0.0012",
          "x": "Homicide",
          "xref": "x",
          "y": "VicCount",
          "yref": "y"
         },
         {
          "font": {
           "color": "#FFFFFF"
          },
          "showarrow": false,
          "text": "0.005",
          "x": "VicAge",
          "xref": "x",
          "y": "VicCount",
          "yref": "y"
         },
         {
          "font": {
           "color": "#FFFFFF"
          },
          "showarrow": false,
          "text": "0.0105",
          "x": "VicSex",
          "xref": "x",
          "y": "VicCount",
          "yref": "y"
         },
         {
          "font": {
           "color": "#FFFFFF"
          },
          "showarrow": false,
          "text": "0.0056",
          "x": "VicRace",
          "xref": "x",
          "y": "VicCount",
          "yref": "y"
         },
         {
          "font": {
           "color": "#FFFFFF"
          },
          "showarrow": false,
          "text": "0.0007",
          "x": "VicEthnic",
          "xref": "x",
          "y": "VicCount",
          "yref": "y"
         },
         {
          "font": {
           "color": "#FFFFFF"
          },
          "showarrow": false,
          "text": "0.0026",
          "x": "OffAge",
          "xref": "x",
          "y": "VicCount",
          "yref": "y"
         },
         {
          "font": {
           "color": "#FFFFFF"
          },
          "showarrow": false,
          "text": "0.0033",
          "x": "OffSex",
          "xref": "x",
          "y": "VicCount",
          "yref": "y"
         },
         {
          "font": {
           "color": "#FFFFFF"
          },
          "showarrow": false,
          "text": "0.0045",
          "x": "OffRace",
          "xref": "x",
          "y": "VicCount",
          "yref": "y"
         },
         {
          "font": {
           "color": "#FFFFFF"
          },
          "showarrow": false,
          "text": "0.0008",
          "x": "OffEthnic",
          "xref": "x",
          "y": "VicCount",
          "yref": "y"
         },
         {
          "font": {
           "color": "#FFFFFF"
          },
          "showarrow": false,
          "text": "0.0153",
          "x": "Weapon",
          "xref": "x",
          "y": "VicCount",
          "yref": "y"
         },
         {
          "font": {
           "color": "#FFFFFF"
          },
          "showarrow": false,
          "text": "0.0085",
          "x": "Relationship",
          "xref": "x",
          "y": "VicCount",
          "yref": "y"
         },
         {
          "font": {
           "color": "#FFFFFF"
          },
          "showarrow": false,
          "text": "0.0114",
          "x": "Circumstance",
          "xref": "x",
          "y": "VicCount",
          "yref": "y"
         },
         {
          "font": {
           "color": "#FFFFFF"
          },
          "showarrow": false,
          "text": "0.0058",
          "x": "Subcircum",
          "xref": "x",
          "y": "VicCount",
          "yref": "y"
         },
         {
          "font": {
           "color": "#000000"
          },
          "showarrow": false,
          "text": "1.0",
          "x": "VicCount",
          "xref": "x",
          "y": "VicCount",
          "yref": "y"
         },
         {
          "font": {
           "color": "#FFFFFF"
          },
          "showarrow": false,
          "text": "0.0065",
          "x": "OffCount",
          "xref": "x",
          "y": "VicCount",
          "yref": "y"
         },
         {
          "font": {
           "color": "#FFFFFF"
          },
          "showarrow": false,
          "text": "0.0048",
          "x": "Area",
          "xref": "x",
          "y": "OffCount",
          "yref": "y"
         },
         {
          "font": {
           "color": "#FFFFFF"
          },
          "showarrow": false,
          "text": "0.0062",
          "x": "County",
          "xref": "x",
          "y": "OffCount",
          "yref": "y"
         },
         {
          "font": {
           "color": "#FFFFFF"
          },
          "showarrow": false,
          "text": "0.0016",
          "x": "FileMonth",
          "xref": "x",
          "y": "OffCount",
          "yref": "y"
         },
         {
          "font": {
           "color": "#FFFFFF"
          },
          "showarrow": false,
          "text": "0.0015",
          "x": "FileDay",
          "xref": "x",
          "y": "OffCount",
          "yref": "y"
         },
         {
          "font": {
           "color": "#FFFFFF"
          },
          "showarrow": false,
          "text": "0.003",
          "x": "FileYear",
          "xref": "x",
          "y": "OffCount",
          "yref": "y"
         },
         {
          "font": {
           "color": "#FFFFFF"
          },
          "showarrow": false,
          "text": "0.0039",
          "x": "State",
          "xref": "x",
          "y": "OffCount",
          "yref": "y"
         },
         {
          "font": {
           "color": "#FFFFFF"
          },
          "showarrow": false,
          "text": "0.0109",
          "x": "Agency",
          "xref": "x",
          "y": "OffCount",
          "yref": "y"
         },
         {
          "font": {
           "color": "#FFFFFF"
          },
          "showarrow": false,
          "text": "0.0011",
          "x": "Agentype",
          "xref": "x",
          "y": "OffCount",
          "yref": "y"
         },
         {
          "font": {
           "color": "#FFFFFF"
          },
          "showarrow": false,
          "text": "0.0012",
          "x": "Source",
          "xref": "x",
          "y": "OffCount",
          "yref": "y"
         },
         {
          "font": {
           "color": "#FFFFFF"
          },
          "showarrow": false,
          "text": "0.0027",
          "x": "Year",
          "xref": "x",
          "y": "OffCount",
          "yref": "y"
         },
         {
          "font": {
           "color": "#FFFFFF"
          },
          "showarrow": false,
          "text": "0.0001",
          "x": "Month",
          "xref": "x",
          "y": "OffCount",
          "yref": "y"
         },
         {
          "font": {
           "color": "#FFFFFF"
          },
          "showarrow": false,
          "text": "0.0015",
          "x": "ActionType",
          "xref": "x",
          "y": "OffCount",
          "yref": "y"
         },
         {
          "font": {
           "color": "#FFFFFF"
          },
          "showarrow": false,
          "text": "0.0016",
          "x": "Homicide",
          "xref": "x",
          "y": "OffCount",
          "yref": "y"
         },
         {
          "font": {
           "color": "#FFFFFF"
          },
          "showarrow": false,
          "text": "0.0023",
          "x": "VicAge",
          "xref": "x",
          "y": "OffCount",
          "yref": "y"
         },
         {
          "font": {
           "color": "#FFFFFF"
          },
          "showarrow": false,
          "text": "0.0134",
          "x": "VicSex",
          "xref": "x",
          "y": "OffCount",
          "yref": "y"
         },
         {
          "font": {
           "color": "#FFFFFF"
          },
          "showarrow": false,
          "text": "0.0003",
          "x": "VicRace",
          "xref": "x",
          "y": "OffCount",
          "yref": "y"
         },
         {
          "font": {
           "color": "#FFFFFF"
          },
          "showarrow": false,
          "text": "0.0024",
          "x": "VicEthnic",
          "xref": "x",
          "y": "OffCount",
          "yref": "y"
         },
         {
          "font": {
           "color": "#FFFFFF"
          },
          "showarrow": false,
          "text": "0.0132",
          "x": "OffAge",
          "xref": "x",
          "y": "OffCount",
          "yref": "y"
         },
         {
          "font": {
           "color": "#FFFFFF"
          },
          "showarrow": false,
          "text": "0.0028",
          "x": "OffSex",
          "xref": "x",
          "y": "OffCount",
          "yref": "y"
         },
         {
          "font": {
           "color": "#FFFFFF"
          },
          "showarrow": false,
          "text": "0.0012",
          "x": "OffRace",
          "xref": "x",
          "y": "OffCount",
          "yref": "y"
         },
         {
          "font": {
           "color": "#FFFFFF"
          },
          "showarrow": false,
          "text": "0.0026",
          "x": "OffEthnic",
          "xref": "x",
          "y": "OffCount",
          "yref": "y"
         },
         {
          "font": {
           "color": "#FFFFFF"
          },
          "showarrow": false,
          "text": "0.0051",
          "x": "Weapon",
          "xref": "x",
          "y": "OffCount",
          "yref": "y"
         },
         {
          "font": {
           "color": "#FFFFFF"
          },
          "showarrow": false,
          "text": "0.0243",
          "x": "Relationship",
          "xref": "x",
          "y": "OffCount",
          "yref": "y"
         },
         {
          "font": {
           "color": "#FFFFFF"
          },
          "showarrow": false,
          "text": "0.0281",
          "x": "Circumstance",
          "xref": "x",
          "y": "OffCount",
          "yref": "y"
         },
         {
          "font": {
           "color": "#FFFFFF"
          },
          "showarrow": false,
          "text": "0.0036",
          "x": "Subcircum",
          "xref": "x",
          "y": "OffCount",
          "yref": "y"
         },
         {
          "font": {
           "color": "#FFFFFF"
          },
          "showarrow": false,
          "text": "0.0065",
          "x": "VicCount",
          "xref": "x",
          "y": "OffCount",
          "yref": "y"
         },
         {
          "font": {
           "color": "#000000"
          },
          "showarrow": false,
          "text": "1.0",
          "x": "OffCount",
          "xref": "x",
          "y": "OffCount",
          "yref": "y"
         }
        ],
        "autosize": false,
        "height": 2000,
        "template": {
         "data": {
          "bar": [
           {
            "error_x": {
             "color": "#2a3f5f"
            },
            "error_y": {
             "color": "#2a3f5f"
            },
            "marker": {
             "line": {
              "color": "#E5ECF6",
              "width": 0.5
             },
             "pattern": {
              "fillmode": "overlay",
              "size": 10,
              "solidity": 0.2
             }
            },
            "type": "bar"
           }
          ],
          "barpolar": [
           {
            "marker": {
             "line": {
              "color": "#E5ECF6",
              "width": 0.5
             },
             "pattern": {
              "fillmode": "overlay",
              "size": 10,
              "solidity": 0.2
             }
            },
            "type": "barpolar"
           }
          ],
          "carpet": [
           {
            "aaxis": {
             "endlinecolor": "#2a3f5f",
             "gridcolor": "white",
             "linecolor": "white",
             "minorgridcolor": "white",
             "startlinecolor": "#2a3f5f"
            },
            "baxis": {
             "endlinecolor": "#2a3f5f",
             "gridcolor": "white",
             "linecolor": "white",
             "minorgridcolor": "white",
             "startlinecolor": "#2a3f5f"
            },
            "type": "carpet"
           }
          ],
          "choropleth": [
           {
            "colorbar": {
             "outlinewidth": 0,
             "ticks": ""
            },
            "type": "choropleth"
           }
          ],
          "contour": [
           {
            "colorbar": {
             "outlinewidth": 0,
             "ticks": ""
            },
            "colorscale": [
             [
              0,
              "#0d0887"
             ],
             [
              0.1111111111111111,
              "#46039f"
             ],
             [
              0.2222222222222222,
              "#7201a8"
             ],
             [
              0.3333333333333333,
              "#9c179e"
             ],
             [
              0.4444444444444444,
              "#bd3786"
             ],
             [
              0.5555555555555556,
              "#d8576b"
             ],
             [
              0.6666666666666666,
              "#ed7953"
             ],
             [
              0.7777777777777778,
              "#fb9f3a"
             ],
             [
              0.8888888888888888,
              "#fdca26"
             ],
             [
              1,
              "#f0f921"
             ]
            ],
            "type": "contour"
           }
          ],
          "contourcarpet": [
           {
            "colorbar": {
             "outlinewidth": 0,
             "ticks": ""
            },
            "type": "contourcarpet"
           }
          ],
          "heatmap": [
           {
            "colorbar": {
             "outlinewidth": 0,
             "ticks": ""
            },
            "colorscale": [
             [
              0,
              "#0d0887"
             ],
             [
              0.1111111111111111,
              "#46039f"
             ],
             [
              0.2222222222222222,
              "#7201a8"
             ],
             [
              0.3333333333333333,
              "#9c179e"
             ],
             [
              0.4444444444444444,
              "#bd3786"
             ],
             [
              0.5555555555555556,
              "#d8576b"
             ],
             [
              0.6666666666666666,
              "#ed7953"
             ],
             [
              0.7777777777777778,
              "#fb9f3a"
             ],
             [
              0.8888888888888888,
              "#fdca26"
             ],
             [
              1,
              "#f0f921"
             ]
            ],
            "type": "heatmap"
           }
          ],
          "heatmapgl": [
           {
            "colorbar": {
             "outlinewidth": 0,
             "ticks": ""
            },
            "colorscale": [
             [
              0,
              "#0d0887"
             ],
             [
              0.1111111111111111,
              "#46039f"
             ],
             [
              0.2222222222222222,
              "#7201a8"
             ],
             [
              0.3333333333333333,
              "#9c179e"
             ],
             [
              0.4444444444444444,
              "#bd3786"
             ],
             [
              0.5555555555555556,
              "#d8576b"
             ],
             [
              0.6666666666666666,
              "#ed7953"
             ],
             [
              0.7777777777777778,
              "#fb9f3a"
             ],
             [
              0.8888888888888888,
              "#fdca26"
             ],
             [
              1,
              "#f0f921"
             ]
            ],
            "type": "heatmapgl"
           }
          ],
          "histogram": [
           {
            "marker": {
             "pattern": {
              "fillmode": "overlay",
              "size": 10,
              "solidity": 0.2
             }
            },
            "type": "histogram"
           }
          ],
          "histogram2d": [
           {
            "colorbar": {
             "outlinewidth": 0,
             "ticks": ""
            },
            "colorscale": [
             [
              0,
              "#0d0887"
             ],
             [
              0.1111111111111111,
              "#46039f"
             ],
             [
              0.2222222222222222,
              "#7201a8"
             ],
             [
              0.3333333333333333,
              "#9c179e"
             ],
             [
              0.4444444444444444,
              "#bd3786"
             ],
             [
              0.5555555555555556,
              "#d8576b"
             ],
             [
              0.6666666666666666,
              "#ed7953"
             ],
             [
              0.7777777777777778,
              "#fb9f3a"
             ],
             [
              0.8888888888888888,
              "#fdca26"
             ],
             [
              1,
              "#f0f921"
             ]
            ],
            "type": "histogram2d"
           }
          ],
          "histogram2dcontour": [
           {
            "colorbar": {
             "outlinewidth": 0,
             "ticks": ""
            },
            "colorscale": [
             [
              0,
              "#0d0887"
             ],
             [
              0.1111111111111111,
              "#46039f"
             ],
             [
              0.2222222222222222,
              "#7201a8"
             ],
             [
              0.3333333333333333,
              "#9c179e"
             ],
             [
              0.4444444444444444,
              "#bd3786"
             ],
             [
              0.5555555555555556,
              "#d8576b"
             ],
             [
              0.6666666666666666,
              "#ed7953"
             ],
             [
              0.7777777777777778,
              "#fb9f3a"
             ],
             [
              0.8888888888888888,
              "#fdca26"
             ],
             [
              1,
              "#f0f921"
             ]
            ],
            "type": "histogram2dcontour"
           }
          ],
          "mesh3d": [
           {
            "colorbar": {
             "outlinewidth": 0,
             "ticks": ""
            },
            "type": "mesh3d"
           }
          ],
          "parcoords": [
           {
            "line": {
             "colorbar": {
              "outlinewidth": 0,
              "ticks": ""
             }
            },
            "type": "parcoords"
           }
          ],
          "pie": [
           {
            "automargin": true,
            "type": "pie"
           }
          ],
          "scatter": [
           {
            "marker": {
             "colorbar": {
              "outlinewidth": 0,
              "ticks": ""
             }
            },
            "type": "scatter"
           }
          ],
          "scatter3d": [
           {
            "line": {
             "colorbar": {
              "outlinewidth": 0,
              "ticks": ""
             }
            },
            "marker": {
             "colorbar": {
              "outlinewidth": 0,
              "ticks": ""
             }
            },
            "type": "scatter3d"
           }
          ],
          "scattercarpet": [
           {
            "marker": {
             "colorbar": {
              "outlinewidth": 0,
              "ticks": ""
             }
            },
            "type": "scattercarpet"
           }
          ],
          "scattergeo": [
           {
            "marker": {
             "colorbar": {
              "outlinewidth": 0,
              "ticks": ""
             }
            },
            "type": "scattergeo"
           }
          ],
          "scattergl": [
           {
            "marker": {
             "colorbar": {
              "outlinewidth": 0,
              "ticks": ""
             }
            },
            "type": "scattergl"
           }
          ],
          "scattermapbox": [
           {
            "marker": {
             "colorbar": {
              "outlinewidth": 0,
              "ticks": ""
             }
            },
            "type": "scattermapbox"
           }
          ],
          "scatterpolar": [
           {
            "marker": {
             "colorbar": {
              "outlinewidth": 0,
              "ticks": ""
             }
            },
            "type": "scatterpolar"
           }
          ],
          "scatterpolargl": [
           {
            "marker": {
             "colorbar": {
              "outlinewidth": 0,
              "ticks": ""
             }
            },
            "type": "scatterpolargl"
           }
          ],
          "scatterternary": [
           {
            "marker": {
             "colorbar": {
              "outlinewidth": 0,
              "ticks": ""
             }
            },
            "type": "scatterternary"
           }
          ],
          "surface": [
           {
            "colorbar": {
             "outlinewidth": 0,
             "ticks": ""
            },
            "colorscale": [
             [
              0,
              "#0d0887"
             ],
             [
              0.1111111111111111,
              "#46039f"
             ],
             [
              0.2222222222222222,
              "#7201a8"
             ],
             [
              0.3333333333333333,
              "#9c179e"
             ],
             [
              0.4444444444444444,
              "#bd3786"
             ],
             [
              0.5555555555555556,
              "#d8576b"
             ],
             [
              0.6666666666666666,
              "#ed7953"
             ],
             [
              0.7777777777777778,
              "#fb9f3a"
             ],
             [
              0.8888888888888888,
              "#fdca26"
             ],
             [
              1,
              "#f0f921"
             ]
            ],
            "type": "surface"
           }
          ],
          "table": [
           {
            "cells": {
             "fill": {
              "color": "#EBF0F8"
             },
             "line": {
              "color": "white"
             }
            },
            "header": {
             "fill": {
              "color": "#C8D4E3"
             },
             "line": {
              "color": "white"
             }
            },
            "type": "table"
           }
          ]
         },
         "layout": {
          "annotationdefaults": {
           "arrowcolor": "#2a3f5f",
           "arrowhead": 0,
           "arrowwidth": 1
          },
          "autotypenumbers": "strict",
          "coloraxis": {
           "colorbar": {
            "outlinewidth": 0,
            "ticks": ""
           }
          },
          "colorscale": {
           "diverging": [
            [
             0,
             "#8e0152"
            ],
            [
             0.1,
             "#c51b7d"
            ],
            [
             0.2,
             "#de77ae"
            ],
            [
             0.3,
             "#f1b6da"
            ],
            [
             0.4,
             "#fde0ef"
            ],
            [
             0.5,
             "#f7f7f7"
            ],
            [
             0.6,
             "#e6f5d0"
            ],
            [
             0.7,
             "#b8e186"
            ],
            [
             0.8,
             "#7fbc41"
            ],
            [
             0.9,
             "#4d9221"
            ],
            [
             1,
             "#276419"
            ]
           ],
           "sequential": [
            [
             0,
             "#0d0887"
            ],
            [
             0.1111111111111111,
             "#46039f"
            ],
            [
             0.2222222222222222,
             "#7201a8"
            ],
            [
             0.3333333333333333,
             "#9c179e"
            ],
            [
             0.4444444444444444,
             "#bd3786"
            ],
            [
             0.5555555555555556,
             "#d8576b"
            ],
            [
             0.6666666666666666,
             "#ed7953"
            ],
            [
             0.7777777777777778,
             "#fb9f3a"
            ],
            [
             0.8888888888888888,
             "#fdca26"
            ],
            [
             1,
             "#f0f921"
            ]
           ],
           "sequentialminus": [
            [
             0,
             "#0d0887"
            ],
            [
             0.1111111111111111,
             "#46039f"
            ],
            [
             0.2222222222222222,
             "#7201a8"
            ],
            [
             0.3333333333333333,
             "#9c179e"
            ],
            [
             0.4444444444444444,
             "#bd3786"
            ],
            [
             0.5555555555555556,
             "#d8576b"
            ],
            [
             0.6666666666666666,
             "#ed7953"
            ],
            [
             0.7777777777777778,
             "#fb9f3a"
            ],
            [
             0.8888888888888888,
             "#fdca26"
            ],
            [
             1,
             "#f0f921"
            ]
           ]
          },
          "colorway": [
           "#636efa",
           "#EF553B",
           "#00cc96",
           "#ab63fa",
           "#FFA15A",
           "#19d3f3",
           "#FF6692",
           "#B6E880",
           "#FF97FF",
           "#FECB52"
          ],
          "font": {
           "color": "#2a3f5f"
          },
          "geo": {
           "bgcolor": "white",
           "lakecolor": "white",
           "landcolor": "#E5ECF6",
           "showlakes": true,
           "showland": true,
           "subunitcolor": "white"
          },
          "hoverlabel": {
           "align": "left"
          },
          "hovermode": "closest",
          "mapbox": {
           "style": "light"
          },
          "paper_bgcolor": "white",
          "plot_bgcolor": "#E5ECF6",
          "polar": {
           "angularaxis": {
            "gridcolor": "white",
            "linecolor": "white",
            "ticks": ""
           },
           "bgcolor": "#E5ECF6",
           "radialaxis": {
            "gridcolor": "white",
            "linecolor": "white",
            "ticks": ""
           }
          },
          "scene": {
           "xaxis": {
            "backgroundcolor": "#E5ECF6",
            "gridcolor": "white",
            "gridwidth": 2,
            "linecolor": "white",
            "showbackground": true,
            "ticks": "",
            "zerolinecolor": "white"
           },
           "yaxis": {
            "backgroundcolor": "#E5ECF6",
            "gridcolor": "white",
            "gridwidth": 2,
            "linecolor": "white",
            "showbackground": true,
            "ticks": "",
            "zerolinecolor": "white"
           },
           "zaxis": {
            "backgroundcolor": "#E5ECF6",
            "gridcolor": "white",
            "gridwidth": 2,
            "linecolor": "white",
            "showbackground": true,
            "ticks": "",
            "zerolinecolor": "white"
           }
          },
          "shapedefaults": {
           "line": {
            "color": "#2a3f5f"
           }
          },
          "ternary": {
           "aaxis": {
            "gridcolor": "white",
            "linecolor": "white",
            "ticks": ""
           },
           "baxis": {
            "gridcolor": "white",
            "linecolor": "white",
            "ticks": ""
           },
           "bgcolor": "#E5ECF6",
           "caxis": {
            "gridcolor": "white",
            "linecolor": "white",
            "ticks": ""
           }
          },
          "title": {
           "x": 0.05
          },
          "xaxis": {
           "automargin": true,
           "gridcolor": "white",
           "linecolor": "white",
           "ticks": "",
           "title": {
            "standoff": 15
           },
           "zerolinecolor": "white",
           "zerolinewidth": 2
          },
          "yaxis": {
           "automargin": true,
           "gridcolor": "white",
           "linecolor": "white",
           "ticks": "",
           "title": {
            "standoff": 15
           },
           "zerolinecolor": "white",
           "zerolinewidth": 2
          }
         }
        },
        "title": {
         "text": "Mutual Information scores"
        },
        "width": 2000,
        "xaxis": {
         "dtick": 1,
         "gridcolor": "rgb(0, 0, 0)",
         "side": "top",
         "ticks": ""
        },
        "yaxis": {
         "dtick": 1,
         "ticks": "",
         "ticksuffix": "  "
        }
       }
      }
     },
     "metadata": {},
     "output_type": "display_data"
    }
   ],
   "source": [
    "mi_scores = heatmap_mutual_info(df.astype(str), return_df=True)"
   ]
  },
  {
   "cell_type": "code",
   "execution_count": 11,
   "metadata": {},
   "outputs": [
    {
     "name": "stdout",
     "output_type": "stream",
     "text": [
      "We at State/OffSex\n",
      "We at State/OffRace\n",
      "We at State/OffCount\n",
      "We at State/Relationship\n",
      "We at Weapon/OffSex\n",
      "We at Weapon/OffRace\n",
      "We at Weapon/OffCount\n",
      "We at Weapon/Relationship\n",
      "We at VicCount/OffSex\n",
      "We at VicCount/OffRace\n",
      "We at VicCount/OffCount\n",
      "We at VicCount/Relationship\n",
      "We at VicRace/OffSex\n",
      "We at VicRace/OffRace\n",
      "We at VicRace/OffCount\n",
      "We at VicRace/Relationship\n",
      "We at VicSex/OffSex\n",
      "We at VicSex/OffRace\n",
      "We at VicSex/OffCount\n",
      "We at VicSex/Relationship\n",
      "We at Circumstance/OffSex\n",
      "We at Circumstance/OffRace\n",
      "We at Circumstance/OffCount\n",
      "We at Circumstance/Relationship\n"
     ]
    },
    {
     "data": {
      "application/vnd.plotly.v1+json": {
       "config": {
        "plotlyServerURL": "https://plot.ly"
       },
       "data": [
        {
         "colorscale": [
          [
           0,
           "#0d0887"
          ],
          [
           0.1111111111111111,
           "#46039f"
          ],
          [
           0.2222222222222222,
           "#7201a8"
          ],
          [
           0.3333333333333333,
           "#9c179e"
          ],
          [
           0.4444444444444444,
           "#bd3786"
          ],
          [
           0.5555555555555556,
           "#d8576b"
          ],
          [
           0.6666666666666666,
           "#ed7953"
          ],
          [
           0.7777777777777778,
           "#fb9f3a"
          ],
          [
           0.8888888888888888,
           "#fdca26"
          ],
          [
           1,
           "#f0f921"
          ]
         ],
         "reversescale": false,
         "showscale": false,
         "type": "heatmap",
         "x": [
          "OffSex",
          "OffRace",
          "OffCount",
          "Relationship"
         ],
         "y": [
          "State",
          "Weapon",
          "VicCount",
          "VicRace",
          "VicSex",
          "Circumstance"
         ],
         "z": [
          [
           0.0008389434492718613,
           0.04254676650083605,
           0.0038991326533325127,
           0.03254014154415479
          ],
          [
           0.012823292817002589,
           0.012748573287255508,
           0.005073501364494359,
           0.03749398712012798
          ],
          [
           0.0033372362537423482,
           0.004544576248219467,
           0.006487709064163681,
           0.008498546923378363
          ],
          [
           0.0018111406050306288,
           0.46682765946383703,
           0.00028340423913912047,
           0.01494565010863357
          ],
          [
           0.0005400559085925463,
           0.006122777228900267,
           0.013352997660886276,
           0.13508919290655666
          ],
          [
           0.011548970695354668,
           0.015663314297111482,
           0.028084642817704245,
           0.098849913607676
          ]
         ]
        }
       ],
       "layout": {
        "annotations": [
         {
          "font": {
           "color": "#FFFFFF"
          },
          "showarrow": false,
          "text": "0.0008",
          "x": "OffSex",
          "xref": "x",
          "y": "State",
          "yref": "y"
         },
         {
          "font": {
           "color": "#FFFFFF"
          },
          "showarrow": false,
          "text": "0.0425",
          "x": "OffRace",
          "xref": "x",
          "y": "State",
          "yref": "y"
         },
         {
          "font": {
           "color": "#FFFFFF"
          },
          "showarrow": false,
          "text": "0.0039",
          "x": "OffCount",
          "xref": "x",
          "y": "State",
          "yref": "y"
         },
         {
          "font": {
           "color": "#FFFFFF"
          },
          "showarrow": false,
          "text": "0.0325",
          "x": "Relationship",
          "xref": "x",
          "y": "State",
          "yref": "y"
         },
         {
          "font": {
           "color": "#FFFFFF"
          },
          "showarrow": false,
          "text": "0.0128",
          "x": "OffSex",
          "xref": "x",
          "y": "Weapon",
          "yref": "y"
         },
         {
          "font": {
           "color": "#FFFFFF"
          },
          "showarrow": false,
          "text": "0.0127",
          "x": "OffRace",
          "xref": "x",
          "y": "Weapon",
          "yref": "y"
         },
         {
          "font": {
           "color": "#FFFFFF"
          },
          "showarrow": false,
          "text": "0.0051",
          "x": "OffCount",
          "xref": "x",
          "y": "Weapon",
          "yref": "y"
         },
         {
          "font": {
           "color": "#FFFFFF"
          },
          "showarrow": false,
          "text": "0.0375",
          "x": "Relationship",
          "xref": "x",
          "y": "Weapon",
          "yref": "y"
         },
         {
          "font": {
           "color": "#FFFFFF"
          },
          "showarrow": false,
          "text": "0.0033",
          "x": "OffSex",
          "xref": "x",
          "y": "VicCount",
          "yref": "y"
         },
         {
          "font": {
           "color": "#FFFFFF"
          },
          "showarrow": false,
          "text": "0.0045",
          "x": "OffRace",
          "xref": "x",
          "y": "VicCount",
          "yref": "y"
         },
         {
          "font": {
           "color": "#FFFFFF"
          },
          "showarrow": false,
          "text": "0.0065",
          "x": "OffCount",
          "xref": "x",
          "y": "VicCount",
          "yref": "y"
         },
         {
          "font": {
           "color": "#FFFFFF"
          },
          "showarrow": false,
          "text": "0.0085",
          "x": "Relationship",
          "xref": "x",
          "y": "VicCount",
          "yref": "y"
         },
         {
          "font": {
           "color": "#FFFFFF"
          },
          "showarrow": false,
          "text": "0.0018",
          "x": "OffSex",
          "xref": "x",
          "y": "VicRace",
          "yref": "y"
         },
         {
          "font": {
           "color": "#000000"
          },
          "showarrow": false,
          "text": "0.4668",
          "x": "OffRace",
          "xref": "x",
          "y": "VicRace",
          "yref": "y"
         },
         {
          "font": {
           "color": "#FFFFFF"
          },
          "showarrow": false,
          "text": "0.0003",
          "x": "OffCount",
          "xref": "x",
          "y": "VicRace",
          "yref": "y"
         },
         {
          "font": {
           "color": "#FFFFFF"
          },
          "showarrow": false,
          "text": "0.0149",
          "x": "Relationship",
          "xref": "x",
          "y": "VicRace",
          "yref": "y"
         },
         {
          "font": {
           "color": "#FFFFFF"
          },
          "showarrow": false,
          "text": "0.0005",
          "x": "OffSex",
          "xref": "x",
          "y": "VicSex",
          "yref": "y"
         },
         {
          "font": {
           "color": "#FFFFFF"
          },
          "showarrow": false,
          "text": "0.0061",
          "x": "OffRace",
          "xref": "x",
          "y": "VicSex",
          "yref": "y"
         },
         {
          "font": {
           "color": "#FFFFFF"
          },
          "showarrow": false,
          "text": "0.0134",
          "x": "OffCount",
          "xref": "x",
          "y": "VicSex",
          "yref": "y"
         },
         {
          "font": {
           "color": "#FFFFFF"
          },
          "showarrow": false,
          "text": "0.1351",
          "x": "Relationship",
          "xref": "x",
          "y": "VicSex",
          "yref": "y"
         },
         {
          "font": {
           "color": "#FFFFFF"
          },
          "showarrow": false,
          "text": "0.0115",
          "x": "OffSex",
          "xref": "x",
          "y": "Circumstance",
          "yref": "y"
         },
         {
          "font": {
           "color": "#FFFFFF"
          },
          "showarrow": false,
          "text": "0.0157",
          "x": "OffRace",
          "xref": "x",
          "y": "Circumstance",
          "yref": "y"
         },
         {
          "font": {
           "color": "#FFFFFF"
          },
          "showarrow": false,
          "text": "0.0281",
          "x": "OffCount",
          "xref": "x",
          "y": "Circumstance",
          "yref": "y"
         },
         {
          "font": {
           "color": "#FFFFFF"
          },
          "showarrow": false,
          "text": "0.0988",
          "x": "Relationship",
          "xref": "x",
          "y": "Circumstance",
          "yref": "y"
         }
        ],
        "autosize": false,
        "height": 1000,
        "template": {
         "data": {
          "bar": [
           {
            "error_x": {
             "color": "#2a3f5f"
            },
            "error_y": {
             "color": "#2a3f5f"
            },
            "marker": {
             "line": {
              "color": "#E5ECF6",
              "width": 0.5
             },
             "pattern": {
              "fillmode": "overlay",
              "size": 10,
              "solidity": 0.2
             }
            },
            "type": "bar"
           }
          ],
          "barpolar": [
           {
            "marker": {
             "line": {
              "color": "#E5ECF6",
              "width": 0.5
             },
             "pattern": {
              "fillmode": "overlay",
              "size": 10,
              "solidity": 0.2
             }
            },
            "type": "barpolar"
           }
          ],
          "carpet": [
           {
            "aaxis": {
             "endlinecolor": "#2a3f5f",
             "gridcolor": "white",
             "linecolor": "white",
             "minorgridcolor": "white",
             "startlinecolor": "#2a3f5f"
            },
            "baxis": {
             "endlinecolor": "#2a3f5f",
             "gridcolor": "white",
             "linecolor": "white",
             "minorgridcolor": "white",
             "startlinecolor": "#2a3f5f"
            },
            "type": "carpet"
           }
          ],
          "choropleth": [
           {
            "colorbar": {
             "outlinewidth": 0,
             "ticks": ""
            },
            "type": "choropleth"
           }
          ],
          "contour": [
           {
            "colorbar": {
             "outlinewidth": 0,
             "ticks": ""
            },
            "colorscale": [
             [
              0,
              "#0d0887"
             ],
             [
              0.1111111111111111,
              "#46039f"
             ],
             [
              0.2222222222222222,
              "#7201a8"
             ],
             [
              0.3333333333333333,
              "#9c179e"
             ],
             [
              0.4444444444444444,
              "#bd3786"
             ],
             [
              0.5555555555555556,
              "#d8576b"
             ],
             [
              0.6666666666666666,
              "#ed7953"
             ],
             [
              0.7777777777777778,
              "#fb9f3a"
             ],
             [
              0.8888888888888888,
              "#fdca26"
             ],
             [
              1,
              "#f0f921"
             ]
            ],
            "type": "contour"
           }
          ],
          "contourcarpet": [
           {
            "colorbar": {
             "outlinewidth": 0,
             "ticks": ""
            },
            "type": "contourcarpet"
           }
          ],
          "heatmap": [
           {
            "colorbar": {
             "outlinewidth": 0,
             "ticks": ""
            },
            "colorscale": [
             [
              0,
              "#0d0887"
             ],
             [
              0.1111111111111111,
              "#46039f"
             ],
             [
              0.2222222222222222,
              "#7201a8"
             ],
             [
              0.3333333333333333,
              "#9c179e"
             ],
             [
              0.4444444444444444,
              "#bd3786"
             ],
             [
              0.5555555555555556,
              "#d8576b"
             ],
             [
              0.6666666666666666,
              "#ed7953"
             ],
             [
              0.7777777777777778,
              "#fb9f3a"
             ],
             [
              0.8888888888888888,
              "#fdca26"
             ],
             [
              1,
              "#f0f921"
             ]
            ],
            "type": "heatmap"
           }
          ],
          "heatmapgl": [
           {
            "colorbar": {
             "outlinewidth": 0,
             "ticks": ""
            },
            "colorscale": [
             [
              0,
              "#0d0887"
             ],
             [
              0.1111111111111111,
              "#46039f"
             ],
             [
              0.2222222222222222,
              "#7201a8"
             ],
             [
              0.3333333333333333,
              "#9c179e"
             ],
             [
              0.4444444444444444,
              "#bd3786"
             ],
             [
              0.5555555555555556,
              "#d8576b"
             ],
             [
              0.6666666666666666,
              "#ed7953"
             ],
             [
              0.7777777777777778,
              "#fb9f3a"
             ],
             [
              0.8888888888888888,
              "#fdca26"
             ],
             [
              1,
              "#f0f921"
             ]
            ],
            "type": "heatmapgl"
           }
          ],
          "histogram": [
           {
            "marker": {
             "pattern": {
              "fillmode": "overlay",
              "size": 10,
              "solidity": 0.2
             }
            },
            "type": "histogram"
           }
          ],
          "histogram2d": [
           {
            "colorbar": {
             "outlinewidth": 0,
             "ticks": ""
            },
            "colorscale": [
             [
              0,
              "#0d0887"
             ],
             [
              0.1111111111111111,
              "#46039f"
             ],
             [
              0.2222222222222222,
              "#7201a8"
             ],
             [
              0.3333333333333333,
              "#9c179e"
             ],
             [
              0.4444444444444444,
              "#bd3786"
             ],
             [
              0.5555555555555556,
              "#d8576b"
             ],
             [
              0.6666666666666666,
              "#ed7953"
             ],
             [
              0.7777777777777778,
              "#fb9f3a"
             ],
             [
              0.8888888888888888,
              "#fdca26"
             ],
             [
              1,
              "#f0f921"
             ]
            ],
            "type": "histogram2d"
           }
          ],
          "histogram2dcontour": [
           {
            "colorbar": {
             "outlinewidth": 0,
             "ticks": ""
            },
            "colorscale": [
             [
              0,
              "#0d0887"
             ],
             [
              0.1111111111111111,
              "#46039f"
             ],
             [
              0.2222222222222222,
              "#7201a8"
             ],
             [
              0.3333333333333333,
              "#9c179e"
             ],
             [
              0.4444444444444444,
              "#bd3786"
             ],
             [
              0.5555555555555556,
              "#d8576b"
             ],
             [
              0.6666666666666666,
              "#ed7953"
             ],
             [
              0.7777777777777778,
              "#fb9f3a"
             ],
             [
              0.8888888888888888,
              "#fdca26"
             ],
             [
              1,
              "#f0f921"
             ]
            ],
            "type": "histogram2dcontour"
           }
          ],
          "mesh3d": [
           {
            "colorbar": {
             "outlinewidth": 0,
             "ticks": ""
            },
            "type": "mesh3d"
           }
          ],
          "parcoords": [
           {
            "line": {
             "colorbar": {
              "outlinewidth": 0,
              "ticks": ""
             }
            },
            "type": "parcoords"
           }
          ],
          "pie": [
           {
            "automargin": true,
            "type": "pie"
           }
          ],
          "scatter": [
           {
            "marker": {
             "colorbar": {
              "outlinewidth": 0,
              "ticks": ""
             }
            },
            "type": "scatter"
           }
          ],
          "scatter3d": [
           {
            "line": {
             "colorbar": {
              "outlinewidth": 0,
              "ticks": ""
             }
            },
            "marker": {
             "colorbar": {
              "outlinewidth": 0,
              "ticks": ""
             }
            },
            "type": "scatter3d"
           }
          ],
          "scattercarpet": [
           {
            "marker": {
             "colorbar": {
              "outlinewidth": 0,
              "ticks": ""
             }
            },
            "type": "scattercarpet"
           }
          ],
          "scattergeo": [
           {
            "marker": {
             "colorbar": {
              "outlinewidth": 0,
              "ticks": ""
             }
            },
            "type": "scattergeo"
           }
          ],
          "scattergl": [
           {
            "marker": {
             "colorbar": {
              "outlinewidth": 0,
              "ticks": ""
             }
            },
            "type": "scattergl"
           }
          ],
          "scattermapbox": [
           {
            "marker": {
             "colorbar": {
              "outlinewidth": 0,
              "ticks": ""
             }
            },
            "type": "scattermapbox"
           }
          ],
          "scatterpolar": [
           {
            "marker": {
             "colorbar": {
              "outlinewidth": 0,
              "ticks": ""
             }
            },
            "type": "scatterpolar"
           }
          ],
          "scatterpolargl": [
           {
            "marker": {
             "colorbar": {
              "outlinewidth": 0,
              "ticks": ""
             }
            },
            "type": "scatterpolargl"
           }
          ],
          "scatterternary": [
           {
            "marker": {
             "colorbar": {
              "outlinewidth": 0,
              "ticks": ""
             }
            },
            "type": "scatterternary"
           }
          ],
          "surface": [
           {
            "colorbar": {
             "outlinewidth": 0,
             "ticks": ""
            },
            "colorscale": [
             [
              0,
              "#0d0887"
             ],
             [
              0.1111111111111111,
              "#46039f"
             ],
             [
              0.2222222222222222,
              "#7201a8"
             ],
             [
              0.3333333333333333,
              "#9c179e"
             ],
             [
              0.4444444444444444,
              "#bd3786"
             ],
             [
              0.5555555555555556,
              "#d8576b"
             ],
             [
              0.6666666666666666,
              "#ed7953"
             ],
             [
              0.7777777777777778,
              "#fb9f3a"
             ],
             [
              0.8888888888888888,
              "#fdca26"
             ],
             [
              1,
              "#f0f921"
             ]
            ],
            "type": "surface"
           }
          ],
          "table": [
           {
            "cells": {
             "fill": {
              "color": "#EBF0F8"
             },
             "line": {
              "color": "white"
             }
            },
            "header": {
             "fill": {
              "color": "#C8D4E3"
             },
             "line": {
              "color": "white"
             }
            },
            "type": "table"
           }
          ]
         },
         "layout": {
          "annotationdefaults": {
           "arrowcolor": "#2a3f5f",
           "arrowhead": 0,
           "arrowwidth": 1
          },
          "autotypenumbers": "strict",
          "coloraxis": {
           "colorbar": {
            "outlinewidth": 0,
            "ticks": ""
           }
          },
          "colorscale": {
           "diverging": [
            [
             0,
             "#8e0152"
            ],
            [
             0.1,
             "#c51b7d"
            ],
            [
             0.2,
             "#de77ae"
            ],
            [
             0.3,
             "#f1b6da"
            ],
            [
             0.4,
             "#fde0ef"
            ],
            [
             0.5,
             "#f7f7f7"
            ],
            [
             0.6,
             "#e6f5d0"
            ],
            [
             0.7,
             "#b8e186"
            ],
            [
             0.8,
             "#7fbc41"
            ],
            [
             0.9,
             "#4d9221"
            ],
            [
             1,
             "#276419"
            ]
           ],
           "sequential": [
            [
             0,
             "#0d0887"
            ],
            [
             0.1111111111111111,
             "#46039f"
            ],
            [
             0.2222222222222222,
             "#7201a8"
            ],
            [
             0.3333333333333333,
             "#9c179e"
            ],
            [
             0.4444444444444444,
             "#bd3786"
            ],
            [
             0.5555555555555556,
             "#d8576b"
            ],
            [
             0.6666666666666666,
             "#ed7953"
            ],
            [
             0.7777777777777778,
             "#fb9f3a"
            ],
            [
             0.8888888888888888,
             "#fdca26"
            ],
            [
             1,
             "#f0f921"
            ]
           ],
           "sequentialminus": [
            [
             0,
             "#0d0887"
            ],
            [
             0.1111111111111111,
             "#46039f"
            ],
            [
             0.2222222222222222,
             "#7201a8"
            ],
            [
             0.3333333333333333,
             "#9c179e"
            ],
            [
             0.4444444444444444,
             "#bd3786"
            ],
            [
             0.5555555555555556,
             "#d8576b"
            ],
            [
             0.6666666666666666,
             "#ed7953"
            ],
            [
             0.7777777777777778,
             "#fb9f3a"
            ],
            [
             0.8888888888888888,
             "#fdca26"
            ],
            [
             1,
             "#f0f921"
            ]
           ]
          },
          "colorway": [
           "#636efa",
           "#EF553B",
           "#00cc96",
           "#ab63fa",
           "#FFA15A",
           "#19d3f3",
           "#FF6692",
           "#B6E880",
           "#FF97FF",
           "#FECB52"
          ],
          "font": {
           "color": "#2a3f5f"
          },
          "geo": {
           "bgcolor": "white",
           "lakecolor": "white",
           "landcolor": "#E5ECF6",
           "showlakes": true,
           "showland": true,
           "subunitcolor": "white"
          },
          "hoverlabel": {
           "align": "left"
          },
          "hovermode": "closest",
          "mapbox": {
           "style": "light"
          },
          "paper_bgcolor": "white",
          "plot_bgcolor": "#E5ECF6",
          "polar": {
           "angularaxis": {
            "gridcolor": "white",
            "linecolor": "white",
            "ticks": ""
           },
           "bgcolor": "#E5ECF6",
           "radialaxis": {
            "gridcolor": "white",
            "linecolor": "white",
            "ticks": ""
           }
          },
          "scene": {
           "xaxis": {
            "backgroundcolor": "#E5ECF6",
            "gridcolor": "white",
            "gridwidth": 2,
            "linecolor": "white",
            "showbackground": true,
            "ticks": "",
            "zerolinecolor": "white"
           },
           "yaxis": {
            "backgroundcolor": "#E5ECF6",
            "gridcolor": "white",
            "gridwidth": 2,
            "linecolor": "white",
            "showbackground": true,
            "ticks": "",
            "zerolinecolor": "white"
           },
           "zaxis": {
            "backgroundcolor": "#E5ECF6",
            "gridcolor": "white",
            "gridwidth": 2,
            "linecolor": "white",
            "showbackground": true,
            "ticks": "",
            "zerolinecolor": "white"
           }
          },
          "shapedefaults": {
           "line": {
            "color": "#2a3f5f"
           }
          },
          "ternary": {
           "aaxis": {
            "gridcolor": "white",
            "linecolor": "white",
            "ticks": ""
           },
           "baxis": {
            "gridcolor": "white",
            "linecolor": "white",
            "ticks": ""
           },
           "bgcolor": "#E5ECF6",
           "caxis": {
            "gridcolor": "white",
            "linecolor": "white",
            "ticks": ""
           }
          },
          "title": {
           "x": 0.05
          },
          "xaxis": {
           "automargin": true,
           "gridcolor": "white",
           "linecolor": "white",
           "ticks": "",
           "title": {
            "standoff": 15
           },
           "zerolinecolor": "white",
           "zerolinewidth": 2
          },
          "yaxis": {
           "automargin": true,
           "gridcolor": "white",
           "linecolor": "white",
           "ticks": "",
           "title": {
            "standoff": 15
           },
           "zerolinecolor": "white",
           "zerolinewidth": 2
          }
         }
        },
        "title": {
         "text": "Mutual Information scores"
        },
        "width": 1000,
        "xaxis": {
         "dtick": 1,
         "gridcolor": "rgb(0, 0, 0)",
         "side": "top",
         "ticks": ""
        },
        "yaxis": {
         "dtick": 1,
         "ticks": "",
         "ticksuffix": "  "
        }
       }
      }
     },
     "metadata": {},
     "output_type": "display_data"
    }
   ],
   "source": [
    "from sklearn.metrics import normalized_mutual_info_score\n",
    "import plotly.figure_factory as ff\n",
    "sample_inputs = ['State', 'Weapon', 'VicCount', 'VicRace', 'VicSex', 'Circumstance']\n",
    "sample_outputs = ['OffSex', 'OffRace', 'OffCount', 'Relationship']\n",
    "mutual_info_scores = np.zeros(shape=(6, 4))\n",
    "for i, input in enumerate(sample_inputs):\n",
    "    for j, output in enumerate(sample_outputs):\n",
    "        mutual_info = normalized_mutual_info_score(df[input], df[output])\n",
    "        mutual_info_scores[i][j] = mutual_info\n",
    "\n",
    "mi_rounded = np.around(mutual_info_scores, decimals=4)\n",
    "fig = ff.create_annotated_heatmap(mutual_info_scores,\n",
    "                x=sample_outputs,\n",
    "                y=sample_inputs,\n",
    "                annotation_text=mi_rounded\n",
    "            )\n",
    "#fig.update_xaxes(side=\"top\")\n",
    "fig.update_layout( title_text='Mutual Information scores',\n",
    "                    autosize=False,\n",
    "                    width=1000,\n",
    "                    height=1000\n",
    "                    )\n",
    "fig.show()"
   ]
  }
 ],
 "metadata": {
  "interpreter": {
   "hash": "d06a35f6432bcea124c520d36814be75a6dd5ed4335e0c829924d510b7f0b7dd"
  },
  "kernelspec": {
   "display_name": "Python 3.8.8 64-bit ('base': conda)",
   "name": "python3"
  },
  "language_info": {
   "codemirror_mode": {
    "name": "ipython",
    "version": 3
   },
   "file_extension": ".py",
   "mimetype": "text/x-python",
   "name": "python",
   "nbconvert_exporter": "python",
   "pygments_lexer": "ipython3",
   "version": "3.8.8"
  },
  "orig_nbformat": 4
 },
 "nbformat": 4,
 "nbformat_minor": 2
}
