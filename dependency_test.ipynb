{
 "cells": [
  {
   "cell_type": "code",
   "execution_count": 4,
   "metadata": {},
   "outputs": [
    {
     "ename": "ImportError",
     "evalue": "cannot import name 'heatmap_chi' from 'functions_dependency_test' (/Users/thomas/Documents/Visual Studio Code/MRP Group 16/MA1-Development-of-XAI-based-framework-to-Understand-Predict-and-Link-Homicides/functions_dependency_test.py)",
     "output_type": "error",
     "traceback": [
      "\u001b[0;31m---------------------------------------------------------------------------\u001b[0m",
      "\u001b[0;31mImportError\u001b[0m                               Traceback (most recent call last)",
      "\u001b[0;32m<ipython-input-4-afd18a74cf3b>\u001b[0m in \u001b[0;36m<module>\u001b[0;34m\u001b[0m\n\u001b[1;32m      6\u001b[0m \u001b[0;32mfrom\u001b[0m \u001b[0mtabulate\u001b[0m \u001b[0;32mimport\u001b[0m \u001b[0mtabulate\u001b[0m\u001b[0;34m\u001b[0m\u001b[0;34m\u001b[0m\u001b[0m\n\u001b[1;32m      7\u001b[0m \u001b[0;32mfrom\u001b[0m \u001b[0mtyping\u001b[0m \u001b[0;32mimport\u001b[0m \u001b[0mOptional\u001b[0m\u001b[0;34m\u001b[0m\u001b[0;34m\u001b[0m\u001b[0m\n\u001b[0;32m----> 8\u001b[0;31m \u001b[0;32mfrom\u001b[0m \u001b[0mfunctions_dependency_test\u001b[0m \u001b[0;32mimport\u001b[0m \u001b[0mfind_dependent_chi\u001b[0m\u001b[0;34m,\u001b[0m \u001b[0mp_of_chi_squared\u001b[0m\u001b[0;34m,\u001b[0m \u001b[0mheatmap_chi\u001b[0m\u001b[0;34m,\u001b[0m \u001b[0mheatmap_mutual_info\u001b[0m\u001b[0;34m\u001b[0m\u001b[0;34m\u001b[0m\u001b[0m\n\u001b[0m\u001b[1;32m      9\u001b[0m \u001b[0;32mfrom\u001b[0m \u001b[0mData_transformations\u001b[0m \u001b[0;32mimport\u001b[0m \u001b[0mfeature_cleaning\u001b[0m\u001b[0;34m,\u001b[0m \u001b[0mvalues_cleaning\u001b[0m\u001b[0;34m,\u001b[0m \u001b[0mmissing_values_removing\u001b[0m\u001b[0;34m\u001b[0m\u001b[0;34m\u001b[0m\u001b[0m\n\u001b[1;32m     10\u001b[0m \u001b[0mplt\u001b[0m\u001b[0;34m.\u001b[0m\u001b[0mstyle\u001b[0m\u001b[0;34m.\u001b[0m\u001b[0muse\u001b[0m\u001b[0;34m(\u001b[0m\u001b[0;34m\"seaborn\"\u001b[0m\u001b[0;34m)\u001b[0m\u001b[0;34m\u001b[0m\u001b[0;34m\u001b[0m\u001b[0m\n",
      "\u001b[0;31mImportError\u001b[0m: cannot import name 'heatmap_chi' from 'functions_dependency_test' (/Users/thomas/Documents/Visual Studio Code/MRP Group 16/MA1-Development-of-XAI-based-framework-to-Understand-Predict-and-Link-Homicides/functions_dependency_test.py)"
     ]
    }
   ],
   "source": [
    "import numpy as np\n",
    "import pandas as pd\n",
    "import matplotlib.pyplot as plt\n",
    "import zipfile\n",
    "import seaborn as sns\n",
    "from tabulate import tabulate\n",
    "from typing import Optional\n",
    "from functions_dependency_test import find_dependent_chi, p_of_chi_squared, heatmap_chi, heatmap_mutual_info\n",
    "from Data_transformations import feature_cleaning, values_cleaning, missing_values_removing\n",
    "plt.style.use(\"seaborn\")"
   ]
  },
  {
   "cell_type": "code",
   "execution_count": 40,
   "metadata": {},
   "outputs": [
    {
     "name": "stderr",
     "output_type": "stream",
     "text": [
      "/Users/thomas/opt/anaconda3/lib/python3.8/site-packages/IPython/core/interactiveshell.py:3165: DtypeWarning: Columns (9) have mixed types.Specify dtype option on import or set low_memory=False.\n",
      "  has_raised = await self.run_ast_nodes(code_ast.body, cell_name,\n"
     ]
    }
   ],
   "source": [
    "df = pd.read_csv('Murder_Data.zip', index_col=0, compression='zip')\n",
    "df.insert(1, 'County', df['CNTYFIPS'].map(lambda x : str(x).split(',')[0]), True)\n",
    "df.drop(\"CNTYFIPS\",axis = 1, inplace= True) # redundant, onlyy keeping the county part\n",
    "df.drop(\"StateName\",axis = 1, inplace= True)  # redundant, contains state\n",
    "df.drop(\"Ori\",axis = 1, inplace= True)  # redundant, contains state + county + agentcy nb\n",
    "df.insert(3, 'Area',df['MSA'].map(lambda x :  str(x).split(',')[0] ) ,True)\n",
    "df.drop('MSA',axis = 1,inplace=True) # rendundant only the state, keeping the metropolitant statistical area\n",
    "# split File Date in Day-Month-Year columns\n",
    "nan_indexes = df[\"FileDate\"].isna()\n",
    "df['FileDate'].fillna(0,inplace = True)\n",
    "df['FileDate'] = df['FileDate'].astype(int)\n",
    "df['FileDate'] = df['FileDate'].astype(str)\n",
    "df.insert(1, 'File Year', df['FileDate'].map(lambda x : x[len(x)-2:len(x)]), True)\n",
    "df.insert(1, 'File Day', df['FileDate'].map(lambda x : x[len(x)-4:len(x)-2]), True)\n",
    "df.insert(1, 'File Month', df['FileDate'].map(lambda x : x[0:len(x)-4]), True)\n",
    "df.loc[nan_indexes,\"File Year\"] = np.NaN\n",
    "df.loc[nan_indexes,\"File Day\"] = np.NaN\n",
    "df.loc[nan_indexes,\"File Month\"] = np.NaN\n",
    "df.drop(\"FileDate\",axis = 1,inplace = True)\n",
    "df.drop(\"Incident\",axis = 1,inplace = True) # incient number of the month, for a specific county useless for our application\n",
    "df.drop(\"Situation\",axis = 1,inplace = True) # redundant, info already contained in OffCount and VicCount\n",
    "\n",
    "# data_pp = values_cleaning(feature_cleaning(data_original))\n",
    "# data_pp.head()\n",
    "\n",
    "# drop ID column, as it has too many values -> computation of Chi-squared takes too long\n",
    "# data = pd.read_csv('non_empty_sample.csv', index_col=0)\n",
    "# data_mod = data.drop(['ID'], axis = 1)"
   ]
  },
  {
   "cell_type": "code",
   "execution_count": 5,
   "metadata": {},
   "outputs": [
    {
     "ename": "NameError",
     "evalue": "name 'heatmap_chi' is not defined",
     "output_type": "error",
     "traceback": [
      "\u001b[0;31m---------------------------------------------------------------------------\u001b[0m",
      "\u001b[0;31mNameError\u001b[0m                                 Traceback (most recent call last)",
      "\u001b[0;32m<ipython-input-5-1e020713e1ba>\u001b[0m in \u001b[0;36m<module>\u001b[0;34m\u001b[0m\n\u001b[0;32m----> 1\u001b[0;31m \u001b[0mheatmap_chi\u001b[0m\u001b[0;34m(\u001b[0m\u001b[0mdf\u001b[0m\u001b[0;34m)\u001b[0m\u001b[0;34m\u001b[0m\u001b[0;34m\u001b[0m\u001b[0m\n\u001b[0m",
      "\u001b[0;31mNameError\u001b[0m: name 'heatmap_chi' is not defined"
     ]
    }
   ],
   "source": [
    "heatmap_chi(df)"
   ]
  },
  {
   "cell_type": "code",
   "execution_count": null,
   "metadata": {},
   "outputs": [],
   "source": [
    "heatmap_mutual_info(df)"
   ]
  }
 ],
 "metadata": {
  "interpreter": {
   "hash": "d06a35f6432bcea124c520d36814be75a6dd5ed4335e0c829924d510b7f0b7dd"
  },
  "kernelspec": {
   "display_name": "Python 3.8.8 64-bit ('base': conda)",
   "name": "python3"
  },
  "language_info": {
   "codemirror_mode": {
    "name": "ipython",
    "version": 3
   },
   "file_extension": ".py",
   "mimetype": "text/x-python",
   "name": "python",
   "nbconvert_exporter": "python",
   "pygments_lexer": "ipython3",
   "version": "3.8.8"
  },
  "orig_nbformat": 4
 },
 "nbformat": 4,
 "nbformat_minor": 2
}
