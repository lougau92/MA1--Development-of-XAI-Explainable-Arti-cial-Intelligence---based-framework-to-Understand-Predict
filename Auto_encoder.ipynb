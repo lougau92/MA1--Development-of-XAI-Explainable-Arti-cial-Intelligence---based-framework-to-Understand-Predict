{
  "nbformat": 4,
  "nbformat_minor": 0,
  "metadata": {
    "colab": {
      "name": "Auto-encoder",
      "provenance": []
    },
    "kernelspec": {
      "display_name": "Python 3",
      "name": "python3"
    },
    "language_info": {
      "name": "python"
    }
  },
  "cells": [
    {
      "cell_type": "code",
      "metadata": {
        "colab": {
          "base_uri": "https://localhost:8080/"
        },
        "id": "OtLUQZznwTfH",
        "outputId": "7109843f-cc0b-430a-ac02-cce43428dfad"
      },
      "source": [
        "from google.colab import drive\n",
        "drive.mount('/content/drive/')"
      ],
      "execution_count": 14,
      "outputs": [
        {
          "output_type": "stream",
          "name": "stdout",
          "text": [
            "Drive already mounted at /content/drive/; to attempt to forcibly remount, call drive.mount(\"/content/drive/\", force_remount=True).\n"
          ]
        }
      ]
    },
    {
      "cell_type": "code",
      "metadata": {
        "id": "dXyEFKJSwb99"
      },
      "source": [
        "import tensorflow as tf\n",
        "import pandas as pd\n",
        "import matplotlib.pyplot as plt\n",
        "import math\n",
        "import numpy as np\n",
        "import time\n",
        "from sklearn.model_selection import train_test_split\n",
        "from scipy import stats\n"
      ],
      "execution_count": 37,
      "outputs": []
    },
    {
      "cell_type": "code",
      "metadata": {
        "colab": {
          "base_uri": "https://localhost:8080/"
        },
        "id": "30gA88F7wcKl",
        "outputId": "418b25b6-29dc-45ed-ed8b-99b6c995b1fe"
      },
      "source": [
        "# df_numeric = pd.read_csv('/content/drive/MyDrive/DKE/project 1-1/auto_data.csv',index_col=0)\n",
        "# print(\"sample nb= \",len(df_numeric))\n",
        "# print(\"vars nb= \",len(df_numeric.columns))\n",
        "df = pd.read_csv('/content/drive/MyDrive/DKE/project 1-1/SHR76_20.csv',index_col=0) \n",
        "print(\"sample nb= \",len(df))\n",
        "print(\"vars nb= \",len(df.columns))"
      ],
      "execution_count": 16,
      "outputs": [
        {
          "output_type": "stream",
          "name": "stderr",
          "text": [
            "/usr/local/lib/python3.7/dist-packages/IPython/core/interactiveshell.py:2718: DtypeWarning: Columns (9) have mixed types.Specify dtype option on import or set low_memory=False.\n",
            "  interactivity=interactivity, compiler=compiler, result=result)\n"
          ]
        },
        {
          "output_type": "stream",
          "name": "stdout",
          "text": [
            "sample nb=  827219\n",
            "vars nb=  30\n"
          ]
        }
      ]
    },
    {
      "cell_type": "code",
      "metadata": {
        "id": "xavOvREPzhpV"
      },
      "source": [
        "# Feature Cleaning\n",
        "df.insert(1, 'County', df['CNTYFIPS'].map(lambda x : str(x).split(',')[0]), True)\n",
        "df.drop(\"CNTYFIPS\",axis = 1, inplace= True) # redundant, onlyy keeping the county part\n",
        "df.drop(\"StateName\",axis = 1, inplace= True)  # redundant, contains state\n",
        "df.drop(\"Ori\",axis = 1, inplace= True)  # redundant, contains state + county + agentcy nb\n",
        "df.insert(3, 'Area',df['MSA'].map(lambda x :  str(x).split(',')[0] ) ,True)\n",
        "df.drop('MSA',axis = 1,inplace=True) # rendundant only the state, keeping the metropolitant statistical area\n",
        "df['OffAge'].replace(999, np.NaN, inplace=True) # replacing 999 ages with Nan\n",
        "\n",
        "# split File Date in Day-Month-Year columns\n",
        "nan_indexes = df[\"FileDate\"].isna()\n",
        "df['FileDate'].fillna(0,inplace = True)\n",
        "df['FileDate'] = df['FileDate'].astype(int)\n",
        "df['FileDate'] = df['FileDate'].astype(str)\n",
        "df.insert(1, 'File Year', df['FileDate'].map(lambda x : x[len(x)-2:len(x)]), True)\n",
        "df.insert(1, 'File Day', df['FileDate'].map(lambda x : x[len(x)-4:len(x)-2]), True)\n",
        "df.insert(1, 'File Month', df['FileDate'].map(lambda x : x[0:len(x)-4]), True)\n",
        "df.loc[nan_indexes,\"File Year\"] = np.NaN\n",
        "df.loc[nan_indexes,\"File Day\"] = np.NaN\n",
        "df.loc[nan_indexes,\"File Month\"] = np.NaN\n",
        "df.drop(\"FileDate\",axis = 1,inplace = True)\n",
        "\n",
        "df.drop(\"Incident\",axis = 1,inplace = True) # incient number of the month, for a specific county useless for our application\n",
        "\n",
        "df.drop(\"Situation\",axis = 1,inplace = True) # redundant, info already contained in OffCount and VicCount\n",
        "\n",
        "# drop source ?"
      ],
      "execution_count": 17,
      "outputs": []
    },
    {
      "cell_type": "code",
      "metadata": {
        "colab": {
          "base_uri": "https://localhost:8080/"
        },
        "id": "5uJOmX5oVMtt",
        "outputId": "41dd140c-dd14-4ddf-ce1f-09963341a114"
      },
      "source": [
        "print(df[:].isnull().sum().sort_values(ascending = False))"
      ],
      "execution_count": 18,
      "outputs": [
        {
          "output_type": "stream",
          "name": "stdout",
          "text": [
            "Subcircum       794768\n",
            "OffAge          274871\n",
            "File Month        2510\n",
            "File Day          2510\n",
            "File Year         2510\n",
            "OffCount             0\n",
            "ActionType           0\n",
            "State                0\n",
            "Agency               0\n",
            "Area                 0\n",
            "Agentype             0\n",
            "Source               0\n",
            "Solved               0\n",
            "Year                 0\n",
            "Month                0\n",
            "Homicide             0\n",
            "VicCount             0\n",
            "VicAge               0\n",
            "VicSex               0\n",
            "VicRace              0\n",
            "VicEthnic            0\n",
            "OffSex               0\n",
            "OffRace              0\n",
            "OffEthnic            0\n",
            "Weapon               0\n",
            "Relationship         0\n",
            "Circumstance         0\n",
            "County               0\n",
            "dtype: int64\n"
          ]
        }
      ]
    },
    {
      "cell_type": "code",
      "metadata": {
        "colab": {
          "base_uri": "https://localhost:8080/"
        },
        "id": "pRr86TRRUgIk",
        "outputId": "3807b7ce-4c95-42c9-ef18-dbba62c86e88"
      },
      "source": [
        "# df_sub = df\n",
        "# if i do not drop Subcircum -> i get to only 12.000 data. Worth it?\n",
        "df_sub = df.drop([\"Subcircum\",'File Month','File Year','File Day'],axis = 1)\n",
        "\n",
        "print(len(df_sub))\n",
        "df_sub_full = df_sub.dropna()\n",
        "print(len(df_sub_full))\n",
        "\n",
        "for col in df_sub.columns:\n",
        "    try:\n",
        "        df_sub_full = df_sub_full[df_sub_full[col].str.contains(\"nknown|undetermined|not specified\",regex = True)==False]\n",
        "    except:\n",
        "            a=0\n",
        "print(len(df_sub_full))"
      ],
      "execution_count": 19,
      "outputs": [
        {
          "output_type": "stream",
          "name": "stdout",
          "text": [
            "827219\n",
            "552348\n",
            "185516\n"
          ]
        }
      ]
    },
    {
      "cell_type": "code",
      "metadata": {
        "id": "T49gPjgQz8jx"
      },
      "source": [
        "df_numeric = df_sub_full.copy(deep=True)\n",
        "\n",
        "for col in df_sub_full.columns:\n",
        "  # if(col in ['File Month','File Year','File Day']):\n",
        "  #   df_numeric[col] = pd.to_numeric(df[col])\n",
        "  #   print(col)\n",
        "  if df[col].dtype == 'object':\n",
        "    labels = df_numeric[col].unique().tolist()\n",
        "    mapping = dict( zip(labels,range(len(labels))) )\n",
        "    df_numeric.replace({col: mapping},inplace=True)"
      ],
      "execution_count": 20,
      "outputs": []
    },
    {
      "cell_type": "code",
      "metadata": {
        "colab": {
          "base_uri": "https://localhost:8080/"
        },
        "id": "BhPPZtANFuAK",
        "outputId": "8cc91b95-6e7f-41c9-b63d-f00469fd7446"
      },
      "source": [
        "df_numeric.dtypes"
      ],
      "execution_count": 21,
      "outputs": [
        {
          "output_type": "execute_result",
          "data": {
            "text/plain": [
              "County            int64\n",
              "State             int64\n",
              "Agency            int64\n",
              "Area              int64\n",
              "Agentype          int64\n",
              "Source            int64\n",
              "Solved            int64\n",
              "Year              int64\n",
              "Month             int64\n",
              "ActionType        int64\n",
              "Homicide          int64\n",
              "VicAge            int64\n",
              "VicSex            int64\n",
              "VicRace           int64\n",
              "VicEthnic         int64\n",
              "OffAge          float64\n",
              "OffSex            int64\n",
              "OffRace           int64\n",
              "OffEthnic         int64\n",
              "Weapon            int64\n",
              "Relationship      int64\n",
              "Circumstance      int64\n",
              "VicCount          int64\n",
              "OffCount          int64\n",
              "dtype: object"
            ]
          },
          "metadata": {},
          "execution_count": 21
        }
      ]
    },
    {
      "cell_type": "code",
      "metadata": {
        "colab": {
          "base_uri": "https://localhost:8080/",
          "height": 937
        },
        "id": "VLBsIxZwCmT1",
        "outputId": "c1ad86c3-9635-4999-ad7a-48c3105a153e"
      },
      "source": [
        "df.head(10)"
      ],
      "execution_count": 22,
      "outputs": [
        {
          "output_type": "execute_result",
          "data": {
            "text/html": [
              "<div>\n",
              "<style scoped>\n",
              "    .dataframe tbody tr th:only-of-type {\n",
              "        vertical-align: middle;\n",
              "    }\n",
              "\n",
              "    .dataframe tbody tr th {\n",
              "        vertical-align: top;\n",
              "    }\n",
              "\n",
              "    .dataframe thead th {\n",
              "        text-align: right;\n",
              "    }\n",
              "</style>\n",
              "<table border=\"1\" class=\"dataframe\">\n",
              "  <thead>\n",
              "    <tr style=\"text-align: right;\">\n",
              "      <th></th>\n",
              "      <th>County</th>\n",
              "      <th>File Month</th>\n",
              "      <th>File Day</th>\n",
              "      <th>File Year</th>\n",
              "      <th>State</th>\n",
              "      <th>Agency</th>\n",
              "      <th>Area</th>\n",
              "      <th>Agentype</th>\n",
              "      <th>Source</th>\n",
              "      <th>Solved</th>\n",
              "      <th>Year</th>\n",
              "      <th>Month</th>\n",
              "      <th>ActionType</th>\n",
              "      <th>Homicide</th>\n",
              "      <th>VicAge</th>\n",
              "      <th>VicSex</th>\n",
              "      <th>VicRace</th>\n",
              "      <th>VicEthnic</th>\n",
              "      <th>OffAge</th>\n",
              "      <th>OffSex</th>\n",
              "      <th>OffRace</th>\n",
              "      <th>OffEthnic</th>\n",
              "      <th>Weapon</th>\n",
              "      <th>Relationship</th>\n",
              "      <th>Circumstance</th>\n",
              "      <th>Subcircum</th>\n",
              "      <th>VicCount</th>\n",
              "      <th>OffCount</th>\n",
              "    </tr>\n",
              "    <tr>\n",
              "      <th>ID</th>\n",
              "      <th></th>\n",
              "      <th></th>\n",
              "      <th></th>\n",
              "      <th></th>\n",
              "      <th></th>\n",
              "      <th></th>\n",
              "      <th></th>\n",
              "      <th></th>\n",
              "      <th></th>\n",
              "      <th></th>\n",
              "      <th></th>\n",
              "      <th></th>\n",
              "      <th></th>\n",
              "      <th></th>\n",
              "      <th></th>\n",
              "      <th></th>\n",
              "      <th></th>\n",
              "      <th></th>\n",
              "      <th></th>\n",
              "      <th></th>\n",
              "      <th></th>\n",
              "      <th></th>\n",
              "      <th></th>\n",
              "      <th></th>\n",
              "      <th></th>\n",
              "      <th></th>\n",
              "      <th></th>\n",
              "      <th></th>\n",
              "    </tr>\n",
              "  </thead>\n",
              "  <tbody>\n",
              "    <tr>\n",
              "      <th>197609001AL00400</th>\n",
              "      <td>Autauga</td>\n",
              "      <td>3</td>\n",
              "      <td>01</td>\n",
              "      <td>80</td>\n",
              "      <td>Alabama</td>\n",
              "      <td>Autauga County</td>\n",
              "      <td>Montgomery</td>\n",
              "      <td>Sheriff</td>\n",
              "      <td>FBI</td>\n",
              "      <td>No</td>\n",
              "      <td>1976</td>\n",
              "      <td>September</td>\n",
              "      <td>Normal update</td>\n",
              "      <td>Murder and non-negligent manslaughter</td>\n",
              "      <td>30</td>\n",
              "      <td>Male</td>\n",
              "      <td>Black</td>\n",
              "      <td>Unknown or not reported</td>\n",
              "      <td>NaN</td>\n",
              "      <td>Unknown</td>\n",
              "      <td>Unknown</td>\n",
              "      <td>Unknown or not reported</td>\n",
              "      <td>Other or type unknown</td>\n",
              "      <td>Relationship not determined</td>\n",
              "      <td>Other</td>\n",
              "      <td>NaN</td>\n",
              "      <td>0</td>\n",
              "      <td>0</td>\n",
              "    </tr>\n",
              "    <tr>\n",
              "      <th>197701001AL00400</th>\n",
              "      <td>Autauga</td>\n",
              "      <td>3</td>\n",
              "      <td>01</td>\n",
              "      <td>80</td>\n",
              "      <td>Alabama</td>\n",
              "      <td>Autauga County</td>\n",
              "      <td>Montgomery</td>\n",
              "      <td>Sheriff</td>\n",
              "      <td>FBI</td>\n",
              "      <td>Yes</td>\n",
              "      <td>1977</td>\n",
              "      <td>January</td>\n",
              "      <td>Normal update</td>\n",
              "      <td>Murder and non-negligent manslaughter</td>\n",
              "      <td>65</td>\n",
              "      <td>Female</td>\n",
              "      <td>Black</td>\n",
              "      <td>Unknown or not reported</td>\n",
              "      <td>62.0</td>\n",
              "      <td>Male</td>\n",
              "      <td>Black</td>\n",
              "      <td>Unknown or not reported</td>\n",
              "      <td>Other or type unknown</td>\n",
              "      <td>Acquaintance</td>\n",
              "      <td>Brawl due to influence of alcohol</td>\n",
              "      <td>NaN</td>\n",
              "      <td>0</td>\n",
              "      <td>0</td>\n",
              "    </tr>\n",
              "    <tr>\n",
              "      <th>197703001AL00400</th>\n",
              "      <td>Autauga</td>\n",
              "      <td>3</td>\n",
              "      <td>01</td>\n",
              "      <td>80</td>\n",
              "      <td>Alabama</td>\n",
              "      <td>Autauga County</td>\n",
              "      <td>Montgomery</td>\n",
              "      <td>Sheriff</td>\n",
              "      <td>FBI</td>\n",
              "      <td>Yes</td>\n",
              "      <td>1977</td>\n",
              "      <td>March</td>\n",
              "      <td>Normal update</td>\n",
              "      <td>Murder and non-negligent manslaughter</td>\n",
              "      <td>48</td>\n",
              "      <td>Male</td>\n",
              "      <td>White</td>\n",
              "      <td>Unknown or not reported</td>\n",
              "      <td>52.0</td>\n",
              "      <td>Male</td>\n",
              "      <td>White</td>\n",
              "      <td>Unknown or not reported</td>\n",
              "      <td>Handgun - pistol, revolver, etc</td>\n",
              "      <td>Acquaintance</td>\n",
              "      <td>Other arguments</td>\n",
              "      <td>NaN</td>\n",
              "      <td>0</td>\n",
              "      <td>1</td>\n",
              "    </tr>\n",
              "    <tr>\n",
              "      <th>197703001AL00401</th>\n",
              "      <td>Autauga</td>\n",
              "      <td>3</td>\n",
              "      <td>01</td>\n",
              "      <td>80</td>\n",
              "      <td>Alabama</td>\n",
              "      <td>Prattville</td>\n",
              "      <td>Montgomery</td>\n",
              "      <td>Municipal police</td>\n",
              "      <td>FBI</td>\n",
              "      <td>Yes</td>\n",
              "      <td>1977</td>\n",
              "      <td>March</td>\n",
              "      <td>Normal update</td>\n",
              "      <td>Murder and non-negligent manslaughter</td>\n",
              "      <td>27</td>\n",
              "      <td>Male</td>\n",
              "      <td>Black</td>\n",
              "      <td>Unknown or not reported</td>\n",
              "      <td>22.0</td>\n",
              "      <td>Female</td>\n",
              "      <td>Black</td>\n",
              "      <td>Unknown or not reported</td>\n",
              "      <td>Shotgun</td>\n",
              "      <td>Husband</td>\n",
              "      <td>Other arguments</td>\n",
              "      <td>NaN</td>\n",
              "      <td>0</td>\n",
              "      <td>0</td>\n",
              "    </tr>\n",
              "    <tr>\n",
              "      <th>197708001AL00400</th>\n",
              "      <td>Autauga</td>\n",
              "      <td>3</td>\n",
              "      <td>01</td>\n",
              "      <td>80</td>\n",
              "      <td>Alabama</td>\n",
              "      <td>Autauga County</td>\n",
              "      <td>Montgomery</td>\n",
              "      <td>Sheriff</td>\n",
              "      <td>FBI</td>\n",
              "      <td>Yes</td>\n",
              "      <td>1977</td>\n",
              "      <td>August</td>\n",
              "      <td>Normal update</td>\n",
              "      <td>Murder and non-negligent manslaughter</td>\n",
              "      <td>17</td>\n",
              "      <td>Female</td>\n",
              "      <td>Black</td>\n",
              "      <td>Unknown or not reported</td>\n",
              "      <td>21.0</td>\n",
              "      <td>Male</td>\n",
              "      <td>Black</td>\n",
              "      <td>Unknown or not reported</td>\n",
              "      <td>Knife or cutting instrument</td>\n",
              "      <td>Acquaintance</td>\n",
              "      <td>Circumstances undetermined</td>\n",
              "      <td>NaN</td>\n",
              "      <td>0</td>\n",
              "      <td>0</td>\n",
              "    </tr>\n",
              "    <tr>\n",
              "      <th>197710001AL00400</th>\n",
              "      <td>Autauga</td>\n",
              "      <td>3</td>\n",
              "      <td>01</td>\n",
              "      <td>80</td>\n",
              "      <td>Alabama</td>\n",
              "      <td>Autauga County</td>\n",
              "      <td>Montgomery</td>\n",
              "      <td>Sheriff</td>\n",
              "      <td>FBI</td>\n",
              "      <td>Yes</td>\n",
              "      <td>1977</td>\n",
              "      <td>October</td>\n",
              "      <td>Normal update</td>\n",
              "      <td>Murder and non-negligent manslaughter</td>\n",
              "      <td>62</td>\n",
              "      <td>Male</td>\n",
              "      <td>Asian</td>\n",
              "      <td>Unknown or not reported</td>\n",
              "      <td>80.0</td>\n",
              "      <td>Male</td>\n",
              "      <td>Black</td>\n",
              "      <td>Unknown or not reported</td>\n",
              "      <td>Shotgun</td>\n",
              "      <td>Stranger</td>\n",
              "      <td>Robbery</td>\n",
              "      <td>NaN</td>\n",
              "      <td>0</td>\n",
              "      <td>0</td>\n",
              "    </tr>\n",
              "    <tr>\n",
              "      <th>197805001AL00400</th>\n",
              "      <td>Autauga</td>\n",
              "      <td>3</td>\n",
              "      <td>01</td>\n",
              "      <td>80</td>\n",
              "      <td>Alabama</td>\n",
              "      <td>Autauga County</td>\n",
              "      <td>Montgomery</td>\n",
              "      <td>Sheriff</td>\n",
              "      <td>FBI</td>\n",
              "      <td>Yes</td>\n",
              "      <td>1978</td>\n",
              "      <td>May</td>\n",
              "      <td>Normal update</td>\n",
              "      <td>Murder and non-negligent manslaughter</td>\n",
              "      <td>54</td>\n",
              "      <td>Male</td>\n",
              "      <td>Black</td>\n",
              "      <td>Unknown or not reported</td>\n",
              "      <td>54.0</td>\n",
              "      <td>Female</td>\n",
              "      <td>Black</td>\n",
              "      <td>Unknown or not reported</td>\n",
              "      <td>Knife or cutting instrument</td>\n",
              "      <td>Husband</td>\n",
              "      <td>Circumstances undetermined</td>\n",
              "      <td>NaN</td>\n",
              "      <td>0</td>\n",
              "      <td>2</td>\n",
              "    </tr>\n",
              "    <tr>\n",
              "      <th>197812001AL00400</th>\n",
              "      <td>Autauga</td>\n",
              "      <td>3</td>\n",
              "      <td>01</td>\n",
              "      <td>80</td>\n",
              "      <td>Alabama</td>\n",
              "      <td>Autauga County</td>\n",
              "      <td>Montgomery</td>\n",
              "      <td>Sheriff</td>\n",
              "      <td>FBI</td>\n",
              "      <td>Yes</td>\n",
              "      <td>1978</td>\n",
              "      <td>December</td>\n",
              "      <td>Normal update</td>\n",
              "      <td>Murder and non-negligent manslaughter</td>\n",
              "      <td>48</td>\n",
              "      <td>Female</td>\n",
              "      <td>White</td>\n",
              "      <td>Unknown or not reported</td>\n",
              "      <td>26.0</td>\n",
              "      <td>Male</td>\n",
              "      <td>White</td>\n",
              "      <td>Unknown or not reported</td>\n",
              "      <td>Blunt object - hammer, club, etc</td>\n",
              "      <td>Acquaintance</td>\n",
              "      <td>Other</td>\n",
              "      <td>NaN</td>\n",
              "      <td>0</td>\n",
              "      <td>0</td>\n",
              "    </tr>\n",
              "    <tr>\n",
              "      <th>197902001AL00400</th>\n",
              "      <td>Autauga</td>\n",
              "      <td>3</td>\n",
              "      <td>01</td>\n",
              "      <td>80</td>\n",
              "      <td>Alabama</td>\n",
              "      <td>Autauga County</td>\n",
              "      <td>Montgomery</td>\n",
              "      <td>Sheriff</td>\n",
              "      <td>FBI</td>\n",
              "      <td>No</td>\n",
              "      <td>1979</td>\n",
              "      <td>February</td>\n",
              "      <td>Normal update</td>\n",
              "      <td>Murder and non-negligent manslaughter</td>\n",
              "      <td>999</td>\n",
              "      <td>Female</td>\n",
              "      <td>Unknown</td>\n",
              "      <td>Unknown or not reported</td>\n",
              "      <td>NaN</td>\n",
              "      <td>Unknown</td>\n",
              "      <td>Unknown</td>\n",
              "      <td>Unknown or not reported</td>\n",
              "      <td>Other or type unknown</td>\n",
              "      <td>Relationship not determined</td>\n",
              "      <td>Circumstances undetermined</td>\n",
              "      <td>NaN</td>\n",
              "      <td>0</td>\n",
              "      <td>0</td>\n",
              "    </tr>\n",
              "    <tr>\n",
              "      <th>197912001AL00401</th>\n",
              "      <td>Autauga</td>\n",
              "      <td>3</td>\n",
              "      <td>01</td>\n",
              "      <td>80</td>\n",
              "      <td>Alabama</td>\n",
              "      <td>Prattville</td>\n",
              "      <td>Montgomery</td>\n",
              "      <td>Municipal police</td>\n",
              "      <td>FBI</td>\n",
              "      <td>Yes</td>\n",
              "      <td>1979</td>\n",
              "      <td>December</td>\n",
              "      <td>Normal update</td>\n",
              "      <td>Murder and non-negligent manslaughter</td>\n",
              "      <td>51</td>\n",
              "      <td>Male</td>\n",
              "      <td>Black</td>\n",
              "      <td>Unknown or not reported</td>\n",
              "      <td>24.0</td>\n",
              "      <td>Female</td>\n",
              "      <td>Black</td>\n",
              "      <td>Unknown or not reported</td>\n",
              "      <td>Knife or cutting instrument</td>\n",
              "      <td>Common-law husband</td>\n",
              "      <td>Other arguments</td>\n",
              "      <td>NaN</td>\n",
              "      <td>0</td>\n",
              "      <td>0</td>\n",
              "    </tr>\n",
              "  </tbody>\n",
              "</table>\n",
              "</div>"
            ],
            "text/plain": [
              "                   County File Month File Day  ... Subcircum VicCount OffCount\n",
              "ID                                             ...                            \n",
              "197609001AL00400  Autauga          3       01  ...       NaN        0        0\n",
              "197701001AL00400  Autauga          3       01  ...       NaN        0        0\n",
              "197703001AL00400  Autauga          3       01  ...       NaN        0        1\n",
              "197703001AL00401  Autauga          3       01  ...       NaN        0        0\n",
              "197708001AL00400  Autauga          3       01  ...       NaN        0        0\n",
              "197710001AL00400  Autauga          3       01  ...       NaN        0        0\n",
              "197805001AL00400  Autauga          3       01  ...       NaN        0        2\n",
              "197812001AL00400  Autauga          3       01  ...       NaN        0        0\n",
              "197902001AL00400  Autauga          3       01  ...       NaN        0        0\n",
              "197912001AL00401  Autauga          3       01  ...       NaN        0        0\n",
              "\n",
              "[10 rows x 28 columns]"
            ]
          },
          "metadata": {},
          "execution_count": 22
        }
      ]
    },
    {
      "cell_type": "code",
      "metadata": {
        "colab": {
          "base_uri": "https://localhost:8080/",
          "height": 390
        },
        "id": "-RwAWCNy1iym",
        "outputId": "3266f718-11f8-4465-c2a3-78f8eb6764df"
      },
      "source": [
        "df_numeric.head(10)"
      ],
      "execution_count": 23,
      "outputs": [
        {
          "output_type": "execute_result",
          "data": {
            "text/html": [
              "<div>\n",
              "<style scoped>\n",
              "    .dataframe tbody tr th:only-of-type {\n",
              "        vertical-align: middle;\n",
              "    }\n",
              "\n",
              "    .dataframe tbody tr th {\n",
              "        vertical-align: top;\n",
              "    }\n",
              "\n",
              "    .dataframe thead th {\n",
              "        text-align: right;\n",
              "    }\n",
              "</style>\n",
              "<table border=\"1\" class=\"dataframe\">\n",
              "  <thead>\n",
              "    <tr style=\"text-align: right;\">\n",
              "      <th></th>\n",
              "      <th>County</th>\n",
              "      <th>State</th>\n",
              "      <th>Agency</th>\n",
              "      <th>Area</th>\n",
              "      <th>Agentype</th>\n",
              "      <th>Source</th>\n",
              "      <th>Solved</th>\n",
              "      <th>Year</th>\n",
              "      <th>Month</th>\n",
              "      <th>ActionType</th>\n",
              "      <th>Homicide</th>\n",
              "      <th>VicAge</th>\n",
              "      <th>VicSex</th>\n",
              "      <th>VicRace</th>\n",
              "      <th>VicEthnic</th>\n",
              "      <th>OffAge</th>\n",
              "      <th>OffSex</th>\n",
              "      <th>OffRace</th>\n",
              "      <th>OffEthnic</th>\n",
              "      <th>Weapon</th>\n",
              "      <th>Relationship</th>\n",
              "      <th>Circumstance</th>\n",
              "      <th>VicCount</th>\n",
              "      <th>OffCount</th>\n",
              "    </tr>\n",
              "    <tr>\n",
              "      <th>ID</th>\n",
              "      <th></th>\n",
              "      <th></th>\n",
              "      <th></th>\n",
              "      <th></th>\n",
              "      <th></th>\n",
              "      <th></th>\n",
              "      <th></th>\n",
              "      <th></th>\n",
              "      <th></th>\n",
              "      <th></th>\n",
              "      <th></th>\n",
              "      <th></th>\n",
              "      <th></th>\n",
              "      <th></th>\n",
              "      <th></th>\n",
              "      <th></th>\n",
              "      <th></th>\n",
              "      <th></th>\n",
              "      <th></th>\n",
              "      <th></th>\n",
              "      <th></th>\n",
              "      <th></th>\n",
              "      <th></th>\n",
              "      <th></th>\n",
              "    </tr>\n",
              "  </thead>\n",
              "  <tbody>\n",
              "    <tr>\n",
              "      <th>198101001AL00401</th>\n",
              "      <td>0</td>\n",
              "      <td>0</td>\n",
              "      <td>0</td>\n",
              "      <td>0</td>\n",
              "      <td>0</td>\n",
              "      <td>0</td>\n",
              "      <td>0</td>\n",
              "      <td>1981</td>\n",
              "      <td>0</td>\n",
              "      <td>0</td>\n",
              "      <td>0</td>\n",
              "      <td>67</td>\n",
              "      <td>0</td>\n",
              "      <td>0</td>\n",
              "      <td>0</td>\n",
              "      <td>21.0</td>\n",
              "      <td>0</td>\n",
              "      <td>0</td>\n",
              "      <td>0</td>\n",
              "      <td>0</td>\n",
              "      <td>0</td>\n",
              "      <td>0</td>\n",
              "      <td>0</td>\n",
              "      <td>0</td>\n",
              "    </tr>\n",
              "    <tr>\n",
              "      <th>198212001AL00401</th>\n",
              "      <td>0</td>\n",
              "      <td>0</td>\n",
              "      <td>0</td>\n",
              "      <td>0</td>\n",
              "      <td>0</td>\n",
              "      <td>0</td>\n",
              "      <td>0</td>\n",
              "      <td>1982</td>\n",
              "      <td>1</td>\n",
              "      <td>0</td>\n",
              "      <td>0</td>\n",
              "      <td>28</td>\n",
              "      <td>0</td>\n",
              "      <td>0</td>\n",
              "      <td>1</td>\n",
              "      <td>20.0</td>\n",
              "      <td>0</td>\n",
              "      <td>0</td>\n",
              "      <td>1</td>\n",
              "      <td>1</td>\n",
              "      <td>1</td>\n",
              "      <td>1</td>\n",
              "      <td>0</td>\n",
              "      <td>0</td>\n",
              "    </tr>\n",
              "    <tr>\n",
              "      <th>198212002AL00401</th>\n",
              "      <td>0</td>\n",
              "      <td>0</td>\n",
              "      <td>0</td>\n",
              "      <td>0</td>\n",
              "      <td>0</td>\n",
              "      <td>0</td>\n",
              "      <td>0</td>\n",
              "      <td>1982</td>\n",
              "      <td>1</td>\n",
              "      <td>0</td>\n",
              "      <td>0</td>\n",
              "      <td>27</td>\n",
              "      <td>0</td>\n",
              "      <td>1</td>\n",
              "      <td>1</td>\n",
              "      <td>44.0</td>\n",
              "      <td>0</td>\n",
              "      <td>1</td>\n",
              "      <td>1</td>\n",
              "      <td>1</td>\n",
              "      <td>2</td>\n",
              "      <td>1</td>\n",
              "      <td>0</td>\n",
              "      <td>0</td>\n",
              "    </tr>\n",
              "    <tr>\n",
              "      <th>198302001AL00401</th>\n",
              "      <td>0</td>\n",
              "      <td>0</td>\n",
              "      <td>0</td>\n",
              "      <td>0</td>\n",
              "      <td>0</td>\n",
              "      <td>0</td>\n",
              "      <td>0</td>\n",
              "      <td>1983</td>\n",
              "      <td>2</td>\n",
              "      <td>1</td>\n",
              "      <td>0</td>\n",
              "      <td>16</td>\n",
              "      <td>0</td>\n",
              "      <td>0</td>\n",
              "      <td>1</td>\n",
              "      <td>17.0</td>\n",
              "      <td>0</td>\n",
              "      <td>0</td>\n",
              "      <td>1</td>\n",
              "      <td>0</td>\n",
              "      <td>0</td>\n",
              "      <td>1</td>\n",
              "      <td>0</td>\n",
              "      <td>0</td>\n",
              "    </tr>\n",
              "    <tr>\n",
              "      <th>198308001AL00400</th>\n",
              "      <td>0</td>\n",
              "      <td>0</td>\n",
              "      <td>1</td>\n",
              "      <td>0</td>\n",
              "      <td>1</td>\n",
              "      <td>0</td>\n",
              "      <td>0</td>\n",
              "      <td>1983</td>\n",
              "      <td>3</td>\n",
              "      <td>0</td>\n",
              "      <td>0</td>\n",
              "      <td>25</td>\n",
              "      <td>0</td>\n",
              "      <td>1</td>\n",
              "      <td>1</td>\n",
              "      <td>29.0</td>\n",
              "      <td>1</td>\n",
              "      <td>1</td>\n",
              "      <td>1</td>\n",
              "      <td>1</td>\n",
              "      <td>3</td>\n",
              "      <td>1</td>\n",
              "      <td>0</td>\n",
              "      <td>0</td>\n",
              "    </tr>\n",
              "    <tr>\n",
              "      <th>198312001AL00401</th>\n",
              "      <td>0</td>\n",
              "      <td>0</td>\n",
              "      <td>0</td>\n",
              "      <td>0</td>\n",
              "      <td>0</td>\n",
              "      <td>0</td>\n",
              "      <td>0</td>\n",
              "      <td>1983</td>\n",
              "      <td>1</td>\n",
              "      <td>0</td>\n",
              "      <td>0</td>\n",
              "      <td>55</td>\n",
              "      <td>1</td>\n",
              "      <td>0</td>\n",
              "      <td>1</td>\n",
              "      <td>55.0</td>\n",
              "      <td>0</td>\n",
              "      <td>0</td>\n",
              "      <td>1</td>\n",
              "      <td>2</td>\n",
              "      <td>4</td>\n",
              "      <td>1</td>\n",
              "      <td>0</td>\n",
              "      <td>0</td>\n",
              "    </tr>\n",
              "    <tr>\n",
              "      <th>198401001AL00400</th>\n",
              "      <td>0</td>\n",
              "      <td>0</td>\n",
              "      <td>1</td>\n",
              "      <td>0</td>\n",
              "      <td>1</td>\n",
              "      <td>0</td>\n",
              "      <td>0</td>\n",
              "      <td>1984</td>\n",
              "      <td>0</td>\n",
              "      <td>0</td>\n",
              "      <td>0</td>\n",
              "      <td>24</td>\n",
              "      <td>1</td>\n",
              "      <td>1</td>\n",
              "      <td>1</td>\n",
              "      <td>23.0</td>\n",
              "      <td>0</td>\n",
              "      <td>1</td>\n",
              "      <td>1</td>\n",
              "      <td>0</td>\n",
              "      <td>4</td>\n",
              "      <td>0</td>\n",
              "      <td>0</td>\n",
              "      <td>0</td>\n",
              "    </tr>\n",
              "    <tr>\n",
              "      <th>198410001AL00400</th>\n",
              "      <td>0</td>\n",
              "      <td>0</td>\n",
              "      <td>1</td>\n",
              "      <td>0</td>\n",
              "      <td>1</td>\n",
              "      <td>0</td>\n",
              "      <td>0</td>\n",
              "      <td>1984</td>\n",
              "      <td>4</td>\n",
              "      <td>0</td>\n",
              "      <td>0</td>\n",
              "      <td>34</td>\n",
              "      <td>0</td>\n",
              "      <td>0</td>\n",
              "      <td>1</td>\n",
              "      <td>58.0</td>\n",
              "      <td>0</td>\n",
              "      <td>0</td>\n",
              "      <td>1</td>\n",
              "      <td>1</td>\n",
              "      <td>1</td>\n",
              "      <td>0</td>\n",
              "      <td>0</td>\n",
              "      <td>0</td>\n",
              "    </tr>\n",
              "    <tr>\n",
              "      <th>198504001AL00400</th>\n",
              "      <td>0</td>\n",
              "      <td>0</td>\n",
              "      <td>1</td>\n",
              "      <td>0</td>\n",
              "      <td>1</td>\n",
              "      <td>0</td>\n",
              "      <td>0</td>\n",
              "      <td>1985</td>\n",
              "      <td>5</td>\n",
              "      <td>0</td>\n",
              "      <td>0</td>\n",
              "      <td>38</td>\n",
              "      <td>0</td>\n",
              "      <td>0</td>\n",
              "      <td>1</td>\n",
              "      <td>45.0</td>\n",
              "      <td>0</td>\n",
              "      <td>1</td>\n",
              "      <td>1</td>\n",
              "      <td>0</td>\n",
              "      <td>0</td>\n",
              "      <td>2</td>\n",
              "      <td>0</td>\n",
              "      <td>0</td>\n",
              "    </tr>\n",
              "    <tr>\n",
              "      <th>198607001AL00401</th>\n",
              "      <td>0</td>\n",
              "      <td>0</td>\n",
              "      <td>0</td>\n",
              "      <td>0</td>\n",
              "      <td>0</td>\n",
              "      <td>0</td>\n",
              "      <td>0</td>\n",
              "      <td>1986</td>\n",
              "      <td>6</td>\n",
              "      <td>0</td>\n",
              "      <td>0</td>\n",
              "      <td>29</td>\n",
              "      <td>1</td>\n",
              "      <td>1</td>\n",
              "      <td>1</td>\n",
              "      <td>50.0</td>\n",
              "      <td>0</td>\n",
              "      <td>1</td>\n",
              "      <td>1</td>\n",
              "      <td>3</td>\n",
              "      <td>4</td>\n",
              "      <td>1</td>\n",
              "      <td>0</td>\n",
              "      <td>0</td>\n",
              "    </tr>\n",
              "  </tbody>\n",
              "</table>\n",
              "</div>"
            ],
            "text/plain": [
              "                  County  State  Agency  ...  Circumstance  VicCount  OffCount\n",
              "ID                                       ...                                  \n",
              "198101001AL00401       0      0       0  ...             0         0         0\n",
              "198212001AL00401       0      0       0  ...             1         0         0\n",
              "198212002AL00401       0      0       0  ...             1         0         0\n",
              "198302001AL00401       0      0       0  ...             1         0         0\n",
              "198308001AL00400       0      0       1  ...             1         0         0\n",
              "198312001AL00401       0      0       0  ...             1         0         0\n",
              "198401001AL00400       0      0       1  ...             0         0         0\n",
              "198410001AL00400       0      0       1  ...             0         0         0\n",
              "198504001AL00400       0      0       1  ...             2         0         0\n",
              "198607001AL00401       0      0       0  ...             1         0         0\n",
              "\n",
              "[10 rows x 24 columns]"
            ]
          },
          "metadata": {},
          "execution_count": 23
        }
      ]
    },
    {
      "cell_type": "code",
      "metadata": {
        "id": "wuhgTxSIzl4_"
      },
      "source": [
        "df_numeric.to_csv('/content/drive/MyDrive/DKE/project 1-1/auto_data.csv')"
      ],
      "execution_count": 24,
      "outputs": []
    },
    {
      "cell_type": "code",
      "metadata": {
        "colab": {
          "base_uri": "https://localhost:8080/",
          "height": 1000
        },
        "id": "Q3EF9GU6wcY9",
        "outputId": "2062cb14-f180-4b59-8def-f26076f4313e"
      },
      "source": [
        "def get_outliers(scores, mad = True):\n",
        "    # set a statistical threshold\n",
        "    thresh = 3.5\n",
        "    \n",
        "    mean =  np.mean(scores)\n",
        "    med = np.median(scores)\n",
        "    std = np.std(scores)\n",
        "\n",
        "#   mad score:  https://www.itl.nist.gov/div898/handbook/eda/section3/eda35h.htm\n",
        "    if mad:\n",
        "        ad = np.abs(scores - med)\n",
        "        mad = np.median(ad)\n",
        "        zscores =  0.6745 * (scores - med) / mad\n",
        "    else:\n",
        "        zscores = (scores-mean)/std\n",
        "\n",
        "            \n",
        "    z_idx1 = (np.abs(zscores - thresh)).argmin()\n",
        "    z_idx2 = (np.abs(zscores + thresh)).argmin()\n",
        "\n",
        "    idx = scores[z_idx1]\n",
        "    idx2 = scores[z_idx2]\n",
        "\n",
        "#   histogram distribution plot\n",
        "    # fig, ax = plt.subplots()\n",
        "    # plt.hist(scores, bins = 100)\n",
        "    # plt.axvline(x=idx,c = 'r')\n",
        "    # plt.axvline(x=idx2,c = 'r')\n",
        "\n",
        "    plt.show()\n",
        "    return (idx, idx2, np.where(np.abs(zscores) >= thresh))\n",
        "    \n",
        "def build_outliers(scores, method_name, mad = True):\n",
        "    val1, val2, outlier_index = get_outliers(scores, mad)\n",
        "    idx = (np.abs(sorted(scores) - val1)).argmin()\n",
        "    idx2 = (np.abs(sorted(scores) - val2)).argmin()\n",
        "\n",
        "    fig, ax = plt.subplots()\n",
        "    plt.plot(sorted(scores))\n",
        "    plt.axvline(x=idx,c='r')\n",
        "    plt.axvline(x=idx2,c='r')\n",
        "\n",
        "    print(\"outliers nb: \",len(outlier_index[0]))\n",
        "    nbs.append(len(outlier_index[0]))\n",
        "    outlier_bool = np.zeros(len(df))\n",
        "    outlier_bool[outlier_index] = 1.0\n",
        "    df[method_name] = outlier_bool\n",
        "\n",
        "\n",
        "X_train, X_test = train_test_split(df_numeric, test_size = int(df_numeric.shape[0]/6))\n",
        "X_train2, X_val = train_test_split(X_train, test_size = int(X_train.shape[0]/6))\n",
        "\n",
        "# data dimensions // hyperparameters \n",
        "input_dim = X_train.shape[1]\n",
        "print(\"input dim = \",input_dim)\n",
        "BATCH_SIZE = 256\n",
        "EPOCHS = 100\n",
        "\n",
        "def build_autoencoder(hidden_size):\n",
        "  # https://keras.io/layers/core/\n",
        "  autoencoder = tf.keras.models.Sequential([\n",
        "      # deconstruct / encode\n",
        "      tf.keras.layers.Dense(input_dim, activation='elu', input_shape=(input_dim,)), \n",
        "      tf.keras.layers.Dense(hidden_size, activation='elu'),\n",
        "      tf.keras.layers.Dense(input_dim, activation='elu')\n",
        "  ])\n",
        "\n",
        "  # https://keras.io/api/models/model_training_apis/\n",
        "  autoencoder.compile(optimizer=\"adam\", \n",
        "                      loss=\"mse\",\n",
        "                      metrics=[\"acc\"])\n",
        "\n",
        "  early_stop = tf.keras.callbacks.EarlyStopping(\n",
        "      monitor='loss',\n",
        "      min_delta=0.0001,\n",
        "      patience=12,\n",
        "      verbose=1, \n",
        "      mode='min',\n",
        "      restore_best_weights=True\n",
        "  )\n",
        "\n",
        "  tensorboard = tf.keras.callbacks.TensorBoard(\n",
        "      batch_size=BATCH_SIZE,\n",
        "      update_freq='batch'\n",
        "  )\n",
        "\n",
        "  cb = [early_stop,tensorboard]\n",
        "\n",
        "  be = time.time()\n",
        "\n",
        "  history = autoencoder.fit(\n",
        "      X_train2, X_train2,\n",
        "      shuffle=True,\n",
        "      epochs=EPOCHS,\n",
        "      batch_size=BATCH_SIZE,\n",
        "      callbacks=cb,\n",
        "      verbose = 0,\n",
        "      validation_data=(X_val, X_val)\n",
        "  );\n",
        "\n",
        "  autoencoders_time = time.time() - be\n",
        "  print(autoencoders_time,\" sec\")\n",
        "\n",
        "  # pass the transformed test set through the autoencoder to get the reconstructed result\n",
        "  reconstructions = autoencoder.predict(X_test)\n",
        "  #calculating the mean squared error reconstruction loss per row in the numpy array\n",
        "  return np.mean(np.power(X_test - reconstructions, 2), axis=1)\n",
        "\n",
        "nbs = []\n",
        "names = []\n",
        "mses = []\n",
        "for i in range(input_dim-15,input_dim-1):\n",
        "  print(\"hidden layer size = \",i)\n",
        "  names.append(\"l-\"+str(i))\n",
        "  mse = build_autoencoder(i)\n",
        "  mses.append(mse)\n",
        "  build_outliers(mse, \"auto-\"+str(i) , mad = True)"
      ],
      "execution_count": 52,
      "outputs": [
        {
          "output_type": "stream",
          "name": "stdout",
          "text": [
            "input dim =  24\n",
            "hidden layer size =  9\n",
            "WARNING:tensorflow:`batch_size` is no longer needed in the `TensorBoard` Callback and will be ignored in TensorFlow 2.0.\n",
            "Restoring model weights from the end of the best epoch.\n",
            "Epoch 00054: early stopping\n",
            "36.09816813468933  sec\n",
            "outliers nb:  8255\n",
            "hidden layer size =  10\n",
            "WARNING:tensorflow:`batch_size` is no longer needed in the `TensorBoard` Callback and will be ignored in TensorFlow 2.0.\n",
            "Restoring model weights from the end of the best epoch.\n",
            "Epoch 00064: early stopping\n",
            "42.45932197570801  sec\n"
          ]
        },
        {
          "output_type": "display_data",
          "data": {
            "image/png": "[encoded data removed]",
            "text/plain": [
              "<Figure size 432x288 with 1 Axes>"
            ]
          },
          "metadata": {
            "needs_background": "light"
          }
        },
        {
          "output_type": "stream",
          "name": "stdout",
          "text": [
            "outliers nb:  1945\n",
            "hidden layer size =  11\n",
            "WARNING:tensorflow:`batch_size` is no longer needed in the `TensorBoard` Callback and will be ignored in TensorFlow 2.0.\n",
            "Restoring model weights from the end of the best epoch.\n",
            "Epoch 00063: early stopping\n",
            "42.528902769088745  sec\n"
          ]
        },
        {
          "output_type": "display_data",
          "data": {
            "image/png": "[encoded data removed]",
            "text/plain": [
              "<Figure size 432x288 with 1 Axes>"
            ]
          },
          "metadata": {
            "needs_background": "light"
          }
        },
        {
          "output_type": "stream",
          "name": "stdout",
          "text": [
            "outliers nb:  9189\n",
            "hidden layer size =  12\n",
            "WARNING:tensorflow:`batch_size` is no longer needed in the `TensorBoard` Callback and will be ignored in TensorFlow 2.0.\n",
            "Restoring model weights from the end of the best epoch.\n",
            "Epoch 00026: early stopping\n",
            "17.605883598327637  sec\n"
          ]
        },
        {
          "output_type": "display_data",
          "data": {
            "image/png": "[encoded data removed]",
            "text/plain": [
              "<Figure size 432x288 with 1 Axes>"
            ]
          },
          "metadata": {
            "needs_background": "light"
          }
        },
        {
          "output_type": "stream",
          "name": "stdout",
          "text": [
            "outliers nb:  8255\n",
            "hidden layer size =  13\n",
            "WARNING:tensorflow:`batch_size` is no longer needed in the `TensorBoard` Callback and will be ignored in TensorFlow 2.0.\n",
            "Restoring model weights from the end of the best epoch.\n",
            "Epoch 00046: early stopping\n",
            "30.430532693862915  sec\n"
          ]
        },
        {
          "output_type": "display_data",
          "data": {
            "image/png": "[encoded data removed]",
            "text/plain": [
              "<Figure size 432x288 with 1 Axes>"
            ]
          },
          "metadata": {
            "needs_background": "light"
          }
        },
        {
          "output_type": "stream",
          "name": "stdout",
          "text": [
            "outliers nb:  0\n",
            "hidden layer size =  14\n",
            "WARNING:tensorflow:`batch_size` is no longer needed in the `TensorBoard` Callback and will be ignored in TensorFlow 2.0.\n",
            "Restoring model weights from the end of the best epoch.\n",
            "Epoch 00023: early stopping\n",
            "16.119153261184692  sec\n"
          ]
        },
        {
          "output_type": "display_data",
          "data": {
            "image/png": "[encoded data removed]",
            "text/plain": [
              "<Figure size 432x288 with 1 Axes>"
            ]
          },
          "metadata": {
            "needs_background": "light"
          }
        },
        {
          "output_type": "stream",
          "name": "stdout",
          "text": [
            "outliers nb:  10362\n",
            "hidden layer size =  15\n",
            "WARNING:tensorflow:`batch_size` is no longer needed in the `TensorBoard` Callback and will be ignored in TensorFlow 2.0.\n",
            "Restoring model weights from the end of the best epoch.\n",
            "Epoch 00041: early stopping\n",
            "27.80446481704712  sec\n"
          ]
        },
        {
          "output_type": "display_data",
          "data": {
            "image/png": "[encoded data removed]",
            "text/plain": [
              "<Figure size 432x288 with 1 Axes>"
            ]
          },
          "metadata": {
            "needs_background": "light"
          }
        },
        {
          "output_type": "stream",
          "name": "stdout",
          "text": [
            "outliers nb:  8243\n",
            "hidden layer size =  16\n",
            "WARNING:tensorflow:`batch_size` is no longer needed in the `TensorBoard` Callback and will be ignored in TensorFlow 2.0.\n",
            "Restoring model weights from the end of the best epoch.\n",
            "Epoch 00068: early stopping\n",
            "45.45595121383667  sec\n"
          ]
        },
        {
          "output_type": "display_data",
          "data": {
            "image/png": "[encoded data removed]",
            "text/plain": [
              "<Figure size 432x288 with 1 Axes>"
            ]
          },
          "metadata": {
            "needs_background": "light"
          }
        },
        {
          "output_type": "stream",
          "name": "stdout",
          "text": [
            "outliers nb:  1944\n",
            "hidden layer size =  17\n",
            "WARNING:tensorflow:`batch_size` is no longer needed in the `TensorBoard` Callback and will be ignored in TensorFlow 2.0.\n",
            "Restoring model weights from the end of the best epoch.\n",
            "Epoch 00042: early stopping\n",
            "28.69061517715454  sec\n"
          ]
        },
        {
          "output_type": "display_data",
          "data": {
            "image/png": "[encoded data removed]",
            "text/plain": [
              "<Figure size 432x288 with 1 Axes>"
            ]
          },
          "metadata": {
            "needs_background": "light"
          }
        },
        {
          "output_type": "stream",
          "name": "stdout",
          "text": [
            "outliers nb:  1\n",
            "hidden layer size =  18\n",
            "WARNING:tensorflow:`batch_size` is no longer needed in the `TensorBoard` Callback and will be ignored in TensorFlow 2.0.\n",
            "Restoring model weights from the end of the best epoch.\n",
            "Epoch 00044: early stopping\n",
            "31.072274684906006  sec\n"
          ]
        },
        {
          "output_type": "display_data",
          "data": {
            "image/png": "[encoded data removed]",
            "text/plain": [
              "<Figure size 432x288 with 1 Axes>"
            ]
          },
          "metadata": {
            "needs_background": "light"
          }
        },
        {
          "output_type": "stream",
          "name": "stdout",
          "text": [
            "outliers nb:  10430\n",
            "hidden layer size =  19\n",
            "WARNING:tensorflow:`batch_size` is no longer needed in the `TensorBoard` Callback and will be ignored in TensorFlow 2.0.\n",
            "Restoring model weights from the end of the best epoch.\n",
            "Epoch 00034: early stopping\n",
            "24.56474280357361  sec\n"
          ]
        },
        {
          "output_type": "display_data",
          "data": {
            "image/png": "[encoded data removed]",
            "text/plain": [
              "<Figure size 432x288 with 1 Axes>"
            ]
          },
          "metadata": {
            "needs_background": "light"
          }
        },
        {
          "output_type": "stream",
          "name": "stdout",
          "text": [
            "outliers nb:  222\n",
            "hidden layer size =  20\n",
            "WARNING:tensorflow:`batch_size` is no longer needed in the `TensorBoard` Callback and will be ignored in TensorFlow 2.0.\n",
            "Restoring model weights from the end of the best epoch.\n",
            "Epoch 00058: early stopping\n",
            "40.993189573287964  sec\n"
          ]
        },
        {
          "output_type": "display_data",
          "data": {
            "image/png": "[encoded data removed]",
            "text/plain": [
              "<Figure size 432x288 with 1 Axes>"
            ]
          },
          "metadata": {
            "needs_background": "light"
          }
        },
        {
          "output_type": "stream",
          "name": "stdout",
          "text": [
            "outliers nb:  0\n",
            "hidden layer size =  21\n",
            "WARNING:tensorflow:`batch_size` is no longer needed in the `TensorBoard` Callback and will be ignored in TensorFlow 2.0.\n",
            "Restoring model weights from the end of the best epoch.\n",
            "Epoch 00063: early stopping\n",
            "44.295079708099365  sec\n"
          ]
        },
        {
          "output_type": "display_data",
          "data": {
            "image/png": "[encoded data removed]",
            "text/plain": [
              "<Figure size 432x288 with 1 Axes>"
            ]
          },
          "metadata": {
            "needs_background": "light"
          }
        },
        {
          "output_type": "stream",
          "name": "stdout",
          "text": [
            "outliers nb:  7059\n",
            "hidden layer size =  22\n",
            "WARNING:tensorflow:`batch_size` is no longer needed in the `TensorBoard` Callback and will be ignored in TensorFlow 2.0.\n",
            "Restoring model weights from the end of the best epoch.\n",
            "Epoch 00047: early stopping\n",
            "32.67668914794922  sec\n"
          ]
        },
        {
          "output_type": "display_data",
          "data": {
            "image/png": "[encoded data removed]",
            "text/plain": [
              "<Figure size 432x288 with 1 Axes>"
            ]
          },
          "metadata": {
            "needs_background": "light"
          }
        },
        {
          "output_type": "stream",
          "name": "stdout",
          "text": [
            "outliers nb:  10334\n"
          ]
        },
        {
          "output_type": "display_data",
          "data": {
            "image/png": "[encoded data removed]",
            "text/plain": [
              "<Figure size 432x288 with 1 Axes>"
            ]
          },
          "metadata": {
            "needs_background": "light"
          }
        }
      ]
    },
    {
      "cell_type": "code",
      "metadata": {
        "colab": {
          "base_uri": "https://localhost:8080/",
          "height": 296
        },
        "id": "YBlDaj6sHe8B",
        "outputId": "5742cce3-2480-4736-c17a-d8f22334b253"
      },
      "source": [
        "plt.ylabel(\"number of failed recontructions\")\n",
        "plt.xlabel(\"autoencoder used\")\n",
        "\n",
        "plt.bar(names,nbs)\n",
        "\n",
        "print(nbs)"
      ],
      "execution_count": 53,
      "outputs": [
        {
          "output_type": "stream",
          "name": "stdout",
          "text": [
            "[8255, 1945, 9189, 8255, 0, 10362, 8243, 1944, 1, 10430, 222, 0, 7059, 10334]\n"
          ]
        },
        {
          "output_type": "display_data",
          "data": {
            "image/png": "[encoded data removed]",
            "text/plain": [
              "<Figure size 432x288 with 1 Axes>"
            ]
          },
          "metadata": {
            "needs_background": "light"
          }
        }
      ]
    },
    {
      "cell_type": "code",
      "metadata": {
        "colab": {
          "base_uri": "https://localhost:8080/",
          "height": 432
        },
        "id": "Oiipm1hMMbi3",
        "outputId": "311e4b2b-e4c5-4f2e-cecb-859277301ce9"
      },
      "source": [
        "trim = stats.trim_mean(mses, 0.15,axis = 1)\n",
        "med = np.median(mses, axis = 1)\n",
        "\n",
        "print(\"median errors = \",med)\n",
        "print(\"trimmed mean errors = \",trim)\n",
        "\n",
        "plt.ylabel(\"average recontruction erros\")\n",
        "plt.xlabel(\"autoencoder used\")\n",
        "plt.plot(names,med,'r',label =\"median\")\n",
        "plt.plot(names,trim,'b',label =\"trimmed mean\")\n",
        "plt.legend()"
      ],
      "execution_count": 55,
      "outputs": [
        {
          "output_type": "stream",
          "name": "stdout",
          "text": [
            "median errors =  [1.00388709e+05 4.65873175e+01 4.64060719e+03 1.00498521e+05\n",
            " 3.29692772e+01 2.59651571e+03 1.00450522e+05 4.65838734e+01\n",
            " 3.29792254e+01 2.77305430e+03 8.95063100e+01 3.29699056e+01\n",
            " 7.16249333e+02 2.63886832e+03]\n",
            "trimmed mean errors =  [2.56418371e+05 5.05371473e+01 1.44528529e+04 2.56708689e+05\n",
            " 4.28081143e+01 1.25967643e+04 2.56398092e+05 5.05247115e+01\n",
            " 4.28174098e+01 1.29156323e+04 8.87734122e+01 4.28051689e+01\n",
            " 1.55451791e+03 1.26200523e+04]\n"
          ]
        },
        {
          "output_type": "execute_result",
          "data": {
            "text/plain": [
              "<matplotlib.legend.Legend at 0x7f842addff10>"
            ]
          },
          "metadata": {},
          "execution_count": 55
        },
        {
          "output_type": "display_data",
          "data": {
            "image/png": "[encoded data removed]",
            "text/plain": [
              "<Figure size 432x288 with 1 Axes>"
            ]
          },
          "metadata": {
            "needs_background": "light"
          }
        }
      ]
    }
  ]
}