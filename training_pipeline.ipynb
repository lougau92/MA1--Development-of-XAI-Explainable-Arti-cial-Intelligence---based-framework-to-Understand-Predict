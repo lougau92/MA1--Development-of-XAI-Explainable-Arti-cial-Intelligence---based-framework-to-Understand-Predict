{
 "cells": [
  {
   "cell_type": "code",
   "execution_count": 2,
   "outputs": [],
   "source": [
    "import numpy as np\n",
    "import matplotlib.pyplot as plt\n",
    "import pandas as pd\n",
    "import warnings\n",
    "warnings.simplefilter(action='ignore')\n",
    "from sklearn.model_selection import train_test_split\n",
    "from sklearn.tree import DecisionTreeRegressor\n",
    "from sklearn import tree\n",
    "from preprocess import *\n",
    "\n",
    "\n",
    "map_data = pd.read_csv(\"Murder_Data/SHR76_20.csv\")"
   ],
   "metadata": {
    "collapsed": false,
    "pycharm": {
     "name": "#%%\n"
    }
   }
  },
  {
   "cell_type": "code",
   "execution_count": 3,
   "outputs": [],
   "source": [
    "data_cleaned = clean_dataframe(map_data)"
   ],
   "metadata": {
    "collapsed": false,
    "pycharm": {
     "name": "#%%\n"
    }
   }
  },
  {
   "cell_type": "code",
   "execution_count": 4,
   "outputs": [
    {
     "data": {
      "text/plain": "                      ID     CNTYFIPS      Ori    State          Agency  \\\n1       197701001AL00400  Autauga, AL  AL00400  Alabama  Autauga County   \n2       197703001AL00400  Autauga, AL  AL00400  Alabama  Autauga County   \n3       197703001AL00401  Autauga, AL  AL00401  Alabama      Prattville   \n4       197708001AL00400  Autauga, AL  AL00400  Alabama  Autauga County   \n5       197710001AL00400  Autauga, AL  AL00400  Alabama  Autauga County   \n...                  ...          ...      ...      ...             ...   \n827213  198112001WY02300   Weston, WY  WY02300  Wyoming   Weston County   \n827214  198210001WY02300   Weston, WY  WY02300  Wyoming   Weston County   \n827215  198701001WY02300   Weston, WY  WY02300  Wyoming   Weston County   \n827216  199412001WY02300   Weston, WY  WY02300  Wyoming   Weston County   \n827217  200405001WY02300   Weston, WY  WY02300  Wyoming   Weston County   \n\n                Agentype Source Solved  Year     Month  ... OffRace  \\\n1                Sheriff    FBI    Yes  1977   January  ...   Black   \n2                Sheriff    FBI    Yes  1977     March  ...   White   \n3       Municipal police    FBI    Yes  1977     March  ...   Black   \n4                Sheriff    FBI    Yes  1977    August  ...   Black   \n5                Sheriff    FBI    Yes  1977   October  ...   Black   \n...                  ...    ...    ...   ...       ...  ...     ...   \n827213           Sheriff    FBI    Yes  1981  December  ...   White   \n827214           Sheriff    FBI    Yes  1982   October  ...   White   \n827215           Sheriff    FBI    Yes  1987   January  ...   White   \n827216           Sheriff    FBI    Yes  1994  December  ...   Asian   \n827217           Sheriff    FBI    Yes  2004       May  ...   White   \n\n                     OffEthnic                                Weapon  \\\n1                      Unknown                               Unknown   \n2                      Unknown       Handgun - pistol, revolver, etc   \n3                      Unknown                               Shotgun   \n4                      Unknown           Knife or cutting instrument   \n5                      Unknown                               Shotgun   \n...                        ...                                   ...   \n827213  Not of Hispanic origin       Handgun - pistol, revolver, etc   \n827214  Not of Hispanic origin    Personal weapons, includes beating   \n827215                 Unknown  Asphyxiation - includes death by gas   \n827216                 Unknown                               Unknown   \n827217                 Unknown                               Unknown   \n\n        Relationship                          Circumstance Subcircum VicCount  \\\n1       Acquaintance     Brawl due to influence of alcohol   Unknown        0   \n2       Acquaintance                       Other arguments   Unknown        0   \n3            Husband                       Other arguments   Unknown        0   \n4       Acquaintance                               Unknown   Unknown        0   \n5           Stranger                               Robbery   Unknown        0   \n...              ...                                   ...       ...      ...   \n827213      Neighbor                       Other arguments   Unknown        0   \n827214    Girlfriend                       Other arguments   Unknown        0   \n827215           Son  All other manslaughter by negligence   Unknown        0   \n827216  Acquaintance  All other manslaughter by negligence   Unknown        0   \n827217    Girlfriend                       Other arguments   Unknown        0   \n\n       OffCount  FileDate             MSA  \n1             0   30180.0  Montgomery, AL  \n2             1   30180.0  Montgomery, AL  \n3             0   30180.0  Montgomery, AL  \n4             0   30180.0  Montgomery, AL  \n5             0   30180.0  Montgomery, AL  \n...         ...       ...             ...  \n827213        0   22482.0   Rural Wyoming  \n827214        0  121482.0   Rural Wyoming  \n827215        0   61987.0   Rural Wyoming  \n827216        0   22795.0   Rural Wyoming  \n827217        0   90704.0   Rural Wyoming  \n\n[570902 rows x 28 columns]",
      "text/html": "<div>\n<style scoped>\n    .dataframe tbody tr th:only-of-type {\n        vertical-align: middle;\n    }\n\n    .dataframe tbody tr th {\n        vertical-align: top;\n    }\n\n    .dataframe thead th {\n        text-align: right;\n    }\n</style>\n<table border=\"1\" class=\"dataframe\">\n  <thead>\n    <tr style=\"text-align: right;\">\n      <th></th>\n      <th>ID</th>\n      <th>CNTYFIPS</th>\n      <th>Ori</th>\n      <th>State</th>\n      <th>Agency</th>\n      <th>Agentype</th>\n      <th>Source</th>\n      <th>Solved</th>\n      <th>Year</th>\n      <th>Month</th>\n      <th>...</th>\n      <th>OffRace</th>\n      <th>OffEthnic</th>\n      <th>Weapon</th>\n      <th>Relationship</th>\n      <th>Circumstance</th>\n      <th>Subcircum</th>\n      <th>VicCount</th>\n      <th>OffCount</th>\n      <th>FileDate</th>\n      <th>MSA</th>\n    </tr>\n  </thead>\n  <tbody>\n    <tr>\n      <th>1</th>\n      <td>197701001AL00400</td>\n      <td>Autauga, AL</td>\n      <td>AL00400</td>\n      <td>Alabama</td>\n      <td>Autauga County</td>\n      <td>Sheriff</td>\n      <td>FBI</td>\n      <td>Yes</td>\n      <td>1977</td>\n      <td>January</td>\n      <td>...</td>\n      <td>Black</td>\n      <td>Unknown</td>\n      <td>Unknown</td>\n      <td>Acquaintance</td>\n      <td>Brawl due to influence of alcohol</td>\n      <td>Unknown</td>\n      <td>0</td>\n      <td>0</td>\n      <td>30180.0</td>\n      <td>Montgomery, AL</td>\n    </tr>\n    <tr>\n      <th>2</th>\n      <td>197703001AL00400</td>\n      <td>Autauga, AL</td>\n      <td>AL00400</td>\n      <td>Alabama</td>\n      <td>Autauga County</td>\n      <td>Sheriff</td>\n      <td>FBI</td>\n      <td>Yes</td>\n      <td>1977</td>\n      <td>March</td>\n      <td>...</td>\n      <td>White</td>\n      <td>Unknown</td>\n      <td>Handgun - pistol, revolver, etc</td>\n      <td>Acquaintance</td>\n      <td>Other arguments</td>\n      <td>Unknown</td>\n      <td>0</td>\n      <td>1</td>\n      <td>30180.0</td>\n      <td>Montgomery, AL</td>\n    </tr>\n    <tr>\n      <th>3</th>\n      <td>197703001AL00401</td>\n      <td>Autauga, AL</td>\n      <td>AL00401</td>\n      <td>Alabama</td>\n      <td>Prattville</td>\n      <td>Municipal police</td>\n      <td>FBI</td>\n      <td>Yes</td>\n      <td>1977</td>\n      <td>March</td>\n      <td>...</td>\n      <td>Black</td>\n      <td>Unknown</td>\n      <td>Shotgun</td>\n      <td>Husband</td>\n      <td>Other arguments</td>\n      <td>Unknown</td>\n      <td>0</td>\n      <td>0</td>\n      <td>30180.0</td>\n      <td>Montgomery, AL</td>\n    </tr>\n    <tr>\n      <th>4</th>\n      <td>197708001AL00400</td>\n      <td>Autauga, AL</td>\n      <td>AL00400</td>\n      <td>Alabama</td>\n      <td>Autauga County</td>\n      <td>Sheriff</td>\n      <td>FBI</td>\n      <td>Yes</td>\n      <td>1977</td>\n      <td>August</td>\n      <td>...</td>\n      <td>Black</td>\n      <td>Unknown</td>\n      <td>Knife or cutting instrument</td>\n      <td>Acquaintance</td>\n      <td>Unknown</td>\n      <td>Unknown</td>\n      <td>0</td>\n      <td>0</td>\n      <td>30180.0</td>\n      <td>Montgomery, AL</td>\n    </tr>\n    <tr>\n      <th>5</th>\n      <td>197710001AL00400</td>\n      <td>Autauga, AL</td>\n      <td>AL00400</td>\n      <td>Alabama</td>\n      <td>Autauga County</td>\n      <td>Sheriff</td>\n      <td>FBI</td>\n      <td>Yes</td>\n      <td>1977</td>\n      <td>October</td>\n      <td>...</td>\n      <td>Black</td>\n      <td>Unknown</td>\n      <td>Shotgun</td>\n      <td>Stranger</td>\n      <td>Robbery</td>\n      <td>Unknown</td>\n      <td>0</td>\n      <td>0</td>\n      <td>30180.0</td>\n      <td>Montgomery, AL</td>\n    </tr>\n    <tr>\n      <th>...</th>\n      <td>...</td>\n      <td>...</td>\n      <td>...</td>\n      <td>...</td>\n      <td>...</td>\n      <td>...</td>\n      <td>...</td>\n      <td>...</td>\n      <td>...</td>\n      <td>...</td>\n      <td>...</td>\n      <td>...</td>\n      <td>...</td>\n      <td>...</td>\n      <td>...</td>\n      <td>...</td>\n      <td>...</td>\n      <td>...</td>\n      <td>...</td>\n      <td>...</td>\n      <td>...</td>\n    </tr>\n    <tr>\n      <th>827213</th>\n      <td>198112001WY02300</td>\n      <td>Weston, WY</td>\n      <td>WY02300</td>\n      <td>Wyoming</td>\n      <td>Weston County</td>\n      <td>Sheriff</td>\n      <td>FBI</td>\n      <td>Yes</td>\n      <td>1981</td>\n      <td>December</td>\n      <td>...</td>\n      <td>White</td>\n      <td>Not of Hispanic origin</td>\n      <td>Handgun - pistol, revolver, etc</td>\n      <td>Neighbor</td>\n      <td>Other arguments</td>\n      <td>Unknown</td>\n      <td>0</td>\n      <td>0</td>\n      <td>22482.0</td>\n      <td>Rural Wyoming</td>\n    </tr>\n    <tr>\n      <th>827214</th>\n      <td>198210001WY02300</td>\n      <td>Weston, WY</td>\n      <td>WY02300</td>\n      <td>Wyoming</td>\n      <td>Weston County</td>\n      <td>Sheriff</td>\n      <td>FBI</td>\n      <td>Yes</td>\n      <td>1982</td>\n      <td>October</td>\n      <td>...</td>\n      <td>White</td>\n      <td>Not of Hispanic origin</td>\n      <td>Personal weapons, includes beating</td>\n      <td>Girlfriend</td>\n      <td>Other arguments</td>\n      <td>Unknown</td>\n      <td>0</td>\n      <td>0</td>\n      <td>121482.0</td>\n      <td>Rural Wyoming</td>\n    </tr>\n    <tr>\n      <th>827215</th>\n      <td>198701001WY02300</td>\n      <td>Weston, WY</td>\n      <td>WY02300</td>\n      <td>Wyoming</td>\n      <td>Weston County</td>\n      <td>Sheriff</td>\n      <td>FBI</td>\n      <td>Yes</td>\n      <td>1987</td>\n      <td>January</td>\n      <td>...</td>\n      <td>White</td>\n      <td>Unknown</td>\n      <td>Asphyxiation - includes death by gas</td>\n      <td>Son</td>\n      <td>All other manslaughter by negligence</td>\n      <td>Unknown</td>\n      <td>0</td>\n      <td>0</td>\n      <td>61987.0</td>\n      <td>Rural Wyoming</td>\n    </tr>\n    <tr>\n      <th>827216</th>\n      <td>199412001WY02300</td>\n      <td>Weston, WY</td>\n      <td>WY02300</td>\n      <td>Wyoming</td>\n      <td>Weston County</td>\n      <td>Sheriff</td>\n      <td>FBI</td>\n      <td>Yes</td>\n      <td>1994</td>\n      <td>December</td>\n      <td>...</td>\n      <td>Asian</td>\n      <td>Unknown</td>\n      <td>Unknown</td>\n      <td>Acquaintance</td>\n      <td>All other manslaughter by negligence</td>\n      <td>Unknown</td>\n      <td>0</td>\n      <td>0</td>\n      <td>22795.0</td>\n      <td>Rural Wyoming</td>\n    </tr>\n    <tr>\n      <th>827217</th>\n      <td>200405001WY02300</td>\n      <td>Weston, WY</td>\n      <td>WY02300</td>\n      <td>Wyoming</td>\n      <td>Weston County</td>\n      <td>Sheriff</td>\n      <td>FBI</td>\n      <td>Yes</td>\n      <td>2004</td>\n      <td>May</td>\n      <td>...</td>\n      <td>White</td>\n      <td>Unknown</td>\n      <td>Unknown</td>\n      <td>Girlfriend</td>\n      <td>Other arguments</td>\n      <td>Unknown</td>\n      <td>0</td>\n      <td>0</td>\n      <td>90704.0</td>\n      <td>Rural Wyoming</td>\n    </tr>\n  </tbody>\n</table>\n<p>570902 rows × 28 columns</p>\n</div>"
     },
     "execution_count": 4,
     "metadata": {},
     "output_type": "execute_result"
    }
   ],
   "source": [
    "data_cleaned"
   ],
   "metadata": {
    "collapsed": false,
    "pycharm": {
     "name": "#%%\n"
    }
   }
  },
  {
   "cell_type": "code",
   "execution_count": 5,
   "outputs": [
    {
     "name": "stdout",
     "output_type": "stream",
     "text": [
      "     State  VicAge  VicSex VicRace                           Weapon Subcircum\n",
      "1  Alabama      65  Female   Black                          Unknown   Unknown\n",
      "2  Alabama      48    Male   White  Handgun - pistol, revolver, etc   Unknown\n",
      "3  Alabama      27    Male   Black                          Shotgun   Unknown\n",
      "4  Alabama      17  Female   Black      Knife or cutting instrument   Unknown\n",
      "5  Alabama      62    Male   Asian                          Shotgun   Unknown\n",
      "   OffAge OffRace  OffSex OffEthnic\n",
      "1      62   Black    Male   Unknown\n",
      "2      52   White    Male   Unknown\n",
      "3      22   Black  Female   Unknown\n",
      "4      21   Black    Male   Unknown\n",
      "5      80   Black    Male   Unknown\n"
     ]
    }
   ],
   "source": [
    "#the tree model can not handle string values\n",
    "data_cleaned = data_cleaned[(data_cleaned['VicAge'].astype(str)!='Unknown') & (data_cleaned['OffAge'].astype(str)!='Unknown')]\n",
    "data_cleaned['VicAge'] = pd.to_numeric(data_cleaned['VicAge'])\n",
    "data_cleaned['OffAge'] = pd.to_numeric(data_cleaned['OffAge'])\n",
    "\n",
    "x = data_cleaned[['State','VicAge','VicSex','VicRace','Weapon','Subcircum']]\n",
    "x['VicAge'] = pd.to_numeric(x['VicAge'])\n",
    "y = data_cleaned[['OffAge','OffRace','OffSex','OffEthnic']]\n",
    "\n",
    "print(x.head())\n",
    "print(y.head())\n",
    "\n",
    "#create dummy variables: https://datascience.stackexchange.com/questions/5226/strings-as-features-in-decision-tree-random-forest\n",
    "x = pd.get_dummies(x,columns=[\"State\",'VicSex','VicRace','Weapon','Subcircum'])\n",
    "y = pd.get_dummies(y,columns=[\"OffRace\",\"OffSex\",\"OffEthnic\"])\n",
    "\n",
    "x_train, x_test, y_train, y_test = train_test_split(x, y, test_size=0.20, random_state=20)"
   ],
   "metadata": {
    "collapsed": false,
    "pycharm": {
     "name": "#%%\n"
    }
   }
  },
  {
   "cell_type": "raw",
   "source": [
    "Possible suggestions i have after looking at this data quickly:\n",
    "1: maybe we could put the age in buckets of 5-10 years to generalize it a bit more\n",
    "2:  generalise weapon types such as 'handgun','shotgun',... to just 'firearm' or 'gun' ?"
   ],
   "metadata": {
    "collapsed": false,
    "pycharm": {
     "name": "#%% raw\n"
    }
   }
  },
  {
   "cell_type": "markdown",
   "source": [
    "## Decision Tree\n",
    "https://scikit-learn.org/stable/auto_examples/tree/plot_tree_regression_multioutput.html#sphx-glr-auto-examples-tree-plot-tree-regression-multioutput-py"
   ],
   "metadata": {
    "collapsed": false,
    "pycharm": {
     "name": "#%% md\n"
    }
   }
  },
  {
   "cell_type": "code",
   "execution_count": 6,
   "outputs": [
    {
     "data": {
      "text/plain": "DecisionTreeRegressor(max_depth=5)"
     },
     "execution_count": 6,
     "metadata": {},
     "output_type": "execute_result"
    }
   ],
   "source": [
    "td3 = DecisionTreeRegressor(max_depth=5)\n",
    "td3.fit(x_train, y_train)"
   ],
   "metadata": {
    "collapsed": false,
    "pycharm": {
     "name": "#%%\n"
    }
   }
  },
  {
   "cell_type": "raw",
   "source": [
    "The tree is trained so check the accuracy on the test data:"
   ],
   "metadata": {
    "collapsed": false,
    "pycharm": {
     "name": "#%% raw\n"
    }
   }
  },
  {
   "cell_type": "code",
   "execution_count": 7,
   "outputs": [
    {
     "data": {
      "text/plain": "0.036728133075331314"
     },
     "execution_count": 7,
     "metadata": {},
     "output_type": "execute_result"
    }
   ],
   "source": [
    "td3.score(x_test,y_test)"
   ],
   "metadata": {
    "collapsed": false,
    "pycharm": {
     "name": "#%%\n"
    }
   }
  },
  {
   "cell_type": "raw",
   "source": [
    "aaaanddddd...... I swear my cat could be a better crime investigator than this tree 😊.\n",
    "so yeah... try again with less/mùore generalised features? ?"
   ],
   "metadata": {
    "collapsed": false,
    "pycharm": {
     "name": "#%% raw\n"
    }
   }
  },
  {
   "cell_type": "code",
   "execution_count": 8,
   "outputs": [
    {
     "name": "stdout",
     "output_type": "stream",
     "text": [
      "   VicAge  VicSex VicRace                       Weapon\n",
      "1      65  Female   Black                      Unknown\n",
      "2      48    Male   White                      firearm\n",
      "3      27    Male   Black                      firearm\n",
      "4      17  Female   Black  Knife or cutting instrument\n",
      "5      62    Male   Asian                      firearm\n",
      "   OffAge OffRace  OffSex\n",
      "1      62   Black    Male\n",
      "2      52   White    Male\n",
      "3      22   Black  Female\n",
      "4      21   Black    Male\n",
      "5      80   Black    Male\n"
     ]
    },
    {
     "data": {
      "text/plain": "        VicAge  VicSex_Female  VicSex_Male  \\\n323434      20              0            1   \n690202      19              0            1   \n245916       1              0            1   \n276371      35              0            1   \n750487      21              0            1   \n...        ...            ...          ...   \n79893       31              0            1   \n722549       1              0            1   \n5044        58              0            1   \n453954      34              1            0   \n55725       21              0            1   \n\n        VicRace_American Indian or Alaskan Native  VicRace_Asian  \\\n323434                                          0              0   \n690202                                          0              0   \n245916                                          0              0   \n276371                                          0              0   \n750487                                          0              0   \n...                                           ...            ...   \n79893                                           0              0   \n722549                                          0              0   \n5044                                            0              0   \n453954                                          0              0   \n55725                                           0              0   \n\n        VicRace_Black  VicRace_Native Hawaiian or Pacific Islander  \\\n323434              0                                            0   \n690202              1                                            0   \n245916              0                                            0   \n276371              1                                            0   \n750487              1                                            0   \n...               ...                                          ...   \n79893               1                                            0   \n722549              0                                            0   \n5044                0                                            0   \n453954              0                                            0   \n55725               0                                            0   \n\n        VicRace_White  Weapon_Asphyxiation - includes death by gas  \\\n323434              1                                            0   \n690202              0                                            0   \n245916              1                                            0   \n276371              0                                            0   \n750487              0                                            0   \n...               ...                                          ...   \n79893               0                                            0   \n722549              1                                            0   \n5044                1                                            0   \n453954              1                                            0   \n55725               1                                            0   \n\n        Weapon_Blunt object - hammer, club, etc  ...  Weapon_Explosives  \\\n323434                                        0  ...                  0   \n690202                                        0  ...                  0   \n245916                                        0  ...                  0   \n276371                                        0  ...                  0   \n750487                                        0  ...                  0   \n...                                         ...  ...                ...   \n79893                                         0  ...                  0   \n722549                                        1  ...                  0   \n5044                                          0  ...                  0   \n453954                                        0  ...                  0   \n55725                                         0  ...                  0   \n\n        Weapon_Fire  Weapon_Knife or cutting instrument  \\\n323434            0                                   1   \n690202            0                                   0   \n245916            0                                   0   \n276371            0                                   0   \n750487            0                                   0   \n...             ...                                 ...   \n79893             0                                   1   \n722549            0                                   0   \n5044              0                                   0   \n453954            0                                   0   \n55725             0                                   1   \n\n        Weapon_Narcotics or drugs, sleeping pills  \\\n323434                                          0   \n690202                                          0   \n245916                                          0   \n276371                                          0   \n750487                                          0   \n...                                           ...   \n79893                                           0   \n722549                                          0   \n5044                                            0   \n453954                                          0   \n55725                                           0   \n\n        Weapon_Personal weapons, includes beating  \\\n323434                                          0   \n690202                                          0   \n245916                                          0   \n276371                                          1   \n750487                                          0   \n...                                           ...   \n79893                                           0   \n722549                                          0   \n5044                                            0   \n453954                                          0   \n55725                                           0   \n\n        Weapon_Poison - does not include gas  \\\n323434                                     0   \n690202                                     0   \n245916                                     0   \n276371                                     0   \n750487                                     0   \n...                                      ...   \n79893                                      0   \n722549                                     0   \n5044                                       0   \n453954                                     0   \n55725                                      0   \n\n        Weapon_Pushed or thrown out window  Weapon_Strangulation - hanging  \\\n323434                                   0                               0   \n690202                                   0                               0   \n245916                                   0                               0   \n276371                                   0                               0   \n750487                                   0                               0   \n...                                    ...                             ...   \n79893                                    0                               0   \n722549                                   0                               0   \n5044                                     0                               0   \n453954                                   0                               0   \n55725                                    0                               0   \n\n        Weapon_Unknown  Weapon_firearm  \n323434               0               0  \n690202               0               1  \n245916               0               1  \n276371               0               0  \n750487               0               1  \n...                ...             ...  \n79893                0               0  \n722549               0               0  \n5044                 0               1  \n453954               0               1  \n55725                0               0  \n\n[430897 rows x 21 columns]",
      "text/html": "<div>\n<style scoped>\n    .dataframe tbody tr th:only-of-type {\n        vertical-align: middle;\n    }\n\n    .dataframe tbody tr th {\n        vertical-align: top;\n    }\n\n    .dataframe thead th {\n        text-align: right;\n    }\n</style>\n<table border=\"1\" class=\"dataframe\">\n  <thead>\n    <tr style=\"text-align: right;\">\n      <th></th>\n      <th>VicAge</th>\n      <th>VicSex_Female</th>\n      <th>VicSex_Male</th>\n      <th>VicRace_American Indian or Alaskan Native</th>\n      <th>VicRace_Asian</th>\n      <th>VicRace_Black</th>\n      <th>VicRace_Native Hawaiian or Pacific Islander</th>\n      <th>VicRace_White</th>\n      <th>Weapon_Asphyxiation - includes death by gas</th>\n      <th>Weapon_Blunt object - hammer, club, etc</th>\n      <th>...</th>\n      <th>Weapon_Explosives</th>\n      <th>Weapon_Fire</th>\n      <th>Weapon_Knife or cutting instrument</th>\n      <th>Weapon_Narcotics or drugs, sleeping pills</th>\n      <th>Weapon_Personal weapons, includes beating</th>\n      <th>Weapon_Poison - does not include gas</th>\n      <th>Weapon_Pushed or thrown out window</th>\n      <th>Weapon_Strangulation - hanging</th>\n      <th>Weapon_Unknown</th>\n      <th>Weapon_firearm</th>\n    </tr>\n  </thead>\n  <tbody>\n    <tr>\n      <th>323434</th>\n      <td>20</td>\n      <td>0</td>\n      <td>1</td>\n      <td>0</td>\n      <td>0</td>\n      <td>0</td>\n      <td>0</td>\n      <td>1</td>\n      <td>0</td>\n      <td>0</td>\n      <td>...</td>\n      <td>0</td>\n      <td>0</td>\n      <td>1</td>\n      <td>0</td>\n      <td>0</td>\n      <td>0</td>\n      <td>0</td>\n      <td>0</td>\n      <td>0</td>\n      <td>0</td>\n    </tr>\n    <tr>\n      <th>690202</th>\n      <td>19</td>\n      <td>0</td>\n      <td>1</td>\n      <td>0</td>\n      <td>0</td>\n      <td>1</td>\n      <td>0</td>\n      <td>0</td>\n      <td>0</td>\n      <td>0</td>\n      <td>...</td>\n      <td>0</td>\n      <td>0</td>\n      <td>0</td>\n      <td>0</td>\n      <td>0</td>\n      <td>0</td>\n      <td>0</td>\n      <td>0</td>\n      <td>0</td>\n      <td>1</td>\n    </tr>\n    <tr>\n      <th>245916</th>\n      <td>1</td>\n      <td>0</td>\n      <td>1</td>\n      <td>0</td>\n      <td>0</td>\n      <td>0</td>\n      <td>0</td>\n      <td>1</td>\n      <td>0</td>\n      <td>0</td>\n      <td>...</td>\n      <td>0</td>\n      <td>0</td>\n      <td>0</td>\n      <td>0</td>\n      <td>0</td>\n      <td>0</td>\n      <td>0</td>\n      <td>0</td>\n      <td>0</td>\n      <td>1</td>\n    </tr>\n    <tr>\n      <th>276371</th>\n      <td>35</td>\n      <td>0</td>\n      <td>1</td>\n      <td>0</td>\n      <td>0</td>\n      <td>1</td>\n      <td>0</td>\n      <td>0</td>\n      <td>0</td>\n      <td>0</td>\n      <td>...</td>\n      <td>0</td>\n      <td>0</td>\n      <td>0</td>\n      <td>0</td>\n      <td>1</td>\n      <td>0</td>\n      <td>0</td>\n      <td>0</td>\n      <td>0</td>\n      <td>0</td>\n    </tr>\n    <tr>\n      <th>750487</th>\n      <td>21</td>\n      <td>0</td>\n      <td>1</td>\n      <td>0</td>\n      <td>0</td>\n      <td>1</td>\n      <td>0</td>\n      <td>0</td>\n      <td>0</td>\n      <td>0</td>\n      <td>...</td>\n      <td>0</td>\n      <td>0</td>\n      <td>0</td>\n      <td>0</td>\n      <td>0</td>\n      <td>0</td>\n      <td>0</td>\n      <td>0</td>\n      <td>0</td>\n      <td>1</td>\n    </tr>\n    <tr>\n      <th>...</th>\n      <td>...</td>\n      <td>...</td>\n      <td>...</td>\n      <td>...</td>\n      <td>...</td>\n      <td>...</td>\n      <td>...</td>\n      <td>...</td>\n      <td>...</td>\n      <td>...</td>\n      <td>...</td>\n      <td>...</td>\n      <td>...</td>\n      <td>...</td>\n      <td>...</td>\n      <td>...</td>\n      <td>...</td>\n      <td>...</td>\n      <td>...</td>\n      <td>...</td>\n      <td>...</td>\n    </tr>\n    <tr>\n      <th>79893</th>\n      <td>31</td>\n      <td>0</td>\n      <td>1</td>\n      <td>0</td>\n      <td>0</td>\n      <td>1</td>\n      <td>0</td>\n      <td>0</td>\n      <td>0</td>\n      <td>0</td>\n      <td>...</td>\n      <td>0</td>\n      <td>0</td>\n      <td>1</td>\n      <td>0</td>\n      <td>0</td>\n      <td>0</td>\n      <td>0</td>\n      <td>0</td>\n      <td>0</td>\n      <td>0</td>\n    </tr>\n    <tr>\n      <th>722549</th>\n      <td>1</td>\n      <td>0</td>\n      <td>1</td>\n      <td>0</td>\n      <td>0</td>\n      <td>0</td>\n      <td>0</td>\n      <td>1</td>\n      <td>0</td>\n      <td>1</td>\n      <td>...</td>\n      <td>0</td>\n      <td>0</td>\n      <td>0</td>\n      <td>0</td>\n      <td>0</td>\n      <td>0</td>\n      <td>0</td>\n      <td>0</td>\n      <td>0</td>\n      <td>0</td>\n    </tr>\n    <tr>\n      <th>5044</th>\n      <td>58</td>\n      <td>0</td>\n      <td>1</td>\n      <td>0</td>\n      <td>0</td>\n      <td>0</td>\n      <td>0</td>\n      <td>1</td>\n      <td>0</td>\n      <td>0</td>\n      <td>...</td>\n      <td>0</td>\n      <td>0</td>\n      <td>0</td>\n      <td>0</td>\n      <td>0</td>\n      <td>0</td>\n      <td>0</td>\n      <td>0</td>\n      <td>0</td>\n      <td>1</td>\n    </tr>\n    <tr>\n      <th>453954</th>\n      <td>34</td>\n      <td>1</td>\n      <td>0</td>\n      <td>0</td>\n      <td>0</td>\n      <td>0</td>\n      <td>0</td>\n      <td>1</td>\n      <td>0</td>\n      <td>0</td>\n      <td>...</td>\n      <td>0</td>\n      <td>0</td>\n      <td>0</td>\n      <td>0</td>\n      <td>0</td>\n      <td>0</td>\n      <td>0</td>\n      <td>0</td>\n      <td>0</td>\n      <td>1</td>\n    </tr>\n    <tr>\n      <th>55725</th>\n      <td>21</td>\n      <td>0</td>\n      <td>1</td>\n      <td>0</td>\n      <td>0</td>\n      <td>0</td>\n      <td>0</td>\n      <td>1</td>\n      <td>0</td>\n      <td>0</td>\n      <td>...</td>\n      <td>0</td>\n      <td>0</td>\n      <td>1</td>\n      <td>0</td>\n      <td>0</td>\n      <td>0</td>\n      <td>0</td>\n      <td>0</td>\n      <td>0</td>\n      <td>0</td>\n    </tr>\n  </tbody>\n</table>\n<p>430897 rows × 21 columns</p>\n</div>"
     },
     "execution_count": 8,
     "metadata": {},
     "output_type": "execute_result"
    }
   ],
   "source": [
    "x = data_cleaned[['VicAge','VicSex','VicRace','Weapon']]\n",
    "x.loc[x['Weapon'].str.contains(\"gun|pistol|Rifle|Firearm\",\n",
    "                            regex=True), 'Weapon'] = 'firearm'\n",
    "x['VicAge'] = pd.to_numeric(x['VicAge'])\n",
    "y = data_cleaned[['OffAge','OffRace','OffSex']]\n",
    "\n",
    "print(x.head())\n",
    "print(y.head())\n",
    "\n",
    "#create dummy variables: https://datascience.stackexchange.com/questions/5226/strings-as-features-in-decision-tree-random-forest\n",
    "x = pd.get_dummies(x,columns=['VicSex','VicRace','Weapon'])\n",
    "y = pd.get_dummies(y,columns=[\"OffRace\",\"OffSex\"])\n",
    "\n",
    "x_train, x_test, y_train, y_test = train_test_split(x, y, test_size=0.20, random_state=20)\n",
    "x_train"
   ],
   "metadata": {
    "collapsed": false,
    "pycharm": {
     "name": "#%%\n"
    }
   }
  },
  {
   "cell_type": "code",
   "execution_count": 9,
   "outputs": [
    {
     "name": "stdout",
     "output_type": "stream",
     "text": [
      "0.3395726571520382\n"
     ]
    },
    {
     "data": {
      "text/plain": "0.26664573689233534"
     },
     "execution_count": 9,
     "metadata": {},
     "output_type": "execute_result"
    }
   ],
   "source": [
    "td20 = DecisionTreeRegressor(max_depth=20)\n",
    "td20.fit(x_train, y_train)\n",
    "print(td20.score(x_train,y_train))\n",
    "td20.score(x_test,y_test)\n",
    "#ok sure; we got a higher accuracy.... but at what cost... if we plot the tree now it's going to look horrible:"
   ],
   "metadata": {
    "collapsed": false,
    "pycharm": {
     "name": "#%%\n"
    }
   }
  },
  {
   "cell_type": "markdown",
   "source": [
    "better but not that great ... maybe look at 1 tree for each feature instead?"
   ],
   "metadata": {
    "collapsed": false,
    "pycharm": {
     "name": "#%% md\n"
    }
   }
  },
  {
   "cell_type": "markdown",
   "source": [
    "## Knn\n",
    "from: https://scikit-learn.org/stable/modules/generated/sklearn.multioutput.MultiOutputClassifier.html"
   ],
   "metadata": {
    "collapsed": false,
    "pycharm": {
     "name": "#%% md\n"
    }
   }
  },
  {
   "cell_type": "code",
   "execution_count": 14,
   "outputs": [
    {
     "data": {
      "text/plain": "0.026"
     },
     "execution_count": 14,
     "metadata": {},
     "output_type": "execute_result"
    }
   ],
   "source": [
    "from sklearn.multioutput import MultiOutputClassifier\n",
    "from sklearn.neighbors import KNeighborsClassifier\n",
    "\n",
    "knn = MultiOutputClassifier(KNeighborsClassifier()).fit(x_train, y_train)\n",
    "#the scoring takes quite some time... so for now take first 1000 samples\n",
    "knn.score(x_test[:1000],y_test[:1000])"
   ],
   "metadata": {
    "collapsed": false,
    "pycharm": {
     "name": "#%%\n"
    }
   }
  }
 ],
 "metadata": {
  "kernelspec": {
   "display_name": "Python 3",
   "language": "python",
   "name": "python3"
  },
  "language_info": {
   "codemirror_mode": {
    "name": "ipython",
    "version": 2
   },
   "file_extension": ".py",
   "mimetype": "text/x-python",
   "name": "python",
   "nbconvert_exporter": "python",
   "pygments_lexer": "ipython2",
   "version": "2.7.6"
  }
 },
 "nbformat": 4,
 "nbformat_minor": 0
}